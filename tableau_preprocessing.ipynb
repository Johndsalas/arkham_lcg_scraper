{
 "cells": [
  {
   "cell_type": "code",
   "execution_count": null,
   "id": "japanese-detector",
   "metadata": {},
   "outputs": [],
   "source": [
    "import pandas as pd\n",
    "import get_player_cards as pc"
   ]
  },
  {
   "cell_type": "code",
   "execution_count": null,
   "id": "electrical-presence",
   "metadata": {},
   "outputs": [],
   "source": [
    "df = pd.read_csv('player_cards.csv')\n",
    "\n",
    "print(len(df))\n",
    "\n",
    "# dropping unused columns\n",
    "df = df.drop(columns = ['title', 'artist', 'expansion', 'flavor', 'deck_building', 'story', 'url'])\n",
    "\n",
    "# fill nulls in icons with -- \n",
    "df['icons'] = df['icons'].fillna('--')\n",
    "\n",
    "# drop weakness cards\n",
    "df = df[~df['type'].str.contains(\"weakness\")]\n",
    "\n",
    "print(len(df))\n",
    "\n",
    "# drop duplicates\n",
    "df = df.drop_duplicates()\n",
    "\n",
    "print(len(df))\n",
    "\n",
    "# \n",
    "icons = ['INTELLECT',\n",
    "         'COMBAT',\n",
    "         'AGILITY',\n",
    "         'WILLPOWER',\n",
    "         'WILD']\n",
    "\n",
    "for icon in icons:\n",
    "    \n",
    "    df[f'{icon.lower()}_count'] = df['icons'].str.count(icon) "
   ]
  },
  {
   "cell_type": "code",
   "execution_count": null,
   "id": "spare-seattle",
   "metadata": {},
   "outputs": [],
   "source": [
    "def get_tableau_data():\n",
    "    \n",
    "    # read in data from csv\n",
    "    df = pd.read_csv('player_cards.csv')\n",
    "\n",
    "    # dropping unused columns\n",
    "    df = df.drop(columns = ['title', 'artist', 'expansion', 'flavor', 'deck_building', 'story', 'url'])\n",
    "\n",
    "    # fill nulls in icons with -- \n",
    "    df['icons'] = df['icons'].fillna('--')\n",
    "\n",
    "    # drop weakness cards\n",
    "    df = df[~df['type'].str.contains(\"weakness\")]\n",
    "\n",
    "    print(len(df))\n",
    "\n",
    "    # drop duplicates\n",
    "    df = df.drop_duplicates()\n",
    "\n",
    "    print(len(df))\n",
    "\n",
    "    # \n",
    "    icons = ['INTELLECT',\n",
    "             'COMBAT',\n",
    "             'AGILITY',\n",
    "             'WILLPOWER',\n",
    "             'WILD']\n",
    "\n",
    "    for icon in icons:\n",
    "\n",
    "        df[f'{icon.lower()}_count'] = df['icons'].str.count(icon)\n",
    "        \n",
    "    return df"
   ]
  },
  {
   "cell_type": "code",
   "execution_count": null,
   "id": "labeled-authority",
   "metadata": {},
   "outputs": [],
   "source": [
    "get_tableau_data()"
   ]
  },
  {
   "cell_type": "code",
   "execution_count": null,
   "id": "floppy-sheet",
   "metadata": {},
   "outputs": [],
   "source": [
    "df.columns"
   ]
  },
  {
   "cell_type": "code",
   "execution_count": null,
   "id": "informed-framing",
   "metadata": {},
   "outputs": [],
   "source": [
    "df[['icons', 'intellect_count', 'combat_count', 'agility_count', 'willpower_count']]"
   ]
  },
  {
   "cell_type": "code",
   "execution_count": null,
   "id": "blind-player",
   "metadata": {
    "scrolled": true
   },
   "outputs": [],
   "source": [
    "df = pd.read_csv('player_cards.csv')\n",
    "\n",
    "# fill nulls in icons with -- \n",
    "df['icons'] = df['icons'].fillna('--')\n",
    "\n",
    "# drop nulls and unused columns that might interfere with duplicate dropping\n",
    "df = df.drop(columns = ['xp',\n",
    "                        'flavor',\n",
    "                        'expansion',\n",
    "                        'url'])\n",
    "\n",
    "# drop weakness cards\n",
    "df = df[~df['type'].str.contains(\"weakness\")]\n",
    "\n",
    "# drop duplicates\n",
    "df = df.drop_duplicates()\n",
    "\n",
    "# split type into type and slot fill\n",
    "df[['type', 'slot']] = df['type'].str.split(' ', n=1, expand=True)\n",
    "df['slot'] = df['slot'].fillna('No Slot')\n",
    "\n",
    "icons = ['INTELLECT',\n",
    "         'COMBAT',\n",
    "         'AGILITY',\n",
    "         'WILLPOWER',\n",
    "         'WILD']\n",
    "\n",
    "for icon in icons:\n",
    "    \n",
    "    df[icon.lower()] = df['icons'].str.count(icon) \n",
    "\n",
    "df.columns"
   ]
  },
  {
   "cell_type": "code",
   "execution_count": null,
   "id": "experimental-sydney",
   "metadata": {},
   "outputs": [],
   "source": [
    "df = pd.read_csv('player_cards.csv')\n",
    "\n",
    "# fill nulls in icons with -- \n",
    "df['icons'] = df['icons'].fillna('--')\n",
    "\n",
    "# drop nulls and unused columns that might interfere with duplicate dropping\n",
    "df = df.drop(columns = ['xp',\n",
    "                        'flavor',\n",
    "                        'expansion',\n",
    "                        'url'])\n",
    "\n",
    "# drop weakness cards\n",
    "df = df[~df['type'].str.contains(\"weakness\")]\n",
    "\n",
    "# drop duplicates\n",
    "df = df.drop_duplicates()\n",
    "\n",
    "# split type into type and slot fill\n",
    "df[['type', 'slot']] = df['type'].str.split(' ', n=1, expand=True)\n",
    "df['slot'] = df['slot'].fillna('No Slot')\n"
   ]
  },
  {
   "cell_type": "code",
   "execution_count": null,
   "id": "subject-poverty",
   "metadata": {},
   "outputs": [],
   "source": [
    "df.icons.value_counts()"
   ]
  },
  {
   "cell_type": "code",
   "execution_count": null,
   "id": "automotive-simpson",
   "metadata": {},
   "outputs": [],
   "source": [
    "icons = ['INTELLECT',\n",
    "         'COMBAT',\n",
    "         'AGILITY',\n",
    "         'WILLPOWER',\n",
    "         'WILD']\n",
    "\n",
    "for icon in icons:\n",
    "    \n",
    "    df[icon] = df['icons'].str.count(icon) \n",
    "\n",
    "         "
   ]
  },
  {
   "cell_type": "code",
   "execution_count": null,
   "id": "sophisticated-midnight",
   "metadata": {},
   "outputs": [],
   "source": [
    "df[['icons',\n",
    "    'INTELLECT',\n",
    "    'COMBAT',\n",
    "    'AGILITY',\n",
    "    'WILLPOWER',\n",
    "    'WILD']].sample(50)\n",
    "\n"
   ]
  },
  {
   "cell_type": "code",
   "execution_count": null,
   "id": "civilian-venezuela",
   "metadata": {},
   "outputs": [],
   "source": [
    "df = pd.read_csv('player_cards.csv')\n",
    "\n",
    "df[df.isnull() == True]"
   ]
  },
  {
   "cell_type": "code",
   "execution_count": null,
   "id": "designing-impossible",
   "metadata": {},
   "outputs": [],
   "source": [
    "import requests\n",
    "import re\n",
    "import pandas as pd\n",
    "from bs4 import BeautifulSoup\n",
    "\n",
    "def get_urls():\n",
    "    ''' Scrapes arkham DB for player card URLs \n",
    "        Returns a list of player card url's as strings''' \n",
    "       \n",
    "    # calls get_cata_urls for each card type and extends urls to include all scraped urls \n",
    "    urls = []\n",
    "    \n",
    "    tipes = ['investigator','asset', 'event', 'skill']\n",
    "    \n",
    "    for tipe in tipes:\n",
    "        \n",
    "        print(f'Getting {tipe} URLs!')\n",
    "        \n",
    "        urls.extend(get_cata_urls(tipe))\n",
    "        \n",
    "    return urls\n",
    "\n",
    "def get_cata_urls(catagory):\n",
    "    ''' Takes in a string containing a player card faction, Scrapes arkhamdb, and\n",
    "        Returns a list containing url's as strings for each card in that catagory'''\n",
    "\n",
    "    full_results = []\n",
    "\n",
    "    # defines number of results pages to scrape\n",
    "    if catagory in ('investigator', 'skill'):\n",
    "        \n",
    "        pages = 1\n",
    "        \n",
    "    elif catagory == 'event':\n",
    "        \n",
    "        pages = 2\n",
    "        \n",
    "    elif catagory == 'asset':\n",
    "        \n",
    "        pages = 4\n",
    "\n",
    "    # itterates through pages in catagory\n",
    "    for page in range(1,pages+1):\n",
    "\n",
    "        url = f'https://arkhamdb.com/find?q=t%3A{catagory}&view=list&sort=name&decks=player&page={page}'\n",
    "\n",
    "        # create request and soup objects\n",
    "        html = requests.get(url)\n",
    "\n",
    "        soup = BeautifulSoup(html.content, 'html.parser')\n",
    "\n",
    "        # locate urls on page\n",
    "        urls = soup.find(id='list')\n",
    "\n",
    "        urls = urls.find_all('a', class_='card-tip')\n",
    "\n",
    "        # convert urls to string and make a list\n",
    "        urls = [str(url['href']) for url in urls]\n",
    "                \n",
    "        full_results.extend(urls)\n",
    "                \n",
    "    return full_results"
   ]
  },
  {
   "cell_type": "code",
   "execution_count": null,
   "id": "visible-tennessee",
   "metadata": {},
   "outputs": [],
   "source": [
    "urls = get_urls()"
   ]
  },
  {
   "cell_type": "code",
   "execution_count": null,
   "id": "adjustable-melbourne",
   "metadata": {},
   "outputs": [],
   "source": [
    "urls"
   ]
  },
  {
   "cell_type": "code",
   "execution_count": null,
   "id": "urban-stanford",
   "metadata": {},
   "outputs": [],
   "source": [
    "for url in urls:\n",
    "    \n",
    "    try:\n",
    "        \n",
    "        html = requests.get(url)\n",
    "        print('URL is GOOD!')\n",
    "        \n",
    "    except:\n",
    "        \n",
    "        print(f'URL is BAD: {url}')"
   ]
  },
  {
   "cell_type": "code",
   "execution_count": 5,
   "id": "superior-chemical",
   "metadata": {},
   "outputs": [],
   "source": [
    "import tableau_preprocessing as tp\n",
    "\n",
    "df = tp.get_tableau_data()\n",
    "\n",
    "df.to_csv('by_the_numbers.csv', index=False)"
   ]
  },
  {
   "cell_type": "code",
   "execution_count": null,
   "id": "outdoor-portfolio",
   "metadata": {},
   "outputs": [],
   "source": []
  },
  {
   "cell_type": "code",
   "execution_count": null,
   "id": "proud-egypt",
   "metadata": {},
   "outputs": [],
   "source": []
  }
 ],
 "metadata": {
  "kernelspec": {
   "display_name": "Python 3",
   "language": "python",
   "name": "python3"
  },
  "language_info": {
   "codemirror_mode": {
    "name": "ipython",
    "version": 3
   },
   "file_extension": ".py",
   "mimetype": "text/x-python",
   "name": "python",
   "nbconvert_exporter": "python",
   "pygments_lexer": "ipython3",
   "version": "3.7.4"
  }
 },
 "nbformat": 4,
 "nbformat_minor": 5
}
