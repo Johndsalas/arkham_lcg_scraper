{
 "cells": [
  {
   "cell_type": "code",
   "execution_count": 2,
   "id": "front-winner",
   "metadata": {},
   "outputs": [],
   "source": [
    "import requests\n",
    "import re\n",
    "import pandas as pd\n",
    "from bs4 import BeautifulSoup"
   ]
  },
  {
   "cell_type": "code",
   "execution_count": 2,
   "id": "surprising-russia",
   "metadata": {},
   "outputs": [],
   "source": [
    "def get_urls_by_type():\n",
    "    '''Scrapes arkhamdb and returns a list of urls pages containing card information\n",
    "       on each card for each card type'''\n",
    "\n",
    "    # call function to return list of url's by catagory\n",
    "    print(\"Getting investigator URL's...\")\n",
    "    gators = get_cata_urls('investigator')\n",
    "\n",
    "    print(\"Getting asset URL's...\")\n",
    "    assets = get_cata_urls('asset')\n",
    "\n",
    "    print(\"Getting event URL's...\")\n",
    "    events = get_cata_urls('event')\n",
    "\n",
    "    print(\"Getting skill URL's...\")\n",
    "    skills = get_cata_urls('skill')\n",
    "\n",
    "    return gators, assets, events, skills\n",
    "\n",
    "\n",
    "def get_cata_urls(catagory):\n",
    "    ''' Takes in a string containing a player card faction, Scrapes arkhamdb, and\n",
    "        Returns a list of urls for containing information on each card of that catagory'''\n",
    "\n",
    "    full_results = []\n",
    "\n",
    "    # defines number of results pages to scrape\n",
    "    if catagory in ('investigator', 'skill'):\n",
    "        \n",
    "        pages = 1\n",
    "        \n",
    "    elif catagory == 'event':\n",
    "        \n",
    "        pages = 2\n",
    "        \n",
    "    elif catagory == 'asset':\n",
    "        \n",
    "        pages = 4\n",
    "\n",
    "    # itterates through pages in catagory\n",
    "    for page in range(1,pages+1):\n",
    "\n",
    "        url = f'https://arkhamdb.com/find?q=t%3A{catagory}&view=list&sort=name&decks=player&page={page}'\n",
    "\n",
    "        # create request and soup objects\n",
    "        html = requests.get(url)\n",
    "\n",
    "        soup = BeautifulSoup(html.content, 'html.parser')\n",
    "\n",
    "        # locate urls on page\n",
    "        urls = soup.find(id='list')\n",
    "\n",
    "        urls = urls.find_all('a', class_='card-tip')\n",
    "\n",
    "        # convert urls to string and make a list\n",
    "        urls = [str(url['href']) for url in urls]\n",
    "                \n",
    "        full_results.extend(urls)\n",
    "                \n",
    "    return full_results\n",
    "\n",
    "\n",
    "def get_soup(url):\n",
    "    '''Takes in a url as a string\n",
    "       Returns html request result parsed using beautiful soup'''\n",
    "\n",
    "    # create request and soup objects\n",
    "    html = requests.get(url)\n",
    "\n",
    "    soup = BeautifulSoup(html.content, 'html.parser')\n",
    "    \n",
    "    return soup"
   ]
  },
  {
   "cell_type": "code",
   "execution_count": 3,
   "id": "comparable-orleans",
   "metadata": {},
   "outputs": [],
   "source": [
    "def get_health_sanity(soup):\n",
    "    '''Takes in html object parsed by BeautifulSoup\n",
    "       Returns health and sanity as a string'''\n",
    "\n",
    "    try:\n",
    "        \n",
    "        health = re.search('Health:\\s+(\\d+)', str(soup.find('div'))).group(1).strip()\n",
    "        \n",
    "    except:\n",
    "        \n",
    "        health = '--'\n",
    "\n",
    "    try:\n",
    "        \n",
    "        sanity = re.search('Sanity:\\s+(\\d+)', str(soup.find('div'))).group(1).strip()\n",
    "        \n",
    "    except:\n",
    "        \n",
    "        sanity = '--'\n",
    "\n",
    "    return health, sanity"
   ]
  },
  {
   "cell_type": "code",
   "execution_count": 4,
   "id": "aggregate-memory",
   "metadata": {},
   "outputs": [
    {
     "name": "stdout",
     "output_type": "stream",
     "text": [
      "Getting investigator URL's...\n",
      "Getting asset URL's...\n"
     ]
    },
    {
     "ename": "KeyboardInterrupt",
     "evalue": "",
     "output_type": "error",
     "traceback": [
      "\u001b[0;31m---------------------------------------------------------------------------\u001b[0m",
      "\u001b[0;31mKeyboardInterrupt\u001b[0m                         Traceback (most recent call last)",
      "\u001b[0;32m<ipython-input-4-c640c6f6debf>\u001b[0m in \u001b[0;36m<module>\u001b[0;34m\u001b[0m\n\u001b[0;32m----> 1\u001b[0;31m \u001b[0mgators\u001b[0m\u001b[0;34m,\u001b[0m \u001b[0massets\u001b[0m\u001b[0;34m,\u001b[0m \u001b[0mevents\u001b[0m\u001b[0;34m,\u001b[0m \u001b[0mskills\u001b[0m \u001b[0;34m=\u001b[0m \u001b[0mget_urls_by_type\u001b[0m\u001b[0;34m(\u001b[0m\u001b[0;34m)\u001b[0m\u001b[0;34m\u001b[0m\u001b[0;34m\u001b[0m\u001b[0m\n\u001b[0m",
      "\u001b[0;32m<ipython-input-2-0e3e1887455f>\u001b[0m in \u001b[0;36mget_urls_by_type\u001b[0;34m()\u001b[0m\n\u001b[1;32m      8\u001b[0m \u001b[0;34m\u001b[0m\u001b[0m\n\u001b[1;32m      9\u001b[0m     \u001b[0mprint\u001b[0m\u001b[0;34m(\u001b[0m\u001b[0;34m\"Getting asset URL's...\"\u001b[0m\u001b[0;34m)\u001b[0m\u001b[0;34m\u001b[0m\u001b[0;34m\u001b[0m\u001b[0m\n\u001b[0;32m---> 10\u001b[0;31m     \u001b[0massets\u001b[0m \u001b[0;34m=\u001b[0m \u001b[0mget_cata_urls\u001b[0m\u001b[0;34m(\u001b[0m\u001b[0;34m'asset'\u001b[0m\u001b[0;34m)\u001b[0m\u001b[0;34m\u001b[0m\u001b[0;34m\u001b[0m\u001b[0m\n\u001b[0m\u001b[1;32m     11\u001b[0m \u001b[0;34m\u001b[0m\u001b[0m\n\u001b[1;32m     12\u001b[0m     \u001b[0mprint\u001b[0m\u001b[0;34m(\u001b[0m\u001b[0;34m\"Getting event URL's...\"\u001b[0m\u001b[0;34m)\u001b[0m\u001b[0;34m\u001b[0m\u001b[0;34m\u001b[0m\u001b[0m\n",
      "\u001b[0;32m<ipython-input-2-0e3e1887455f>\u001b[0m in \u001b[0;36mget_cata_urls\u001b[0;34m(catagory)\u001b[0m\n\u001b[1;32m     46\u001b[0m         \u001b[0mhtml\u001b[0m \u001b[0;34m=\u001b[0m \u001b[0mrequests\u001b[0m\u001b[0;34m.\u001b[0m\u001b[0mget\u001b[0m\u001b[0;34m(\u001b[0m\u001b[0murl\u001b[0m\u001b[0;34m)\u001b[0m\u001b[0;34m\u001b[0m\u001b[0;34m\u001b[0m\u001b[0m\n\u001b[1;32m     47\u001b[0m \u001b[0;34m\u001b[0m\u001b[0m\n\u001b[0;32m---> 48\u001b[0;31m         \u001b[0msoup\u001b[0m \u001b[0;34m=\u001b[0m \u001b[0mBeautifulSoup\u001b[0m\u001b[0;34m(\u001b[0m\u001b[0mhtml\u001b[0m\u001b[0;34m.\u001b[0m\u001b[0mcontent\u001b[0m\u001b[0;34m,\u001b[0m \u001b[0;34m'html.parser'\u001b[0m\u001b[0;34m)\u001b[0m\u001b[0;34m\u001b[0m\u001b[0;34m\u001b[0m\u001b[0m\n\u001b[0m\u001b[1;32m     49\u001b[0m \u001b[0;34m\u001b[0m\u001b[0m\n\u001b[1;32m     50\u001b[0m         \u001b[0;31m# locate urls on page\u001b[0m\u001b[0;34m\u001b[0m\u001b[0;34m\u001b[0m\u001b[0;34m\u001b[0m\u001b[0m\n",
      "\u001b[0;32m/usr/local/anaconda3/lib/python3.7/site-packages/bs4/__init__.py\u001b[0m in \u001b[0;36m__init__\u001b[0;34m(self, markup, features, builder, parse_only, from_encoding, exclude_encodings, element_classes, **kwargs)\u001b[0m\n\u001b[1;32m    333\u001b[0m             \u001b[0mself\u001b[0m\u001b[0;34m.\u001b[0m\u001b[0mbuilder\u001b[0m\u001b[0;34m.\u001b[0m\u001b[0minitialize_soup\u001b[0m\u001b[0;34m(\u001b[0m\u001b[0mself\u001b[0m\u001b[0;34m)\u001b[0m\u001b[0;34m\u001b[0m\u001b[0;34m\u001b[0m\u001b[0m\n\u001b[1;32m    334\u001b[0m             \u001b[0;32mtry\u001b[0m\u001b[0;34m:\u001b[0m\u001b[0;34m\u001b[0m\u001b[0;34m\u001b[0m\u001b[0m\n\u001b[0;32m--> 335\u001b[0;31m                 \u001b[0mself\u001b[0m\u001b[0;34m.\u001b[0m\u001b[0m_feed\u001b[0m\u001b[0;34m(\u001b[0m\u001b[0;34m)\u001b[0m\u001b[0;34m\u001b[0m\u001b[0;34m\u001b[0m\u001b[0m\n\u001b[0m\u001b[1;32m    336\u001b[0m                 \u001b[0msuccess\u001b[0m \u001b[0;34m=\u001b[0m \u001b[0;32mTrue\u001b[0m\u001b[0;34m\u001b[0m\u001b[0;34m\u001b[0m\u001b[0m\n\u001b[1;32m    337\u001b[0m                 \u001b[0;32mbreak\u001b[0m\u001b[0;34m\u001b[0m\u001b[0;34m\u001b[0m\u001b[0m\n",
      "\u001b[0;32m/usr/local/anaconda3/lib/python3.7/site-packages/bs4/__init__.py\u001b[0m in \u001b[0;36m_feed\u001b[0;34m(self)\u001b[0m\n\u001b[1;32m    476\u001b[0m         \u001b[0mself\u001b[0m\u001b[0;34m.\u001b[0m\u001b[0mbuilder\u001b[0m\u001b[0;34m.\u001b[0m\u001b[0mreset\u001b[0m\u001b[0;34m(\u001b[0m\u001b[0;34m)\u001b[0m\u001b[0;34m\u001b[0m\u001b[0;34m\u001b[0m\u001b[0m\n\u001b[1;32m    477\u001b[0m \u001b[0;34m\u001b[0m\u001b[0m\n\u001b[0;32m--> 478\u001b[0;31m         \u001b[0mself\u001b[0m\u001b[0;34m.\u001b[0m\u001b[0mbuilder\u001b[0m\u001b[0;34m.\u001b[0m\u001b[0mfeed\u001b[0m\u001b[0;34m(\u001b[0m\u001b[0mself\u001b[0m\u001b[0;34m.\u001b[0m\u001b[0mmarkup\u001b[0m\u001b[0;34m)\u001b[0m\u001b[0;34m\u001b[0m\u001b[0;34m\u001b[0m\u001b[0m\n\u001b[0m\u001b[1;32m    479\u001b[0m         \u001b[0;31m# Close out any unfinished strings and close all the open tags.\u001b[0m\u001b[0;34m\u001b[0m\u001b[0;34m\u001b[0m\u001b[0;34m\u001b[0m\u001b[0m\n\u001b[1;32m    480\u001b[0m         \u001b[0mself\u001b[0m\u001b[0;34m.\u001b[0m\u001b[0mendData\u001b[0m\u001b[0;34m(\u001b[0m\u001b[0;34m)\u001b[0m\u001b[0;34m\u001b[0m\u001b[0;34m\u001b[0m\u001b[0m\n",
      "\u001b[0;32m/usr/local/anaconda3/lib/python3.7/site-packages/bs4/builder/_htmlparser.py\u001b[0m in \u001b[0;36mfeed\u001b[0;34m(self, markup)\u001b[0m\n\u001b[1;32m    378\u001b[0m         \u001b[0mparser\u001b[0m\u001b[0;34m.\u001b[0m\u001b[0msoup\u001b[0m \u001b[0;34m=\u001b[0m \u001b[0mself\u001b[0m\u001b[0;34m.\u001b[0m\u001b[0msoup\u001b[0m\u001b[0;34m\u001b[0m\u001b[0;34m\u001b[0m\u001b[0m\n\u001b[1;32m    379\u001b[0m         \u001b[0;32mtry\u001b[0m\u001b[0;34m:\u001b[0m\u001b[0;34m\u001b[0m\u001b[0;34m\u001b[0m\u001b[0m\n\u001b[0;32m--> 380\u001b[0;31m             \u001b[0mparser\u001b[0m\u001b[0;34m.\u001b[0m\u001b[0mfeed\u001b[0m\u001b[0;34m(\u001b[0m\u001b[0mmarkup\u001b[0m\u001b[0;34m)\u001b[0m\u001b[0;34m\u001b[0m\u001b[0;34m\u001b[0m\u001b[0m\n\u001b[0m\u001b[1;32m    381\u001b[0m         \u001b[0;32mexcept\u001b[0m \u001b[0mAssertionError\u001b[0m \u001b[0;32mas\u001b[0m \u001b[0me\u001b[0m\u001b[0;34m:\u001b[0m\u001b[0;34m\u001b[0m\u001b[0;34m\u001b[0m\u001b[0m\n\u001b[1;32m    382\u001b[0m             \u001b[0;31m# html.parser raises AssertionError in rare cases to\u001b[0m\u001b[0;34m\u001b[0m\u001b[0;34m\u001b[0m\u001b[0;34m\u001b[0m\u001b[0m\n",
      "\u001b[0;32m/usr/local/anaconda3/lib/python3.7/html/parser.py\u001b[0m in \u001b[0;36mfeed\u001b[0;34m(self, data)\u001b[0m\n\u001b[1;32m    109\u001b[0m         \"\"\"\n\u001b[1;32m    110\u001b[0m         \u001b[0mself\u001b[0m\u001b[0;34m.\u001b[0m\u001b[0mrawdata\u001b[0m \u001b[0;34m=\u001b[0m \u001b[0mself\u001b[0m\u001b[0;34m.\u001b[0m\u001b[0mrawdata\u001b[0m \u001b[0;34m+\u001b[0m \u001b[0mdata\u001b[0m\u001b[0;34m\u001b[0m\u001b[0;34m\u001b[0m\u001b[0m\n\u001b[0;32m--> 111\u001b[0;31m         \u001b[0mself\u001b[0m\u001b[0;34m.\u001b[0m\u001b[0mgoahead\u001b[0m\u001b[0;34m(\u001b[0m\u001b[0;36m0\u001b[0m\u001b[0;34m)\u001b[0m\u001b[0;34m\u001b[0m\u001b[0;34m\u001b[0m\u001b[0m\n\u001b[0m\u001b[1;32m    112\u001b[0m \u001b[0;34m\u001b[0m\u001b[0m\n\u001b[1;32m    113\u001b[0m     \u001b[0;32mdef\u001b[0m \u001b[0mclose\u001b[0m\u001b[0;34m(\u001b[0m\u001b[0mself\u001b[0m\u001b[0;34m)\u001b[0m\u001b[0;34m:\u001b[0m\u001b[0;34m\u001b[0m\u001b[0;34m\u001b[0m\u001b[0m\n",
      "\u001b[0;32m/usr/local/anaconda3/lib/python3.7/html/parser.py\u001b[0m in \u001b[0;36mgoahead\u001b[0;34m(self, end)\u001b[0m\n\u001b[1;32m    169\u001b[0m             \u001b[0;32mif\u001b[0m \u001b[0mstartswith\u001b[0m\u001b[0;34m(\u001b[0m\u001b[0;34m'<'\u001b[0m\u001b[0;34m,\u001b[0m \u001b[0mi\u001b[0m\u001b[0;34m)\u001b[0m\u001b[0;34m:\u001b[0m\u001b[0;34m\u001b[0m\u001b[0;34m\u001b[0m\u001b[0m\n\u001b[1;32m    170\u001b[0m                 \u001b[0;32mif\u001b[0m \u001b[0mstarttagopen\u001b[0m\u001b[0;34m.\u001b[0m\u001b[0mmatch\u001b[0m\u001b[0;34m(\u001b[0m\u001b[0mrawdata\u001b[0m\u001b[0;34m,\u001b[0m \u001b[0mi\u001b[0m\u001b[0;34m)\u001b[0m\u001b[0;34m:\u001b[0m \u001b[0;31m# < + letter\u001b[0m\u001b[0;34m\u001b[0m\u001b[0;34m\u001b[0m\u001b[0m\n\u001b[0;32m--> 171\u001b[0;31m                     \u001b[0mk\u001b[0m \u001b[0;34m=\u001b[0m \u001b[0mself\u001b[0m\u001b[0;34m.\u001b[0m\u001b[0mparse_starttag\u001b[0m\u001b[0;34m(\u001b[0m\u001b[0mi\u001b[0m\u001b[0;34m)\u001b[0m\u001b[0;34m\u001b[0m\u001b[0;34m\u001b[0m\u001b[0m\n\u001b[0m\u001b[1;32m    172\u001b[0m                 \u001b[0;32melif\u001b[0m \u001b[0mstartswith\u001b[0m\u001b[0;34m(\u001b[0m\u001b[0;34m\"</\"\u001b[0m\u001b[0;34m,\u001b[0m \u001b[0mi\u001b[0m\u001b[0;34m)\u001b[0m\u001b[0;34m:\u001b[0m\u001b[0;34m\u001b[0m\u001b[0;34m\u001b[0m\u001b[0m\n\u001b[1;32m    173\u001b[0m                     \u001b[0mk\u001b[0m \u001b[0;34m=\u001b[0m \u001b[0mself\u001b[0m\u001b[0;34m.\u001b[0m\u001b[0mparse_endtag\u001b[0m\u001b[0;34m(\u001b[0m\u001b[0mi\u001b[0m\u001b[0;34m)\u001b[0m\u001b[0;34m\u001b[0m\u001b[0;34m\u001b[0m\u001b[0m\n",
      "\u001b[0;32m/usr/local/anaconda3/lib/python3.7/html/parser.py\u001b[0m in \u001b[0;36mparse_starttag\u001b[0;34m(self, i)\u001b[0m\n\u001b[1;32m    343\u001b[0m             \u001b[0mself\u001b[0m\u001b[0;34m.\u001b[0m\u001b[0mhandle_startendtag\u001b[0m\u001b[0;34m(\u001b[0m\u001b[0mtag\u001b[0m\u001b[0;34m,\u001b[0m \u001b[0mattrs\u001b[0m\u001b[0;34m)\u001b[0m\u001b[0;34m\u001b[0m\u001b[0;34m\u001b[0m\u001b[0m\n\u001b[1;32m    344\u001b[0m         \u001b[0;32melse\u001b[0m\u001b[0;34m:\u001b[0m\u001b[0;34m\u001b[0m\u001b[0;34m\u001b[0m\u001b[0m\n\u001b[0;32m--> 345\u001b[0;31m             \u001b[0mself\u001b[0m\u001b[0;34m.\u001b[0m\u001b[0mhandle_starttag\u001b[0m\u001b[0;34m(\u001b[0m\u001b[0mtag\u001b[0m\u001b[0;34m,\u001b[0m \u001b[0mattrs\u001b[0m\u001b[0;34m)\u001b[0m\u001b[0;34m\u001b[0m\u001b[0;34m\u001b[0m\u001b[0m\n\u001b[0m\u001b[1;32m    346\u001b[0m             \u001b[0;32mif\u001b[0m \u001b[0mtag\u001b[0m \u001b[0;32min\u001b[0m \u001b[0mself\u001b[0m\u001b[0;34m.\u001b[0m\u001b[0mCDATA_CONTENT_ELEMENTS\u001b[0m\u001b[0;34m:\u001b[0m\u001b[0;34m\u001b[0m\u001b[0;34m\u001b[0m\u001b[0m\n\u001b[1;32m    347\u001b[0m                 \u001b[0mself\u001b[0m\u001b[0;34m.\u001b[0m\u001b[0mset_cdata_mode\u001b[0m\u001b[0;34m(\u001b[0m\u001b[0mtag\u001b[0m\u001b[0;34m)\u001b[0m\u001b[0;34m\u001b[0m\u001b[0;34m\u001b[0m\u001b[0m\n",
      "\u001b[0;32m/usr/local/anaconda3/lib/python3.7/site-packages/bs4/builder/_htmlparser.py\u001b[0m in \u001b[0;36mhandle_starttag\u001b[0;34m(self, name, attrs, handle_empty_element)\u001b[0m\n\u001b[1;32m    137\u001b[0m         tag = self.soup.handle_starttag(\n\u001b[1;32m    138\u001b[0m             \u001b[0mname\u001b[0m\u001b[0;34m,\u001b[0m \u001b[0;32mNone\u001b[0m\u001b[0;34m,\u001b[0m \u001b[0;32mNone\u001b[0m\u001b[0;34m,\u001b[0m \u001b[0mattr_dict\u001b[0m\u001b[0;34m,\u001b[0m \u001b[0msourceline\u001b[0m\u001b[0;34m=\u001b[0m\u001b[0msourceline\u001b[0m\u001b[0;34m,\u001b[0m\u001b[0;34m\u001b[0m\u001b[0;34m\u001b[0m\u001b[0m\n\u001b[0;32m--> 139\u001b[0;31m             \u001b[0msourcepos\u001b[0m\u001b[0;34m=\u001b[0m\u001b[0msourcepos\u001b[0m\u001b[0;34m\u001b[0m\u001b[0;34m\u001b[0m\u001b[0m\n\u001b[0m\u001b[1;32m    140\u001b[0m         )\n\u001b[1;32m    141\u001b[0m         \u001b[0;32mif\u001b[0m \u001b[0mtag\u001b[0m \u001b[0;32mand\u001b[0m \u001b[0mtag\u001b[0m\u001b[0;34m.\u001b[0m\u001b[0mis_empty_element\u001b[0m \u001b[0;32mand\u001b[0m \u001b[0mhandle_empty_element\u001b[0m\u001b[0;34m:\u001b[0m\u001b[0;34m\u001b[0m\u001b[0;34m\u001b[0m\u001b[0m\n",
      "\u001b[0;32m/usr/local/anaconda3/lib/python3.7/site-packages/bs4/__init__.py\u001b[0m in \u001b[0;36mhandle_starttag\u001b[0;34m(self, name, namespace, nsprefix, attrs, sourceline, sourcepos, namespaces)\u001b[0m\n\u001b[1;32m    748\u001b[0m \u001b[0;34m\u001b[0m\u001b[0m\n\u001b[1;32m    749\u001b[0m         tag = self.element_classes.get(Tag, Tag)(\n\u001b[0;32m--> 750\u001b[0;31m             \u001b[0mself\u001b[0m\u001b[0;34m,\u001b[0m \u001b[0mself\u001b[0m\u001b[0;34m.\u001b[0m\u001b[0mbuilder\u001b[0m\u001b[0;34m,\u001b[0m \u001b[0mname\u001b[0m\u001b[0;34m,\u001b[0m \u001b[0mnamespace\u001b[0m\u001b[0;34m,\u001b[0m \u001b[0mnsprefix\u001b[0m\u001b[0;34m,\u001b[0m \u001b[0mattrs\u001b[0m\u001b[0;34m,\u001b[0m\u001b[0;34m\u001b[0m\u001b[0;34m\u001b[0m\u001b[0m\n\u001b[0m\u001b[1;32m    751\u001b[0m             \u001b[0mself\u001b[0m\u001b[0;34m.\u001b[0m\u001b[0mcurrentTag\u001b[0m\u001b[0;34m,\u001b[0m \u001b[0mself\u001b[0m\u001b[0;34m.\u001b[0m\u001b[0m_most_recent_element\u001b[0m\u001b[0;34m,\u001b[0m\u001b[0;34m\u001b[0m\u001b[0;34m\u001b[0m\u001b[0m\n\u001b[1;32m    752\u001b[0m             \u001b[0msourceline\u001b[0m\u001b[0;34m=\u001b[0m\u001b[0msourceline\u001b[0m\u001b[0;34m,\u001b[0m \u001b[0msourcepos\u001b[0m\u001b[0;34m=\u001b[0m\u001b[0msourcepos\u001b[0m\u001b[0;34m,\u001b[0m\u001b[0;34m\u001b[0m\u001b[0;34m\u001b[0m\u001b[0m\n",
      "\u001b[0;31mKeyboardInterrupt\u001b[0m: "
     ]
    }
   ],
   "source": [
    "gators, assets, events, skills = get_urls_by_type()"
   ]
  },
  {
   "cell_type": "code",
   "execution_count": null,
   "id": "first-roulette",
   "metadata": {},
   "outputs": [],
   "source": [
    "soup = get_soup('https://arkhamdb.com/card/01095')\n",
    "\n",
    "soup"
   ]
  },
  {
   "cell_type": "code",
   "execution_count": null,
   "id": "advisory-honor",
   "metadata": {},
   "outputs": [],
   "source": [
    "soup.find('p', class_='card-type')"
   ]
  },
  {
   "cell_type": "code",
   "execution_count": null,
   "id": "challenging-shame",
   "metadata": {},
   "outputs": [],
   "source": [
    "soup.find('p', class_='card-type').text"
   ]
  },
  {
   "cell_type": "code",
   "execution_count": null,
   "id": "persistent-sheriff",
   "metadata": {},
   "outputs": [],
   "source": [
    "soup.find('p', class_='card-type').text.replace('.','')"
   ]
  },
  {
   "cell_type": "code",
   "execution_count": null,
   "id": "disciplinary-secretary",
   "metadata": {},
   "outputs": [],
   "source": [
    "soup.find('p', class_='card-type').text.replace('.','').replace('Hand x2','handx2')"
   ]
  },
  {
   "cell_type": "code",
   "execution_count": null,
   "id": "concerned-setting",
   "metadata": {},
   "outputs": [],
   "source": [
    "soup.find('p', class_='card-type').text.replace('.','').replace('hand x2','handx2').lower().strip()"
   ]
  },
  {
   "cell_type": "code",
   "execution_count": null,
   "id": "sound-scotland",
   "metadata": {},
   "outputs": [],
   "source": [
    "tipe = soup.find('p', class_='card-type').text.replace('.','').replace('hand x2','handx2').lower().strip()\n",
    "\n",
    "tipe.split(' ')"
   ]
  },
  {
   "cell_type": "code",
   "execution_count": null,
   "id": "material-edgar",
   "metadata": {},
   "outputs": [],
   "source": [
    "if tipe.split(' ')[0] in ('asset','investigator'):\n",
    "    \n",
    "    health, sanity = get_health_sanity(soup)"
   ]
  },
  {
   "cell_type": "code",
   "execution_count": null,
   "id": "together-reservation",
   "metadata": {},
   "outputs": [],
   "source": [
    "health, sanity = get_health_sanity(soup)"
   ]
  },
  {
   "cell_type": "code",
   "execution_count": null,
   "id": "traditional-benjamin",
   "metadata": {},
   "outputs": [],
   "source": [
    "health"
   ]
  },
  {
   "cell_type": "code",
   "execution_count": null,
   "id": "rolled-impression",
   "metadata": {},
   "outputs": [],
   "source": [
    "sanity"
   ]
  },
  {
   "cell_type": "code",
   "execution_count": null,
   "id": "atmospheric-attribute",
   "metadata": {},
   "outputs": [],
   "source": [
    "sanity = re.search('Sanity:\\s+(\\d+)', str(soup.find('div'))).group(1).strip()"
   ]
  },
  {
   "cell_type": "code",
   "execution_count": null,
   "id": "yellow-rapid",
   "metadata": {},
   "outputs": [],
   "source": []
  },
  {
   "cell_type": "code",
   "execution_count": null,
   "id": "optical-calculator",
   "metadata": {},
   "outputs": [],
   "source": []
  },
  {
   "cell_type": "code",
   "execution_count": null,
   "id": "convenient-falls",
   "metadata": {},
   "outputs": [],
   "source": []
  },
  {
   "cell_type": "code",
   "execution_count": null,
   "id": "aerial-ethnic",
   "metadata": {},
   "outputs": [],
   "source": [
    "df.to_csv('player_cards.csv',index = False)"
   ]
  },
  {
   "cell_type": "code",
   "execution_count": null,
   "id": "finished-taxation",
   "metadata": {},
   "outputs": [],
   "source": [
    "df.ability"
   ]
  },
  {
   "cell_type": "code",
   "execution_count": null,
   "id": "nuclear-pharmacology",
   "metadata": {},
   "outputs": [],
   "source": [
    "gators, assets, events, skills = get_urls_by_type()"
   ]
  },
  {
   "cell_type": "code",
   "execution_count": null,
   "id": "formal-console",
   "metadata": {},
   "outputs": [],
   "source": [
    "def get_soup(url):\n",
    "    '''Takes in a url as a string\n",
    "       Returns html request result parsed using beautiful soup'''\n",
    "\n",
    "    # create request and soup objects\n",
    "    html = requests.get(url)\n",
    "\n",
    "    soup = BeautifulSoup(html.content, 'html.parser')\n",
    "    \n",
    "    return soup\n",
    "\n",
    "\n",
    "def get_text_for_icon(soup):\n",
    "    '''Takes in request response as a string\n",
    "       replaces html code indicating a game icon with a text representation\n",
    "       Returns sting with replacements'''\n",
    "    \n",
    "    # replace icon html with matching word in all caps\n",
    "    icon_types = [\n",
    "                  'action',\n",
    "                  'reaction',\n",
    "                  'wild', \n",
    "                  'willpower', \n",
    "                  'combat', \n",
    "                  'agility', \n",
    "                  'intellect', \n",
    "                  'wild',\n",
    "                  'curse', \n",
    "                  'bless',\n",
    "                  'rogue',\n",
    "                  'survivor',\n",
    "                  'seeker',\n",
    "                  'guardian',\n",
    "                  'mystic',\n",
    "                  'neutral',\n",
    "                  'skull',\n",
    "                  'tablet',\n",
    "                  'cultist',\n",
    "                  'elder sign']\n",
    "    \n",
    "    for icon in icon_types:\n",
    "    \n",
    "        soup = soup.replace(f'<span class=\"icon-{icon}\" title=\"{icon.capitalize()}\"></span>', f'{icon.upper()}')\n",
    "        \n",
    "        soup = soup.replace(f'<div class=\"card-text border-{icon}\">\\n<p>', '')\n",
    "\n",
    "    soup = soup.replace(f'<span class=\"icon-wild\" title=\"Any Skill\"></span>', 'WILD')\n",
    "\n",
    "    soup = soup.replace(f'<span class=\"icon-elder_sign\" title=\"Elder Sign\"></span>', 'ELDER_SIGN')\n",
    "\n",
    "    soup = soup.replace(f'<span class=\"icon-elder_sign\" title=\"Elder Thing\"></span>', 'ELDER_THING')\n",
    "\n",
    "    soup = soup.replace(f'<span class=\"icon-lightning\" title=\"Fast Action\"></span>', 'FAST_ACTION')\n",
    "\n",
    "    soup = soup.replace(f'<span class=\"icon-auto_fail\" title=\"Auto Fail\"></span>', 'TENTACLES')\n",
    "\n",
    "    return soup"
   ]
  },
  {
   "cell_type": "code",
   "execution_count": null,
   "id": "adverse-spanish",
   "metadata": {},
   "outputs": [],
   "source": []
  },
  {
   "cell_type": "code",
   "execution_count": null,
   "id": "handmade-zoning",
   "metadata": {},
   "outputs": [],
   "source": [
    "gator = get_soup('https://arkhamdb.com/card/02006')\n",
    "asset = get_soup('https://arkhamdb.com/card/05151')\n",
    "#event = get_soup(events[15])\n",
    "#skill = get_soup(skills[56])\n",
    "\n"
   ]
  },
  {
   "cell_type": "code",
   "execution_count": null,
   "id": "pressed-walter",
   "metadata": {},
   "outputs": [],
   "source": [
    "faction = get_faction(gator)\n",
    "\n",
    "first_faction = faction.split(' ')[0]\n",
    "\n",
    "get_text_for_icon(str(gator.find('div', class_=f'card-text border-{first_faction}')))"
   ]
  },
  {
   "cell_type": "code",
   "execution_count": null,
   "id": "representative-engineer",
   "metadata": {},
   "outputs": [],
   "source": [
    ".text.replace('effect', 'ELDER SIGN')"
   ]
  },
  {
   "cell_type": "code",
   "execution_count": null,
   "id": "reverse-occasions",
   "metadata": {},
   "outputs": [],
   "source": [
    "gator.find('p', class_='card-type').text\n",
    "   "
   ]
  },
  {
   "cell_type": "code",
   "execution_count": null,
   "id": "organized-stuff",
   "metadata": {},
   "outputs": [],
   "source": [
    "asset.find('div', class_='card-flavor small').text.replace('\\n', '').replace('\\t', '')"
   ]
  },
  {
   "cell_type": "code",
   "execution_count": null,
   "id": "egyptian-publisher",
   "metadata": {},
   "outputs": [],
   "source": [
    "gator.find_all('div', class_='card-flavor small')[1].text.replace('\\n', '').replace('\\t', '')"
   ]
  },
  {
   "cell_type": "code",
   "execution_count": null,
   "id": "deluxe-saudi",
   "metadata": {},
   "outputs": [],
   "source": [
    "asset.find('span', class_='card-type')"
   ]
  },
  {
   "cell_type": "code",
   "execution_count": null,
   "id": "domestic-revision",
   "metadata": {},
   "outputs": [],
   "source": [
    "'asset hand x2'.replace('hand x2','handx2')"
   ]
  },
  {
   "cell_type": "code",
   "execution_count": null,
   "id": "naval-study",
   "metadata": {},
   "outputs": [],
   "source": [
    "\n",
    "\n",
    "\n",
    "\n",
    "\n",
    "\n"
   ]
  },
  {
   "cell_type": "code",
   "execution_count": null,
   "id": "young-cathedral",
   "metadata": {},
   "outputs": [],
   "source": [
    "gator.find('div', class_='card-pack').text.replace('\\n', '').replace('\\t', '').replace('.', '') "
   ]
  },
  {
   "cell_type": "code",
   "execution_count": null,
   "id": "essential-banks",
   "metadata": {},
   "outputs": [],
   "source": [
    "get_faction(asset).strip().lower()"
   ]
  },
  {
   "cell_type": "code",
   "execution_count": null,
   "id": "recognized-dressing",
   "metadata": {},
   "outputs": [],
   "source": [
    ".text.replace('\\n', '').replace('\\t', '')"
   ]
  },
  {
   "cell_type": "code",
   "execution_count": null,
   "id": "dietary-multiple",
   "metadata": {},
   "outputs": [],
   "source": [
    "faction = get_faction(asset).strip().lower()\n",
    "\n",
    "first_faction = faction.split(' ')[0]\n",
    "\n",
    "soup = asset.find('div', class_=f'card-text border-{first_faction}').text.replace('\\n', '')\n",
    "\n",
    "soup"
   ]
  },
  {
   "cell_type": "code",
   "execution_count": null,
   "id": "lightweight-letter",
   "metadata": {},
   "outputs": [],
   "source": [
    "re.search('Sanity:\\s+(\\d)', str(gator.find('div'))).group(1"
   ]
  },
  {
   "cell_type": "code",
   "execution_count": null,
   "id": "complimentary-stamp",
   "metadata": {},
   "outputs": [],
   "source": [
    "text = str(asset.find_all('div', class_='card-info-block'))\n",
    "\n",
    "re.search('XP:\\s+(\\d)', text).group(1)"
   ]
  },
  {
   "cell_type": "code",
   "execution_count": null,
   "id": "exposed-andorra",
   "metadata": {},
   "outputs": [],
   "source": [
    "faction = get_faction(gator).lower().strip()\n",
    "    \n",
    "first_faction = faction.split(' ')[0]\n",
    "    \n",
    "gator.find_all('div', class_=f'card-text border-{first_faction}')[1].text.replace('\\n', '')"
   ]
  },
  {
   "cell_type": "code",
   "execution_count": null,
   "id": "spanish-surface",
   "metadata": {},
   "outputs": [],
   "source": [
    "get_icons(asset)"
   ]
  },
  {
   "cell_type": "code",
   "execution_count": 3,
   "id": "described-links",
   "metadata": {},
   "outputs": [
    {
     "data": {
      "text/html": [
       "<div>\n",
       "<style scoped>\n",
       "    .dataframe tbody tr th:only-of-type {\n",
       "        vertical-align: middle;\n",
       "    }\n",
       "\n",
       "    .dataframe tbody tr th {\n",
       "        vertical-align: top;\n",
       "    }\n",
       "\n",
       "    .dataframe thead th {\n",
       "        text-align: right;\n",
       "    }\n",
       "</style>\n",
       "<table border=\"1\" class=\"dataframe\">\n",
       "  <thead>\n",
       "    <tr style=\"text-align: right;\">\n",
       "      <th></th>\n",
       "      <th>title</th>\n",
       "      <th>faction</th>\n",
       "      <th>type</th>\n",
       "      <th>cost</th>\n",
       "      <th>traits</th>\n",
       "      <th>ability</th>\n",
       "      <th>icons</th>\n",
       "      <th>willpower</th>\n",
       "      <th>intellect</th>\n",
       "      <th>combat</th>\n",
       "      <th>agility</th>\n",
       "      <th>health</th>\n",
       "      <th>sanity</th>\n",
       "      <th>xp</th>\n",
       "      <th>artist</th>\n",
       "      <th>expansion</th>\n",
       "      <th>flavor</th>\n",
       "      <th>deck_building</th>\n",
       "      <th>story</th>\n",
       "      <th>url</th>\n",
       "    </tr>\n",
       "  </thead>\n",
       "  <tbody>\n",
       "    <tr>\n",
       "      <th>0</th>\n",
       "      <td>\"Ashcan\" Pete The Drifter</td>\n",
       "      <td>survivor</td>\n",
       "      <td>investigator</td>\n",
       "      <td>--</td>\n",
       "      <td>drifter</td>\n",
       "      <td>You begin the game with Duke in play.FAST_ACTI...</td>\n",
       "      <td>--</td>\n",
       "      <td>4</td>\n",
       "      <td>2</td>\n",
       "      <td>2</td>\n",
       "      <td>3</td>\n",
       "      <td>6</td>\n",
       "      <td>5</td>\n",
       "      <td>--</td>\n",
       "      <td>Jake Murray</td>\n",
       "      <td>The Dunwich Legacy #5</td>\n",
       "      <td>\"C'mere, boy. We got work to do.\"</td>\n",
       "      <td>Deck Size: 30.Deckbuilding Options: Survivor c...</td>\n",
       "      <td>At night, \"Ashcan\" Pete sleeps wherever his tr...</td>\n",
       "      <td>https://arkhamdb.com/card/02005</td>\n",
       "    </tr>\n",
       "    <tr>\n",
       "      <th>1</th>\n",
       "      <td>\"Skids\" O'Toole The Ex-Con</td>\n",
       "      <td>rogue</td>\n",
       "      <td>investigator</td>\n",
       "      <td>--</td>\n",
       "      <td>criminal</td>\n",
       "      <td>FAST_ACTION During your turn, spend 2 resource...</td>\n",
       "      <td>--</td>\n",
       "      <td>2</td>\n",
       "      <td>3</td>\n",
       "      <td>3</td>\n",
       "      <td>4</td>\n",
       "      <td>8</td>\n",
       "      <td>6</td>\n",
       "      <td>--</td>\n",
       "      <td>Magali Villeneuve</td>\n",
       "      <td>Core Set #3</td>\n",
       "      <td>\"I didn't get out of the joint just to watch t...</td>\n",
       "      <td>Deck Size: 30.Deckbuilding Options: Rogue card...</td>\n",
       "      <td>Skids hadn't planned on a life of crime. But s...</td>\n",
       "      <td>https://arkhamdb.com/card/01003</td>\n",
       "    </tr>\n",
       "    <tr>\n",
       "      <th>2</th>\n",
       "      <td>\"Skids\" O'Toole The Ex-Con</td>\n",
       "      <td>rogue</td>\n",
       "      <td>investigator</td>\n",
       "      <td>--</td>\n",
       "      <td>criminal</td>\n",
       "      <td>FAST_ACTION During your turn, spend 2 resource...</td>\n",
       "      <td>--</td>\n",
       "      <td>2</td>\n",
       "      <td>3</td>\n",
       "      <td>3</td>\n",
       "      <td>4</td>\n",
       "      <td>8</td>\n",
       "      <td>6</td>\n",
       "      <td>--</td>\n",
       "      <td>Magali Villeneuve</td>\n",
       "      <td>Revised Core Set #3</td>\n",
       "      <td>\"I didn't get out of the joint just to watch t...</td>\n",
       "      <td>Deck Size: 30.Deckbuilding Options: Rogue card...</td>\n",
       "      <td>Skids hadn't planned on a life of crime. But s...</td>\n",
       "      <td>https://arkhamdb.com/card/01503</td>\n",
       "    </tr>\n",
       "    <tr>\n",
       "      <th>3</th>\n",
       "      <td>Agnes Baker The Waitress</td>\n",
       "      <td>mystic</td>\n",
       "      <td>investigator</td>\n",
       "      <td>--</td>\n",
       "      <td>sorcerer</td>\n",
       "      <td>REACTION After 1 or more horror is placed on A...</td>\n",
       "      <td>--</td>\n",
       "      <td>5</td>\n",
       "      <td>2</td>\n",
       "      <td>2</td>\n",
       "      <td>3</td>\n",
       "      <td>6</td>\n",
       "      <td>8</td>\n",
       "      <td>--</td>\n",
       "      <td>Magali Villeneuve</td>\n",
       "      <td>Core Set #4</td>\n",
       "      <td>\"I remember another life, one of sorcery and c...</td>\n",
       "      <td>Deck Size: 30.Deckbuilding Options: Mystic car...</td>\n",
       "      <td>Agnes Baker may be just an unassuming waitress...</td>\n",
       "      <td>https://arkhamdb.com/card/01004</td>\n",
       "    </tr>\n",
       "    <tr>\n",
       "      <th>4</th>\n",
       "      <td>Agnes Baker The Waitress</td>\n",
       "      <td>mystic</td>\n",
       "      <td>investigator</td>\n",
       "      <td>--</td>\n",
       "      <td>sorcerer</td>\n",
       "      <td>REACTION After 1 or more horror is placed on A...</td>\n",
       "      <td>--</td>\n",
       "      <td>5</td>\n",
       "      <td>2</td>\n",
       "      <td>2</td>\n",
       "      <td>3</td>\n",
       "      <td>6</td>\n",
       "      <td>8</td>\n",
       "      <td>--</td>\n",
       "      <td>Magali Villeneuve</td>\n",
       "      <td>Revised Core Set #4</td>\n",
       "      <td>\"I remember another life, one of sorcery and c...</td>\n",
       "      <td>Deck Size: 30.Deckbuilding Options: Mystic car...</td>\n",
       "      <td>Agnes Baker may be just an unassuming waitress...</td>\n",
       "      <td>https://arkhamdb.com/card/01504</td>\n",
       "    </tr>\n",
       "  </tbody>\n",
       "</table>\n",
       "</div>"
      ],
      "text/plain": [
       "                        title   faction          type cost    traits  \\\n",
       "0   \"Ashcan\" Pete The Drifter  survivor  investigator   --   drifter   \n",
       "1  \"Skids\" O'Toole The Ex-Con     rogue  investigator   --  criminal   \n",
       "2  \"Skids\" O'Toole The Ex-Con     rogue  investigator   --  criminal   \n",
       "3    Agnes Baker The Waitress    mystic  investigator   --  sorcerer   \n",
       "4    Agnes Baker The Waitress    mystic  investigator   --  sorcerer   \n",
       "\n",
       "                                             ability icons willpower  \\\n",
       "0  You begin the game with Duke in play.FAST_ACTI...    --         4   \n",
       "1  FAST_ACTION During your turn, spend 2 resource...    --         2   \n",
       "2  FAST_ACTION During your turn, spend 2 resource...    --         2   \n",
       "3  REACTION After 1 or more horror is placed on A...    --         5   \n",
       "4  REACTION After 1 or more horror is placed on A...    --         5   \n",
       "\n",
       "  intellect combat agility health sanity  xp             artist  \\\n",
       "0         2      2       3      6      5  --        Jake Murray   \n",
       "1         3      3       4      8      6  --  Magali Villeneuve   \n",
       "2         3      3       4      8      6  --  Magali Villeneuve   \n",
       "3         2      2       3      6      8  --  Magali Villeneuve   \n",
       "4         2      2       3      6      8  --  Magali Villeneuve   \n",
       "\n",
       "               expansion                                             flavor  \\\n",
       "0  The Dunwich Legacy #5                  \"C'mere, boy. We got work to do.\"   \n",
       "1            Core Set #3  \"I didn't get out of the joint just to watch t...   \n",
       "2    Revised Core Set #3  \"I didn't get out of the joint just to watch t...   \n",
       "3            Core Set #4  \"I remember another life, one of sorcery and c...   \n",
       "4    Revised Core Set #4  \"I remember another life, one of sorcery and c...   \n",
       "\n",
       "                                       deck_building  \\\n",
       "0  Deck Size: 30.Deckbuilding Options: Survivor c...   \n",
       "1  Deck Size: 30.Deckbuilding Options: Rogue card...   \n",
       "2  Deck Size: 30.Deckbuilding Options: Rogue card...   \n",
       "3  Deck Size: 30.Deckbuilding Options: Mystic car...   \n",
       "4  Deck Size: 30.Deckbuilding Options: Mystic car...   \n",
       "\n",
       "                                               story  \\\n",
       "0  At night, \"Ashcan\" Pete sleeps wherever his tr...   \n",
       "1  Skids hadn't planned on a life of crime. But s...   \n",
       "2  Skids hadn't planned on a life of crime. But s...   \n",
       "3  Agnes Baker may be just an unassuming waitress...   \n",
       "4  Agnes Baker may be just an unassuming waitress...   \n",
       "\n",
       "                               url  \n",
       "0  https://arkhamdb.com/card/02005  \n",
       "1  https://arkhamdb.com/card/01003  \n",
       "2  https://arkhamdb.com/card/01503  \n",
       "3  https://arkhamdb.com/card/01004  \n",
       "4  https://arkhamdb.com/card/01504  "
      ]
     },
     "execution_count": 3,
     "metadata": {},
     "output_type": "execute_result"
    }
   ],
   "source": [
    "df = pd.read_csv('player_cards.csv')\n",
    "\n",
    "df.head()"
   ]
  },
  {
   "cell_type": "code",
   "execution_count": 11,
   "id": "expanded-replication",
   "metadata": {},
   "outputs": [],
   "source": [
    "def get_space_dummies(df, col):\n",
    "\n",
    "    # get list of column values\n",
    "    column_values = set(df[f'{col}'].tolist())\n",
    "\n",
    "    split_values = []\n",
    "\n",
    "    # split values containing multiple items and add to list\n",
    "    for item in column_values:\n",
    "\n",
    "        split_values.extend(item.split(' '))\n",
    "\n",
    "    # get set of stripped values \n",
    "    cats = set(item.strip() for item in split_values)\n",
    "    \n",
    "    # get dummy column for each item \n",
    "    for cat in cats:\n",
    "    \n",
    "        df[f'{cat}_{col}'] = df[f'{col}'].apply(lambda value: cat in value)\n",
    "        \n",
    "    return df"
   ]
  },
  {
   "cell_type": "code",
   "execution_count": 12,
   "id": "upset-system",
   "metadata": {},
   "outputs": [],
   "source": [
    "for col in ['faction','type', 'traits']:\n",
    "\n",
    "    df = get_space_dummies(df, col)"
   ]
  },
  {
   "cell_type": "code",
   "execution_count": 13,
   "id": "harmful-vancouver",
   "metadata": {},
   "outputs": [
    {
     "data": {
      "text/plain": [
       "Index(['title', 'faction', 'type', 'cost', 'traits', 'ability', 'icons',\n",
       "       'willpower', 'intellect', 'combat',\n",
       "       ...\n",
       "       'boon_traits', 'occult_traits', 'flora_traits', 'agency_traits',\n",
       "       'entrepreneur_traits', 'witch_traits', 'syndicate_traits',\n",
       "       'supply_traits', 'gambit_traits', 'spell_traits'],\n",
       "      dtype='object', length=284)"
      ]
     },
     "execution_count": 13,
     "metadata": {},
     "output_type": "execute_result"
    }
   ],
   "source": [
    "df.columns"
   ]
  },
  {
   "cell_type": "code",
   "execution_count": 16,
   "id": "robust-population",
   "metadata": {},
   "outputs": [
    {
     "data": {
      "text/plain": [
       "False    1171\n",
       "True      254\n",
       "Name: rogue_faction, dtype: int64"
      ]
     },
     "execution_count": 16,
     "metadata": {},
     "output_type": "execute_result"
    }
   ],
   "source": [
    "df.rogue_faction.value_counts()"
   ]
  },
  {
   "cell_type": "code",
   "execution_count": null,
   "id": "ranking-hamburg",
   "metadata": {},
   "outputs": [],
   "source": [
    "def get_value_set(col):\n",
    "    \n",
    "    values = []\n",
    "    \n",
    "    df[f'{col}'] = df[f'{col}'].split(' ')\n",
    "    \n",
    "    merged_values = col.tolist()\n",
    "     \n",
    "    for merged_value in merged_values:\n",
    "        \n",
    "\n",
    "    \n",
    "        values.append(item)\n",
    "        \n",
    "    return set(values)\n",
    "    \n",
    "    \n",
    "\n"
   ]
  },
  {
   "cell_type": "code",
   "execution_count": null,
   "id": "embedded-camel",
   "metadata": {},
   "outputs": [],
   "source": [
    "def clean_assets_traits(value):\n",
    "    \n",
    "    "
   ]
  }
 ],
 "metadata": {
  "kernelspec": {
   "display_name": "Python 3",
   "language": "python",
   "name": "python3"
  },
  "language_info": {
   "codemirror_mode": {
    "name": "ipython",
    "version": 3
   },
   "file_extension": ".py",
   "mimetype": "text/x-python",
   "name": "python",
   "nbconvert_exporter": "python",
   "pygments_lexer": "ipython3",
   "version": "3.7.4"
  }
 },
 "nbformat": 4,
 "nbformat_minor": 5
}
