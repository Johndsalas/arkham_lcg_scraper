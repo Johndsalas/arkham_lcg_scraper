{
 "cells": [
  {
   "cell_type": "code",
   "execution_count": 92,
   "id": "front-winner",
   "metadata": {},
   "outputs": [],
   "source": [
    "import requests\n",
    "import re\n",
    "from bs4 import BeautifulSoup"
   ]
  },
  {
   "cell_type": "code",
   "execution_count": 12,
   "id": "vertical-dispatch",
   "metadata": {},
   "outputs": [],
   "source": [
    "def get_urls_by_type():\n",
    "    '''Scrapes arkhamdb and returns a list of urls pages containing card information\n",
    "       on each card for each card type'''\n",
    "\n",
    "    # call function to return list of url's by catagory\n",
    "    print(\"Getting investigator URL's...\")\n",
    "    gators = get_cata_url('investigator')\n",
    "\n",
    "    print(\"Getting asset URL's...\")\n",
    "    assets = get_cata_url('asset')\n",
    "\n",
    "    print(\"Getting event URL's...\")\n",
    "    events = get_cata_url('event')\n",
    "\n",
    "    print(\"Getting skill URL's...\")\n",
    "    skills = get_cata_url('skill')\n",
    "\n",
    "    return gators, assets, events, skills\n",
    "\n",
    "def get_cata_url(catagory):\n",
    "    ''' Takes in a string containing a player card faction, Scrapes arkhamdb, and\n",
    "        Returns a list of urls for containing information on each card of that catagory'''\n",
    "\n",
    "    full_results = []\n",
    "\n",
    "    # defines number of results pages to scrape\n",
    "    if catagory in ('investigator', 'skill'):\n",
    "        \n",
    "        pages = 1\n",
    "        \n",
    "    elif catagory == 'event':\n",
    "        \n",
    "        pages = 2\n",
    "        \n",
    "    elif catagory == 'asset':\n",
    "        \n",
    "        pages = 4\n",
    "\n",
    "    # itterates through pages in catagory\n",
    "    for page in range(1,pages+1):\n",
    "\n",
    "        url = f'https://arkhamdb.com/find?q=t%3A{catagory}&view=list&sort=name&decks=player&page={page}'\n",
    "\n",
    "        # create request and soup objects\n",
    "        html = requests.get(url)\n",
    "\n",
    "        soup = BeautifulSoup(html.content, 'html.parser')\n",
    "\n",
    "        # locate urls on page\n",
    "        results = soup.find(id='list')\n",
    "\n",
    "        results = results.find_all('a', class_='card-tip')\n",
    "\n",
    "        # convert urls to string and make a list\n",
    "        results = [str(result['href']) for result in results]\n",
    "                \n",
    "        full_results.extend(results)\n",
    "                \n",
    "    return full_results\n",
    "\n",
    "def get_soup(url):\n",
    "    '''Takes in a url for a card\n",
    "       Returns html request result parsed using beautiful soup'''\n",
    "\n",
    "    # create request and soup objects\n",
    "    html = requests.get(url)\n",
    "\n",
    "    soup = BeautifulSoup(html.content, 'html.parser')\n",
    "\n",
    "    # locate urls on page and return\n",
    "    return soup"
   ]
  },
  {
   "cell_type": "code",
   "execution_count": 61,
   "id": "advance-mustang",
   "metadata": {},
   "outputs": [],
   "source": [
    "def get_title(soup): \n",
    "    \n",
    "    title = soup.find('a', class_='card-name card-tip').text.replace('\\n', '')\n",
    "    \n",
    "    try:\n",
    "        \n",
    "        subtitle = soup.find('div', class_='card-subname small').text\n",
    "        \n",
    "    except:\n",
    "        \n",
    "        subtitle = ''\n",
    "    \n",
    "    \n",
    "    return title + ' ' + subtitle\n",
    "\n",
    "\n",
    "def get_faction(soup):\n",
    "    \n",
    "    faction = ''\n",
    "\n",
    "    for item in soup.find_all('div', class_='card-faction'):\n",
    "\n",
    "        faction += item.text.replace('\\n', ' ')\n",
    "\n",
    "    return faction"
   ]
  },
  {
   "cell_type": "code",
   "execution_count": 129,
   "id": "mental-framework",
   "metadata": {},
   "outputs": [],
   "source": [
    "def get_text_for_icon(text):\n",
    "    '''Takes in request response as a string\n",
    "       replaces html code indicating a game icon with a text representation\n",
    "       Returns sting with replacements'''\n",
    "    \n",
    "    # replace icon html with matching word in all caps\n",
    "    icon_types = [\n",
    "                  'action',\n",
    "                  'reaction',\n",
    "                  'wild', \n",
    "                  'willpower', \n",
    "                  'combat', \n",
    "                  'agility', \n",
    "                  'intellect', \n",
    "                  'wild',\n",
    "                  'curse', \n",
    "                  'bless',\n",
    "                  'rogue',\n",
    "                  'survivor',\n",
    "                  'seeker',\n",
    "                  'guardian',\n",
    "                  'mystic',\n",
    "                  'neutral',\n",
    "                  'skull',\n",
    "                  'tablet',\n",
    "                  'cultist',\n",
    "                  'elder sign']\n",
    "    \n",
    "    for icon in icon_types:\n",
    "    \n",
    "        text = text.replace(f'<span class=\"icon-{icon}\" title=\"{icon.capitalize()}\"></span>', \n",
    "                                  f'{icon.upper()}')\n",
    "        \n",
    "        text = text.replace(f'<div class=\"card-text border-{icon}\">\\n<p>', '')\n",
    "\n",
    "    text = text.replace(f'<span class=\"icon-wild\" title=\"Any Skill\"></span>', 'WILD')\n",
    "\n",
    "    text = text.replace(f'<span class=\"icon-elder_sign\" title=\"Elder Sign\"></span>', 'ELDER_SIGN')\n",
    "\n",
    "    text = text.replace(f'<span class=\"icon-elder_sign\" title=\"Elder Thing\"></span>', 'ELDER_THING')\n",
    "\n",
    "    text = text.replace(f'<span class=\"icon-lightning\" title=\"Fast Action\"></span>', 'FAST ACTION')\n",
    "\n",
    "    text = text.replace(f'<span class=\"icon-auto_fail\" title=\"Auto Fail\"></span>', 'TENTACLES')\n",
    "\n",
    "    return text"
   ]
  },
  {
   "cell_type": "code",
   "execution_count": 4,
   "id": "nuclear-pharmacology",
   "metadata": {},
   "outputs": [
    {
     "name": "stdout",
     "output_type": "stream",
     "text": [
      "Getting investigator URL's...\n",
      "Getting asset URL's...\n",
      "Getting event URL's...\n",
      "Getting skill URL's...\n"
     ]
    }
   ],
   "source": [
    "gators, assets, events, skills = get_urls_by_type()"
   ]
  },
  {
   "cell_type": "code",
   "execution_count": 118,
   "id": "handmade-zoning",
   "metadata": {},
   "outputs": [],
   "source": [
    "gator = get_soup(gators[3])\n",
    "asset = get_soup('https://arkhamdb.com/card/08109')\n",
    "event = get_soup(events[15])\n",
    "skill = get_soup(skills[56])\n",
    "\n",
    "soups = [gator,asset,event,skill]"
   ]
  },
  {
   "cell_type": "code",
   "execution_count": 71,
   "id": "authorized-scope",
   "metadata": {},
   "outputs": [
    {
     "name": "stdout",
     "output_type": "stream",
     "text": [
      "Sorcerer.\n",
      "Item. Weapon. Firearm. Illicit.\n",
      "Spirit.\n",
      "Practiced.\n"
     ]
    }
   ],
   "source": [
    "for soup in soups:\n",
    "    \n",
    "    print(soup.find('p', class_='card-traits').text)"
   ]
  },
  {
   "cell_type": "code",
   "execution_count": 44,
   "id": "naval-study",
   "metadata": {},
   "outputs": [
    {
     "ename": "TypeError",
     "evalue": "find() takes no keyword arguments",
     "output_type": "error",
     "traceback": [
      "\u001b[0;31m---------------------------------------------------------------------------\u001b[0m",
      "\u001b[0;31mTypeError\u001b[0m                                 Traceback (most recent call last)",
      "\u001b[0;32m<ipython-input-44-c9c6839b065e>\u001b[0m in \u001b[0;36m<module>\u001b[0;34m\u001b[0m\n\u001b[0;32m----> 1\u001b[0;31m \u001b[0mtitle\u001b[0m \u001b[0;34m=\u001b[0m \u001b[0mget_title\u001b[0m\u001b[0;34m(\u001b[0m\u001b[0;34m'https://arkhamdb.com/card/08124'\u001b[0m\u001b[0;34m)\u001b[0m\u001b[0;34m\u001b[0m\u001b[0;34m\u001b[0m\u001b[0m\n\u001b[0m",
      "\u001b[0;32m<ipython-input-43-b15d08b2ee52>\u001b[0m in \u001b[0;36mget_title\u001b[0;34m(soup)\u001b[0m\n\u001b[1;32m      1\u001b[0m \u001b[0;32mdef\u001b[0m \u001b[0mget_title\u001b[0m\u001b[0;34m(\u001b[0m\u001b[0msoup\u001b[0m\u001b[0;34m)\u001b[0m\u001b[0;34m:\u001b[0m\u001b[0;34m\u001b[0m\u001b[0;34m\u001b[0m\u001b[0m\n\u001b[1;32m      2\u001b[0m \u001b[0;34m\u001b[0m\u001b[0m\n\u001b[0;32m----> 3\u001b[0;31m     \u001b[0mtitle\u001b[0m \u001b[0;34m=\u001b[0m \u001b[0msoup\u001b[0m\u001b[0;34m.\u001b[0m\u001b[0mfind\u001b[0m\u001b[0;34m(\u001b[0m\u001b[0;34m'a'\u001b[0m\u001b[0;34m,\u001b[0m \u001b[0mclass_\u001b[0m\u001b[0;34m=\u001b[0m\u001b[0;34m'card-name card-tip'\u001b[0m\u001b[0;34m)\u001b[0m\u001b[0;34m.\u001b[0m\u001b[0mtext\u001b[0m\u001b[0;34m.\u001b[0m\u001b[0mreplace\u001b[0m\u001b[0;34m(\u001b[0m\u001b[0;34m'\\n'\u001b[0m\u001b[0;34m,\u001b[0m \u001b[0;34m''\u001b[0m\u001b[0;34m)\u001b[0m\u001b[0;34m\u001b[0m\u001b[0;34m\u001b[0m\u001b[0m\n\u001b[0m\u001b[1;32m      4\u001b[0m \u001b[0;34m\u001b[0m\u001b[0m\n\u001b[1;32m      5\u001b[0m     \u001b[0;32mtry\u001b[0m\u001b[0;34m:\u001b[0m\u001b[0;34m\u001b[0m\u001b[0;34m\u001b[0m\u001b[0m\n",
      "\u001b[0;31mTypeError\u001b[0m: find() takes no keyword arguments"
     ]
    }
   ],
   "source": [
    "title = get_title(soup)\n",
    "\n",
    "faction = get_faction(soup)\n",
    "\n",
    "tipe = soup.find('span', class_='card-type').text\n",
    "\n",
    "traits = soup.find('p', class_='card-traits').text\n",
    "\n",
    "willpower = soup.find('li', title='Willpower').text\n",
    "\n",
    "intellect = soup.find('li', title='Intellect').text\n",
    "\n",
    "combat = soup.find('li', title='Combat').text\n",
    "\n",
    "agility = soup.find('li', title='Agility').text\n",
    "\n",
    "health = re.search('Health:\\s+(\\d)', str(soup.find('div'))).group(1)\n",
    "\n",
    "sanity = re.search('Sanity:\\s+(\\d)', str(soup.find('div'))).group(1)\n",
    "\n",
    "ability = "
   ]
  },
  {
   "cell_type": "code",
   "execution_count": 125,
   "id": "young-cathedral",
   "metadata": {},
   "outputs": [
    {
     "data": {
      "text/plain": [
       "['rogue', 'mystic']"
      ]
     },
     "execution_count": 125,
     "metadata": {},
     "output_type": "execute_result"
    }
   ],
   "source": [
    "faction = get_faction(asset).replace('  ',' ').lower().strip()\n",
    "\n",
    "faction"
   ]
  },
  {
   "cell_type": "code",
   "execution_count": 130,
   "id": "dietary-multiple",
   "metadata": {},
   "outputs": [
    {
     "ename": "TypeError",
     "evalue": "'NoneType' object is not callable",
     "output_type": "error",
     "traceback": [
      "\u001b[0;31m---------------------------------------------------------------------------\u001b[0m",
      "\u001b[0;31mTypeError\u001b[0m                                 Traceback (most recent call last)",
      "\u001b[0;32m<ipython-input-130-95c9ad91a01b>\u001b[0m in \u001b[0;36m<module>\u001b[0;34m\u001b[0m\n\u001b[1;32m      5\u001b[0m \u001b[0msoup\u001b[0m \u001b[0;34m=\u001b[0m \u001b[0masset\u001b[0m\u001b[0;34m.\u001b[0m\u001b[0mfind\u001b[0m\u001b[0;34m(\u001b[0m\u001b[0;34m'div'\u001b[0m\u001b[0;34m,\u001b[0m \u001b[0mclass_\u001b[0m\u001b[0;34m=\u001b[0m\u001b[0;34mf'card-text border-{first_faction}'\u001b[0m\u001b[0;34m)\u001b[0m\u001b[0;34m\u001b[0m\u001b[0;34m\u001b[0m\u001b[0m\n\u001b[1;32m      6\u001b[0m \u001b[0;34m\u001b[0m\u001b[0m\n\u001b[0;32m----> 7\u001b[0;31m \u001b[0mability\u001b[0m \u001b[0;34m=\u001b[0m \u001b[0mget_text_for_icon\u001b[0m\u001b[0;34m(\u001b[0m\u001b[0msoup\u001b[0m\u001b[0;34m)\u001b[0m\u001b[0;34m\u001b[0m\u001b[0;34m\u001b[0m\u001b[0m\n\u001b[0m\u001b[1;32m      8\u001b[0m \u001b[0;34m\u001b[0m\u001b[0m\n\u001b[1;32m      9\u001b[0m \u001b[0mability\u001b[0m\u001b[0;34m\u001b[0m\u001b[0;34m\u001b[0m\u001b[0m\n",
      "\u001b[0;32m<ipython-input-129-4fa93576296a>\u001b[0m in \u001b[0;36mget_text_for_icon\u001b[0;34m(text)\u001b[0m\n\u001b[1;32m     30\u001b[0m \u001b[0;34m\u001b[0m\u001b[0m\n\u001b[1;32m     31\u001b[0m         text = text.replace(f'<span class=\"icon-{icon}\" title=\"{icon.capitalize()}\"></span>', \n\u001b[0;32m---> 32\u001b[0;31m                                   f'{icon.upper()}')\n\u001b[0m\u001b[1;32m     33\u001b[0m \u001b[0;34m\u001b[0m\u001b[0m\n\u001b[1;32m     34\u001b[0m         \u001b[0mtext\u001b[0m \u001b[0;34m=\u001b[0m \u001b[0mtext\u001b[0m\u001b[0;34m.\u001b[0m\u001b[0mreplace\u001b[0m\u001b[0;34m(\u001b[0m\u001b[0;34mf'<div class=\"card-text border-{icon}\">\\n<p>'\u001b[0m\u001b[0;34m,\u001b[0m \u001b[0;34m''\u001b[0m\u001b[0;34m)\u001b[0m\u001b[0;34m\u001b[0m\u001b[0;34m\u001b[0m\u001b[0m\n",
      "\u001b[0;31mTypeError\u001b[0m: 'NoneType' object is not callable"
     ]
    }
   ],
   "source": [
    "faction = get_faction(asset).strip().lower()\n",
    "\n",
    "first_faction = faction.split(' ')[0]\n",
    "\n",
    "soup = asset.find('div', class_=f'card-text border-{first_faction}')\n",
    "\n",
    "ability = get_text_for_icon(soup)\n",
    "\n",
    "ability"
   ]
  },
  {
   "cell_type": "code",
   "execution_count": 100,
   "id": "lightweight-letter",
   "metadata": {},
   "outputs": [
    {
     "data": {
      "text/plain": [
       "'8'"
      ]
     },
     "execution_count": 100,
     "metadata": {},
     "output_type": "execute_result"
    }
   ],
   "source": [
    "re.search('Sanity:\\s+(\\d)', str(gator.find('div'))).group(1"
   ]
  },
  {
   "cell_type": "code",
   "execution_count": 38,
   "id": "complimentary-stamp",
   "metadata": {},
   "outputs": [
    {
     "data": {
      "text/plain": [
       "[<span class=\"card-faction\">Rogue</span>]"
      ]
     },
     "execution_count": 38,
     "metadata": {},
     "output_type": "execute_result"
    }
   ],
   "source": [
    "asset.find_all('span', class_='card-faction')"
   ]
  },
  {
   "cell_type": "code",
   "execution_count": null,
   "id": "exposed-andorra",
   "metadata": {},
   "outputs": [],
   "source": []
  }
 ],
 "metadata": {
  "kernelspec": {
   "display_name": "Python 3",
   "language": "python",
   "name": "python3"
  },
  "language_info": {
   "codemirror_mode": {
    "name": "ipython",
    "version": 3
   },
   "file_extension": ".py",
   "mimetype": "text/x-python",
   "name": "python",
   "nbconvert_exporter": "python",
   "pygments_lexer": "ipython3",
   "version": "3.7.4"
  }
 },
 "nbformat": 4,
 "nbformat_minor": 5
}
