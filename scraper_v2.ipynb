{
 "cells": [
  {
   "cell_type": "code",
   "execution_count": 7,
   "id": "front-winner",
   "metadata": {},
   "outputs": [],
   "source": [
    "import requests\n",
    "import re\n",
    "import pandas as pd\n",
    "from bs4 import BeautifulSoup"
   ]
  },
  {
   "cell_type": "code",
   "execution_count": 8,
   "id": "surprising-russia",
   "metadata": {},
   "outputs": [],
   "source": [
    "def get_urls_by_type():\n",
    "    '''Scrapes arkhamdb and returns a list of urls pages containing card information\n",
    "       on each card for each card type'''\n",
    "\n",
    "    # call function to return list of url's by catagory\n",
    "    print(\"Getting investigator URL's...\")\n",
    "    gators = get_cata_urls('investigator')\n",
    "\n",
    "    print(\"Getting asset URL's...\")\n",
    "    assets = get_cata_urls('asset')\n",
    "\n",
    "    print(\"Getting event URL's...\")\n",
    "    events = get_cata_urls('event')\n",
    "\n",
    "    print(\"Getting skill URL's...\")\n",
    "    skills = get_cata_urls('skill')\n",
    "\n",
    "    return gators, assets, events, skills\n",
    "\n",
    "\n",
    "def get_cata_urls(catagory):\n",
    "    ''' Takes in a string containing a player card faction, Scrapes arkhamdb, and\n",
    "        Returns a list of urls for containing information on each card of that catagory'''\n",
    "\n",
    "    full_results = []\n",
    "\n",
    "    # defines number of results pages to scrape\n",
    "    if catagory in ('investigator', 'skill'):\n",
    "        \n",
    "        pages = 1\n",
    "        \n",
    "    elif catagory == 'event':\n",
    "        \n",
    "        pages = 2\n",
    "        \n",
    "    elif catagory == 'asset':\n",
    "        \n",
    "        pages = 4\n",
    "\n",
    "    # itterates through pages in catagory\n",
    "    for page in range(1,pages+1):\n",
    "\n",
    "        url = f'https://arkhamdb.com/find?q=t%3A{catagory}&view=list&sort=name&decks=player&page={page}'\n",
    "\n",
    "        # create request and soup objects\n",
    "        html = requests.get(url)\n",
    "\n",
    "        soup = BeautifulSoup(html.content, 'html.parser')\n",
    "\n",
    "        # locate urls on page\n",
    "        urls = soup.find(id='list')\n",
    "\n",
    "        urls = urls.find_all('a', class_='card-tip')\n",
    "\n",
    "        # convert urls to string and make a list\n",
    "        urls = [str(url['href']) for url in urls]\n",
    "                \n",
    "        full_results.extend(urls)\n",
    "                \n",
    "    return full_results\n",
    "\n",
    "\n",
    "def get_soup(url):\n",
    "    '''Takes in a url as a string\n",
    "       Returns html request result parsed using beautiful soup'''\n",
    "\n",
    "    # create request and soup objects\n",
    "    html = requests.get(url)\n",
    "\n",
    "    soup = BeautifulSoup(html.content, 'html.parser')\n",
    "    \n",
    "    return soup"
   ]
  },
  {
   "cell_type": "code",
   "execution_count": 29,
   "id": "burning-combining",
   "metadata": {},
   "outputs": [],
   "source": [
    "def get_health_sanity(soup):\n",
    "    '''Takes in html object parsed by BeautifulSoup\n",
    "       Returns health and sanity as a string'''\n",
    "\n",
    "    try:\n",
    "        \n",
    "        health = re.search('Health:\\s+(\\d+)', str(soup.find('div'))).group(1).strip()\n",
    "        \n",
    "    except:\n",
    "        \n",
    "        health = '--'\n",
    "\n",
    "    try:\n",
    "        \n",
    "        sanity = re.search('Sanity:\\s+(\\d+)', str(soup.find('div'))).group(1).strip()\n",
    "        \n",
    "    except:\n",
    "        \n",
    "        sanity = '--'\n",
    "\n",
    "    return health, sanity"
   ]
  },
  {
   "cell_type": "code",
   "execution_count": 9,
   "id": "aggregate-memory",
   "metadata": {},
   "outputs": [
    {
     "name": "stdout",
     "output_type": "stream",
     "text": [
      "Getting investigator URL's...\n",
      "Getting asset URL's...\n",
      "Getting event URL's...\n",
      "Getting skill URL's...\n"
     ]
    }
   ],
   "source": [
    "gators, assets, events, skills = get_urls_by_type()"
   ]
  },
  {
   "cell_type": "code",
   "execution_count": 50,
   "id": "first-roulette",
   "metadata": {},
   "outputs": [
    {
     "data": {
      "text/plain": [
       "<!DOCTYPE html>\n",
       "\n",
       "<html>\n",
       "<head>\n",
       "<title>Elder Sign Amulet · ArkhamDB</title>\n",
       "<meta charset=\"utf-8\"/>\n",
       "<meta content=\"width=device-width, initial-scale=1.0\" name=\"viewport\"/>\n",
       "<meta content=\"yes\" name=\"mobile-web-app-capable\"/>\n",
       "<link href=\"/icon-192.png\" rel=\"icon\" sizes=\"192x192\"/>\n",
       "<link href=\"/icon-120.png\" rel=\"apple-touch-icon\" sizes=\"120x120\"/>\n",
       "<meta content=\"Elder Sign Amulet · ArkhamDB\" property=\"og:title\"> <meta content=\"\" property=\"og:description\"> <meta content=\"https://arkhamdb.com/bundles/cards/01095.png\" property=\"og:image\">\n",
       "<meta content=\"summary_large_image\" name=\"twitter:card\"/>\n",
       "<link href=\"https://fonts.googleapis.com/css?family=Amiri:400,400italic,700,700italic|Julius+Sans+One|Open+Sans:400,400italic,700,700italic|Open+Sans+Condensed:300\" rel=\"stylesheet\" type=\"text/css\"/>\n",
       "<link href=\"https://cdnjs.cloudflare.com/ajax/libs/font-awesome/4.4.0/css/font-awesome.min.css\" rel=\"stylesheet\"/>\n",
       "<link href=\"https://cdnjs.cloudflare.com/ajax/libs/qtip2/2.1.1/jquery.qtip.css\" rel=\"stylesheet\"/>\n",
       "<link href=\"https://cdnjs.cloudflare.com/ajax/libs/bootstrap-markdown/2.9.0/css/bootstrap-markdown.min.css\" rel=\"stylesheet\"/>\n",
       "<link href=\"/css/app.css\" rel=\"stylesheet\">\n",
       "<!--[if lt IE 9]>\n",
       "      <script src=\"//cdnjs.cloudflare.com/ajax/libs/html5shiv/3.7/html5shiv.js\"></script>\n",
       "      <script src=\"//cdnjs.cloudflare.com/ajax/libs/respond.js/1.4.2/respond.js\"></script>\n",
       "    <![endif]-->\n",
       "</link></meta></meta></meta></head>\n",
       "<body>\n",
       "<div id=\"wrapper\">\n",
       "<nav class=\"navbar navbar-default navbar-static-top\" role=\"navigation\">\n",
       "<div class=\"container\">\n",
       "<div class=\"navbar-header\">\n",
       "<button class=\"navbar-toggle\" data-target=\".navbar-collapse\" data-toggle=\"collapse\" type=\"button\">\n",
       "<span class=\"icon-bar\"></span>\n",
       "<span class=\"icon-bar\"></span>\n",
       "<span class=\"icon-bar\"></span>\n",
       "</button>\n",
       "<a class=\"navbar-brand\" href=\"/\">\n",
       "<span class=\"icon icon-link-half-top\"></span>\n",
       "<span class=\"icon icon-link-half-bottom\"></span>\n",
       "<span class=\"icon icon-eldersign\"></span> ArkhamDB\n",
       "          </a>\n",
       "</div>\n",
       "<div class=\"navbar-collapse collapse\">\n",
       "<ul class=\"nav navbar-nav\">\n",
       "<li><a href=\"/decks\">My Decks</a></li>\n",
       "<li><a href=\"/decklists\">Decklists</a></li>\n",
       "<li><a href=\"/search\">Cards</a></li>\n",
       "<li class=\"hidden-sm\"><a href=\"/reviews\">Reviews</a></li>\n",
       "<li class=\"hidden-sm\"><a href=\"/rules\">Rules</a></li>\n",
       "<li class=\"hidden-sm\"><a href=\"/faqs\">FAQs</a></li>\n",
       "</ul>\n",
       "<ul class=\"nav navbar-nav navbar-right\">\n",
       "<li class=\"dropdown hidden-xs hidden-lg\">\n",
       "<a aria-expanded=\"false\" class=\"dropdown-toggle\" data-toggle=\"dropdown\" href=\"#\" role=\"button\"><span class=\"fa fa-search\"></span></a>\n",
       "<div class=\"dropdown-menu\">\n",
       "<form action=\"/find\" target=\"_blank\">\n",
       "<input class=\"form-control\" name=\"q\" placeholder=\"Card Search\" type=\"text\"/>\n",
       "</form>\n",
       "</div>\n",
       "</li>\n",
       "<!-- locale selection -->\n",
       "<li class=\"dropdown\">\n",
       "<a class=\"dropdown-toggle\" data-toggle=\"dropdown\">\n",
       "<span class=\"lang-sm\" lang=\"en\"></span>\n",
       "<span class=\"caret\">\n",
       "</span></a>\n",
       "<ul class=\"dropdown-menu\">\n",
       "<li>\n",
       "<a href=\"/card/01095\">\n",
       "<span class=\"lang-sm lang-lbl lang-lbl-full\" lang=\"en\"></span>\n",
       "</a>\n",
       "</li>\n",
       "<li>\n",
       "<a href=\"https://es.arkhamdb.com/card/01095\">\n",
       "<span class=\"lang-sm lang-lbl lang-lbl-full\" lang=\"es\"></span>\n",
       "</a>\n",
       "</li>\n",
       "<li>\n",
       "<a href=\"https://de.arkhamdb.com/card/01095\">\n",
       "<span class=\"lang-sm lang-lbl lang-lbl-full\" lang=\"de\"></span>\n",
       "</a>\n",
       "</li>\n",
       "<li>\n",
       "<a href=\"https://it.arkhamdb.com/card/01095\">\n",
       "<span class=\"lang-sm lang-lbl lang-lbl-full\" lang=\"it\"></span>\n",
       "</a>\n",
       "</li>\n",
       "<li>\n",
       "<a href=\"https://fr.arkhamdb.com/card/01095\">\n",
       "<span class=\"lang-sm lang-lbl lang-lbl-full\" lang=\"fr\"></span>\n",
       "</a>\n",
       "</li>\n",
       "<li>\n",
       "<a href=\"https://ko.arkhamdb.com/card/01095\">\n",
       "<span class=\"lang-sm lang-lbl lang-lbl-full\" lang=\"ko\"></span>\n",
       "</a>\n",
       "</li>\n",
       "<li>\n",
       "<a href=\"https://uk.arkhamdb.com/card/01095\">\n",
       "<span class=\"lang-sm lang-lbl lang-lbl-full\" lang=\"uk\"></span>\n",
       "</a>\n",
       "</li>\n",
       "<li>\n",
       "<a href=\"https://pl.arkhamdb.com/card/01095\">\n",
       "<span class=\"lang-sm lang-lbl lang-lbl-full\" lang=\"pl\"></span>\n",
       "</a>\n",
       "</li>\n",
       "<li>\n",
       "<a href=\"https://ru.arkhamdb.com/card/01095\">\n",
       "<span class=\"lang-sm lang-lbl lang-lbl-full\" lang=\"ru\"></span>\n",
       "</a>\n",
       "</li>\n",
       "<li>\n",
       "<a href=\"https://zh.arkhamdb.com/card/01095\">\n",
       "<span class=\"lang-sm lang-lbl lang-lbl-full\" lang=\"zh\"></span>\n",
       "</a>\n",
       "</li>\n",
       "</ul>\n",
       "</li>\n",
       "<li id=\"login\">\n",
       "<a class=\"disabled\" href=\"#\"><span class=\"fa fa-user\"></span></a>\n",
       "</li>\n",
       "</ul>\n",
       "<form action=\"/find\" class=\"navbar-form navbar-right visible-lg-block visible-xs-block external\" target=\"_blank\">\n",
       "<div class=\"form-group\">\n",
       "<input class=\"form-control\" name=\"q\" placeholder=\"Card Search\" type=\"text\"/>\n",
       "</div>\n",
       "</form>\n",
       "</div><!--/.navbar-collapse -->\n",
       "</div>\n",
       "</nav>\n",
       "<div class=\"main white container container-wide\">\n",
       "<div>\n",
       "<form action=\"/find\" id=\"search-form\" method=\"GET\" role=\"form\">\n",
       "<div class=\"controls form-inline\">\n",
       "<span class=\"input-group\">\n",
       "<input class=\"form-control smart-filter-help\" name=\"q\" size=\"30\" tabindex=\"1\" type=\"text\" value=\"01095\"/>\n",
       "<span class=\"input-group-btn\">\n",
       "<button class=\"btn btn-primary\" type=\"submit\">Search</button>\n",
       "</span>\n",
       "</span>\n",
       "<select class=\"form-control\" name=\"sort\">\n",
       "<option value=\"name\">Sort by Name</option>\n",
       "<option selected=\"\" value=\"set\">Sort by Set</option>\n",
       "<option value=\"faction\">Sort by Class</option>\n",
       "<option value=\"type\">Sort by Type</option>\n",
       "<option value=\"cost\">Sort by Cost</option>\n",
       "</select>\n",
       "<select class=\"form-control\" name=\"view\">\n",
       "<option value=\"list\">View as a Checklist</option>\n",
       "<option value=\"spoiler\">View as a Spoiler</option>\n",
       "<option selected=\"\" value=\"card\">View as Full Cards</option>\n",
       "<option value=\"scan\">View as Scans only</option>\n",
       "<option value=\"short\">View as Simple List</option>\n",
       "</select>\n",
       "<select class=\"form-control\" name=\"decks\">\n",
       "<option value=\"player\">Only Player Cards</option>\n",
       "<option value=\"encounter\">Only Encounter Cards</option>\n",
       "<option selected=\"\" value=\"all\">All Cards</option>\n",
       "</select>\n",
       "<div class=\"pull-right checkbox-inline\">\n",
       "<label>\n",
       "<input checked=\"checked\" id=\"spoilers\" name=\"spoilers\" type=\"checkbox\" value=\"hide\"/>\n",
       "<span class=\"align-baseline\">Hide Encounter Spoilers</span>\n",
       "<!-- <button class=\"btn\"><span title=\"Encounter Spoilers\" class=\"fa fa-eye\"></span> Show Encounter Spoilers</button>\n",
       "\t\t\t\t\t<button class=\"btn\"><span title=\"Encounter Spoilers\" class=\"fa fa-eye-slash\"></span> Hide Encounter Spoilers</button> -->\n",
       "</label>\n",
       "</div>\n",
       "</div>\n",
       "</form>\n",
       "</div>\n",
       "<div id=\"list\">\n",
       "<div class=\"row\">\n",
       "<div class=\"col-sm-12\">\n",
       "<ul class=\"pager\">\n",
       "<li class=\"previous\">\n",
       "<a class=\"no-popup\" href=\"/card/01094\">← Bulletproof Vest</a> </li>\n",
       "<li>\n",
       "<a href=\"/set/core\">Core Set</a>\n",
       "</li>\n",
       "<li class=\"next\">\n",
       "<a class=\"no-popup\" href=\"/card/01096\">Amnesia →</a> </li>\n",
       "</ul>\n",
       "</div>\n",
       "</div>\n",
       "<style>\n",
       "\t.card-block {\n",
       "\t\tdisplay: flex;\n",
       "\t\tflex-direction: row;\n",
       "\t\tjustify-content: center;\n",
       "\t\tgap: 2rem;\n",
       "\t}\n",
       "\t.card-block-info {\n",
       "\t\twidth: 500px;\n",
       "\t\tdisplay: flex;\n",
       "\t\tgap: 2rem;\n",
       "\t\tflex-direction: column;\n",
       "\t}\n",
       "\t.card-block-image {\n",
       "\n",
       "\t}\n",
       "\t.card-block-extra {\n",
       "\t\tflex: 1;\n",
       "\t}\n",
       "\t.card-block-extra ul {\n",
       "\t\tmargin-left: 0;\n",
       "\t\tpadding-left: 2rem;\n",
       "\t}\n",
       "\t.card-block-faqs {\n",
       "\n",
       "\t}\n",
       "\t.card-block-reviews {\n",
       "\t\tflex: 0.6;\n",
       "\t}\n",
       "\t.card-block-questions {\n",
       "\t\tflex: 0.4;\n",
       "\t}\n",
       "\n",
       "\t@media (max-width: 768px) {\n",
       "\t\t.card-block {\n",
       "\t\t\tflex-direction: column;\n",
       "\t\t}\n",
       "\t\t.card-block-info {\n",
       "\t\t\tflex-direction: column;\n",
       "\t\t\twidth: auto;\n",
       "\t\t}\n",
       "\t}\n",
       "\n",
       "\t@media (max-width: 1200px) {\n",
       "\t\t.card-block {\n",
       "\t\t\tflex-wrap: wrap;\n",
       "\t\t}\n",
       "\t}\n",
       "\n",
       "\t.card-info-block {\n",
       "\t\tdisplay: flex;\n",
       "\t\tflex-direction: row;\n",
       "\t\tjustify-content: space-between;\n",
       "\t}\n",
       "\t.card-info-block p {\n",
       "\t\tmargin: 0;\n",
       "\t\tpadding: 0;\n",
       "\t}\n",
       "\t.card-info-block > div:nth-child(2) {\n",
       "\t\ttext-align: right;\n",
       "\t}\n",
       "\t.investigator-stat-list {\n",
       "\t\tpadding: 0;\n",
       "\t\tmargin: 0;\n",
       "\t\tlist-style-type: none;\n",
       "\t\tdisplay: flex;\n",
       "\t\tflex-direction: row;\n",
       "\t\tgap: 1rem;\n",
       "\t}\n",
       "</style>\n",
       "<div class=\"card-block\">\n",
       "<div class=\"card-block-info\">\n",
       "<div>\n",
       "<div>\n",
       "<div class=\"panel panel-default border-neutral\">\n",
       "<div class=\"panel-heading border-neutral bg-neutral\">\n",
       "<h3 class=\"panel-title\">\n",
       "<a class=\"card-name card-tip\" data-code=\"01095\" href=\"https://arkhamdb.com/card/01095\">Elder Sign Amulet\n",
       "</a>\n",
       "</h3>\n",
       "</div>\n",
       "<div class=\"panel-body card-content\">\n",
       "<div class=\"card-info\">\n",
       "<style>\n",
       "\t.card-info-block {\n",
       "\t\tdisplay: flex;\n",
       "\t\tflex-direction: row;\n",
       "\t\tjustify-content: space-between;\n",
       "\t}\n",
       "\t.card-info-block p {\n",
       "\t\tmargin: 0;\n",
       "\t\tpadding: 0;\n",
       "\t}\n",
       "\t.card-info-block > div:nth-child(2) {\n",
       "\t\ttext-align: right;\n",
       "\t}\n",
       "\t.investigator-stat-list {\n",
       "\t\tpadding: 0;\n",
       "\t\tmargin: 0;\n",
       "\t\tlist-style-type: none;\n",
       "\t\tdisplay: flex;\n",
       "\t\tflex-direction: row;\n",
       "\t\tgap: 1rem;\n",
       "\t}\n",
       "</style>\n",
       "<div class=\"card-info-block\">\n",
       "<div>\n",
       "<p class=\"card-type\">Asset. Accessory</p>\n",
       "<p class=\"card-traits\">Item. Relic.</p>\n",
       "<p>\n",
       "\t\t\t\t\t\tCost:     2.\n",
       "\t\t\t\t\t\t\t\t\tXP: 3.\n",
       "\t\t\t\t\t\t</p>\n",
       "</div>\n",
       "<div>\n",
       "<div class=\"card-faction\">\n",
       "<span class=\"icon-neutral fg-neutral\"></span>\n",
       "<span class=\"card-faction\">Neutral</span>\n",
       "</div>\n",
       "<div>\n",
       "<span class=\"icon icon-large icon-willpower color-willpower\" title=\"Willpower\"></span> <span class=\"icon icon-large icon-wild color-wild\" title=\"Wild\"></span> </div>\n",
       "<div>\n",
       "\t\t\tHealth:     –.\n",
       "\t\t\tSanity:     4.\n",
       "\t\t\t</div>\n",
       "</div>\n",
       "</div>\n",
       "</div> <div class=\"\">\n",
       "<div class=\"card-text border-neutral\">\n",
       "</div>\n",
       "</div>\n",
       "<div class=\"card-flavor small\">\n",
       "\tThis has been in my family for generations. Take care of it, and it will take care of you.\n",
       "</div> <div class=\"card-info-block\">\n",
       "<div class=\"card-illustrator\">\n",
       "<span class=\"fa fa-paint-brush text-muted\"></span>\n",
       "\tDimitri Bielak\n",
       "</div>\n",
       "<div class=\"card-pack\">Core Set #95.</div>\n",
       "</div>\n",
       "</div>\n",
       "</div>\n",
       "</div>\n",
       "</div>\n",
       "</div>\n",
       "<div class=\"card-block-image\">\n",
       "<div style=\"margin-bottom:2em\">\n",
       "<div class=\"\">\n",
       "<img alt=\"Elder Sign Amulet\" class=\"img-responsive img-vertical-card\" src=\"/bundles/cards/01095.png\" style=\"margin:auto\"/>\n",
       "</div>\n",
       "</div>\n",
       "</div>\n",
       "<div class=\"card-block-extra\">\n",
       "<h4 id=\"related-header\">\n",
       "\t\tRelated Cards\t</h4>\n",
       "<ul>\n",
       "<li>\n",
       "<span class=\"icon icon-asset fg-neutral\"></span>\n",
       "<a class=\"card-tip\" data-code=\"01595\" href=\"/card/01595\">\n",
       "\t\t\tElder Sign Amulet\t\t\t</a>\n",
       "<span class=\"xp-3\"> (3)</span>\t\t\t(Revised Core Set #95)\n",
       "\t\t\t</li>\n",
       "</ul>\n",
       "</div>\n",
       "</div>\n",
       "<div>\n",
       "<div class=\"card-block-faqs\">\n",
       "<form action=\"/review/post\" id=\"faq-edit-form\" method=\"POST\" style=\"clear:right\">\n",
       "<input name=\"card_id\" type=\"hidden\" value=\"132\"/>\n",
       "<input name=\"review_id\" type=\"hidden\" value=\"\"/>\n",
       "</form>\n",
       "<h4 id=\"faq-header\">\n",
       "\tFAQs\n",
       "</h4>\n",
       "<p><i>No faqs yet for this card.</i></p>\n",
       "</div>\n",
       "</div>\n",
       "<div class=\"card-block\">\n",
       "<div class=\"card-block-reviews\">\n",
       "<div>\n",
       "<form action=\"/review/post\" id=\"faq-edit-form\" method=\"POST\" style=\"clear:right\">\n",
       "<input name=\"card_id\" type=\"hidden\" value=\"132\"/>\n",
       "<input name=\"review_id\" type=\"hidden\" value=\"\"/>\n",
       "</form>\n",
       "<div>\n",
       "<h3 id=\"reviews-header\">\n",
       "\t\tReviews\n",
       "\t</h3>\n",
       "<form action=\"/review/post\" id=\"review-edit-form\" method=\"POST\" style=\"clear:right\">\n",
       "<input name=\"card_id\" type=\"hidden\" value=\"132\"/>\n",
       "<input name=\"review_id\" type=\"hidden\" value=\"\"/>\n",
       "</form>\n",
       "<article class=\"review\" data-id=\"103\" id=\"review-103\">\n",
       "<div class=\"review-like\">\n",
       "<a class=\"social-icon-like\" data-placement=\"bottom\" data-toggle=\"tooltip\" href=\"#\" id=\"review-social-icon-like\" title=\"Like that review\">\n",
       "<span class=\"fa fa-heart\"></span> <span class=\"num\">17</span>\n",
       "</a>\n",
       "</div>\n",
       "<div class=\"review-content\">\n",
       "<div class=\"review-text\">\n",
       "<p>I don't think that these protective cards are getting enough love.  It is hard to consider for three experience (along with <a href=\"/card/01094\">Bulletproof Vest</a>), but I think that these are definitely worth the purchases.  I tend to lean towards including <a href=\"/card/01095\">Elder Sign Amulet</a> in <a href=\"/card/01001\">Roland Banks</a>'s deck and <a href=\"/card/01003\">\"Skids\" O'Toole</a>'s deck since they have such low sanity values that this can effectively double what you can sustain throughout the adventure.</p>\n",
       "<p>You have to consider that the slot it is consuming is likely not even used.  In my <a href=\"/card/01001\">Roland Banks</a> deck there is an absence of accessories.  So, when adding this in there is no conflicting option to worry about when you draw it.  It is never a dead draw card.  Especially with the symbols that it comes with.  Cards meant to keep you alive are not typically the fun cards, but they are the ones that get you the additional experience in the long run to survive and make it through the campaign and get the cards you really do want later.</p>\n",
       "</div>\n",
       "<div class=\"review-date\">\n",
       "<time datetime=\"2016-12-18T01:42:19+00:00\" title=\"December 18th, 2016\">12/18/16</time>\n",
       "</div>\n",
       "<div class=\"review-author\">\n",
       "<span class=\"username\"><a class=\"username fg-survivor\" href=\"/user/profile/372/Bronze\">Bronze</a>\n",
       " · <small title=\"User Reputation\">180</small>\n",
       "</span>\n",
       "</div>\n",
       "<div class=\"review-comment text-muted small\">SPOILER LAST SZENARIO: With this amulet and a beat cop, roland survives 3 (without \"dodge\") turns of attacks from the last boss, which can be enough for the rest of the team to win.\n",
       "\t\t\t\t\t—\n",
       "\t\t\t\t\t<span class=\"username\"><a class=\"username fg-survivor\" href=\"/user/profile/1358/Django\">Django</a>\n",
       " · <small title=\"User Reputation\">4854</small>\n",
       "</span>\n",
       "<time datetime=\"2016-12-18T17:52:19+00:00\" title=\"December 18th, 2016\">12/18/16</time>\n",
       "</div>\n",
       "<div class=\"review-comment text-muted small\">Your opinion values a lot! I prefer solo playing using Rolan Banks, however it always ends up taking too much horror during the game and he is often defeated by insane. I think this item really helps player to keep low sanity characters going into next adventure good and healthy.\n",
       "\t\t\t\t\t—\n",
       "\t\t\t\t\t<span class=\"username\"><a class=\"username fg-guardian\" href=\"/user/profile/25243/Anjack\">Anjack</a>\n",
       " · <small title=\"User Reputation\">1</small>\n",
       "</span>\n",
       "<time datetime=\"2020-01-08T21:46:54+00:00\" title=\"January 8th, 2020\">1/8/20</time>\n",
       "</div>\n",
       "<form action=\"/review/comment\" class=\"form-comment\" method=\"POST\">\n",
       "<input name=\"comment_review_id\" type=\"hidden\" value=\"103\"/>\n",
       "<button class=\"btn btn-link btn-write-comment\">Add a comment</button>\n",
       "</form>\n",
       "</div>\n",
       "</article>\n",
       "<article class=\"review\" data-id=\"1397\" id=\"review-1397\">\n",
       "<div class=\"review-like\">\n",
       "<a class=\"social-icon-like\" data-placement=\"bottom\" data-toggle=\"tooltip\" href=\"#\" id=\"review-social-icon-like\" title=\"Like that review\">\n",
       "<span class=\"fa fa-heart\"></span> <span class=\"num\">3</span>\n",
       "</a>\n",
       "</div>\n",
       "<div class=\"review-content\">\n",
       "<div class=\"review-text\">\n",
       "<p>Hey guys, just a heads up, this is still a fine card.</p>\n",
       "<p>I have a hard time spending XP on purely defensive cards, but in terms of sheer horror tank value you can get in a single action <a href=\"/card/01095\">Elder Sign Amulet</a> is undisputed champion.</p>\n",
       "<p>Many powerful heals require 2+ actions, <a href=\"/card/03230\">First Aid</a> for example which gives <a href=\"/card/01094\">Bulletproof</a> stiff competition takes 5 actions to get full use out of (and is <span class=\"icon-guardian\"></span> limited). <a href=\"/card/01095\">Elder Sign Amulet</a> is 1 action for a whopping 4 more sanity to work with, there is no other card in the game that nets you so much sanity in so little time.</p>\n",
       "<p>The action efficiency is important, lots of characters scramble for actions. In solo, actions are your most precious resource. If you're trying to multitask clues and combat in a team, you definitely don't have actions to spare! In a team where you're the key performer in a particular role (the only killer, the only cluer). <a href=\"/card/01095\">Elder Sign Amulet</a> is a go-to card for the characters who have sanity trouble but no actions to spare.</p>\n",
       "<p>Obviously the exact same is true for <a href=\"/card/01094\">Bulletproof Vest</a> and health.</p>\n",
       "<p><a href=\"/card/03114\">Officer Pawterson</a> costs 2 less resources and prevents 2 less pain, I don't see either card as being better, being free makes the card better in certain decks, worse in other decks.</p>\n",
       "<p><a href=\"/card/03315\">Key of Ys</a> is nice for horror tanking, but <a href=\"/card/03315\">Key of Ys</a> is less a card you use for tanking than it being the side-effect of using <a href=\"/card/03315\">Key of Ys</a> for massive buffs. Heck, grab <a href=\"/card/01095\">Elder Sign Amulet</a> and use it to cover your <a href=\"/card/03315\">Key of Ys</a>.</p>\n",
       "<p>The only card that completely overwhelms the <a href=\"/card/01095\">Elder Sign Amulet</a> is <a href=\"/card/05280\">Deny Existence</a>, where preventing any trigger of 2 horror effectively nets you as much tanking as the <a href=\"/card/01095\">Amulet</a> would but for 0 actions and no cost while also being there if you have trouble with other stuff.</p>\n",
       "</div>\n",
       "<div class=\"review-date\">\n",
       "<time datetime=\"2019-10-12T22:40:35+00:00\" title=\"October 12th, 2019\">10/12/19</time>\n",
       "</div>\n",
       "<div class=\"review-author\">\n",
       "<span class=\"username\"><a class=\"username fg-mythos\" href=\"/user/profile/5776/Tsuruki23\">Tsuruki23</a>\n",
       " · <small title=\"User Reputation\">2472</small>\n",
       "</span>\n",
       "</div>\n",
       "<form action=\"/review/comment\" class=\"form-comment\" method=\"POST\">\n",
       "<input name=\"comment_review_id\" type=\"hidden\" value=\"1397\"/>\n",
       "<button class=\"btn btn-link btn-write-comment\">Add a comment</button>\n",
       "</form>\n",
       "</div>\n",
       "</article>\n",
       "<article class=\"review\" data-id=\"886\" id=\"review-886\">\n",
       "<div class=\"review-like\">\n",
       "<a class=\"social-icon-like\" data-placement=\"bottom\" data-toggle=\"tooltip\" href=\"#\" id=\"review-social-icon-like\" title=\"Like that review\">\n",
       "<span class=\"fa fa-heart\"></span> <span class=\"num\">2</span>\n",
       "</a>\n",
       "</div>\n",
       "<div class=\"review-content\">\n",
       "<div class=\"review-text\">\n",
       "<p>I know that this is probably not a fair comparison, but I think that interest in <a href=\"/card/01095\">Elder Sign Amulet</a> will probably decline now that the <a href=\"/card/03315\">Key of Ys</a> exists. They both take up the accessory slot, are both neutral,  have the same skill icons, have the same horror soak, and have the same <i>Item</i> and <i>Relic</i> keywords, However, for 1 resource and 2 experience more the <a href=\"/card/03315\">Key of Ys</a> gives you a really powerful effect. It's really hard to justify spend 3 experience on this when you can get the <a href=\"/card/03315\">Key</a> for 2 more experience because it's almost always worth it.</p>\n",
       "<p>The advantages <a href=\"/card/01095\">Elder Sign Amulet</a> has over <a href=\"/card/03315\">Key of Ys</a>:</p>\n",
       "<ul><li><a href=\"/card/03315\">Key of Ys</a> is unique, so only one can be out at a time per group.</li>\n",
       "<li><a href=\"/card/03315\">Key of Ys</a> discards cards when it leaves play whereas <a href=\"/card/01095\">Elder Sign Amulet</a> does not.</li>\n",
       "<li><a href=\"/card/03315\">Key of Ys</a> costs 2 more experience than <a href=\"/card/01095\">Elder Sign Amulet</a> and experience is a precious commidity in this game.</li>\n",
       "<li><a href=\"/card/03315\">Key of Ys</a> costs 1 more resource which could make it slightly harder to play then <a href=\"/card/01095\">Elder Sign Amulet</a> for some investigators. </li>\n",
       "</ul><p><a href=\"/card/03315\">Key of Ys</a> is so similar to <a href=\"/card/01095\">Elder Sign Amulet</a> that if you asserted that the <a href=\"/card/03315\">Key of Ys</a> was originally slated to just be the level 5 version of <a href=\"/card/01095\">Elder Sign Amulet</a>, I would have been inclined to believe you. Of course, saying that this card is a worse version of what many would argue is the best card of the game isn't really an insult. This is a relatively well-balanced card and I think a lot of people considered it as a reasonable source of horror soak in the core set. However, I think that going forward it will be hard for people to take this card without thinking \"maybe I should save up for the <a href=\"/card/03315\">Key of Ys</a> instead...\"</p>\n",
       "</div>\n",
       "<div class=\"review-date\">\n",
       "<time datetime=\"2018-09-13T00:31:21+00:00\" title=\"September 13th, 2018\">9/13/18</time>\n",
       "</div>\n",
       "<div class=\"review-author\">\n",
       "<span class=\"username\"><a class=\"username fg-rogue\" href=\"/user/profile/11185/ArkhamInvestigator\">ArkhamInvestigator</a>\n",
       " · <small title=\"User Reputation\">292</small>\n",
       "</span>\n",
       "</div>\n",
       "<div class=\"review-comment text-muted small\">Very true. But even Higher Education doesn't look so good when Key of Ys is setting the bar...\n",
       "\t\t\t\t\t—\n",
       "\t\t\t\t\t<span class=\"username\"><a class=\"username fg-guardian\" href=\"/user/profile/4161/CaiusDrewart\">CaiusDrewart</a>\n",
       " · <small title=\"User Reputation\">3004</small>\n",
       "</span>\n",
       "<time datetime=\"2018-09-13T04:51:15+00:00\" title=\"September 13th, 2018\">9/13/18</time>\n",
       "</div>\n",
       "<div class=\"review-comment text-muted small\">In 4 Player this Card is a very good Horror soak for most guardians.\n",
       "\t\t\t\t\t—\n",
       "\t\t\t\t\t<span class=\"username\"><a class=\"username fg-survivor\" href=\"/user/profile/1358/Django\">Django</a>\n",
       " · <small title=\"User Reputation\">4854</small>\n",
       "</span>\n",
       "<time datetime=\"2018-09-15T13:14:47+00:00\" title=\"September 15th, 2018\">9/15/18</time>\n",
       "</div>\n",
       "<div class=\"review-comment text-muted small\">One downside Key of Ys has over Elder Sign Amulet is that you can't use it to soak a lot of horror in a single turn. Ideally, when playing Key of Ys you want to place on it 1 Horror at a time to get the most benefit out of it. That means that if you want to soak a lot of horror on a single turn, its ability will probably go into a waste. Your approach on getting Key of Ys instead of Elder Sign Amulet is interesting, but if all I'm looking for is horror soak, then I'd rather spend 6 XP on 2 Elder Sign Amulets than 5 XP on a Key of Ys.\n",
       "\t\t\t\t\t—\n",
       "\t\t\t\t\t<span class=\"username\"><a class=\"username fg-\" href=\"/user/profile/8951/matt88\">matt88</a>\n",
       " · <small title=\"User Reputation\">2967</small>\n",
       "</span>\n",
       "<time datetime=\"2018-09-16T04:46:23+00:00\" title=\"September 16th, 2018\">9/16/18</time>\n",
       "</div>\n",
       "<div class=\"review-comment text-muted small\">@matt88: I just don't think that's right. There is absolutely nothing wrong with playing a Key of Ys and then dropping 3 horror on it right away. In fact, that is pretty much ideal. (The game almost never deals more than 3 horror in one go, anyway.)\n",
       "\t\t\t\t\t—\n",
       "\t\t\t\t\t<span class=\"username\"><a class=\"username fg-guardian\" href=\"/user/profile/4161/CaiusDrewart\">CaiusDrewart</a>\n",
       " · <small title=\"User Reputation\">3004</small>\n",
       "</span>\n",
       "<time datetime=\"2018-09-16T05:22:20+00:00\" title=\"September 16th, 2018\">9/16/18</time>\n",
       "</div>\n",
       "<div class=\"review-comment text-muted small\">@CaiusDrewart If you do that, then 1 point of horror kills it along with the top 10 cards of your deck and you will probably not enjoy your increased Stats for long. I agree that getting +3 to all skills right away is pretty powerful but you 're in danger of losing the bonus any time. And if you 're playing in the Dunwich cycle you are also in great danger of getting killed by Beyond the Veil once your cards get discarded.\n",
       "\t\t\t\t\t—\n",
       "\t\t\t\t\t<span class=\"username\"><a class=\"username fg-\" href=\"/user/profile/8951/matt88\">matt88</a>\n",
       " · <small title=\"User Reputation\">2967</small>\n",
       "</span>\n",
       "<time datetime=\"2018-09-16T22:47:38+00:00\" title=\"September 16th, 2018\">9/16/18</time>\n",
       "</div>\n",
       "<div class=\"review-comment text-muted small\">I don't think Key of Ys is the card you want when rampant horror is your problem. As good as that card id, a 2 cost accessory that prevents horror is a far better anti horror option then a 3 cost accessory that you like to dump as much horror on as you can get\n",
       "\t\t\t\t\t—\n",
       "\t\t\t\t\t<span class=\"username\"><a class=\"username fg-mythos\" href=\"/user/profile/5776/Tsuruki23\">Tsuruki23</a>\n",
       " · <small title=\"User Reputation\">2472</small>\n",
       "</span>\n",
       "<time datetime=\"2018-09-17T17:44:03+00:00\" title=\"September 17th, 2018\">9/17/18</time>\n",
       "</div>\n",
       "<div class=\"review-comment text-muted small\">@matt88 @Tsuruki23: Just play the Key of Ys with some other horror soak (like an ally, which is surely something you wanted anyway), and these concerns basically go away. A Key of Ys can provide essentially all the benefits of an Elder Sign Amulet while also being immensely more powerful.\n",
       "\t\t\t\t\t—\n",
       "\t\t\t\t\t<span class=\"username\"><a class=\"username fg-guardian\" href=\"/user/profile/4161/CaiusDrewart\">CaiusDrewart</a>\n",
       " · <small title=\"User Reputation\">3004</small>\n",
       "</span>\n",
       "<time datetime=\"2018-09-19T01:53:32+00:00\" title=\"September 19th, 2018\">9/19/18</time>\n",
       "</div>\n",
       "<div class=\"review-comment text-muted small\">@CaiusDrewart Wait a minute. I thought that when assigning horror while you have Key of Ys in play, you must assign 1 of that horror to Key of Ys regardless if you have other assets that have Sanity or not, because \"you\" refers to your investigator in general and not your investigator card. Is this correct???\n",
       "\t\t\t\t\t—\n",
       "\t\t\t\t\t<span class=\"username\"><a class=\"username fg-\" href=\"/user/profile/8951/matt88\">matt88</a>\n",
       " · <small title=\"User Reputation\">2967</small>\n",
       "</span>\n",
       "<time datetime=\"2018-09-20T21:04:07+00:00\" title=\"September 20th, 2018\">9/20/18</time>\n",
       "</div>\n",
       "<div class=\"review-comment text-muted small\">Nope, it means your investigator card. So if you have other quality soaks in play, you can sustain a 3-horror Key of Ys for a long time. That's one reason why many people (myself included) think Key of Ys is grossly overpowered.\n",
       "\t\t\t\t\t—\n",
       "\t\t\t\t\t<span class=\"username\"><a class=\"username fg-guardian\" href=\"/user/profile/4161/CaiusDrewart\">CaiusDrewart</a>\n",
       " · <small title=\"User Reputation\">3004</small>\n",
       "</span>\n",
       "<time datetime=\"2018-09-22T05:32:49+00:00\" title=\"September 22nd, 2018\">9/22/18</time>\n",
       "</div>\n",
       "<div class=\"review-comment text-muted small\">Then, that's amazing!!\n",
       "\t\t\t\t\t—\n",
       "\t\t\t\t\t<span class=\"username\"><a class=\"username fg-\" href=\"/user/profile/8951/matt88\">matt88</a>\n",
       " · <small title=\"User Reputation\">2967</small>\n",
       "</span>\n",
       "<time datetime=\"2018-09-23T03:11:32+00:00\" title=\"September 23rd, 2018\">9/23/18</time>\n",
       "</div>\n",
       "<div class=\"review-comment text-muted small\">I have a personal house rule: Key of Ys doesn't exist.\n",
       "\t\t\t\t\t—\n",
       "\t\t\t\t\t<span class=\"username\"><a class=\"username fg-mystic\" href=\"/user/profile/12542/crymoricus\">crymoricus</a>\n",
       " · <small title=\"User Reputation\">233</small>\n",
       "</span>\n",
       "<time datetime=\"2019-01-10T12:37:13+00:00\" title=\"January 10th, 2019\">1/10/19</time>\n",
       "</div>\n",
       "<form action=\"/review/comment\" class=\"form-comment\" method=\"POST\">\n",
       "<input name=\"comment_review_id\" type=\"hidden\" value=\"886\"/>\n",
       "<button class=\"btn btn-link btn-write-comment\">Add a comment</button>\n",
       "</form>\n",
       "</div>\n",
       "</article>\n",
       "</div>\n",
       "</div>\n",
       "</div>\n",
       "<div class=\"card-block-questions\">\n",
       "</div>\n",
       "</div>\n",
       "<div class=\"row\">\n",
       "<div class=\"col-sm-12\">\n",
       "<ul class=\"pager\">\n",
       "<li class=\"previous\">\n",
       "<a class=\"no-popup\" href=\"/card/01094\">← Bulletproof Vest</a> </li>\n",
       "<li>\n",
       "<a href=\"/set/core\">Core Set</a>\n",
       "</li>\n",
       "<li class=\"next\">\n",
       "<a class=\"no-popup\" href=\"/card/01096\">Amnesia →</a> </li>\n",
       "</ul>\n",
       "</div>\n",
       "</div>\n",
       "</div>\n",
       "</div>\n",
       "<div id=\"push\">\n",
       "</div>\n",
       "</div>\n",
       "<footer class=\"hidden-print\">\n",
       "<div class=\"container\">\n",
       "<div class=\"row\">\n",
       "<div class=\"col-xs-12\">\n",
       "<ul class=\"list-inline\">\n",
       "<li><a href=\"/about\">About</a></li>\n",
       "<li><a href=\"/api/\">API</a></li>\n",
       "</ul>\n",
       "<p>\n",
       "    Based on ThronesDB by Alsciende. Modified by Kam.\n",
       "    Contact:     \n",
       "    <a href=\"https://reddit.com/user/kamalisk/\" title=\"Reddit\"><span class=\"fa fa-reddit\"></span></a>\n",
       "<a href=\"mailto:s.arkhamdb@kamalisk.com\" title=\"E-mail\"><span class=\"fa fa-envelope\"></span></a>\n",
       "</p>\n",
       "<p>\n",
       "    Please post bug reports and feature requests on <a href=\"https://github.com/Kamalisk/arkhamdb\">GitHub</a>\n",
       "</p>\n",
       "<p>\n",
       "    I set up a <a href=\"https://www.patreon.com/kamalisk\">Patreon</a> for those who want to help support the site.\n",
       "    </p>\n",
       "<p>\n",
       "    The information presented on this site about Arkham Horror: The Card Game, both literal and graphical, is copyrighted by Fantasy Flight Games.\n",
       "    This website is not produced, endorsed, supported, or affiliated with Fantasy Flight Games.\n",
       "    </p>\n",
       "</div>\n",
       "</div>\n",
       "</div>\n",
       "</footer>\n",
       "<!--  card modal -->\n",
       "<div aria-hidden=\"true\" aria-labelledby=\"cardModalLabel\" class=\"modal\" id=\"cardModal\" role=\"dialog\" tabindex=\"-1\">\n",
       "<div class=\"modal-dialog\">\n",
       "<div class=\"modal-content\">\n",
       "<div class=\"modal-header\">\n",
       "<button aria-hidden=\"true\" class=\"close\" data-dismiss=\"modal\" type=\"button\">×</button>\n",
       "<h3 class=\"modal-title card-name\">Modal title</h3>\n",
       "<div class=\"row modal-deck-options\">\n",
       "<div class=\"col-sm-4 text-center modal-deck-qty\">\n",
       "                        Deck Quantity: <div class=\"btn-group modal-qty\" data-toggle=\"buttons\"></div>\n",
       "</div>\n",
       "<div class=\"col-sm-4 text-center modal-side-deck-qty\">\n",
       "                        Side Deck Quantity: <div class=\"btn-group modal-side-qty\" data-toggle=\"buttons\"></div>\n",
       "</div>\n",
       "<div class=\"col-sm-4 text-center modal-deck-ignore\">\n",
       "                        Ignore Deck Limit: <div class=\"btn-group modal-ignore\" data-toggle=\"buttons\"></div>\n",
       "</div>\n",
       "</div>\n",
       "</div>\n",
       "<div class=\"modal-body\">\n",
       "<div class=\"row\">\n",
       "<div class=\"col-sm-6 modal-image hidden-xs\"></div>\n",
       "<div class=\"col-sm-6 modal-info card-content\"></div>\n",
       "</div>\n",
       "</div>\n",
       "<div class=\"modal-customization\">\n",
       "</div>\n",
       "<div class=\"modal-footer\">\n",
       "<a class=\"btn btn-default card-modal-link\" href=\"#\" role=\"button\">Go to card page</a>\n",
       "<button class=\"btn btn-primary\" data-dismiss=\"modal\" type=\"button\">Close</button>\n",
       "</div>\n",
       "</div>\n",
       "</div>\n",
       "</div>\n",
       "<!--  /cardModal -->\n",
       "<script src=\"/bundles/fosjsrouting/js/router.js\"></script>\n",
       "<script src=\"/js/routing?callback=fos.Router.setData\"></script>\n",
       "<script src=\"https://cdnjs.cloudflare.com/ajax/libs/jquery/2.1.4/jquery.min.js\"></script>\n",
       "<script src=\"https://cdnjs.cloudflare.com/ajax/libs/underscore.js/1.8.3/underscore-min.js\"></script>\n",
       "<script src=\"https://cdnjs.cloudflare.com/ajax/libs/qtip2/2.1.1/jquery.qtip.js\"></script>\n",
       "<script src=\"https://cdnjs.cloudflare.com/ajax/libs/typeahead.js/0.10.4/typeahead.jquery.min.js\"></script>\n",
       "<script src=\"https://cdnjs.cloudflare.com/ajax/libs/marked/0.3.5/marked.min.js\"></script>\n",
       "<script src=\"https://cdnjs.cloudflare.com/ajax/libs/jquery.textcomplete/0.2.2/jquery.textcomplete.min.js\"></script>\n",
       "<script src=\"https://cdnjs.cloudflare.com/ajax/libs/moment.js/2.10.6/moment.min.js\"></script>\n",
       "<script src=\"https://cdnjs.cloudflare.com/ajax/libs/highcharts/4.1.7/highcharts.js\"></script>\n",
       "<script src=\"https://cdnjs.cloudflare.com/ajax/libs/bootstrap-markdown/2.9.0/js/bootstrap-markdown.min.js\"></script>\n",
       "<script type=\"text/javascript\">\n",
       "    var app = {};\n",
       "    moment.locale('en');\n",
       "    $(function() {\n",
       "            \t});\n",
       "    </script>\n",
       "<script async=\"\" src=\"https://pagead2.googlesyndication.com/pagead/js/adsbygoogle.js\"></script>\n",
       "<script>\n",
       "(function(i,s,o,g,r,a,m){i['GoogleAnalyticsObject']=r;i[r]=i[r]||function(){\n",
       "(i[r].q=i[r].q||[]).push(arguments)},i[r].l=1*new Date();a=s.createElement(o),\n",
       "m=s.getElementsByTagName(o)[0];a.async=1;a.src=g;m.parentNode.insertBefore(a,m)\n",
       "})(window,document,'script','//www.google-analytics.com/analytics.js','ga');\n",
       "\n",
       "ga('create', 'UA-83182253-1', 'auto');\n",
       "ga('send', 'pageview');\n",
       "</script>\n",
       "<script src=\"/js/app.js\"></script>\n",
       "<script src=\"/js/742d246.js\"></script>\n",
       "<script type=\"text/javascript\">\n",
       "\tapp.user.params.card_id = 132;\n",
       "\t</script>\n",
       "</body>\n",
       "</html>"
      ]
     },
     "execution_count": 50,
     "metadata": {},
     "output_type": "execute_result"
    }
   ],
   "source": [
    "soup = get_soup('https://arkhamdb.com/card/01095')\n",
    "\n",
    "soup"
   ]
  },
  {
   "cell_type": "code",
   "execution_count": 51,
   "id": "perfect-effort",
   "metadata": {},
   "outputs": [
    {
     "data": {
      "text/plain": [
       "<p class=\"card-type\">Asset. Accessory</p>"
      ]
     },
     "execution_count": 51,
     "metadata": {},
     "output_type": "execute_result"
    }
   ],
   "source": [
    "soup.find('p', class_='card-type')"
   ]
  },
  {
   "cell_type": "code",
   "execution_count": 52,
   "id": "speaking-combine",
   "metadata": {},
   "outputs": [
    {
     "data": {
      "text/plain": [
       "'Asset. Accessory'"
      ]
     },
     "execution_count": 52,
     "metadata": {},
     "output_type": "execute_result"
    }
   ],
   "source": [
    "soup.find('p', class_='card-type').text"
   ]
  },
  {
   "cell_type": "code",
   "execution_count": 53,
   "id": "sporting-october",
   "metadata": {},
   "outputs": [
    {
     "data": {
      "text/plain": [
       "'Asset Accessory'"
      ]
     },
     "execution_count": 53,
     "metadata": {},
     "output_type": "execute_result"
    }
   ],
   "source": [
    "soup.find('p', class_='card-type').text.replace('.','')"
   ]
  },
  {
   "cell_type": "code",
   "execution_count": 54,
   "id": "selective-effectiveness",
   "metadata": {},
   "outputs": [
    {
     "data": {
      "text/plain": [
       "'Asset Accessory'"
      ]
     },
     "execution_count": 54,
     "metadata": {},
     "output_type": "execute_result"
    }
   ],
   "source": [
    "soup.find('p', class_='card-type').text.replace('.','').replace('Hand x2','handx2')"
   ]
  },
  {
   "cell_type": "code",
   "execution_count": 55,
   "id": "common-feature",
   "metadata": {},
   "outputs": [
    {
     "data": {
      "text/plain": [
       "'asset accessory'"
      ]
     },
     "execution_count": 55,
     "metadata": {},
     "output_type": "execute_result"
    }
   ],
   "source": [
    "soup.find('p', class_='card-type').text.replace('.','').replace('hand x2','handx2').lower().strip()"
   ]
  },
  {
   "cell_type": "code",
   "execution_count": 56,
   "id": "technical-socket",
   "metadata": {},
   "outputs": [
    {
     "data": {
      "text/plain": [
       "['asset', 'accessory']"
      ]
     },
     "execution_count": 56,
     "metadata": {},
     "output_type": "execute_result"
    }
   ],
   "source": [
    "tipe = soup.find('p', class_='card-type').text.replace('.','').replace('hand x2','handx2').lower().strip()\n",
    "\n",
    "tipe.split(' ')"
   ]
  },
  {
   "cell_type": "code",
   "execution_count": 57,
   "id": "anonymous-power",
   "metadata": {},
   "outputs": [],
   "source": [
    "if tipe.split(' ')[0] in ('asset','investigator'):\n",
    "    \n",
    "    health, sanity = get_health_sanity(soup)"
   ]
  },
  {
   "cell_type": "code",
   "execution_count": 58,
   "id": "annoying-sister",
   "metadata": {},
   "outputs": [],
   "source": [
    "health, sanity = get_health_sanity(soup)"
   ]
  },
  {
   "cell_type": "code",
   "execution_count": 59,
   "id": "arbitrary-contemporary",
   "metadata": {},
   "outputs": [
    {
     "data": {
      "text/plain": [
       "'--'"
      ]
     },
     "execution_count": 59,
     "metadata": {},
     "output_type": "execute_result"
    }
   ],
   "source": [
    "health"
   ]
  },
  {
   "cell_type": "code",
   "execution_count": 60,
   "id": "boring-football",
   "metadata": {},
   "outputs": [
    {
     "data": {
      "text/plain": [
       "'4'"
      ]
     },
     "execution_count": 60,
     "metadata": {},
     "output_type": "execute_result"
    }
   ],
   "source": [
    "sanity"
   ]
  },
  {
   "cell_type": "code",
   "execution_count": 61,
   "id": "superior-seeking",
   "metadata": {},
   "outputs": [],
   "source": [
    "sanity = re.search('Sanity:\\s+(\\d+)', str(soup.find('div'))).group(1).strip()"
   ]
  },
  {
   "cell_type": "code",
   "execution_count": null,
   "id": "amino-pipeline",
   "metadata": {},
   "outputs": [],
   "source": []
  },
  {
   "cell_type": "code",
   "execution_count": null,
   "id": "occupational-finding",
   "metadata": {},
   "outputs": [],
   "source": []
  },
  {
   "cell_type": "code",
   "execution_count": null,
   "id": "curious-diary",
   "metadata": {},
   "outputs": [],
   "source": []
  },
  {
   "cell_type": "code",
   "execution_count": 25,
   "id": "aerial-ethnic",
   "metadata": {},
   "outputs": [],
   "source": [
    "df.to_csv('player_cards.csv',index = False)"
   ]
  },
  {
   "cell_type": "code",
   "execution_count": 27,
   "id": "finished-taxation",
   "metadata": {},
   "outputs": [
    {
     "data": {
      "text/plain": [
       "0       You begin the game with Duke in play.</p><p>FA...\n",
       "1       FAST ACTION During your turn, spend 2 resource...\n",
       "2       FAST ACTION During your turn, spend 2 resource...\n",
       "3       REACTION After 1 or more horror is placed on A...\n",
       "4       REACTION After 1 or more horror is placed on A...\n",
       "                              ...                        \n",
       "1418    If this skill test is successful during an att...\n",
       "1419    If this skill test is successful during an att...\n",
       "1420    While Well-Dressed is committed to a skill tes...\n",
       "1421    While you control a <b><i>Science</i></b> or <...\n",
       "1422    This skill's icons subtract from your skill va...\n",
       "Name: ability, Length: 1423, dtype: object"
      ]
     },
     "execution_count": 27,
     "metadata": {},
     "output_type": "execute_result"
    }
   ],
   "source": [
    "df.ability"
   ]
  },
  {
   "cell_type": "code",
   "execution_count": 12,
   "id": "nuclear-pharmacology",
   "metadata": {},
   "outputs": [
    {
     "name": "stdout",
     "output_type": "stream",
     "text": [
      "Getting investigator URL's...\n"
     ]
    },
    {
     "ename": "NameError",
     "evalue": "name 'get_cata_url' is not defined",
     "output_type": "error",
     "traceback": [
      "\u001b[0;31m---------------------------------------------------------------------------\u001b[0m",
      "\u001b[0;31mNameError\u001b[0m                                 Traceback (most recent call last)",
      "\u001b[0;32m<ipython-input-12-c640c6f6debf>\u001b[0m in \u001b[0;36m<module>\u001b[0;34m\u001b[0m\n\u001b[0;32m----> 1\u001b[0;31m \u001b[0mgators\u001b[0m\u001b[0;34m,\u001b[0m \u001b[0massets\u001b[0m\u001b[0;34m,\u001b[0m \u001b[0mevents\u001b[0m\u001b[0;34m,\u001b[0m \u001b[0mskills\u001b[0m \u001b[0;34m=\u001b[0m \u001b[0mget_urls_by_type\u001b[0m\u001b[0;34m(\u001b[0m\u001b[0;34m)\u001b[0m\u001b[0;34m\u001b[0m\u001b[0;34m\u001b[0m\u001b[0m\n\u001b[0m",
      "\u001b[0;32m<ipython-input-8-292f08fbc088>\u001b[0m in \u001b[0;36mget_urls_by_type\u001b[0;34m()\u001b[0m\n\u001b[1;32m      5\u001b[0m     \u001b[0;31m# call function to return list of url's by catagory\u001b[0m\u001b[0;34m\u001b[0m\u001b[0;34m\u001b[0m\u001b[0;34m\u001b[0m\u001b[0m\n\u001b[1;32m      6\u001b[0m     \u001b[0mprint\u001b[0m\u001b[0;34m(\u001b[0m\u001b[0;34m\"Getting investigator URL's...\"\u001b[0m\u001b[0;34m)\u001b[0m\u001b[0;34m\u001b[0m\u001b[0;34m\u001b[0m\u001b[0m\n\u001b[0;32m----> 7\u001b[0;31m     \u001b[0mgators\u001b[0m \u001b[0;34m=\u001b[0m \u001b[0mget_cata_url\u001b[0m\u001b[0;34m(\u001b[0m\u001b[0;34m'investigator'\u001b[0m\u001b[0;34m)\u001b[0m\u001b[0;34m\u001b[0m\u001b[0;34m\u001b[0m\u001b[0m\n\u001b[0m\u001b[1;32m      8\u001b[0m \u001b[0;34m\u001b[0m\u001b[0m\n\u001b[1;32m      9\u001b[0m     \u001b[0mprint\u001b[0m\u001b[0;34m(\u001b[0m\u001b[0;34m\"Getting asset URL's...\"\u001b[0m\u001b[0;34m)\u001b[0m\u001b[0;34m\u001b[0m\u001b[0;34m\u001b[0m\u001b[0m\n",
      "\u001b[0;31mNameError\u001b[0m: name 'get_cata_url' is not defined"
     ]
    }
   ],
   "source": [
    "gators, assets, events, skills = get_urls_by_type()"
   ]
  },
  {
   "cell_type": "code",
   "execution_count": 13,
   "id": "formal-console",
   "metadata": {},
   "outputs": [],
   "source": [
    "def get_soup(url):\n",
    "    '''Takes in a url as a string\n",
    "       Returns html request result parsed using beautiful soup'''\n",
    "\n",
    "    # create request and soup objects\n",
    "    html = requests.get(url)\n",
    "\n",
    "    soup = BeautifulSoup(html.content, 'html.parser')\n",
    "    \n",
    "    return soup\n",
    "\n",
    "\n",
    "def get_text_for_icon(soup):\n",
    "    '''Takes in request response as a string\n",
    "       replaces html code indicating a game icon with a text representation\n",
    "       Returns sting with replacements'''\n",
    "    \n",
    "    # replace icon html with matching word in all caps\n",
    "    icon_types = [\n",
    "                  'action',\n",
    "                  'reaction',\n",
    "                  'wild', \n",
    "                  'willpower', \n",
    "                  'combat', \n",
    "                  'agility', \n",
    "                  'intellect', \n",
    "                  'wild',\n",
    "                  'curse', \n",
    "                  'bless',\n",
    "                  'rogue',\n",
    "                  'survivor',\n",
    "                  'seeker',\n",
    "                  'guardian',\n",
    "                  'mystic',\n",
    "                  'neutral',\n",
    "                  'skull',\n",
    "                  'tablet',\n",
    "                  'cultist',\n",
    "                  'elder sign']\n",
    "    \n",
    "    for icon in icon_types:\n",
    "    \n",
    "        soup = soup.replace(f'<span class=\"icon-{icon}\" title=\"{icon.capitalize()}\"></span>', f'{icon.upper()}')\n",
    "        \n",
    "        soup = soup.replace(f'<div class=\"card-text border-{icon}\">\\n<p>', '')\n",
    "\n",
    "    soup = soup.replace(f'<span class=\"icon-wild\" title=\"Any Skill\"></span>', 'WILD')\n",
    "\n",
    "    soup = soup.replace(f'<span class=\"icon-elder_sign\" title=\"Elder Sign\"></span>', 'ELDER_SIGN')\n",
    "\n",
    "    soup = soup.replace(f'<span class=\"icon-elder_sign\" title=\"Elder Thing\"></span>', 'ELDER_THING')\n",
    "\n",
    "    soup = soup.replace(f'<span class=\"icon-lightning\" title=\"Fast Action\"></span>', 'FAST_ACTION')\n",
    "\n",
    "    soup = soup.replace(f'<span class=\"icon-auto_fail\" title=\"Auto Fail\"></span>', 'TENTACLES')\n",
    "\n",
    "    return soup"
   ]
  },
  {
   "cell_type": "code",
   "execution_count": null,
   "id": "adverse-spanish",
   "metadata": {},
   "outputs": [],
   "source": []
  },
  {
   "cell_type": "code",
   "execution_count": 14,
   "id": "handmade-zoning",
   "metadata": {},
   "outputs": [],
   "source": [
    "gator = get_soup('https://arkhamdb.com/card/02006')\n",
    "asset = get_soup('https://arkhamdb.com/card/05151')\n",
    "#event = get_soup(events[15])\n",
    "#skill = get_soup(skills[56])\n",
    "\n"
   ]
  },
  {
   "cell_type": "code",
   "execution_count": 29,
   "id": "pressed-walter",
   "metadata": {},
   "outputs": [
    {
     "data": {
      "text/plain": [
       "\"Zoey Samaras deck only.</p><p>REACTION After an enemy becomes engaged with you, exhaust Zoey's Cross and spend 1 resource: Deal 1 damage to that enemy.</p>\\n</div>\""
      ]
     },
     "execution_count": 29,
     "metadata": {},
     "output_type": "execute_result"
    }
   ],
   "source": [
    "faction = get_faction(gator)\n",
    "\n",
    "first_faction = faction.split(' ')[0]\n",
    "\n",
    "get_text_for_icon(str(gator.find('div', class_=f'card-text border-{first_faction}')))"
   ]
  },
  {
   "cell_type": "code",
   "execution_count": null,
   "id": "representative-engineer",
   "metadata": {},
   "outputs": [],
   "source": [
    ".text.replace('effect', 'ELDER SIGN')"
   ]
  },
  {
   "cell_type": "code",
   "execution_count": 57,
   "id": "reverse-occasions",
   "metadata": {},
   "outputs": [
    {
     "data": {
      "text/plain": [
       "'Asset. Accessory'"
      ]
     },
     "execution_count": 57,
     "metadata": {},
     "output_type": "execute_result"
    }
   ],
   "source": [
    "gator.find('p', class_='card-type').text\n",
    "   "
   ]
  },
  {
   "cell_type": "code",
   "execution_count": 30,
   "id": "organized-stuff",
   "metadata": {},
   "outputs": [
    {
     "data": {
      "text/plain": [
       "'\"Please leave this to the professionals. If I find you poking around again, I will bring you in.\"'"
      ]
     },
     "execution_count": 30,
     "metadata": {},
     "output_type": "execute_result"
    }
   ],
   "source": [
    "asset.find('div', class_='card-flavor small').text.replace('\\n', '').replace('\\t', '')"
   ]
  },
  {
   "cell_type": "code",
   "execution_count": 46,
   "id": "egyptian-publisher",
   "metadata": {},
   "outputs": [
    {
     "data": {
      "text/plain": [
       "\"Mateo Castile's life has not been easy since he became a priest. Recent decades in Mexico have been wracked with instability and conflict. Father Mateo struggled to balance his faith with the pragmatic concerns of preaching when the law told him he must not. But this is not what has assaulted Mateo's faith at its core. The nearby murders and kidnappings were not politically motivated, as he had suspected. A gruesome and horrid cult thrives at the heart of the brewing war. How, Mateo wonders, could a kind and loving God allow what he saw that night to exist?\""
      ]
     },
     "execution_count": 46,
     "metadata": {},
     "output_type": "execute_result"
    }
   ],
   "source": [
    "gator.find_all('div', class_='card-flavor small')[1].text.replace('\\n', '').replace('\\t', '')"
   ]
  },
  {
   "cell_type": "code",
   "execution_count": 33,
   "id": "deluxe-saudi",
   "metadata": {},
   "outputs": [
    {
     "ename": "AttributeError",
     "evalue": "'NoneType' object has no attribute 'text'",
     "output_type": "error",
     "traceback": [
      "\u001b[0;31m---------------------------------------------------------------------------\u001b[0m",
      "\u001b[0;31mAttributeError\u001b[0m                            Traceback (most recent call last)",
      "\u001b[0;32m<ipython-input-33-449c92a8d93d>\u001b[0m in \u001b[0;36m<module>\u001b[0;34m\u001b[0m\n\u001b[0;32m----> 1\u001b[0;31m \u001b[0masset\u001b[0m\u001b[0;34m.\u001b[0m\u001b[0mfind\u001b[0m\u001b[0;34m(\u001b[0m\u001b[0;34m'span'\u001b[0m\u001b[0;34m,\u001b[0m \u001b[0mclass_\u001b[0m\u001b[0;34m=\u001b[0m\u001b[0;34m'card-type'\u001b[0m\u001b[0;34m)\u001b[0m\u001b[0;34m.\u001b[0m\u001b[0mtext\u001b[0m\u001b[0;34m\u001b[0m\u001b[0;34m\u001b[0m\u001b[0m\n\u001b[0m",
      "\u001b[0;31mAttributeError\u001b[0m: 'NoneType' object has no attribute 'text'"
     ]
    }
   ],
   "source": [
    "asset.find('span', class_='card-type')"
   ]
  },
  {
   "cell_type": "code",
   "execution_count": 30,
   "id": "domestic-revision",
   "metadata": {},
   "outputs": [
    {
     "data": {
      "text/plain": [
       "'asset handx2'"
      ]
     },
     "execution_count": 30,
     "metadata": {},
     "output_type": "execute_result"
    }
   ],
   "source": [
    "'asset hand x2'.replace('hand x2','handx2')"
   ]
  },
  {
   "cell_type": "code",
   "execution_count": null,
   "id": "naval-study",
   "metadata": {},
   "outputs": [],
   "source": [
    "\n",
    "\n",
    "\n",
    "\n",
    "\n",
    "\n"
   ]
  },
  {
   "cell_type": "code",
   "execution_count": 55,
   "id": "young-cathedral",
   "metadata": {},
   "outputs": [
    {
     "data": {
      "text/plain": [
       "'The Forgotten Age #4'"
      ]
     },
     "execution_count": 55,
     "metadata": {},
     "output_type": "execute_result"
    }
   ],
   "source": [
    "gator.find('div', class_='card-pack').text.replace('\\n', '').replace('\\t', '').replace('.', '') "
   ]
  },
  {
   "cell_type": "code",
   "execution_count": 74,
   "id": "essential-banks",
   "metadata": {},
   "outputs": [
    {
     "data": {
      "text/plain": [
       "'rogue'"
      ]
     },
     "execution_count": 74,
     "metadata": {},
     "output_type": "execute_result"
    }
   ],
   "source": [
    "get_faction(asset).strip().lower()"
   ]
  },
  {
   "cell_type": "code",
   "execution_count": null,
   "id": "recognized-dressing",
   "metadata": {},
   "outputs": [],
   "source": [
    ".text.replace('\\n', '').replace('\\t', '')"
   ]
  },
  {
   "cell_type": "code",
   "execution_count": 56,
   "id": "dietary-multiple",
   "metadata": {},
   "outputs": [
    {
     "data": {
      "text/plain": [
       "'Uses (3 charges). If Blur has charges remaining: Evade. For this evasion attempt, you may use  instead of , and you get +1 skill value. If you succeed, spend 1 charge and you may take an additional action this turn. If you succeed by 0, take 1 damage.'"
      ]
     },
     "execution_count": 56,
     "metadata": {},
     "output_type": "execute_result"
    }
   ],
   "source": [
    "faction = get_faction(asset).strip().lower()\n",
    "\n",
    "first_faction = faction.split(' ')[0]\n",
    "\n",
    "soup = asset.find('div', class_=f'card-text border-{first_faction}').text.replace('\\n', '')\n",
    "\n",
    "soup"
   ]
  },
  {
   "cell_type": "code",
   "execution_count": null,
   "id": "lightweight-letter",
   "metadata": {},
   "outputs": [],
   "source": [
    "re.search('Sanity:\\s+(\\d)', str(gator.find('div'))).group(1"
   ]
  },
  {
   "cell_type": "code",
   "execution_count": 67,
   "id": "complimentary-stamp",
   "metadata": {},
   "outputs": [
    {
     "data": {
      "text/plain": [
       "'1'"
      ]
     },
     "execution_count": 67,
     "metadata": {},
     "output_type": "execute_result"
    }
   ],
   "source": [
    "text = str(asset.find_all('div', class_='card-info-block'))\n",
    "\n",
    "re.search('XP:\\s+(\\d)', text).group(1)"
   ]
  },
  {
   "cell_type": "code",
   "execution_count": 57,
   "id": "exposed-andorra",
   "metadata": {},
   "outputs": [
    {
     "data": {
      "text/plain": [
       "'Deck Size: 30.Deckbuilding Options: Mystic cards () level 0-5, Blessed cards level 0-3, Neutral cards level 0-5.Deckbuilding Requirements (do not count toward deck size): The Codex of Ages, Serpents of Yig, 1 random basic weakness.Bonus Experience: You begin the campaign with 5 additional experience (does not affect the number of weaknesses you must take in Standalone Mode).'"
      ]
     },
     "execution_count": 57,
     "metadata": {},
     "output_type": "execute_result"
    }
   ],
   "source": [
    "faction = get_faction(gator).lower().strip()\n",
    "    \n",
    "first_faction = faction.split(' ')[0]\n",
    "    \n",
    "gator.find_all('div', class_=f'card-text border-{first_faction}')[1].text.replace('\\n', '')"
   ]
  },
  {
   "cell_type": "code",
   "execution_count": 72,
   "id": "spanish-surface",
   "metadata": {},
   "outputs": [
    {
     "data": {
      "text/plain": [
       "'COMBAT AGILITY'"
      ]
     },
     "execution_count": 72,
     "metadata": {},
     "output_type": "execute_result"
    }
   ],
   "source": [
    "get_icons(asset)"
   ]
  },
  {
   "cell_type": "code",
   "execution_count": 7,
   "id": "expanded-replication",
   "metadata": {},
   "outputs": [
    {
     "ename": "NameError",
     "evalue": "name 'asset' is not defined",
     "output_type": "error",
     "traceback": [
      "\u001b[0;31m---------------------------------------------------------------------------\u001b[0m",
      "\u001b[0;31mNameError\u001b[0m                                 Traceback (most recent call last)",
      "\u001b[0;32m<ipython-input-7-ff78490ae3ff>\u001b[0m in \u001b[0;36m<module>\u001b[0;34m\u001b[0m\n\u001b[0;32m----> 1\u001b[0;31m \u001b[0masset\u001b[0m\u001b[0;34m.\u001b[0m\u001b[0mfind\u001b[0m\u001b[0;34m(\u001b[0m\u001b[0;34m'div'\u001b[0m\u001b[0;34m,\u001b[0m \u001b[0mclass_\u001b[0m\u001b[0;34m=\u001b[0m\u001b[0;34m'card-flavor small'\u001b[0m\u001b[0;34m)\u001b[0m\u001b[0;34m[\u001b[0m\u001b[0;36m1\u001b[0m\u001b[0;34m]\u001b[0m\u001b[0;34m.\u001b[0m\u001b[0mtext\u001b[0m\u001b[0;34m.\u001b[0m\u001b[0mreplace\u001b[0m\u001b[0;34m(\u001b[0m\u001b[0;34m'\\n'\u001b[0m\u001b[0;34m,\u001b[0m \u001b[0;34m''\u001b[0m\u001b[0;34m)\u001b[0m\u001b[0;34m.\u001b[0m\u001b[0mreplace\u001b[0m\u001b[0;34m(\u001b[0m\u001b[0;34m'\\t'\u001b[0m\u001b[0;34m,\u001b[0m \u001b[0;34m''\u001b[0m\u001b[0;34m)\u001b[0m\u001b[0;34m\u001b[0m\u001b[0;34m\u001b[0m\u001b[0m\n\u001b[0m",
      "\u001b[0;31mNameError\u001b[0m: name 'asset' is not defined"
     ]
    }
   ],
   "source": []
  },
  {
   "cell_type": "code",
   "execution_count": null,
   "id": "ranking-hamburg",
   "metadata": {},
   "outputs": [],
   "source": [
    "def get_value_set(col):\n",
    "    \n",
    "    values = []\n",
    "    \n",
    "    df[f'{col}'] = df[f'{col}'].split(' ')\n",
    "    \n",
    "    merged_values = col.tolist()\n",
    "     \n",
    "    for merged_value in merged_values:\n",
    "        \n",
    "\n",
    "    \n",
    "        values.append(item)\n",
    "        \n",
    "    return set(values)\n",
    "    \n",
    "    \n",
    "\n"
   ]
  },
  {
   "cell_type": "code",
   "execution_count": null,
   "id": "embedded-camel",
   "metadata": {},
   "outputs": [],
   "source": [
    "def clean_assets_traits(value):\n",
    "    \n",
    "    "
   ]
  }
 ],
 "metadata": {
  "kernelspec": {
   "display_name": "Python 3",
   "language": "python",
   "name": "python3"
  },
  "language_info": {
   "codemirror_mode": {
    "name": "ipython",
    "version": 3
   },
   "file_extension": ".py",
   "mimetype": "text/x-python",
   "name": "python",
   "nbconvert_exporter": "python",
   "pygments_lexer": "ipython3",
   "version": "3.7.4"
  }
 },
 "nbformat": 4,
 "nbformat_minor": 5
}
