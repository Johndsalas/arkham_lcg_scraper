{
 "cells": [
  {
   "cell_type": "code",
   "execution_count": 1,
   "id": "optional-content",
   "metadata": {},
   "outputs": [],
   "source": [
    "import requests\n",
    "from bs4 import BeautifulSoup"
   ]
  },
  {
   "cell_type": "code",
   "execution_count": 2,
   "id": "colonial-banking",
   "metadata": {},
   "outputs": [],
   "source": [
    "def get_cata_url(catagory):\n",
    "    ''' Takes in a string containing a player card catagory\n",
    "        Scrapes arkhamdb\n",
    "        Returns a list of urls for containing information on each card of that catagory'''\n",
    "\n",
    "    # get url for page to scrape\n",
    "    url = f'https://arkhamdb.com/find?q=t%3A{catagory}&decks=player'\n",
    "\n",
    "    # create request and soup objects\n",
    "    html = requests.get(url)\n",
    "\n",
    "    soup = BeautifulSoup(html.content, 'html.parser')\n",
    "\n",
    "    # locate urls on page\n",
    "    results = soup.find(id='list')\n",
    "\n",
    "    results = results.find_all('a', class_='card-tip')\n",
    "\n",
    "    # convert urls to string and make a list\n",
    "    results = [str(result['href']) for result in results]\n",
    "\n",
    "    return results"
   ]
  },
  {
   "cell_type": "code",
   "execution_count": 3,
   "id": "alleged-enforcement",
   "metadata": {},
   "outputs": [],
   "source": [
    "def get_icons(results):\n",
    "    '''Takes in request results for an arkhamdb page containing player card data\n",
    "       Returns a string containing the skill icons printed on that cart'''\n",
    "      \n",
    "    icons = ''\n",
    "\n",
    "    # list containing each icon type\n",
    "    icon_types = ['wild', 'willpower', 'combat', 'agility', 'intellect']\n",
    "\n",
    "    # itterate through icon types\n",
    "    for stat in icon_types:\n",
    "\n",
    "        # get number of that icon on card from request results\n",
    "        num_icons = len(results.find_all('span', class_=f'icon icon-{stat} color-{stat}'))\n",
    "\n",
    "        # add that icon name to a string for each time it appears in request results\n",
    "        for icon in range(num_icons):\n",
    "\n",
    "            icons += f'{stat} '\n",
    "            \n",
    "    return icons[:-1]"
   ]
  },
  {
   "cell_type": "code",
   "execution_count": 4,
   "id": "unlikely-conservation",
   "metadata": {},
   "outputs": [],
   "source": [
    "invest = get_cata_url('investigator')\n",
    "assets = get_cata_url('asset')\n",
    "events = get_cata_url('event')\n",
    "skills = get_cata_url('skill')"
   ]
  },
  {
   "cell_type": "code",
   "execution_count": 5,
   "id": "enormous-saint",
   "metadata": {},
   "outputs": [
    {
     "name": "stdout",
     "output_type": "stream",
     "text": [
      "['https://arkhamdb.com/card/02005', 'https://arkhamdb.com/card/01003', 'https://arkhamdb.com/card/01503', 'https://arkhamdb.com/card/01004', 'https://arkhamdb.com/card/01504', 'https://arkhamdb.com/card/03004']\n",
      "\n",
      "['https://arkhamdb.com/card/60505', 'https://arkhamdb.com/card/60522', 'https://arkhamdb.com/card/07025', 'https://arkhamdb.com/card/07305', 'https://arkhamdb.com/card/03020', 'https://arkhamdb.com/card/52001']\n",
      "\n",
      "['https://arkhamdb.com/card/03304', 'https://arkhamdb.com/card/52002', 'https://arkhamdb.com/card/06156', 'https://arkhamdb.com/card/08021', 'https://arkhamdb.com/card/60114', 'https://arkhamdb.com/card/60123']\n",
      "\n",
      "['https://arkhamdb.com/card/09002', 'https://arkhamdb.com/card/03272', 'https://arkhamdb.com/card/03233', 'https://arkhamdb.com/card/05038', 'https://arkhamdb.com/card/04309', 'https://arkhamdb.com/card/09049']\n",
      "\n"
     ]
    }
   ],
   "source": [
    "for cata in [invest, assets, events, skills]:\n",
    "    \n",
    "    print(cata[0:6])\n",
    "    print()"
   ]
  },
  {
   "cell_type": "code",
   "execution_count": 7,
   "id": "front-canyon",
   "metadata": {},
   "outputs": [
    {
     "ename": "AttributeError",
     "evalue": "'NoneType' object has no attribute 'text'",
     "output_type": "error",
     "traceback": [
      "\u001b[0;31m---------------------------------------------------------------------------\u001b[0m",
      "\u001b[0;31mAttributeError\u001b[0m                            Traceback (most recent call last)",
      "\u001b[0;32m<ipython-input-7-487adb083273>\u001b[0m in \u001b[0;36m<module>\u001b[0;34m\u001b[0m\n\u001b[1;32m     18\u001b[0m \u001b[0mcata\u001b[0m \u001b[0;34m=\u001b[0m \u001b[0mresults\u001b[0m\u001b[0;34m.\u001b[0m\u001b[0mfind\u001b[0m\u001b[0;34m(\u001b[0m\u001b[0;34m'span'\u001b[0m\u001b[0;34m,\u001b[0m \u001b[0mclass_\u001b[0m\u001b[0;34m=\u001b[0m\u001b[0;34m'card-faction'\u001b[0m\u001b[0;34m)\u001b[0m\u001b[0;34m.\u001b[0m\u001b[0mtext\u001b[0m\u001b[0;34m\u001b[0m\u001b[0;34m\u001b[0m\u001b[0m\n\u001b[1;32m     19\u001b[0m \u001b[0;34m\u001b[0m\u001b[0m\n\u001b[0;32m---> 20\u001b[0;31m \u001b[0mability\u001b[0m \u001b[0;34m=\u001b[0m \u001b[0mresults\u001b[0m\u001b[0;34m.\u001b[0m\u001b[0mfind\u001b[0m\u001b[0;34m(\u001b[0m\u001b[0;34m'div'\u001b[0m\u001b[0;34m,\u001b[0m \u001b[0mclass_\u001b[0m\u001b[0;34m=\u001b[0m\u001b[0;34m'card-text border-neutral'\u001b[0m\u001b[0;34m)\u001b[0m\u001b[0;34m.\u001b[0m\u001b[0mtext\u001b[0m\u001b[0;34m\u001b[0m\u001b[0;34m\u001b[0m\u001b[0m\n\u001b[0m",
      "\u001b[0;31mAttributeError\u001b[0m: 'NoneType' object has no attribute 'text'"
     ]
    }
   ],
   "source": [
    "# get url for page to scrape\n",
    "url = 'https://arkhamdb.com/card/05030'\n",
    "\n",
    "# create request and soup objects\n",
    "html = requests.get(url)\n",
    "\n",
    "soup = BeautifulSoup(html.content, 'html.parser')\n",
    "\n",
    "# locate urls on page\n",
    "results = soup.find(id='list')\n",
    "\n",
    "title = results.find('a', class_='card-name card-tip').text\n",
    "\n",
    "test_icons = get_icons(results)\n",
    "\n",
    "traits = results.find('p', class_='card-traits').text\n",
    "\n",
    "cata = results.find('span', class_='card-faction').text\n",
    "\n",
    "ability = results.find('div', class_='card-text border-neutral').text"
   ]
  },
  {
   "cell_type": "code",
   "execution_count": 11,
   "id": "legal-vampire",
   "metadata": {},
   "outputs": [
    {
     "data": {
      "text/plain": [
       "<div class=\"card-text border-rogue\">\n",
       "<p>While you have 5 or more resources, Cunning gains <span class=\"icon-intellect\" title=\"Intellect\"></span> <span class=\"icon-agility\" title=\"Agility\"></span> (while you have 10 or more resources, Cunning gains <span class=\"icon-intellect\" title=\"Intellect\"></span> <span class=\"icon-intellect\" title=\"Intellect\"></span> <span class=\"icon-agility\" title=\"Agility\"></span> <span class=\"icon-agility\" title=\"Agility\"></span>, instead).</p>\n",
       "</div>"
      ]
     },
     "execution_count": 11,
     "metadata": {},
     "output_type": "execute_result"
    }
   ],
   "source": [
    "factions = ['guardian', 'mystic', 'neutral', 'rogue', 'seeker', 'surviver']\n",
    "\n",
    "for faction in factions:\n",
    "    \n",
    "    ability = results.find('div', class_=f'card-text border-{faction}')\n",
    "    \n",
    "    if ability != None:\n",
    "        \n",
    "        break\n",
    "        \n",
    "ability"
   ]
  },
  {
   "cell_type": "code",
   "execution_count": 27,
   "id": "introductory-cannon",
   "metadata": {},
   "outputs": [
    {
     "name": "stdout",
     "output_type": "stream",
     "text": [
      "\n",
      "\n",
      "While you have 5 or more resources, Cunning gains   (while you have 10 or more resources, Cunning gains    , instead).\n",
      "\n",
      "\n"
     ]
    }
   ],
   "source": [
    "fin_ability = ''\n",
    "\n",
    "for paragraph in ability:\n",
    "\n",
    "        print(paragraph.text)\n",
    "        "
   ]
  },
  {
   "cell_type": "code",
   "execution_count": null,
   "id": "cooked-guidance",
   "metadata": {},
   "outputs": [],
   "source": [
    "traits = results.find('p', class_='card-traits').text"
   ]
  },
  {
   "cell_type": "code",
   "execution_count": null,
   "id": "ready-facility",
   "metadata": {},
   "outputs": [],
   "source": [
    "print(title)"
   ]
  },
  {
   "cell_type": "code",
   "execution_count": null,
   "id": "variable-appointment",
   "metadata": {},
   "outputs": [],
   "source": [
    "test_icons"
   ]
  },
  {
   "cell_type": "code",
   "execution_count": null,
   "id": "beginning-allowance",
   "metadata": {},
   "outputs": [],
   "source": [
    "ability"
   ]
  },
  {
   "cell_type": "code",
   "execution_count": null,
   "id": "royal-motivation",
   "metadata": {},
   "outputs": [],
   "source": []
  }
 ],
 "metadata": {
  "kernelspec": {
   "display_name": "Python 3",
   "language": "python",
   "name": "python3"
  },
  "language_info": {
   "codemirror_mode": {
    "name": "ipython",
    "version": 3
   },
   "file_extension": ".py",
   "mimetype": "text/x-python",
   "name": "python",
   "nbconvert_exporter": "python",
   "pygments_lexer": "ipython3",
   "version": "3.7.4"
  }
 },
 "nbformat": 4,
 "nbformat_minor": 5
}
