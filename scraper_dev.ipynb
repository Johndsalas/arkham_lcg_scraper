{
 "cells": [
  {
   "cell_type": "code",
   "execution_count": 1,
   "id": "optional-content",
   "metadata": {},
   "outputs": [],
   "source": [
    "import requests\n",
    "from bs4 import BeautifulSoup"
   ]
  },
  {
   "cell_type": "code",
   "execution_count": 52,
   "id": "colonial-banking",
   "metadata": {},
   "outputs": [],
   "source": [
    "#Player Cart Types: investigator, asset, event, skill, weakness\n",
    "\n",
    "def get_cata_url(catagory):\n",
    "    ''' Takes in a string containing a player card catagory\n",
    "        Scrapes arkhamdb\n",
    "        Returns a list of urls for containing information on each card of that catagory'''\n",
    "\n",
    "    # get url for page to scrape\n",
    "    url = f'https://arkhamdb.com/find?q=t%3A{catagory}&decks=player'\n",
    "\n",
    "    # create request and soup objects\n",
    "    html = requests.get(url)\n",
    "\n",
    "    soup = BeautifulSoup(html.content, 'html.parser')\n",
    "\n",
    "    # locate urls on page\n",
    "    results = soup.find(id='list')\n",
    "\n",
    "    results = results.find_all('a', class_='card-tip')\n",
    "\n",
    "    # convert urls to string and make a list\n",
    "    results = [str(result['href']) for result in results]\n",
    "\n",
    "    return results"
   ]
  },
  {
   "cell_type": "code",
   "execution_count": 53,
   "id": "unlikely-conservation",
   "metadata": {},
   "outputs": [],
   "source": [
    "invest = get_cata_url('investigator')\n",
    "assets = get_cata_url('investigator')\n",
    "events = get_cata_url('event')\n",
    "skills = get_cata_url('skill')"
   ]
  },
  {
   "cell_type": "code",
   "execution_count": 59,
   "id": "enormous-saint",
   "metadata": {},
   "outputs": [
    {
     "name": "stdout",
     "output_type": "stream",
     "text": [
      "['https://arkhamdb.com/card/02005', 'https://arkhamdb.com/card/01003', 'https://arkhamdb.com/card/01503', 'https://arkhamdb.com/card/01004', 'https://arkhamdb.com/card/01504', 'https://arkhamdb.com/card/03004']\n",
      "\n",
      "['https://arkhamdb.com/card/02005', 'https://arkhamdb.com/card/01003', 'https://arkhamdb.com/card/01503', 'https://arkhamdb.com/card/01004', 'https://arkhamdb.com/card/01504', 'https://arkhamdb.com/card/03004']\n",
      "\n",
      "['https://arkhamdb.com/card/03304', 'https://arkhamdb.com/card/52002', 'https://arkhamdb.com/card/06156', 'https://arkhamdb.com/card/08021', 'https://arkhamdb.com/card/60114', 'https://arkhamdb.com/card/60123']\n",
      "\n",
      "['https://arkhamdb.com/card/09002', 'https://arkhamdb.com/card/03272', 'https://arkhamdb.com/card/03233', 'https://arkhamdb.com/card/05038', 'https://arkhamdb.com/card/04309', 'https://arkhamdb.com/card/09049']\n",
      "\n"
     ]
    }
   ],
   "source": [
    "for cata in [invest, assets, events, skills]:\n",
    "    \n",
    "    print(cata[0:6])\n",
    "    print()"
   ]
  }
 ],
 "metadata": {
  "kernelspec": {
   "display_name": "Python 3",
   "language": "python",
   "name": "python3"
  },
  "language_info": {
   "codemirror_mode": {
    "name": "ipython",
    "version": 3
   },
   "file_extension": ".py",
   "mimetype": "text/x-python",
   "name": "python",
   "nbconvert_exporter": "python",
   "pygments_lexer": "ipython3",
   "version": "3.7.4"
  }
 },
 "nbformat": 4,
 "nbformat_minor": 5
}
