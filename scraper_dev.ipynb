{
 "cells": [
  {
   "cell_type": "code",
   "execution_count": 1,
   "id": "optional-content",
   "metadata": {},
   "outputs": [],
   "source": [
    "import requests\n",
    "from bs4 import BeautifulSoup"
   ]
  },
  {
   "cell_type": "code",
   "execution_count": 2,
   "id": "colonial-banking",
   "metadata": {},
   "outputs": [],
   "source": [
    "def get_cata_url(catagory):\n",
    "    ''' Takes in a string containing a player card catagory\n",
    "        Scrapes arkhamdb\n",
    "        Returns a list of urls for containing information on each card of that catagory'''\n",
    "\n",
    "    # get url for page to scrape\n",
    "    url = f'https://arkhamdb.com/find?q=t%3A{catagory}&decks=player'\n",
    "\n",
    "    # create request and soup objects\n",
    "    html = requests.get(url)\n",
    "\n",
    "    soup = BeautifulSoup(html.content, 'html.parser')\n",
    "\n",
    "    # locate urls on page\n",
    "    results = soup.find(id='list')\n",
    "\n",
    "    results = results.find_all('a', class_='card-tip')\n",
    "\n",
    "    # convert urls to string and make a list\n",
    "    results = [str(result['href']) for result in results]\n",
    "\n",
    "    return results"
   ]
  },
  {
   "cell_type": "code",
   "execution_count": null,
   "id": "alleged-enforcement",
   "metadata": {},
   "outputs": [],
   "source": [
    "def get_icons(results):\n",
    "    '''Takes in request results for an arkhamdb page containing player card data\n",
    "       Returns a string containing the skill icons printed on that cart'''\n",
    "      \n",
    "    icons = ''\n",
    "\n",
    "    # list containing each icon type\n",
    "    icon_types = ['wild', 'willpower', 'combat', 'agility', 'intellect']\n",
    "\n",
    "    # itterate through icon types\n",
    "    for stat in icon_types:\n",
    "\n",
    "        # get number of that icon on card from request results\n",
    "        num_icons = len(results.find_all('span', class_=f'icon icon-{stat} color-{stat}'))\n",
    "\n",
    "        # add that icon name to a string for each time it appears in request results\n",
    "        for icon in range(num_icons):\n",
    "\n",
    "            icons += f'{stat} '\n",
    "            \n",
    "    return icons[:-1]"
   ]
  },
  {
   "cell_type": "code",
   "execution_count": 3,
   "id": "unlikely-conservation",
   "metadata": {},
   "outputs": [],
   "source": [
    "invest = get_cata_url('investigator')\n",
    "assets = get_cata_url('asset')\n",
    "events = get_cata_url('event')\n",
    "skills = get_cata_url('skill')"
   ]
  },
  {
   "cell_type": "code",
   "execution_count": 4,
   "id": "enormous-saint",
   "metadata": {},
   "outputs": [
    {
     "name": "stdout",
     "output_type": "stream",
     "text": [
      "['https://arkhamdb.com/card/02005', 'https://arkhamdb.com/card/01003', 'https://arkhamdb.com/card/01503', 'https://arkhamdb.com/card/01004', 'https://arkhamdb.com/card/01504', 'https://arkhamdb.com/card/03004']\n",
      "\n",
      "['https://arkhamdb.com/card/60505', 'https://arkhamdb.com/card/60522', 'https://arkhamdb.com/card/07025', 'https://arkhamdb.com/card/07305', 'https://arkhamdb.com/card/03020', 'https://arkhamdb.com/card/52001']\n",
      "\n",
      "['https://arkhamdb.com/card/03304', 'https://arkhamdb.com/card/52002', 'https://arkhamdb.com/card/06156', 'https://arkhamdb.com/card/08021', 'https://arkhamdb.com/card/60114', 'https://arkhamdb.com/card/60123']\n",
      "\n",
      "['https://arkhamdb.com/card/09002', 'https://arkhamdb.com/card/03272', 'https://arkhamdb.com/card/03233', 'https://arkhamdb.com/card/05038', 'https://arkhamdb.com/card/04309', 'https://arkhamdb.com/card/09049']\n",
      "\n"
     ]
    }
   ],
   "source": [
    "for cata in [invest, assets, events, skills]:\n",
    "    \n",
    "    print(cata[0:6])\n",
    "    print()"
   ]
  },
  {
   "cell_type": "code",
   "execution_count": 60,
   "id": "front-canyon",
   "metadata": {},
   "outputs": [
    {
     "name": "stdout",
     "output_type": "stream",
     "text": [
      "agility intellect \n"
     ]
    },
    {
     "ename": "AttributeError",
     "evalue": "'NoneType' object has no attribute 'text'",
     "output_type": "error",
     "traceback": [
      "\u001b[0;31m---------------------------------------------------------------------------\u001b[0m",
      "\u001b[0;31mAttributeError\u001b[0m                            Traceback (most recent call last)",
      "\u001b[0;32m<ipython-input-60-25560bd1afe7>\u001b[0m in \u001b[0;36m<module>\u001b[0;34m\u001b[0m\n\u001b[1;32m     16\u001b[0m \u001b[0mcata\u001b[0m \u001b[0;34m=\u001b[0m \u001b[0mresults\u001b[0m\u001b[0;34m.\u001b[0m\u001b[0mfind\u001b[0m\u001b[0;34m(\u001b[0m\u001b[0;34m'span'\u001b[0m\u001b[0;34m,\u001b[0m \u001b[0mclass_\u001b[0m\u001b[0;34m=\u001b[0m\u001b[0;34m'card-faction'\u001b[0m\u001b[0;34m)\u001b[0m\u001b[0;34m.\u001b[0m\u001b[0mtext\u001b[0m\u001b[0;34m\u001b[0m\u001b[0;34m\u001b[0m\u001b[0m\n\u001b[1;32m     17\u001b[0m \u001b[0;34m\u001b[0m\u001b[0m\n\u001b[0;32m---> 18\u001b[0;31m \u001b[0mtraits\u001b[0m \u001b[0;34m=\u001b[0m \u001b[0mresults\u001b[0m\u001b[0;34m.\u001b[0m\u001b[0mfind\u001b[0m\u001b[0;34m(\u001b[0m\u001b[0;34m'div'\u001b[0m\u001b[0;34m,\u001b[0m \u001b[0mclass_\u001b[0m\u001b[0;34m=\u001b[0m\u001b[0;34m'card-traits'\u001b[0m\u001b[0;34m)\u001b[0m\u001b[0;34m.\u001b[0m\u001b[0mtext\u001b[0m\u001b[0;34m\u001b[0m\u001b[0;34m\u001b[0m\u001b[0m\n\u001b[0m\u001b[1;32m     19\u001b[0m \u001b[0;34m\u001b[0m\u001b[0m\n\u001b[1;32m     20\u001b[0m \u001b[0;31m#ability = results.find('div', class_='card-text border-neutral').text\u001b[0m\u001b[0;34m\u001b[0m\u001b[0;34m\u001b[0m\u001b[0;34m\u001b[0m\u001b[0m\n",
      "\u001b[0;31mAttributeError\u001b[0m: 'NoneType' object has no attribute 'text'"
     ]
    }
   ],
   "source": [
    "# get url for page to scrape\n",
    "url = 'https://arkhamdb.com/card/05030'\n",
    "\n",
    "# create request and soup objects\n",
    "html = requests.get(url)\n",
    "\n",
    "soup = BeautifulSoup(html.content, 'html.parser')\n",
    "\n",
    "# locate urls on page\n",
    "results = soup.find(id='list')\n",
    "\n",
    "test_icons = get_icons(results)\n",
    "\n",
    "title = results.find('a', class_='card-name card-tip').text\n",
    "\n",
    "cata = results.find('span', class_='card-faction').text\n",
    "\n",
    "traits = results.find('div', class_='card-traits').text\n",
    "\n",
    "ability = results.find('div', class_='card-text border-neutral').text"
   ]
  },
  {
   "cell_type": "code",
   "execution_count": 63,
   "id": "ready-facility",
   "metadata": {},
   "outputs": [
    {
     "name": "stdout",
     "output_type": "stream",
     "text": [
      "Cunning\n",
      "\n"
     ]
    }
   ],
   "source": [
    "print(title)"
   ]
  },
  {
   "cell_type": "code",
   "execution_count": 61,
   "id": "variable-appointment",
   "metadata": {},
   "outputs": [
    {
     "data": {
      "text/plain": [
       "'agility intellect'"
      ]
     },
     "execution_count": 61,
     "metadata": {},
     "output_type": "execute_result"
    }
   ],
   "source": [
    "test_icons"
   ]
  },
  {
   "cell_type": "code",
   "execution_count": 36,
   "id": "beginning-allowance",
   "metadata": {},
   "outputs": [
    {
     "data": {
      "text/plain": [
       "<div class=\"card-text border-neutral\">\n",
       "<p>Carson Sinclair deck only.</p><p>Commit only to a skill test being performed by another investigator.</p><p>If this test succeeds, the performing investigator draws 1 card. If this test fails, you draw 1 card.</p>\n",
       "</div>"
      ]
     },
     "execution_count": 36,
     "metadata": {},
     "output_type": "execute_result"
    }
   ],
   "source": [
    "ability"
   ]
  },
  {
   "cell_type": "code",
   "execution_count": null,
   "id": "royal-motivation",
   "metadata": {},
   "outputs": [],
   "source": []
  }
 ],
 "metadata": {
  "kernelspec": {
   "display_name": "Python 3",
   "language": "python",
   "name": "python3"
  },
  "language_info": {
   "codemirror_mode": {
    "name": "ipython",
    "version": 3
   },
   "file_extension": ".py",
   "mimetype": "text/x-python",
   "name": "python",
   "nbconvert_exporter": "python",
   "pygments_lexer": "ipython3",
   "version": "3.7.4"
  }
 },
 "nbformat": 4,
 "nbformat_minor": 5
}
