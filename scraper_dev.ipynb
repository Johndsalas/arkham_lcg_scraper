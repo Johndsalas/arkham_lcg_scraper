{
 "cells": [
  {
   "cell_type": "code",
   "execution_count": 1,
   "id": "optional-content",
   "metadata": {},
   "outputs": [],
   "source": [
    "import requests\n",
    "import re\n",
    "from bs4 import BeautifulSoup\n",
    "import pandas as pd\n",
    "import main as m\n",
    "import regex as re"
   ]
  },
  {
   "cell_type": "code",
   "execution_count": 2,
   "id": "comparable-still",
   "metadata": {},
   "outputs": [],
   "source": [
    "# investigator \n",
    "# ablilities with embedid values not capturing correctly\n",
    "# Complex deck reqs not being captured correctly\n",
    "# some must includes not being captured correctly"
   ]
  },
  {
   "cell_type": "code",
   "execution_count": 3,
   "id": "royal-motivation",
   "metadata": {},
   "outputs": [
    {
     "name": "stdout",
     "output_type": "stream",
     "text": [
      "Getting investigator URL's...\n",
      "Getting asset URL's...\n",
      "Getting event URL's...\n",
      "Getting skill URL's...\n"
     ]
    }
   ],
   "source": [
    "invest, assets, events, skills = m.get_urls_by_type()\n"
   ]
  },
  {
   "cell_type": "code",
   "execution_count": 4,
   "id": "marine-newcastle",
   "metadata": {},
   "outputs": [],
   "source": [
    "##########################################Helper functions#########################################################\n",
    "def get_soup(url):\n",
    "    '''Child of get_skills_df\n",
    "       Takes in a url for a card\n",
    "       Returns html request result parsed using beautiful soup'''\n",
    "\n",
    "    # create request and soup objects\n",
    "    html = requests.get(url)\n",
    "\n",
    "    soup = BeautifulSoup(html.content, 'html.parser')\n",
    "\n",
    "    # locate urls on page and return\n",
    "    return soup.find(id='list')\n",
    "\n",
    "\n",
    "def get_text_for_icon(text):\n",
    "\n",
    "    # replace icon html with matching word in all caps\n",
    "    icon_types = [\n",
    "                  'action',\n",
    "                  'reaction',\n",
    "                  'wild', \n",
    "                  'willpower', \n",
    "                  'combat', \n",
    "                  'agility', \n",
    "                  'intellect', \n",
    "                  'wild',\n",
    "                  'curse', \n",
    "                  'bless',\n",
    "                  'rogue',\n",
    "                  'survivor',\n",
    "                  'seeker',\n",
    "                  'guardian',\n",
    "                  'mystic',\n",
    "                  'neutral',\n",
    "                  'skull',\n",
    "                  'tablet',\n",
    "                  'cultist',\n",
    "                  'elder sign']\n",
    "    \n",
    "    for icon in icon_types:\n",
    "    \n",
    "        text = text.replace(f'<span class=\"icon-{icon}\" title=\"{icon.capitalize()}\"></span>', \n",
    "                                  f'{icon.upper()}')\n",
    "        \n",
    "        text = text.replace(f'<div class=\"card-text border-{icon}\">\\n<p>', '')\n",
    "\n",
    "    text = text.replace(f'<span class=\"icon-wild\" title=\"Any Skill\"></span>', 'WILD')\n",
    "\n",
    "    text = text.replace(f'<span class=\"icon-elder_sign\" title=\"Elder Sign\"></span>', 'ELDER_SIGN')\n",
    "\n",
    "    text = text.replace(f'<span class=\"icon-elder_sign\" title=\"Elder Thing\"></span>', 'ELDER_THING')\n",
    "\n",
    "    text = text.replace(f'<span class=\"icon-lightning\" title=\"Fast Action\"></span>', 'FAST ACTION')\n",
    "\n",
    "    text = text.replace(f'<span class=\"icon-auto_fail\" title=\"Auto Fail\"></span>', 'TENTACLES')\n",
    "\n",
    "    return text\n",
    "\n",
    "def clean_html(text):\n",
    "\n",
    "    # delete extraneous html\n",
    "    dirt = [\n",
    "            '</p>\\n</div>',\n",
    "            '</p>',\n",
    "            '<p>',\n",
    "            '<b>',\n",
    "            '</b>',\n",
    "            '<br/',\n",
    "            '<1>',\n",
    "            '<i>',\n",
    "            '</i>',\n",
    "            '><span>']\n",
    "    \n",
    "    for item in dirt:\n",
    "        \n",
    "        text = text.replace(item,'')\n",
    "\n",
    "    return text"
   ]
  },
  {
   "cell_type": "code",
   "execution_count": null,
   "id": "favorite-chapter",
   "metadata": {},
   "outputs": [],
   "source": [
    "assets"
   ]
  },
  {
   "cell_type": "code",
   "execution_count": null,
   "id": "spread-invalid",
   "metadata": {},
   "outputs": [],
   "source": [
    "[           title, \n",
    "            faction, \n",
    "            tipe, \n",
    "            traits, \n",
    "            willpower, \n",
    "            intellect, \n",
    "            combat, \n",
    "            agility, \n",
    "            health, \n",
    "            sanity,\n",
    "            ability,\n",
    "            star, \n",
    "            artist,\n",
    "            expansion,\n",
    "            flavor,\n",
    "            deck_size,\n",
    "            class_choices,\n",
    "            secondary_class_selection,\n",
    "            deckbuilding_options,\n",
    "            deckbuilding_requirements,\n",
    "            additional_requirements,\n",
    "            additional_restrictions,\n",
    "            additional_setup,\n",
    "            trait_choice,\n",
    "            bonus_experience,\n",
    "            additional_upgrade_options]"
   ]
  },
  {
   "cell_type": "code",
   "execution_count": null,
   "id": "stuffed-frederick",
   "metadata": {},
   "outputs": [],
   "source": []
  }
 ],
 "metadata": {
  "kernelspec": {
   "display_name": "Python 3",
   "language": "python",
   "name": "python3"
  },
  "language_info": {
   "codemirror_mode": {
    "name": "ipython",
    "version": 3
   },
   "file_extension": ".py",
   "mimetype": "text/x-python",
   "name": "python",
   "nbconvert_exporter": "python",
   "pygments_lexer": "ipython3",
   "version": "3.7.4"
  }
 },
 "nbformat": 4,
 "nbformat_minor": 5
}
