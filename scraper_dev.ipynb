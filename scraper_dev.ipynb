{
 "cells": [
  {
   "cell_type": "code",
   "execution_count": 59,
   "id": "optional-content",
   "metadata": {},
   "outputs": [],
   "source": [
    "import requests\n",
    "import re\n",
    "from bs4 import BeautifulSoup\n",
    "import pandas as pd\n",
    "from arkham_scraper import get_urls_by_type, get_soup\n",
    "import regex as re"
   ]
  },
  {
   "cell_type": "code",
   "execution_count": 10,
   "id": "royal-motivation",
   "metadata": {},
   "outputs": [
    {
     "name": "stdout",
     "output_type": "stream",
     "text": [
      "Getting investigator URL's...\n",
      "Getting asset URL's...\n",
      "Getting event URL's...\n",
      "Getting skill URL's...\n"
     ]
    }
   ],
   "source": [
    "invest, assets, events, skills = get_urls_by_type()\n",
    "results = get_soup(invest[0])"
   ]
  },
  {
   "cell_type": "code",
   "execution_count": 5,
   "id": "aquatic-negative",
   "metadata": {},
   "outputs": [
    {
     "data": {
      "text/plain": [
       "'https://arkhamdb.com/card/02005'"
      ]
     },
     "execution_count": 5,
     "metadata": {},
     "output_type": "execute_result"
    }
   ],
   "source": [
    "invest[0]"
   ]
  },
  {
   "cell_type": "code",
   "execution_count": 6,
   "id": "electoral-marina",
   "metadata": {},
   "outputs": [
    {
     "ename": "IndentationError",
     "evalue": "unexpected indent (<ipython-input-6-cecd2ffda723>, line 2)",
     "output_type": "error",
     "traceback": [
      "\u001b[0;36m  File \u001b[0;32m\"<ipython-input-6-cecd2ffda723>\"\u001b[0;36m, line \u001b[0;32m2\u001b[0m\n\u001b[0;31m    investigator_traits = {'title':[],\u001b[0m\n\u001b[0m    ^\u001b[0m\n\u001b[0;31mIndentationError\u001b[0m\u001b[0;31m:\u001b[0m unexpected indent\n"
     ]
    }
   ],
   "source": [
    "# dictionary with empty traits\n",
    "    investigator_traits = {'title':[],\n",
    "                           'traits':[],\n",
    "                           'faction':[],  \n",
    "                           'willpower':[],\n",
    "                           'intellect':[],\n",
    "                           'combat':[],\n",
    "                           'agility':[],\n",
    "                           'health':[],\n",
    "                           'sanity':[],\n",
    "                           'ability':[],\n",
    "                           'type':[],\n",
    "                           'flavor':[],\n",
    "                           'artist':[],\n",
    "                           'expansion':[]}\n",
    "\n",
    "    print(\"Getting investigator cards...\")\n",
    "\n",
    "    # for each url get player card info from that page and add each element to skill_traits\n",
    "    for url in invest:\n",
    "\n",
    "        # make html request to arkham db and parse using BS\n",
    "        results = get_soup(url)\n",
    "\n",
    "        # get list of card elements card elements\n",
    "        trait_list = get_ability_traits(results)\n",
    "        \n",
    "        print(f'Getting investigator card {title}...')\n",
    "\n",
    "        # itterate through card element titles and add each to a dictionary\n",
    "        for i, key in enumerate(investigator_traits):\n",
    "\n",
    "            investigator_traits[key].append(trait_list[i])\n",
    "\n",
    "    print(\"Making dataframe...\")\n",
    "\n",
    "    # convert dictionary to dataframe\n",
    "    df_skill = pd.DataFrame(skill_traits)\n",
    "\n",
    "    return df_skill"
   ]
  },
  {
   "cell_type": "code",
   "execution_count": 8,
   "id": "straight-customer",
   "metadata": {},
   "outputs": [
    {
     "ename": "SyntaxError",
     "evalue": "invalid syntax (<ipython-input-8-dff859bd1c09>, line 9)",
     "output_type": "error",
     "traceback": [
      "\u001b[0;36m  File \u001b[0;32m\"<ipython-input-8-dff859bd1c09>\"\u001b[0;36m, line \u001b[0;32m9\u001b[0m\n\u001b[0;31m    result = [testing()*]\u001b[0m\n\u001b[0m                        ^\u001b[0m\n\u001b[0;31mSyntaxError\u001b[0m\u001b[0;31m:\u001b[0m invalid syntax\n"
     ]
    }
   ],
   "source": [
    "def get_ability_traits(results):\n",
    "    \n",
    "    'title':[],\n",
    "                           'traits':[],\n",
    "                           'faction':[],  \n",
    "                           'willpower':[],\n",
    "                           'intellect':[],\n",
    "                           'combat':[],\n",
    "                           'agility':[],\n",
    "                           'health':[],\n",
    "                           'sanity':[],\n",
    "                           'ability':[],\n",
    "                           'deck_size':[],\n",
    "                           'deckbuilding':[],\n",
    "                           'intro':[],\n",
    "                        \n",
    "                           'type':[],\n",
    "                           'flavor':[],\n",
    "                           'artist':[],\n",
    "                           'expansion':[]\n",
    "    \n",
    "    title = results.find('a', class_='card-name card-tip').text.replace('\\n', '').replace('\\t', '')\n",
    "    \n",
    "    traits = results.find('p', class_='card-traits').text.replace('\\n', '').replace('\\t', '')\n",
    "\n",
    "    faction = results.find('span', class_='card-faction').text.replace('\\n', '').replace('\\t', '')\n",
    "    \n",
    "    willpower =\n",
    "    \n",
    "    intellect =\n",
    "    \n",
    "    combat = \n",
    "    \n",
    "    agility =\n",
    "    \n",
    "    health =\n",
    "    \n",
    "    sanity =\n",
    "    \n",
    "    deck_size =\n",
    "    \n",
    "    deckbuilding = \n",
    "    \n",
    "    intro = \n",
    "\n",
    "    ability = get_ability(results)\n",
    "\n",
    "    tipe = results.find('span', class_='card-type').text.replace('\\n', '').replace('\\t', '')\n",
    "\n",
    "    flavor = results.find('div', class_='card-flavor small').text.replace('\\n', '').replace('\\t', '')\n",
    "\n",
    "    artist = results.find('div', class_='card-illustrator').text.replace('\\n', '').replace('\\t', '')\n",
    "\n",
    "    expansion = results.find('div', class_='card-pack').text.replace('\\n', '').replace('\\t', '').replace('.', '')\n",
    "    \n",
    "    \n",
    "    return [title, test_icons, traits, willpower, intellect, combat, agility, health, sanity, faction, ability, tipe, flavor, artist, expansion]"
   ]
  },
  {
   "cell_type": "code",
   "execution_count": null,
   "id": "statewide-pregnancy",
   "metadata": {},
   "outputs": [],
   "source": [
    "    deck_size =\n",
    "    \n",
    "    deckbuilding = \n",
    "    \n",
    "    intro = "
   ]
  },
  {
   "cell_type": "code",
   "execution_count": 36,
   "id": "becoming-wednesday",
   "metadata": {},
   "outputs": [],
   "source": [
    "def get_stat_line(results):\n",
    "    \n",
    "    stat_line = results.find('div', class_='card-props').text.replace('\\n', '').replace('\\t', '')\n",
    "\n",
    "    stat_list = [int(char) for char in str(stat_line) if char.isnumeric() == True]\n",
    "\n",
    "    return stat_list[0], stat_list[1], stat_list[2], stat_list[3]\n",
    "\n",
    "\n",
    "def get_stamana_line(results):\n",
    "    \n",
    "    stat_line = results.find('div', class_='card-props').find_next().text.replace('\\n', '').replace('\\t', '')\n",
    "\n",
    "    stat_list = [int(char) for char in str(stat_line) if char.isnumeric() == True]\n",
    "\n",
    "    return stat_list[0], stat_list[1]"
   ]
  },
  {
   "cell_type": "code",
   "execution_count": 11,
   "id": "blond-motor",
   "metadata": {},
   "outputs": [],
   "source": [
    "title = results.find('a', class_='card-name card-tip').text.replace('\\n', '').replace('\\t', '')\n",
    "\n",
    "willpower, intellect, combat, agility = get_stat_line(results)\n",
    "\n",
    "health, sanity = get_stamana_line(results)\n",
    "\n",
    "traits = results.find('p', class_='card-traits').text.replace('\\n', '').replace('\\t', '')\n",
    "\n",
    "faction = results.find('span', class_='card-faction').text.replace('\\n', '').replace('\\t', '')\n",
    "\n",
    "tipe = results.find('span', class_='card-type').text.replace('\\n', '').replace('\\t', '')\n",
    "\n",
    "flavor = results.find('div', class_='card-flavor small').text.replace('\\n', '').replace('\\t', '')\n",
    "\n",
    "artist = results.find('div', class_='card-illustrator').text.replace('\\n', '').replace('\\t', '')\n",
    "\n",
    "expansion = results.find('div', class_='card-pack').text.replace('\\n', '').replace('\\t', '').replace('.', '')\n"
   ]
  },
  {
   "cell_type": "code",
   "execution_count": 76,
   "id": "automatic-sport",
   "metadata": {},
   "outputs": [
    {
     "data": {
      "text/plain": [
       "30"
      ]
     },
     "execution_count": 76,
     "metadata": {},
     "output_type": "execute_result"
    }
   ],
   "source": [
    "text = str(results.find_all('div', class_='card-text border-survivor')[1])\n",
    "\n",
    "deck_size = int(re.search(r'[0-9]{2}', text)[0])\n",
    "\n",
    "deck_size\n",
    "\n"
   ]
  },
  {
   "cell_type": "code",
   "execution_count": null,
   "id": "cutting-height",
   "metadata": {},
   "outputs": [],
   "source": []
  },
  {
   "cell_type": "code",
   "execution_count": 12,
   "id": "periodic-corruption",
   "metadata": {},
   "outputs": [
    {
     "data": {
      "text/plain": [
       "'\"Ashcan\" Pete'"
      ]
     },
     "execution_count": 12,
     "metadata": {},
     "output_type": "execute_result"
    }
   ],
   "source": [
    "title"
   ]
  },
  {
   "cell_type": "code",
   "execution_count": 13,
   "id": "interpreted-message",
   "metadata": {},
   "outputs": [
    {
     "data": {
      "text/plain": [
       "'Drifter.'"
      ]
     },
     "execution_count": 13,
     "metadata": {},
     "output_type": "execute_result"
    }
   ],
   "source": [
    "traits"
   ]
  },
  {
   "cell_type": "code",
   "execution_count": 14,
   "id": "heard-involvement",
   "metadata": {},
   "outputs": [
    {
     "data": {
      "text/plain": [
       "'Survivor'"
      ]
     },
     "execution_count": 14,
     "metadata": {},
     "output_type": "execute_result"
    }
   ],
   "source": [
    "faction"
   ]
  },
  {
   "cell_type": "code",
   "execution_count": 15,
   "id": "radio-providence",
   "metadata": {},
   "outputs": [
    {
     "data": {
      "text/plain": [
       "'Investigator'"
      ]
     },
     "execution_count": 15,
     "metadata": {},
     "output_type": "execute_result"
    }
   ],
   "source": [
    "tipe"
   ]
  },
  {
   "cell_type": "code",
   "execution_count": 16,
   "id": "distinct-johns",
   "metadata": {},
   "outputs": [
    {
     "data": {
      "text/plain": [
       "'\"C\\'mere, boy. We got work to do.\"'"
      ]
     },
     "execution_count": 16,
     "metadata": {},
     "output_type": "execute_result"
    }
   ],
   "source": [
    "flavor"
   ]
  },
  {
   "cell_type": "code",
   "execution_count": 17,
   "id": "latter-shame",
   "metadata": {},
   "outputs": [
    {
     "data": {
      "text/plain": [
       "'Jake Murray'"
      ]
     },
     "execution_count": 17,
     "metadata": {},
     "output_type": "execute_result"
    }
   ],
   "source": [
    "artist"
   ]
  },
  {
   "cell_type": "code",
   "execution_count": 19,
   "id": "contemporary-benjamin",
   "metadata": {},
   "outputs": [
    {
     "data": {
      "text/plain": [
       "'The Dunwich Legacy #5'"
      ]
     },
     "execution_count": 19,
     "metadata": {},
     "output_type": "execute_result"
    }
   ],
   "source": [
    "expansion"
   ]
  },
  {
   "cell_type": "code",
   "execution_count": null,
   "id": "spread-invalid",
   "metadata": {},
   "outputs": [],
   "source": []
  }
 ],
 "metadata": {
  "kernelspec": {
   "display_name": "Python 3",
   "language": "python",
   "name": "python3"
  },
  "language_info": {
   "codemirror_mode": {
    "name": "ipython",
    "version": 3
   },
   "file_extension": ".py",
   "mimetype": "text/x-python",
   "name": "python",
   "nbconvert_exporter": "python",
   "pygments_lexer": "ipython3",
   "version": "3.7.4"
  }
 },
 "nbformat": 4,
 "nbformat_minor": 5
}
