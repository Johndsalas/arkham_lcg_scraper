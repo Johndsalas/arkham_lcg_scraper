{
 "cells": [
  {
   "cell_type": "code",
   "execution_count": 1,
   "id": "optional-content",
   "metadata": {},
   "outputs": [],
   "source": [
    "import requests\n",
    "import re\n",
    "from bs4 import BeautifulSoup\n",
    "import pandas as pd\n",
    "import main as m\n",
    "import regex as re"
   ]
  },
  {
   "cell_type": "code",
   "execution_count": 2,
   "id": "royal-motivation",
   "metadata": {},
   "outputs": [
    {
     "name": "stdout",
     "output_type": "stream",
     "text": [
      "Getting investigator URL's...\n",
      "Getting asset URL's...\n",
      "Getting event URL's...\n",
      "Getting skill URL's...\n"
     ]
    }
   ],
   "source": [
    "invest, assets, events, skills = m.get_urls_by_type()\n"
   ]
  },
  {
   "cell_type": "code",
   "execution_count": 3,
   "id": "marine-newcastle",
   "metadata": {},
   "outputs": [],
   "source": [
    "##########################################Get soup request#########################################################\n",
    "def get_soup(url):\n",
    "    '''Child of get_skills_df\n",
    "       Takes in a url for a card\n",
    "       Returns html request result parsed using beautiful soup'''\n",
    "\n",
    "    # create request and soup objects\n",
    "    html = requests.get(url)\n",
    "\n",
    "    soup = BeautifulSoup(html.content, 'html.parser')\n",
    "\n",
    "    # locate urls on page and return\n",
    "    return soup.find(id='list')"
   ]
  },
  {
   "cell_type": "code",
   "execution_count": 4,
   "id": "respiratory-nicaragua",
   "metadata": {},
   "outputs": [],
   "source": [
    "# 'title':[], # name + title\n",
    "# 'faction':[],\n",
    "# 'type':[],\n",
    "# 'traits':[],                      \n",
    "# 'willpower':[],\n",
    "# 'intellect':[],\n",
    "# 'combat':[],\n",
    "# 'agility':[],                       \n",
    "# 'health':[],\n",
    "# 'sanity':[],                     \n",
    "# 'ability':[],\n",
    "# 'artist':[],\n",
    "# 'expansion':[],\n",
    "# 'deck_size':[],\n",
    "# 'deckbuilding':[], # Options + Reqs"
   ]
  },
  {
   "cell_type": "code",
   "execution_count": 99,
   "id": "loved-edward",
   "metadata": {},
   "outputs": [],
   "source": [
    "def get_stat_line(results):\n",
    "    \n",
    "    stat_line = results.find('div', class_='card-props').text.replace('\\n', '').replace('\\t', '')\n",
    "\n",
    "    stat_list = [int(char) for char in str(stat_line) if char.isnumeric() == True]\n",
    "\n",
    "    return stat_list[0], stat_list[1], stat_list[2], stat_list[3]\n",
    "\n",
    "\n",
    "def get_stam_line(results):\n",
    "    \n",
    "    stat_line = results.find('div', class_='card-props').find_next().text.replace('\\n', '').replace('\\t', '')\n",
    "\n",
    "    stat_list = [int(char) for char in str(stat_line) if char.isnumeric() == True]\n",
    "\n",
    "    return stat_list[0], stat_list[1]\n",
    "\n",
    "\n",
    "def get_deck_reqs(results):\n",
    "    \n",
    "    deck = results.find_all('div', class_=f'card-text border-{faction.lower()}')[1].text\n",
    "\n",
    "    deck_split = re.split(':', deck)\n",
    "\n",
    "    deck_size = re.search('[0-9]{2}', deck_split[1]).group()\n",
    "    \n",
    "    deck_options = re.search('^(.*?\\.)', deck_split[2]).group()[1:-1].replace('(', '').replace(')', '').replace('  ', ' ')\n",
    "\n",
    "    must_include = re.search('^(.*?\\.)', deck_split[3]).group()[1:-1].replace('(', '').replace(')', '').replace('  ', ' ')\n",
    "    \n",
    "    return deck_size, deck_options, must_include"
   ]
  },
  {
   "cell_type": "code",
   "execution_count": 100,
   "id": "published-sound",
   "metadata": {},
   "outputs": [],
   "source": [
    "# # make df\n",
    "\n",
    "#     # for each url get player card info from that page and add each element to skill_traits\n",
    "#     for url in invest:\n",
    "\n",
    "#         # make html request to arkham db and parse using BS\n",
    "#         results = get_soup(url)\n",
    "\n",
    "#         # get list of card elements card elements\n",
    "#         trait_list = get_ability_traits(results)\n",
    "        \n",
    "#         print(f'Getting investigator card {title}...')\n",
    "\n",
    "#         # itterate through card element titles and add each to a dictionary\n",
    "#         for i, key in enumerate(investigator_traits):\n",
    "\n",
    "#             investigator_traits[key].append(trait_list[i])\n",
    "\n",
    "#     print(\"Making dataframe...\")\n",
    "\n",
    "#     # convert dictionary to dataframe\n",
    "#     df_skill = pd.DataFrame(skill_traits)\n",
    "\n",
    "#     return df_skill"
   ]
  },
  {
   "cell_type": "code",
   "execution_count": 101,
   "id": "frozen-sigma",
   "metadata": {},
   "outputs": [],
   "source": [
    "# [title, test_icons, traits, willpower, intellect, combat, agility, health, sanity, faction, ability, tipe, flavor, artist, expansion]"
   ]
  },
  {
   "cell_type": "code",
   "execution_count": 119,
   "id": "legal-french",
   "metadata": {},
   "outputs": [],
   "source": [
    "# Investigator Traits\n",
    "\n",
    "results = get_soup(invest[20])\n",
    "\n",
    "title = results.find('a', class_='card-name card-tip').text.replace('\\n', '').replace('\\t', '')\n",
    "\n",
    "faction = results.find('span', class_='card-faction').text.replace('\\n', '').replace('\\t', '')\n",
    "\n",
    "tipe = results.find('span', class_='card-type').text.replace('\\n', '').replace('\\t', '')\n",
    "\n",
    "traits = results.find('p', class_='card-traits').text.replace('\\n', '').replace('\\t', '')\n",
    "\n",
    "willpower, intellect, combat, agility = get_stat_line(results)\n",
    "\n",
    "health, sanity = get_stam_line(results)\n",
    "\n",
    "ability = results.find('div', class_=f'card-text border-{faction.lower()}').text.replace('\\n', '').replace('\\t', '')\n",
    "\n",
    "artist = results.find('div', class_='card-illustrator').text.replace('\\n', '').replace('\\t', '')\n",
    "\n",
    "expansion = results.find('div', class_='card-pack').text.replace('\\n', '').replace('\\t', '').replace('.', '') \n",
    "\n",
    "flavor = results.find('div', class_='card-flavor small').text.replace('\\n', '').replace('\\t', '')\n",
    "\n",
    "deck_size, deck_options, must_include = get_deck_reqs(results)"
   ]
  },
  {
   "cell_type": "code",
   "execution_count": 139,
   "id": "creative-argentina",
   "metadata": {},
   "outputs": [
    {
     "data": {
      "text/plain": [
       "''"
      ]
     },
     "execution_count": 139,
     "metadata": {},
     "output_type": "execute_result"
    }
   ],
   "source": [
    "results.find('div', class_='card-flavor small').text.replace('\\n', '').replace('\\t', '')"
   ]
  },
  {
   "cell_type": "code",
   "execution_count": 86,
   "id": "headed-contract",
   "metadata": {},
   "outputs": [
    {
     "data": {
      "text/plain": [
       "'\\nDeck Size: 35.Deckbuilding Options: Mystic cards () level 0-5, Guardian cards () level 0-2, Neutral cards level 0-5.Deckbuilding Requirements (do not count toward deck size): Twilight Blade, Dark Insight, Terrible Secret, 1 random basic weakness.Additional Setup: You begin each game with Dark Insight as an additional card in your opening hand.\\n'"
      ]
     },
     "execution_count": 86,
     "metadata": {},
     "output_type": "execute_result"
    }
   ],
   "source": [
    "results.find_all('div', class_=f'card-text border-{faction.lower()}')[1].text"
   ]
  },
  {
   "cell_type": "code",
   "execution_count": 120,
   "id": "periodic-corruption",
   "metadata": {},
   "outputs": [
    {
     "data": {
      "text/plain": [
       "'Diana Stanley'"
      ]
     },
     "execution_count": 120,
     "metadata": {},
     "output_type": "execute_result"
    }
   ],
   "source": [
    "title"
   ]
  },
  {
   "cell_type": "code",
   "execution_count": 121,
   "id": "romance-legislature",
   "metadata": {},
   "outputs": [
    {
     "data": {
      "text/plain": [
       "'Mystic'"
      ]
     },
     "execution_count": 121,
     "metadata": {},
     "output_type": "execute_result"
    }
   ],
   "source": [
    "faction"
   ]
  },
  {
   "cell_type": "code",
   "execution_count": 122,
   "id": "israeli-scott",
   "metadata": {},
   "outputs": [
    {
     "data": {
      "text/plain": [
       "'Investigator'"
      ]
     },
     "execution_count": 122,
     "metadata": {},
     "output_type": "execute_result"
    }
   ],
   "source": [
    "tipe"
   ]
  },
  {
   "cell_type": "code",
   "execution_count": 123,
   "id": "interpreted-message",
   "metadata": {},
   "outputs": [
    {
     "data": {
      "text/plain": [
       "'Cultist. Silver Twilight.'"
      ]
     },
     "execution_count": 123,
     "metadata": {},
     "output_type": "execute_result"
    }
   ],
   "source": [
    "traits"
   ]
  },
  {
   "cell_type": "code",
   "execution_count": 124,
   "id": "heard-involvement",
   "metadata": {},
   "outputs": [
    {
     "data": {
      "text/plain": [
       "1"
      ]
     },
     "execution_count": 124,
     "metadata": {},
     "output_type": "execute_result"
    }
   ],
   "source": [
    "willpower"
   ]
  },
  {
   "cell_type": "code",
   "execution_count": 125,
   "id": "radio-providence",
   "metadata": {},
   "outputs": [
    {
     "data": {
      "text/plain": [
       "3"
      ]
     },
     "execution_count": 125,
     "metadata": {},
     "output_type": "execute_result"
    }
   ],
   "source": [
    "intellect"
   ]
  },
  {
   "cell_type": "code",
   "execution_count": 126,
   "id": "dress-maple",
   "metadata": {},
   "outputs": [
    {
     "data": {
      "text/plain": [
       "3"
      ]
     },
     "execution_count": 126,
     "metadata": {},
     "output_type": "execute_result"
    }
   ],
   "source": [
    "combat"
   ]
  },
  {
   "cell_type": "code",
   "execution_count": 127,
   "id": "instant-chicago",
   "metadata": {},
   "outputs": [
    {
     "data": {
      "text/plain": [
       "3"
      ]
     },
     "execution_count": 127,
     "metadata": {},
     "output_type": "execute_result"
    }
   ],
   "source": [
    "agility"
   ]
  },
  {
   "cell_type": "code",
   "execution_count": 128,
   "id": "broad-wrist",
   "metadata": {},
   "outputs": [
    {
     "data": {
      "text/plain": [
       "7"
      ]
     },
     "execution_count": 128,
     "metadata": {},
     "output_type": "execute_result"
    }
   ],
   "source": [
    "health"
   ]
  },
  {
   "cell_type": "code",
   "execution_count": 129,
   "id": "compact-wichita",
   "metadata": {},
   "outputs": [
    {
     "data": {
      "text/plain": [
       "7"
      ]
     },
     "execution_count": 129,
     "metadata": {},
     "output_type": "execute_result"
    }
   ],
   "source": [
    "sanity"
   ]
  },
  {
   "cell_type": "code",
   "execution_count": 130,
   "id": "compliant-quarter",
   "metadata": {},
   "outputs": [
    {
     "data": {
      "text/plain": [
       "'Diana Stanley gets +1  for each card beneath her. After a card you own cancels or ignores a card effect or game effect, if there are fewer than 5 cards beneath Diana Stanley: Place that card facedown beneath her. Draw 1 card and gain 1 resource. (Limit once per phase.) effect: +2. You may choose a card beneath Diana Stanley and add it to your hand.'"
      ]
     },
     "execution_count": 130,
     "metadata": {},
     "output_type": "execute_result"
    }
   ],
   "source": [
    "ability"
   ]
  },
  {
   "cell_type": "code",
   "execution_count": 131,
   "id": "personal-clear",
   "metadata": {},
   "outputs": [
    {
     "data": {
      "text/plain": [
       "'Magali Villeneuve'"
      ]
     },
     "execution_count": 131,
     "metadata": {},
     "output_type": "execute_result"
    }
   ],
   "source": [
    "artist"
   ]
  },
  {
   "cell_type": "code",
   "execution_count": 132,
   "id": "married-pontiac",
   "metadata": {},
   "outputs": [
    {
     "data": {
      "text/plain": [
       "'The Circle Undone #4'"
      ]
     },
     "execution_count": 132,
     "metadata": {},
     "output_type": "execute_result"
    }
   ],
   "source": [
    "expansion"
   ]
  },
  {
   "cell_type": "code",
   "execution_count": 133,
   "id": "mental-norman",
   "metadata": {},
   "outputs": [
    {
     "data": {
      "text/plain": [
       "'35'"
      ]
     },
     "execution_count": 133,
     "metadata": {},
     "output_type": "execute_result"
    }
   ],
   "source": [
    "deck_size"
   ]
  },
  {
   "cell_type": "code",
   "execution_count": 134,
   "id": "distinct-johns",
   "metadata": {},
   "outputs": [
    {
     "data": {
      "text/plain": [
       "''"
      ]
     },
     "execution_count": 134,
     "metadata": {},
     "output_type": "execute_result"
    }
   ],
   "source": [
    "flavor"
   ]
  },
  {
   "cell_type": "code",
   "execution_count": 136,
   "id": "latter-shame",
   "metadata": {},
   "outputs": [
    {
     "data": {
      "text/plain": [
       "'35'"
      ]
     },
     "execution_count": 136,
     "metadata": {},
     "output_type": "execute_result"
    }
   ],
   "source": [
    "deck_size"
   ]
  },
  {
   "cell_type": "code",
   "execution_count": 137,
   "id": "smoking-mobile",
   "metadata": {},
   "outputs": [
    {
     "data": {
      "text/plain": [
       "'Mystic cards level 0-5, Guardian cards level 0-2, Neutral cards level 0-5'"
      ]
     },
     "execution_count": 137,
     "metadata": {},
     "output_type": "execute_result"
    }
   ],
   "source": [
    "deck_options"
   ]
  },
  {
   "cell_type": "code",
   "execution_count": 138,
   "id": "contemporary-benjamin",
   "metadata": {},
   "outputs": [
    {
     "data": {
      "text/plain": [
       "'Twilight Blade, Dark Insight, Terrible Secret, 1 random basic weakness'"
      ]
     },
     "execution_count": 138,
     "metadata": {},
     "output_type": "execute_result"
    }
   ],
   "source": [
    "must_include "
   ]
  },
  {
   "cell_type": "code",
   "execution_count": null,
   "id": "spread-invalid",
   "metadata": {},
   "outputs": [],
   "source": []
  },
  {
   "cell_type": "code",
   "execution_count": null,
   "id": "loose-proposition",
   "metadata": {},
   "outputs": [],
   "source": []
  },
  {
   "cell_type": "code",
   "execution_count": null,
   "id": "stuffed-frederick",
   "metadata": {},
   "outputs": [],
   "source": []
  }
 ],
 "metadata": {
  "kernelspec": {
   "display_name": "Python 3",
   "language": "python",
   "name": "python3"
  },
  "language_info": {
   "codemirror_mode": {
    "name": "ipython",
    "version": 3
   },
   "file_extension": ".py",
   "mimetype": "text/x-python",
   "name": "python",
   "nbconvert_exporter": "python",
   "pygments_lexer": "ipython3",
   "version": "3.7.4"
  }
 },
 "nbformat": 4,
 "nbformat_minor": 5
}
