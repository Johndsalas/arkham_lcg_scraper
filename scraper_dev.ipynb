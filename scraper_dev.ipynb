{
 "cells": [
  {
   "cell_type": "code",
   "execution_count": 1,
   "id": "optional-content",
   "metadata": {},
   "outputs": [],
   "source": [
    "import requests\n",
    "import re\n",
    "from bs4 import BeautifulSoup\n",
    "import pandas as pd\n",
    "import main as m\n",
    "import regex as re"
   ]
  },
  {
   "cell_type": "code",
   "execution_count": 2,
   "id": "comparable-still",
   "metadata": {},
   "outputs": [],
   "source": [
    "# investigator \n",
    "# ablilities with embedid values not capturing correctly\n",
    "# Complex deck reqs not being captured correctly\n",
    "# some must includes not being captured correctly"
   ]
  },
  {
   "cell_type": "code",
   "execution_count": 3,
   "id": "royal-motivation",
   "metadata": {},
   "outputs": [
    {
     "name": "stdout",
     "output_type": "stream",
     "text": [
      "Getting investigator URL's...\n",
      "Getting asset URL's...\n",
      "Getting event URL's...\n",
      "Getting skill URL's...\n"
     ]
    }
   ],
   "source": [
    "invest, assets, events, skills = m.get_urls_by_type()\n"
   ]
  },
  {
   "cell_type": "code",
   "execution_count": 4,
   "id": "marine-newcastle",
   "metadata": {},
   "outputs": [],
   "source": [
    "##########################################Get soup request#########################################################\n",
    "def get_soup(url):\n",
    "    '''Child of get_skills_df\n",
    "       Takes in a url for a card\n",
    "       Returns html request result parsed using beautiful soup'''\n",
    "\n",
    "    # create request and soup objects\n",
    "    html = requests.get(url)\n",
    "\n",
    "    soup = BeautifulSoup(html.content, 'html.parser')\n",
    "\n",
    "    # locate urls on page and return\n",
    "    return soup.find(id='list')"
   ]
  },
  {
   "cell_type": "code",
   "execution_count": 5,
   "id": "respiratory-nicaragua",
   "metadata": {},
   "outputs": [],
   "source": [
    "def clean_ability_string(ability):\n",
    "    \n",
    "    # replace icon html with matching word in all caps\n",
    "    icon_types = [\n",
    "                  'reaction',\n",
    "                  'wild', \n",
    "                  'willpower', \n",
    "                  'combat', \n",
    "                  'agility', \n",
    "                  'intellect', \n",
    "                  'wild',\n",
    "                  'curse', \n",
    "                  'bless',\n",
    "                  'rogue',\n",
    "                  'survivor',\n",
    "                  'seeker',\n",
    "                  'guardian',\n",
    "                  'mystic',\n",
    "                  'neutral',\n",
    "                  'skull',\n",
    "                  'tablet',\n",
    "                  'cultist',\n",
    "                  'elder sign']\n",
    "    \n",
    "    for icon in icon_types:\n",
    "    \n",
    "        ability = ability.replace(f'<span class=\"icon-{icon}\" title=\"{icon.capitalize()}\"></span>', \n",
    "                                  f'{icon.upper()}')\n",
    "        \n",
    "        ability = ability.replace(f'<div class=\"card-text border-{icon}\">\\n<p>', '')\n",
    "\n",
    "    ability = ability.replace(f'<span class=\"icon-wild\" title=\"Any Skill\"></span>', 'WILD')\n",
    "\n",
    "    ability = ability.replace(f'<span class=\"icon-elder_sign\" title=\"Elder Sign\"></span>', 'ELDER_SIGN')\n",
    "\n",
    "    ability = ability.replace(f'<span class=\"icon-elder_sign\" title=\"Elder Thing\"></span>', 'ELDER_THING')\n",
    "\n",
    "    # delete extraneous html\n",
    "    dirt = [\n",
    "            '</p>\\n</div>',\n",
    "            '</p>',\n",
    "            '<p>',\n",
    "            '<b>',\n",
    "            '</b>',\n",
    "            '<br/',\n",
    "            '<1>',\n",
    "            '<i>',\n",
    "            '</i>',\n",
    "            '><span>',]\n",
    "    \n",
    "    for item in dirt:\n",
    "        \n",
    "        ability = ability.replace(item,'')\n",
    "\n",
    "    return ability"
   ]
  },
  {
   "cell_type": "code",
   "execution_count": 6,
   "id": "loved-edward",
   "metadata": {},
   "outputs": [],
   "source": [
    "def get_stat_line(results):\n",
    "    \n",
    "    stat_line = results.find('div', class_='card-props').text.replace('\\n', '').replace('\\t', '')\n",
    "\n",
    "    stat_list = [int(char) for char in str(stat_line) if char.isnumeric() == True]\n",
    "\n",
    "    return stat_list[0], stat_list[1], stat_list[2], stat_list[3]\n",
    "\n",
    "\n",
    "def get_stam_line(results):\n",
    "    \n",
    "    stat_line = results.find('div', class_='card-props').find_next().text.replace('\\n', '').replace('\\t', '')\n",
    "\n",
    "    stat_list = [int(char) for char in str(stat_line) if char.isnumeric() == True]\n",
    "\n",
    "    return stat_list[0], stat_list[1]\n",
    "\n",
    "\n",
    "def get_deck_reqs(results, faction):\n",
    "\n",
    "    deck = results.find_all('div', class_=f'card-text border-{faction.lower()}')[1].text\n",
    "\n",
    "    pattern = r'(?:\\b(?:Deck Size|Deckbuilding Options|Deckbuilding Requirements|Additional Setup):|\\b\\s*)([^:\\n]+)'\n",
    "\n",
    "    deck_split = re.findall(pattern, str(deck))\n",
    "\n",
    "    deck_size = re.search('[0-9]{2}', deck_split[0]).group()\n",
    "\n",
    "    deck_options = deck_split[1].replace('Deckbuilding Requirements (do not count toward deck size)', '').replace('(', '').replace(')', '').replace('  ', ' ')\n",
    "\n",
    "    must_include = deck_split[2].replace('.Additional Setup', '')\n",
    "\n",
    "    try:\n",
    "\n",
    "        setup = deck_split[3]\n",
    "\n",
    "    except:\n",
    "\n",
    "        setup = NONE\n",
    "\n",
    "    return deck_size, deck_options, must_include, setup"
   ]
  },
  {
   "cell_type": "code",
   "execution_count": 7,
   "id": "occupational-lunch",
   "metadata": {},
   "outputs": [],
   "source": [
    "def get_invest_traits(results):\n",
    "    '''Scrapes and returns investigator card data'''\n",
    "\n",
    "    title = results.find('a', class_='card-name card-tip').text.replace('\\n', '').replace('\\t', '')\n",
    "\n",
    "    faction = results.find('span', class_='card-faction').text.replace('\\n', '').replace('\\t', '')\n",
    "\n",
    "    tipe = results.find('span', class_='card-type').text.replace('\\n', '').replace('\\t', '')\n",
    "\n",
    "    traits = results.find('p', class_='card-traits').text.replace('\\n', '').replace('\\t', '')\n",
    "\n",
    "    willpower, intellect, combat, agility = get_stat_line(results)\n",
    "\n",
    "    health, sanity = get_stam_line(results)\n",
    "   \n",
    "    ability = results.find('div', class_=f'card-text border-{faction.lower()}').text.replace('\\n', '').replace('\\t', '')\n",
    "\n",
    "    artist = results.find('div', class_='card-illustrator').text.replace('\\n', '').replace('\\t', '')\n",
    "\n",
    "    expansion = results.find('div', class_='card-pack').text.replace('\\n', '').replace('\\t', '').replace('.', '') \n",
    "\n",
    "    try:\n",
    "        \n",
    "        flavor = results.find_all('div', class_='card-flavor small')[1].text.replace('\\n', '').replace('\\t', '')\n",
    "\n",
    "    except:\n",
    "        \n",
    "        flavor = ''\n",
    "        \n",
    "    deck_size, deck_options, must_include, setup = get_deck_reqs(results, faction)\n",
    "    \n",
    "    return [title, \n",
    "            faction, \n",
    "            tipe, \n",
    "            traits, \n",
    "            willpower, \n",
    "            intellect, \n",
    "            combat, \n",
    "            agility, \n",
    "            health, \n",
    "            sanity,\n",
    "            ability, \n",
    "            artist,\n",
    "            expansion,\n",
    "            flavor,\n",
    "            deck_size,\n",
    "            deck_options,\n",
    "            must_include,\n",
    "            setup]"
   ]
  },
  {
   "cell_type": "code",
   "execution_count": 8,
   "id": "published-sound",
   "metadata": {},
   "outputs": [],
   "source": [
    "# make empty df\n",
    "\n",
    "def get_invest_df():\n",
    "\n",
    "    investigator_traits = { 'title':[],\n",
    "                            'faction':[],\n",
    "                            'type':[],\n",
    "                            'traits':[],                      \n",
    "                            'willpower':[],\n",
    "                            'intellect':[],\n",
    "                            'combat':[],\n",
    "                            'agility':[],                       \n",
    "                            'health':[],\n",
    "                            'sanity':[],                     \n",
    "                            'ability':[],\n",
    "                            'artist':[],\n",
    "                            'expansion':[],\n",
    "                            'flavor':[],\n",
    "                            'deck_size':[],\n",
    "                            'deck_options':[],\n",
    "                            'must_include':[],\n",
    "                            'setup':[]}\n",
    "\n",
    "    # for each url get player card info from that page and add each element to skill_traits\n",
    "    for url in invest:\n",
    "\n",
    "        # make html request to arkham db and parse using BS\n",
    "        results = get_soup(url)\n",
    "\n",
    "        # get list of card elements card elements\n",
    "        trait_list = get_invest_traits(results)\n",
    "\n",
    "        print(f'Getting investigator card {trait_list[0]}...')\n",
    "\n",
    "        # itterate through card element titles and add each to a dictionary\n",
    "        for i, key in enumerate(investigator_traits):\n",
    "\n",
    "            investigator_traits[key].append(trait_list[i])\n",
    "\n",
    "    print(\"Making dataframe...\")\n",
    "\n",
    "    return pd.DataFrame(investigator_traits)"
   ]
  },
  {
   "cell_type": "code",
   "execution_count": 9,
   "id": "duplicate-classification",
   "metadata": {},
   "outputs": [
    {
     "ename": "NameError",
     "evalue": "name 'NONE' is not defined",
     "output_type": "error",
     "traceback": [
      "\u001b[0;31m---------------------------------------------------------------------------\u001b[0m",
      "\u001b[0;31mIndexError\u001b[0m                                Traceback (most recent call last)",
      "\u001b[0;32m<ipython-input-6-0a03d7a4ccf2>\u001b[0m in \u001b[0;36mget_deck_reqs\u001b[0;34m(results, faction)\u001b[0m\n\u001b[1;32m     34\u001b[0m \u001b[0;34m\u001b[0m\u001b[0m\n\u001b[0;32m---> 35\u001b[0;31m         \u001b[0msetup\u001b[0m \u001b[0;34m=\u001b[0m \u001b[0mdeck_split\u001b[0m\u001b[0;34m[\u001b[0m\u001b[0;36m3\u001b[0m\u001b[0;34m]\u001b[0m\u001b[0;34m\u001b[0m\u001b[0;34m\u001b[0m\u001b[0m\n\u001b[0m\u001b[1;32m     36\u001b[0m \u001b[0;34m\u001b[0m\u001b[0m\n",
      "\u001b[0;31mIndexError\u001b[0m: list index out of range",
      "\nDuring handling of the above exception, another exception occurred:\n",
      "\u001b[0;31mNameError\u001b[0m                                 Traceback (most recent call last)",
      "\u001b[0;32m<ipython-input-9-35ae40ae34d5>\u001b[0m in \u001b[0;36m<module>\u001b[0;34m\u001b[0m\n\u001b[0;32m----> 1\u001b[0;31m \u001b[0mget_invest_df\u001b[0m\u001b[0;34m(\u001b[0m\u001b[0;34m)\u001b[0m\u001b[0;34m\u001b[0m\u001b[0;34m\u001b[0m\u001b[0m\n\u001b[0m",
      "\u001b[0;32m<ipython-input-8-95b24a09935c>\u001b[0m in \u001b[0;36mget_invest_df\u001b[0;34m()\u001b[0m\n\u001b[1;32m     29\u001b[0m \u001b[0;34m\u001b[0m\u001b[0m\n\u001b[1;32m     30\u001b[0m         \u001b[0;31m# get list of card elements card elements\u001b[0m\u001b[0;34m\u001b[0m\u001b[0;34m\u001b[0m\u001b[0;34m\u001b[0m\u001b[0m\n\u001b[0;32m---> 31\u001b[0;31m         \u001b[0mtrait_list\u001b[0m \u001b[0;34m=\u001b[0m \u001b[0mget_invest_traits\u001b[0m\u001b[0;34m(\u001b[0m\u001b[0mresults\u001b[0m\u001b[0;34m)\u001b[0m\u001b[0;34m\u001b[0m\u001b[0;34m\u001b[0m\u001b[0m\n\u001b[0m\u001b[1;32m     32\u001b[0m \u001b[0;34m\u001b[0m\u001b[0m\n\u001b[1;32m     33\u001b[0m         \u001b[0mprint\u001b[0m\u001b[0;34m(\u001b[0m\u001b[0;34mf'Getting investigator card {trait_list[0]}...'\u001b[0m\u001b[0;34m)\u001b[0m\u001b[0;34m\u001b[0m\u001b[0;34m\u001b[0m\u001b[0m\n",
      "\u001b[0;32m<ipython-input-7-a5c7c962d439>\u001b[0m in \u001b[0;36mget_invest_traits\u001b[0;34m(results)\u001b[0m\n\u001b[1;32m     28\u001b[0m         \u001b[0mflavor\u001b[0m \u001b[0;34m=\u001b[0m \u001b[0;34m''\u001b[0m\u001b[0;34m\u001b[0m\u001b[0;34m\u001b[0m\u001b[0m\n\u001b[1;32m     29\u001b[0m \u001b[0;34m\u001b[0m\u001b[0m\n\u001b[0;32m---> 30\u001b[0;31m     \u001b[0mdeck_size\u001b[0m\u001b[0;34m,\u001b[0m \u001b[0mdeck_options\u001b[0m\u001b[0;34m,\u001b[0m \u001b[0mmust_include\u001b[0m\u001b[0;34m,\u001b[0m \u001b[0msetup\u001b[0m \u001b[0;34m=\u001b[0m \u001b[0mget_deck_reqs\u001b[0m\u001b[0;34m(\u001b[0m\u001b[0mresults\u001b[0m\u001b[0;34m,\u001b[0m \u001b[0mfaction\u001b[0m\u001b[0;34m)\u001b[0m\u001b[0;34m\u001b[0m\u001b[0;34m\u001b[0m\u001b[0m\n\u001b[0m\u001b[1;32m     31\u001b[0m \u001b[0;34m\u001b[0m\u001b[0m\n\u001b[1;32m     32\u001b[0m     return [title, \n",
      "\u001b[0;32m<ipython-input-6-0a03d7a4ccf2>\u001b[0m in \u001b[0;36mget_deck_reqs\u001b[0;34m(results, faction)\u001b[0m\n\u001b[1;32m     37\u001b[0m     \u001b[0;32mexcept\u001b[0m\u001b[0;34m:\u001b[0m\u001b[0;34m\u001b[0m\u001b[0;34m\u001b[0m\u001b[0m\n\u001b[1;32m     38\u001b[0m \u001b[0;34m\u001b[0m\u001b[0m\n\u001b[0;32m---> 39\u001b[0;31m         \u001b[0msetup\u001b[0m \u001b[0;34m=\u001b[0m \u001b[0mNONE\u001b[0m\u001b[0;34m\u001b[0m\u001b[0;34m\u001b[0m\u001b[0m\n\u001b[0m\u001b[1;32m     40\u001b[0m \u001b[0;34m\u001b[0m\u001b[0m\n\u001b[1;32m     41\u001b[0m     \u001b[0;32mreturn\u001b[0m \u001b[0mdeck_size\u001b[0m\u001b[0;34m,\u001b[0m \u001b[0mdeck_options\u001b[0m\u001b[0;34m,\u001b[0m \u001b[0mmust_include\u001b[0m\u001b[0;34m,\u001b[0m \u001b[0msetup\u001b[0m\u001b[0;34m\u001b[0m\u001b[0;34m\u001b[0m\u001b[0m\n",
      "\u001b[0;31mNameError\u001b[0m: name 'NONE' is not defined"
     ]
    }
   ],
   "source": [
    "get_invest_df()"
   ]
  },
  {
   "cell_type": "code",
   "execution_count": 10,
   "id": "frozen-sigma",
   "metadata": {},
   "outputs": [],
   "source": [
    "# [title, test_icons, traits, willpower, intellect, combat, agility, health, sanity, faction, ability, tipe, flavor, artist, expansion]"
   ]
  },
  {
   "cell_type": "code",
   "execution_count": 11,
   "id": "legal-french",
   "metadata": {},
   "outputs": [
    {
     "ename": "TypeError",
     "evalue": "get_deck_reqs() missing 1 required positional argument: 'faction'",
     "output_type": "error",
     "traceback": [
      "\u001b[0;31m---------------------------------------------------------------------------\u001b[0m",
      "\u001b[0;31mTypeError\u001b[0m                                 Traceback (most recent call last)",
      "\u001b[0;32m<ipython-input-11-517c5d1dae2f>\u001b[0m in \u001b[0;36m<module>\u001b[0;34m\u001b[0m\n\u001b[1;32m     23\u001b[0m \u001b[0mflavor\u001b[0m \u001b[0;34m=\u001b[0m \u001b[0mresults\u001b[0m\u001b[0;34m.\u001b[0m\u001b[0mfind_all\u001b[0m\u001b[0;34m(\u001b[0m\u001b[0;34m'div'\u001b[0m\u001b[0;34m,\u001b[0m \u001b[0mclass_\u001b[0m\u001b[0;34m=\u001b[0m\u001b[0;34m'card-flavor small'\u001b[0m\u001b[0;34m)\u001b[0m\u001b[0;34m[\u001b[0m\u001b[0;36m1\u001b[0m\u001b[0;34m]\u001b[0m\u001b[0;34m.\u001b[0m\u001b[0mtext\u001b[0m\u001b[0;34m.\u001b[0m\u001b[0mreplace\u001b[0m\u001b[0;34m(\u001b[0m\u001b[0;34m'\\n'\u001b[0m\u001b[0;34m,\u001b[0m \u001b[0;34m''\u001b[0m\u001b[0;34m)\u001b[0m\u001b[0;34m.\u001b[0m\u001b[0mreplace\u001b[0m\u001b[0;34m(\u001b[0m\u001b[0;34m'\\t'\u001b[0m\u001b[0;34m,\u001b[0m \u001b[0;34m''\u001b[0m\u001b[0;34m)\u001b[0m\u001b[0;34m\u001b[0m\u001b[0;34m\u001b[0m\u001b[0m\n\u001b[1;32m     24\u001b[0m \u001b[0;34m\u001b[0m\u001b[0m\n\u001b[0;32m---> 25\u001b[0;31m \u001b[0mdeck_size\u001b[0m\u001b[0;34m,\u001b[0m \u001b[0mdeck_options\u001b[0m\u001b[0;34m,\u001b[0m \u001b[0mmust_include\u001b[0m \u001b[0;34m=\u001b[0m \u001b[0mget_deck_reqs\u001b[0m\u001b[0;34m(\u001b[0m\u001b[0mresults\u001b[0m\u001b[0;34m)\u001b[0m\u001b[0;34m\u001b[0m\u001b[0;34m\u001b[0m\u001b[0m\n\u001b[0m",
      "\u001b[0;31mTypeError\u001b[0m: get_deck_reqs() missing 1 required positional argument: 'faction'"
     ]
    }
   ],
   "source": [
    "# Investigator Traits\n",
    "\n",
    "results = get_soup('https://arkhamdb.com/card/06003')\n",
    "\n",
    "title = results.find('a', class_='card-name card-tip').text.replace('\\n', '').replace('\\t', '')\n",
    "\n",
    "faction = results.find('span', class_='card-faction').text.replace('\\n', '').replace('\\t', '')\n",
    "\n",
    "tipe = results.find('span', class_='card-type').text.replace('\\n', '').replace('\\t', '')\n",
    "\n",
    "traits = results.find('p', class_='card-traits').text.replace('\\n', '').replace('\\t', '')\n",
    "\n",
    "willpower, intellect, combat, agility = get_stat_line(results)\n",
    "\n",
    "health, sanity = get_stam_line(results)\n",
    "\n",
    "ability = results.find('div', class_=f'card-text border-{faction.lower()}').text.replace('\\n', '').replace('\\t', '')\n",
    "\n",
    "artist = results.find('div', class_='card-illustrator').text.replace('\\n', '').replace('\\t', '')\n",
    "\n",
    "expansion = results.find('div', class_='card-pack').text.replace('\\n', '').replace('\\t', '').replace('.', '') \n",
    "\n",
    "flavor = results.find_all('div', class_='card-flavor small')[1].text.replace('\\n', '').replace('\\t', '')\n",
    "\n",
    "deck_size, deck_options, must_include = get_deck_reqs(results)"
   ]
  },
  {
   "cell_type": "code",
   "execution_count": 58,
   "id": "indoor-holly",
   "metadata": {},
   "outputs": [
    {
     "data": {
      "text/plain": [
       "\"Deck Size: 30.Secondary Class Choice: At deck creation, choose Guardian (), Seeker (), or Survivor ().Deckbuilding Options: Rogue cards () level 0-5, Neutral cards level 0-5, up to 10 level 0-1 events and/or skills of your chosen secondary class.Deckbuilding Requirements (do not count toward deck size): Bounty Contracts, 2 copies of Tony's .38 Long Colt, Tony's Quarry, 1 random basic weakness.\""
      ]
     },
     "execution_count": 58,
     "metadata": {},
     "output_type": "execute_result"
    }
   ],
   "source": [
    "results = get_soup('https://arkhamdb.com/card/06003')\n",
    "\n",
    "faction = results.find('span', class_='card-faction').text.replace('\\n', '').replace('\\t', '')\n",
    "\n",
    "results.find_all('div', class_=f'card-text border-{faction.lower()}')[1].text.replace('\\n', '').replace('\\t', '')"
   ]
  },
  {
   "cell_type": "code",
   "execution_count": null,
   "id": "lined-barcelona",
   "metadata": {},
   "outputs": [],
   "source": []
  },
  {
   "cell_type": "code",
   "execution_count": null,
   "id": "cutting-missile",
   "metadata": {},
   "outputs": [],
   "source": [
    "results.find_all('div', class_=f'card-text border-{faction.lower()}')[1].text\n",
    "\n"
   ]
  },
  {
   "cell_type": "code",
   "execution_count": 12,
   "id": "atomic-credit",
   "metadata": {},
   "outputs": [],
   "source": [
    "def get_deck_reqs(results, faction):\n",
    "    \n",
    "    deck = results.find_all('div', class_=f'card-text border-{faction.lower()}')[1].text\n",
    "\n",
    "    deck_split = re.split(':', deck)\n",
    "\n",
    "    deck_size = re.search('[0-9]{2}', deck_split[1]).group()\n",
    "    \n",
    "    deck_options = re.search('^(.*?\\.)', deck_split[2]).group()[1:-1].replace('(', '').replace(')', '').replace('  ', ' ')\n",
    "\n",
    "    must_include = re.search('^(.*?\\.)', deck_split[3]).group()[1:-1].replace('(', '').replace(')', '').replace('  ', ' ')\n",
    "    \n",
    "    return deck_size, deck_options, must_include"
   ]
  },
  {
   "cell_type": "code",
   "execution_count": 13,
   "id": "human-weekend",
   "metadata": {},
   "outputs": [],
   "source": [
    "\n",
    "\n",
    "def get_deck_reqs(results, faction):\n",
    "\n",
    "    deck = results.find_all('div', class_=f'card-text border-{faction.lower()}')[1].text\n",
    "\n",
    "    pattern = r'(?:\\b(?:Deck Size|Deckbuilding Options|Deckbuilding Requirements|Additional Setup):|\\b\\s*)([^:\\n]+)'\n",
    "\n",
    "    deck_split = re.findall(pattern, str(deck))\n",
    "\n",
    "    deck_size = re.search('[0-9]{2}', deck_split[0]).group()\n",
    "\n",
    "    deck_options = deck_split[1].replace('Deckbuilding Requirements (do not count toward deck size)', '').replace('(', '').replace(')', '').replace('  ', ' ')\n",
    "\n",
    "    must_include = deck_split[2].replace('.Additional Setup', '')\n",
    "\n",
    "    try:\n",
    "\n",
    "        setup = deck_split[3]\n",
    "\n",
    "    except:\n",
    "\n",
    "        setup = NONE\n",
    "\n",
    "    return deck_size, deck_options, must_include, setup"
   ]
  },
  {
   "cell_type": "code",
   "execution_count": 52,
   "id": "affected-stranger",
   "metadata": {},
   "outputs": [
    {
     "data": {
      "text/plain": [
       "['When an investigator at your location would reveal any number of chaos tokens',\n",
       " 'Reveal 2 additional tokens. Of the revealed tokens, choose and cancel 2 non- tokens, or 1  token. (Limit once per round.) effect',\n",
       " '1. If this effect is canceled or ignored, draw 1 card.']"
      ]
     },
     "execution_count": 52,
     "metadata": {},
     "output_type": "execute_result"
    }
   ],
   "source": [
    "results = get_soup(invest[26])\n",
    "\n",
    "faction = results.find('span', class_='card-faction').text.replace('\\n', '').replace('\\t', '')\n",
    "\n",
    "deck = results.find('div', class_=f'card-text border-{faction.lower()}').text\n",
    "\n",
    "pattern = r'(?:\\b(?:Deck Size):|\\b\\s*)([^:\\n]+)'\n",
    "\n",
    "deck_split = re.findall(pattern, deck)\n",
    "\n",
    "deck_split"
   ]
  },
  {
   "cell_type": "code",
   "execution_count": 15,
   "id": "selective-candidate",
   "metadata": {},
   "outputs": [
    {
     "data": {
      "text/plain": [
       "<div id=\"list\">\n",
       "<div class=\"row\">\n",
       "<div class=\"col-sm-12\">\n",
       "<ul class=\"pager\">\n",
       "<li class=\"previous\">\n",
       "<a class=\"no-popup\" href=\"/card/05039\">← Five of Pentacles</a> </li>\n",
       "<li>\n",
       "<a href=\"/set/tcu\">The Circle Undone</a>\n",
       "</li>\n",
       "<li class=\"next\">\n",
       "<a class=\"no-popup\" href=\"/card/05041\">The 13th Vision →</a> </li>\n",
       "</ul>\n",
       "</div>\n",
       "</div>\n",
       "<div class=\"row\">\n",
       "<div class=\"col-md-9\">\n",
       "<div class=\"row\">\n",
       "<div class=\"col-sm-7\">\n",
       "<div>\n",
       "<div class=\"panel panel-default border-neutral\">\n",
       "<div class=\"panel-heading border-neutral bg-neutral\">\n",
       "<h3 class=\"panel-title\">\n",
       "<a class=\"card-name card-tip\" data-code=\"05040\" href=\"https://arkhamdb.com/card/05040\">Ace of Rods\n",
       "</a>\n",
       "<div class=\"card-subname small\">The Fateful Step</div> </h3>\n",
       "</div>\n",
       "<div class=\"panel-body card-content\">\n",
       "<div class=\"card-faction\">\n",
       "<span class=\"icon-neutral fg-neutral\"></span>\n",
       "<span class=\"card-faction\">Neutral</span>\n",
       "</div>\n",
       "<div class=\"card-info\">\n",
       "<span class=\"card-type\">Asset. </span>\n",
       "<p class=\"card-traits\">Tarot.</p>\n",
       "<div class=\"card-props\">\n",
       "\t\tCost:     3.\n",
       "\t\t\tXP: 1.\n",
       "\t</div>\n",
       "</div> <div class=\"\">\n",
       "<div class=\"card-text border-neutral\">\n",
       "<p><span class=\"icon-lightning\" title=\"Fast Action\"></span> During your turn, remove Ace of Rods from the game: You may take an additional action this turn, during which you get +2 to each of your skills.</p><p><span class=\"icon-reaction\" title=\"Reaction\"></span> When the game begins, if Ace of Rods is in your opening hand: Put it into play.</p>\n",
       "</div>\n",
       "</div>\n",
       "<div class=\"card-flavor small\">\n",
       "</div> <div class=\"card-illustrator\">\n",
       "<span class=\"fa fa-paint-brush text-muted\"></span>\n",
       "\tRobert Laskey\n",
       "</div>\n",
       "<div class=\"card-pack\">The Circle Undone #40.</div>\n",
       "</div>\n",
       "</div>\n",
       "</div>\n",
       "</div>\n",
       "<div class=\"col-sm-5\" style=\"margin-bottom:2em\">\n",
       "<div class=\"\">\n",
       "<img alt=\"Ace of Rods\" class=\"img-responsive img-vertical-card\" src=\"/bundles/cards/05040.png\" style=\"margin:auto\"/>\n",
       "</div>\n",
       "</div>\n",
       "<div class=\"col-md-12\" style=\"margin-top:2em\">\n",
       "<form action=\"/review/post\" id=\"faq-edit-form\" method=\"POST\" style=\"clear:right\">\n",
       "<input name=\"card_id\" type=\"hidden\" value=\"1584\"/>\n",
       "<input name=\"review_id\" type=\"hidden\" value=\"\"/>\n",
       "</form>\n",
       "</div>\n",
       "<div class=\"col-md-12\" style=\"margin-top:2em\">\n",
       "<div id=\"reviews-header\" style=\"line-height:34px\">\n",
       "<span style=\"font-size:24px\">Reviews</span>\n",
       "</div>\n",
       "<form action=\"/review/post\" id=\"review-edit-form\" method=\"POST\" style=\"clear:right\">\n",
       "<input name=\"card_id\" type=\"hidden\" value=\"1584\"/>\n",
       "<input name=\"review_id\" type=\"hidden\" value=\"\"/>\n",
       "</form>\n",
       "<article class=\"review\" data-id=\"1191\" id=\"review-1191\">\n",
       "<div class=\"review-like\">\n",
       "<a class=\"social-icon-like\" data-placement=\"bottom\" data-toggle=\"tooltip\" href=\"#\" id=\"review-social-icon-like\" title=\"Like that review\">\n",
       "<span class=\"fa fa-heart\"></span> <span class=\"num\">7</span>\n",
       "</a>\n",
       "</div>\n",
       "<div class=\"review-content\">\n",
       "<div class=\"review-text\">\n",
       "<p>Did they forget to make this fast? It might have been worth considering if it was. As it stands, if this card isn't in your opening hand then most of the time you are effectively paying three resources to get +2 in a skill test, the equivalent of <a href=\"/card/01093\">Unexpected Courage</a>. Comparing it to the other neutral skill cards like <a href=\"/card/01090\">Perception</a> or <a href=\"/card/01091\">Overpower</a> is even more unfavorable because those allow you to draw a card if you succeed and are completely free. There are a handful of situations where the Ace of Rods will give you +4 in a test, but even then it is still too pricey to seriously consider. </p>\n",
       "<p>One positive is that because it gets removed after use, putting two in your deck doesn't result in a dead draw. <a href=\"/card/05003\">Preston Fairmont</a> can use it as a means of flexing on other investigators to show how little he cares for efficiency.</p>\n",
       "</div>\n",
       "<div class=\"review-date\">\n",
       "<time datetime=\"2019-06-11T10:02:28+00:00\" title=\"June 11th, 2019\">6/11/19</time>\n",
       "</div>\n",
       "<div class=\"review-author\">\n",
       "<span class=\"username\"><a class=\"username fg-rogue\" href=\"/user/profile/9801/DelightfulDilettante\">DelightfulDilettante</a>\n",
       " · <small title=\"User Reputation\">313</small>\n",
       "</span>\n",
       "</div>\n",
       "<div class=\"review-comment text-muted small\">While all of what you said is correct, I don't entirely agree with your dismissal of the card.  In addition to all of that, it lets you take an action *from* a turn where you have nothing important to do (because you wouldn't play this if you did), and move it *forward* to a turn when you need it (because you likely wouldn't use it unless you need it).  Is it a great card?  No.  But action manipulation could come in handy in certain builds.\n",
       "\t\t\t\t\t—\n",
       "\t\t\t\t\t<span class=\"username\"><a class=\"username fg-guardian\" href=\"/user/profile/12319/cb42\">cb42</a>\n",
       " · <small title=\"User Reputation\">36</small>\n",
       "</span>\n",
       "<time datetime=\"2019-06-11T14:27:12+00:00\" title=\"June 11th, 2019\">6/11/19</time>\n",
       "</div>\n",
       "<div class=\"review-comment text-muted small\">I agree that it's not a good card, but I feel some of the reason for that might be because it's in a fairly weird design nice.\n",
       "\t\t\t\t\t—\n",
       "\t\t\t\t\t<span class=\"username\"><a class=\"username fg-\" href=\"/user/profile/12802/bee123\">bee123</a>\n",
       " · <small title=\"User Reputation\">25</small>\n",
       "</span>\n",
       "<time datetime=\"2019-06-11T18:39:23+00:00\" title=\"June 11th, 2019\">6/11/19</time>\n",
       "</div>\n",
       "<div class=\"review-comment text-muted small\">*design niche. Like it's got to work as the neutral tarot card and as a kinda pseudo-story asset for the Circle Undone. So it's got to be balanced as a card in and of itself and as part of a campaign level risk/reward and that seems like a tricky card to get right. Like, it's got to be able to do something in most decks, but not outclass the class-specific tarot cards or end up OP in the specific context of the Circle Undone. Given all that I'm not surprised it ended up a bit too small of an effect. :) But I wonder what a balanced neutral tarot would be? Something like the Red-Gloved Man, maybe?\n",
       "\t\t\t\t\t—\n",
       "\t\t\t\t\t<span class=\"username\"><a class=\"username fg-\" href=\"/user/profile/12802/bee123\">bee123</a>\n",
       " · <small title=\"User Reputation\">25</small>\n",
       "</span>\n",
       "<time datetime=\"2019-06-11T18:44:48+00:00\" title=\"June 11th, 2019\">6/11/19</time>\n",
       "</div>\n",
       "<div class=\"review-comment text-muted small\">This card consistently under performs. You should be paid 1 XP to take this card. It's honestly almost always a dead draw.\n",
       "\t\t\t\t\t—\n",
       "\t\t\t\t\t<span class=\"username\"><a class=\"username fg-rogue\" href=\"/user/profile/19709/StyxTBeuford\">StyxTBeuford</a>\n",
       " · <small title=\"User Reputation\">12901</small>\n",
       "</span>\n",
       "<time datetime=\"2019-08-27T06:06:23+00:00\" title=\"August 27th, 2019\">8/27/19</time>\n",
       "</div>\n",
       "<form action=\"/review/comment\" class=\"form-comment\" method=\"POST\">\n",
       "<input name=\"comment_review_id\" type=\"hidden\" value=\"1191\"/>\n",
       "<button class=\"btn btn-link btn-write-comment\">Add a comment</button>\n",
       "</form>\n",
       "</div>\n",
       "</article>\n",
       "<article class=\"review\" data-id=\"1831\" id=\"review-1831\">\n",
       "<div class=\"review-like\">\n",
       "<a class=\"social-icon-like\" data-placement=\"bottom\" data-toggle=\"tooltip\" href=\"#\" id=\"review-social-icon-like\" title=\"Like that review\">\n",
       "<span class=\"fa fa-heart\"></span> <span class=\"num\">6</span>\n",
       "</a>\n",
       "</div>\n",
       "<div class=\"review-content\">\n",
       "<div class=\"review-text\">\n",
       "<p>So I am thinking that maybe there is a character that goes under looked when considering the Ace of Rods and that is our friendly Pete. </p>\n",
       "<p>So you lose your tarot slot but the survivor tarot is the most easily skipped so no great loss there.</p>\n",
       "<p>If you don't draw it in your opening hand it can be fed to your dog like any other card so its lack of icons isn't as much a hindrance.</p>\n",
       "<p>I also find myself flush with cash to burn in my dark horse pete decks so banking an action for 3 resources being the worst use of this card doesn't seem like a bad use of money I typically end up burning anyway.</p>\n",
       "<p>The end of the day if it was good enough to include in every deck then it would probably be too good for a neutral 1xp card.</p>\n",
       "</div>\n",
       "<div class=\"review-date\">\n",
       "<time datetime=\"2020-05-16T00:21:21+00:00\" title=\"May 16th, 2020\">5/16/20</time>\n",
       "</div>\n",
       "<div class=\"review-author\">\n",
       "<span class=\"username\"><a class=\"username fg-mystic\" href=\"/user/profile/23809/Zerogrim\">Zerogrim</a>\n",
       " · <small title=\"User Reputation\">282</small>\n",
       "</span>\n",
       "</div>\n",
       "<div class=\"review-comment text-muted small\">Yeah , it's in a funny niche in the card pool because it has to work as a SPOILERS pseudo story-asset for the Circle Undone as well. So, it's a tiny , mostly terrible, effect but if it were bigger or had more of an impact then it'd risk muddling up the balance of that campaign. I dunno if there's a solution to that..\n",
       "\t\t\t\t\t—\n",
       "\t\t\t\t\t<span class=\"username\"><a class=\"username fg-\" href=\"/user/profile/12802/bee123\">bee123</a>\n",
       " · <small title=\"User Reputation\">25</small>\n",
       "</span>\n",
       "<time datetime=\"2020-05-16T10:27:13+00:00\" title=\"May 16th, 2020\">5/16/20</time>\n",
       "</div>\n",
       "<form action=\"/review/comment\" class=\"form-comment\" method=\"POST\">\n",
       "<input name=\"comment_review_id\" type=\"hidden\" value=\"1831\"/>\n",
       "<button class=\"btn btn-link btn-write-comment\">Add a comment</button>\n",
       "</form>\n",
       "</div>\n",
       "</article>\n",
       "<article class=\"review\" data-id=\"4058\" id=\"review-4058\">\n",
       "<div class=\"review-like\">\n",
       "<a class=\"social-icon-like\" data-placement=\"bottom\" data-toggle=\"tooltip\" href=\"#\" id=\"review-social-icon-like\" title=\"Like that review\">\n",
       "<span class=\"fa fa-heart\"></span> <span class=\"num\">3</span>\n",
       "</a>\n",
       "</div>\n",
       "<div class=\"review-content\">\n",
       "<div class=\"review-text\">\n",
       "<p>This is the perfect card for Amina Zidane. With her ability that 3 resource cost turns to 0, and the downside of her ability (adding doom to the asset) is entirely negated when you remove this. 0 cost, 0 action, 0 downside, +2 to all skills for this turn. This is especially good if you're playing Spectral Razor or Read the Signs, where it gives you a +4 to the skill test since you're buffing both skills.</p>\n",
       "</div>\n",
       "<div class=\"review-date\">\n",
       "<time datetime=\"2022-10-17T16:37:02+00:00\" title=\"October 17th, 2022\">10/17/22</time>\n",
       "</div>\n",
       "<div class=\"review-author\">\n",
       "<span class=\"username\"><a class=\"username fg-\" href=\"/user/profile/44511/sirtommygunn\">sirtommygunn</a>\n",
       " · <small title=\"User Reputation\">7</small>\n",
       "</span>\n",
       "</div>\n",
       "<div class=\"review-comment text-muted small\">But you still have to pay the action to play it, so you net loose a card for a +2 on a skill test (or at best a +4, say with \"Cyclopian Hammer\"), if you want to pay and use the card instantly. You have to gain something from delaying an action to another turn for the card to be of some use, and I don't see, when Amina is the investigator, who wants to do such a thing with her deck.\n",
       "\t\t\t\t\t—\n",
       "\t\t\t\t\t<span class=\"username\"><a class=\"username fg-mystic\" href=\"/user/profile/35331/Susumu\">Susumu</a>\n",
       " · <small title=\"User Reputation\">323</small>\n",
       "</span>\n",
       "<time datetime=\"2022-10-17T17:01:13+00:00\" title=\"October 17th, 2022\">10/17/22</time>\n",
       "</div>\n",
       "<div class=\"review-comment text-muted small\">Spending a card for a +2 on a skill test: you can do this with \"Unexpected Courage\" at 1 XP less.\n",
       "\t\t\t\t\t—\n",
       "\t\t\t\t\t<span class=\"username\"><a class=\"username fg-mystic\" href=\"/user/profile/35331/Susumu\">Susumu</a>\n",
       " · <small title=\"User Reputation\">323</small>\n",
       "</span>\n",
       "<time datetime=\"2022-10-17T17:03:16+00:00\" title=\"October 17th, 2022\">10/17/22</time>\n",
       "</div>\n",
       "<div class=\"review-comment text-muted small\">Why would you use it on a turn where you're only doing 1 skill test. You might as well say it doesn't work because you could spend all your actions in a turn moving and is thus a card spent doing nothing.\n",
       "\t\t\t\t\t—\n",
       "\t\t\t\t\t<span class=\"username\"><a class=\"username fg-\" href=\"/user/profile/44511/sirtommygunn\">sirtommygunn</a>\n",
       " · <small title=\"User Reputation\">7</small>\n",
       "</span>\n",
       "<time datetime=\"2022-10-17T17:08:56+00:00\" title=\"October 17th, 2022\">10/17/22</time>\n",
       "</div>\n",
       "<div class=\"review-comment text-muted small\">Oh, it seems, one of us is reading this card wrong. I think it's you, but you make me unsure. \"During which\" referes to the \"additional action\", NOT \"this turn\", imo.\n",
       "\t\t\t\t\t—\n",
       "\t\t\t\t\t<span class=\"username\"><a class=\"username fg-mystic\" href=\"/user/profile/35331/Susumu\">Susumu</a>\n",
       " · <small title=\"User Reputation\">323</small>\n",
       "</span>\n",
       "<time datetime=\"2022-10-17T17:36:47+00:00\" title=\"October 17th, 2022\">10/17/22</time>\n",
       "</div>\n",
       "<div class=\"review-comment text-muted small\">I don't see the point of this card ever having been printed if it only referred to the bonus action. I hadn't considered reading it like that but the way its written there's no way to be sure. I'll stick with the interpreation that makes this card have a purpose.\n",
       "\t\t\t\t\t—\n",
       "\t\t\t\t\t<span class=\"username\"><a class=\"username fg-\" href=\"/user/profile/44511/sirtommygunn\">sirtommygunn</a>\n",
       " · <small title=\"User Reputation\">7</small>\n",
       "</span>\n",
       "<time datetime=\"2022-10-17T18:04:46+00:00\" title=\"October 17th, 2022\">10/17/22</time>\n",
       "</div>\n",
       "<div class=\"review-comment text-muted small\">Like other's had said: the effect is strong, if you get it into your opening hand and can play it free of resources AND without an action. Sefina has the best odds for that. But for Survivors, who had the weakest tarot before the Return-box it was also a bearable risk, because they can avoid it being a dead card with Cornered or (in case of Wendy and Duke) their gator ability. They might also setup a \"Will to Survive\" combo with this card, likewise rogues a \"Payday\" combo. It's not a terrible card, but on the lower end of usability.\n",
       "\t\t\t\t\t—\n",
       "\t\t\t\t\t<span class=\"username\"><a class=\"username fg-mystic\" href=\"/user/profile/35331/Susumu\">Susumu</a>\n",
       " · <small title=\"User Reputation\">323</small>\n",
       "</span>\n",
       "<time datetime=\"2022-10-17T21:39:25+00:00\" title=\"October 17th, 2022\">10/17/22</time>\n",
       "</div>\n",
       "<div class=\"review-comment text-muted small\">If you are playing as a monster hunter being able to delay actions to later turns is value enough, the trick is you have to play this either at the start or end of an agenda to avoid the doom triggering an advance.\n",
       "\t\t\t\t\t—\n",
       "\t\t\t\t\t<span class=\"username\"><a class=\"username fg-mystic\" href=\"/user/profile/23809/Zerogrim\">Zerogrim</a>\n",
       " · <small title=\"User Reputation\">282</small>\n",
       "</span>\n",
       "<time datetime=\"2022-10-18T17:06:08+00:00\" title=\"October 18th, 2022\">10/18/22</time>\n",
       "</div>\n",
       "<form action=\"/review/comment\" class=\"form-comment\" method=\"POST\">\n",
       "<input name=\"comment_review_id\" type=\"hidden\" value=\"4058\"/>\n",
       "<button class=\"btn btn-link btn-write-comment\">Add a comment</button>\n",
       "</form>\n",
       "</div>\n",
       "</article>\n",
       "<article class=\"review\" data-id=\"1320\" id=\"review-1320\">\n",
       "<div class=\"review-like\">\n",
       "<a class=\"social-icon-like\" data-placement=\"bottom\" data-toggle=\"tooltip\" href=\"#\" id=\"review-social-icon-like\" title=\"Like that review\">\n",
       "<span class=\"fa fa-heart\"></span> <span class=\"num\">1</span>\n",
       "</a>\n",
       "</div>\n",
       "<div class=\"review-content\">\n",
       "<div class=\"review-text\">\n",
       "<p>This card is pretty bad. Get that straight. Its bad. But its not irredeemable. A few characters are so action starved that theyll take what they can get.</p>\n",
       "<p>If you find it in the mulligan, its a free action, nice, but, not groundbreaking. We already have <a href=\"/card/02229\">Quick Thinking</a> and <a href=\"/card/05156\">Swift Reflexes</a>. </p>\n",
       "<p>If you dont find it, and have to play it... you pay 3 resources to -move- an action, bank it. That is so goddamn terrible that it begs belief that this is a printed mechanic, yet, even so. There is a demand for it.</p>\n",
       "<p>Some characters are so damn hungry that they will take any old garbage card to sate that hunger.</p>\n",
       "<ul><li>\n",
       "<p><a href=\"/card/05005\">Rita Young</a> has some of the tightest rounds an investigator can have, its all those Engage actions that really muddle her rounds. She likes to bring tricks like <a href=\"/card/03194\">Cheap Shot</a> and/or <a href=\"/card/05282\">Bait and Switch</a> to circumvent lost actions. For her the ability to generate 4 action rounds is valuable. Typically that 4 action round reads: Dodge, Shoot bow, Reload, Shoot again.</p>\n",
       "</li>\n",
       "<li>\n",
       "<p><a href=\"/card/03001\">Mark Harrigan</a> can be hella action effective with big guns, <a href=\"/card/02022\">Shortcut</a> and <a href=\"/card/01050\">Elusive</a>, even so he might feel the need to make a 4 action round happen every now and then, probably to attack 4 times with his <a href=\"/card/01020\">Machete</a> or <a href=\"/card/05186\">.45 Thompson</a>.</p>\n",
       "</li>\n",
       "<li>\n",
       "<p><a href=\"/card/04005\">Calvin Wright</a> has very few options for action economy, and the bonus isnt bad.</p>\n",
       "</li>\n",
       "</ul><p>You get the picture now, decks that lack access to action economy might want to teck a couple of these every now and then. If there's any other action Economy card in your cardpool, that one is better than this one.</p>\n",
       "<p>.</p>\n",
       "<p>Another, small, consideration for using <a href=\"/card/05040\">Ace of Rods</a> is that it's not a bad tagalong tarot for <a href=\"/card/05283\">Anna Kaslow</a>, she's an ally with a deathwish and having tarots that self-discard solves some issues that might arrive when she kicks the bucket.</p>\n",
       "<p>.</p>\n",
       "<p><a href=\"/card/05040\">Ace of Rods</a> is not a good card, but i'dd like to say that it gets less credit than it deserves. I highly recommend you try it out, 2 copies, even if only to never try it again.</p>\n",
       "</div>\n",
       "<div class=\"review-date\">\n",
       "<time datetime=\"2019-09-01T18:07:48+00:00\" title=\"September 1st, 2019\">9/1/19</time>\n",
       "</div>\n",
       "<div class=\"review-author\">\n",
       "<span class=\"username\"><a class=\"username fg-mythos\" href=\"/user/profile/5776/Tsuruki23\">Tsuruki23</a>\n",
       " · <small title=\"User Reputation\">2451</small>\n",
       "</span>\n",
       "</div>\n",
       "<div class=\"review-comment text-muted small\">I disagree that anyone should ever bother purposely pursuing two copies of this card. One is more than enough to know how terrible it is.\n",
       "\t\t\t\t\t—\n",
       "\t\t\t\t\t<span class=\"username\"><a class=\"username fg-rogue\" href=\"/user/profile/19709/StyxTBeuford\">StyxTBeuford</a>\n",
       " · <small title=\"User Reputation\">12901</small>\n",
       "</span>\n",
       "<time datetime=\"2019-09-03T03:31:25+00:00\" title=\"September 3rd, 2019\">9/3/19</time>\n",
       "</div>\n",
       "<div class=\"review-comment text-muted small\">It's the perfect card for the finale of Union and Disillusion (TCU). I won't say more to avoid spoiling.\n",
       "\t\t\t\t\t—\n",
       "\t\t\t\t\t<span class=\"username\"><a class=\"username fg-seeker\" href=\"/user/profile/8909/Ezhaeu\">Ezhaeu</a>\n",
       " · <small title=\"User Reputation\">47</small>\n",
       "</span>\n",
       "<time datetime=\"2019-10-23T03:58:32+00:00\" title=\"October 23rd, 2019\">10/23/19</time>\n",
       "</div>\n",
       "<div class=\"review-comment text-muted small\">Ooh, good point Ezhaeu. That would be amazing. Might well be worth paying the XP to add it before that scenario.\n",
       "\t\t\t\t\t—\n",
       "\t\t\t\t\t<span class=\"username\"><a class=\"username fg-\" href=\"/user/profile/24528/gators%2520gonna%2520gate\">gators gonna gate</a>\n",
       " · <small title=\"User Reputation\">53</small>\n",
       "</span>\n",
       "<time datetime=\"2020-03-03T19:35:25+00:00\" title=\"March 3rd, 2020\">3/3/20</time>\n",
       "</div>\n",
       "<div class=\"review-comment text-muted small\">This card just became reasonable for Dexter Drake as he can effectively play it as a fast action for 1 gold less and there's a chance he can start with it in play.\n",
       "\t\t\t\t\t—\n",
       "\t\t\t\t\t<span class=\"username\"><a class=\"username fg-\" href=\"/user/profile/8703/LondonLeon\">LondonLeon</a>\n",
       " · <small title=\"User Reputation\">32</small>\n",
       "</span>\n",
       "<time datetime=\"2021-01-16T02:31:42+00:00\" title=\"January 16th, 2021\">1/16/21</time>\n",
       "</div>\n",
       "<form action=\"/review/comment\" class=\"form-comment\" method=\"POST\">\n",
       "<input name=\"comment_review_id\" type=\"hidden\" value=\"1320\"/>\n",
       "<button class=\"btn btn-link btn-write-comment\">Add a comment</button>\n",
       "</form>\n",
       "</div>\n",
       "</article>\n",
       "<article class=\"review\" data-id=\"1794\" id=\"review-1794\">\n",
       "<div class=\"review-like\">\n",
       "<a class=\"social-icon-like\" data-placement=\"bottom\" data-toggle=\"tooltip\" href=\"#\" id=\"review-social-icon-like\" title=\"Like that review\">\n",
       "<span class=\"fa fa-heart\"></span> <span class=\"num\">1</span>\n",
       "</a>\n",
       "</div>\n",
       "<div class=\"review-content\">\n",
       "<div class=\"review-text\">\n",
       "<p>Anybody else have trouble with ArkhamDB decks adding this after the intro to The Witching hour instructs you to add both it and The Tower XVI to your deck?  After the scenario, I tried to add it as a campaign card, but it wasn't there - it was just under the regular assets, and when I added it there, it tried to charge me XP.  Did I miss something?</p>\n",
       "</div>\n",
       "<div class=\"review-date\">\n",
       "<time datetime=\"2020-05-02T21:36:16+00:00\" title=\"May 2nd, 2020\">5/2/20</time>\n",
       "</div>\n",
       "<div class=\"review-author\">\n",
       "<span class=\"username\"><a class=\"username fg-guardian\" href=\"/user/profile/15746/antichris\">antichris</a>\n",
       " · <small title=\"User Reputation\">2</small>\n",
       "</span>\n",
       "</div>\n",
       "<div class=\"review-comment text-muted small\">No, you're not alone. I wish they would add a copy which can be selected as a campaign card.\n",
       "\t\t\t\t\t—\n",
       "\t\t\t\t\t<span class=\"username\"><a class=\"username fg-mythos\" href=\"/user/profile/2453/Jeko\">Jeko</a>\n",
       " · <small title=\"User Reputation\">14</small>\n",
       "</span>\n",
       "<time datetime=\"2020-05-03T09:36:49+00:00\" title=\"May 3rd, 2020\">5/3/20</time>\n",
       "</div>\n",
       "<div class=\"review-comment text-muted small\">I ended up raising a bug on github for it - https://github.com/Kamalisk/arkhamdb/issues/294\n",
       "\t\t\t\t\t—\n",
       "\t\t\t\t\t<span class=\"username\"><a class=\"username fg-guardian\" href=\"/user/profile/15746/antichris\">antichris</a>\n",
       " · <small title=\"User Reputation\">2</small>\n",
       "</span>\n",
       "<time datetime=\"2020-05-03T11:33:35+00:00\" title=\"May 3rd, 2020\">5/3/20</time>\n",
       "</div>\n",
       "<div class=\"review-comment text-muted small\">If you click on the card title in your build window there is a widget in the upper right that lets you select a number of copies of the card to ignore re: decksize and xp\n",
       "\t\t\t\t\t—\n",
       "\t\t\t\t\t<span class=\"username\"><a class=\"username fg-rogue\" href=\"/user/profile/17107/Sycopath\">Sycopath</a>\n",
       " · <small title=\"User Reputation\">1</small>\n",
       "</span>\n",
       "<time datetime=\"2020-05-03T18:51:37+00:00\" title=\"May 3rd, 2020\">5/3/20</time>\n",
       "</div>\n",
       "<div class=\"review-comment text-muted small\">This works for me.  Thanks!\n",
       "\t\t\t\t\t—\n",
       "\t\t\t\t\t<span class=\"username\"><a class=\"username fg-guardian\" href=\"/user/profile/15746/antichris\">antichris</a>\n",
       " · <small title=\"User Reputation\">2</small>\n",
       "</span>\n",
       "<time datetime=\"2020-05-04T12:02:26+00:00\" title=\"May 4th, 2020\">5/4/20</time>\n",
       "</div>\n",
       "<div class=\"review-comment text-muted small\">How do we get the deck builder to ignore The Tower XVI, as there is no option to ignore that card like there is other cards?\n",
       "\t\t\t\t\t—\n",
       "\t\t\t\t\t<span class=\"username\"><a class=\"username fg-neutral\" href=\"/user/profile/3252/corbs\">corbs</a>\n",
       " · <small title=\"User Reputation\">10</small>\n",
       "</span>\n",
       "<time datetime=\"2020-05-12T18:42:41+00:00\" title=\"May 12th, 2020\">5/12/20</time>\n",
       "</div>\n",
       "<div class=\"review-comment text-muted small\">@corbs Story assets and weaknesses already ignore deck limit.\n",
       "\t\t\t\t\t—\n",
       "\t\t\t\t\t<span class=\"username\"><a class=\"username fg-neutral\" href=\"/user/profile/92266/SyncStelar\">SyncStelar</a>\n",
       " · <small title=\"User Reputation\">1</small>\n",
       "</span>\n",
       "<time datetime=\"2023-09-10T12:59:30+00:00\" title=\"September 10th, 2023\">9/10/23</time>\n",
       "</div>\n",
       "<form action=\"/review/comment\" class=\"form-comment\" method=\"POST\">\n",
       "<input name=\"comment_review_id\" type=\"hidden\" value=\"1794\"/>\n",
       "<button class=\"btn btn-link btn-write-comment\">Add a comment</button>\n",
       "</form>\n",
       "</div>\n",
       "</article>\n",
       "</div>\n",
       "</div>\n",
       "</div>\n",
       "</div>\n",
       "<div class=\"row\">\n",
       "<div class=\"col-sm-12\">\n",
       "<ul class=\"pager\">\n",
       "<li class=\"previous\">\n",
       "<a class=\"no-popup\" href=\"/card/05039\">← Five of Pentacles</a> </li>\n",
       "<li>\n",
       "<a href=\"/set/tcu\">The Circle Undone</a>\n",
       "</li>\n",
       "<li class=\"next\">\n",
       "<a class=\"no-popup\" href=\"/card/05041\">The 13th Vision →</a> </li>\n",
       "</ul>\n",
       "</div>\n",
       "</div>\n",
       "</div>"
      ]
     },
     "execution_count": 15,
     "metadata": {},
     "output_type": "execute_result"
    }
   ],
   "source": [
    "get_soup(assets[20])"
   ]
  },
  {
   "cell_type": "code",
   "execution_count": 53,
   "id": "agreed-forum",
   "metadata": {},
   "outputs": [
    {
     "name": "stdout",
     "output_type": "stream",
     "text": [
      "Deck Size: 30\n",
      "Secondary Class Choice: None\n",
      "Deckbuilding Options: Rogue cards () level 0-5, Neutral cards level 0-5, \n",
      "                up to 10 level 0-1 events and/or skills of your chosen secondary class\n",
      "Deckbuilding Requirements: None\n"
     ]
    }
   ],
   "source": [
    "# Input string\n",
    "input_string = '''Deck Size: 30 Secondary Class Choice: At deck creation, choose Guardian (), Seeker (), \n",
    "                or Survivor (). Deckbuilding Options: Rogue cards () level 0-5, Neutral cards level 0-5, \n",
    "                up to 10 level 0-1 events and/or skills of your chosen secondary class. Deckbuilding Requirements \n",
    "                (do not count toward deck size): Bounty Contracts, 2 copies of Tony's .38 Long Colt, Tony's Quarry,\n",
    "                1 random basic weakness.'''\n",
    "\n",
    "# Regex patterns\n",
    "deck_size_pattern = re.compile(r\"Deck Size:\\s*(\\d+)\")\n",
    "secondary_class_pattern = re.compile(r\"Secondary Class Choice:\\s*(Guardian|Seeker|Survivor)\")\n",
    "deck_options_pattern = re.compile(r\"Deckbuilding Options:\\s*([^\\.]+)\\.\")\n",
    "deck_requirements_pattern = re.compile(r\"Deckbuilding Requirements:\\s*([^\\.]+)\\.\")\n",
    "\n",
    "# Extract information\n",
    "deck_size_match = deck_size_pattern.search(input_string)\n",
    "secondary_class_match = secondary_class_pattern.search(input_string)\n",
    "deck_options_match = deck_options_pattern.search(input_string)\n",
    "deck_requirements_match = deck_requirements_pattern.search(input_string)\n",
    "\n",
    "# Extracted variables or set to None if not present\n",
    "deck_size = deck_size_match.group(1) if deck_size_match else None\n",
    "secondary_class_choice = secondary_class_match.group(1) if secondary_class_match else None\n",
    "deck_options = deck_options_match.group(1).strip() if deck_options_match else None\n",
    "deck_requirements = deck_requirements_match.group(1).strip() if deck_requirements_match else None\n",
    "\n",
    "# Print the results\n",
    "print(\"Deck Size:\", deck_size)\n",
    "print(\"Secondary Class Choice:\", secondary_class_choice)\n",
    "print(\"Deckbuilding Options:\", deck_options)\n",
    "print(\"Deckbuilding Requirements:\", deck_requirements)"
   ]
  },
  {
   "cell_type": "code",
   "execution_count": 16,
   "id": "periodic-corruption",
   "metadata": {},
   "outputs": [
    {
     "data": {
      "text/plain": [
       "'Diana Stanley'"
      ]
     },
     "execution_count": 16,
     "metadata": {},
     "output_type": "execute_result"
    }
   ],
   "source": [
    "title"
   ]
  },
  {
   "cell_type": "code",
   "execution_count": 17,
   "id": "romance-legislature",
   "metadata": {},
   "outputs": [
    {
     "data": {
      "text/plain": [
       "'Mystic'"
      ]
     },
     "execution_count": 17,
     "metadata": {},
     "output_type": "execute_result"
    }
   ],
   "source": [
    "faction"
   ]
  },
  {
   "cell_type": "code",
   "execution_count": 18,
   "id": "israeli-scott",
   "metadata": {},
   "outputs": [
    {
     "data": {
      "text/plain": [
       "'Investigator'"
      ]
     },
     "execution_count": 18,
     "metadata": {},
     "output_type": "execute_result"
    }
   ],
   "source": [
    "tipe"
   ]
  },
  {
   "cell_type": "code",
   "execution_count": 19,
   "id": "interpreted-message",
   "metadata": {},
   "outputs": [
    {
     "data": {
      "text/plain": [
       "'Cultist. Silver Twilight.'"
      ]
     },
     "execution_count": 19,
     "metadata": {},
     "output_type": "execute_result"
    }
   ],
   "source": [
    "traits"
   ]
  },
  {
   "cell_type": "code",
   "execution_count": 20,
   "id": "heard-involvement",
   "metadata": {},
   "outputs": [
    {
     "data": {
      "text/plain": [
       "1"
      ]
     },
     "execution_count": 20,
     "metadata": {},
     "output_type": "execute_result"
    }
   ],
   "source": [
    "willpower"
   ]
  },
  {
   "cell_type": "code",
   "execution_count": 21,
   "id": "radio-providence",
   "metadata": {},
   "outputs": [
    {
     "data": {
      "text/plain": [
       "3"
      ]
     },
     "execution_count": 21,
     "metadata": {},
     "output_type": "execute_result"
    }
   ],
   "source": [
    "intellect"
   ]
  },
  {
   "cell_type": "code",
   "execution_count": 22,
   "id": "dress-maple",
   "metadata": {},
   "outputs": [
    {
     "data": {
      "text/plain": [
       "3"
      ]
     },
     "execution_count": 22,
     "metadata": {},
     "output_type": "execute_result"
    }
   ],
   "source": [
    "combat"
   ]
  },
  {
   "cell_type": "code",
   "execution_count": 23,
   "id": "instant-chicago",
   "metadata": {},
   "outputs": [
    {
     "data": {
      "text/plain": [
       "3"
      ]
     },
     "execution_count": 23,
     "metadata": {},
     "output_type": "execute_result"
    }
   ],
   "source": [
    "agility"
   ]
  },
  {
   "cell_type": "code",
   "execution_count": 24,
   "id": "broad-wrist",
   "metadata": {},
   "outputs": [
    {
     "data": {
      "text/plain": [
       "7"
      ]
     },
     "execution_count": 24,
     "metadata": {},
     "output_type": "execute_result"
    }
   ],
   "source": [
    "health"
   ]
  },
  {
   "cell_type": "code",
   "execution_count": 25,
   "id": "compact-wichita",
   "metadata": {},
   "outputs": [
    {
     "data": {
      "text/plain": [
       "7"
      ]
     },
     "execution_count": 25,
     "metadata": {},
     "output_type": "execute_result"
    }
   ],
   "source": [
    "sanity"
   ]
  },
  {
   "cell_type": "code",
   "execution_count": 26,
   "id": "compliant-quarter",
   "metadata": {},
   "outputs": [
    {
     "data": {
      "text/plain": [
       "'Diana Stanley gets +1  for each card beneath her. After a card you own cancels or ignores a card effect or game effect, if there are fewer than 5 cards beneath Diana Stanley: Place that card facedown beneath her. Draw 1 card and gain 1 resource. (Limit once per phase.) effect: +2. You may choose a card beneath Diana Stanley and add it to your hand.'"
      ]
     },
     "execution_count": 26,
     "metadata": {},
     "output_type": "execute_result"
    }
   ],
   "source": [
    "ability"
   ]
  },
  {
   "cell_type": "code",
   "execution_count": 27,
   "id": "personal-clear",
   "metadata": {},
   "outputs": [
    {
     "data": {
      "text/plain": [
       "'Magali Villeneuve'"
      ]
     },
     "execution_count": 27,
     "metadata": {},
     "output_type": "execute_result"
    }
   ],
   "source": [
    "artist"
   ]
  },
  {
   "cell_type": "code",
   "execution_count": 28,
   "id": "married-pontiac",
   "metadata": {},
   "outputs": [
    {
     "data": {
      "text/plain": [
       "'The Circle Undone #4'"
      ]
     },
     "execution_count": 28,
     "metadata": {},
     "output_type": "execute_result"
    }
   ],
   "source": [
    "expansion"
   ]
  },
  {
   "cell_type": "code",
   "execution_count": 29,
   "id": "mental-norman",
   "metadata": {},
   "outputs": [
    {
     "ename": "NameError",
     "evalue": "name 'deck_size' is not defined",
     "output_type": "error",
     "traceback": [
      "\u001b[0;31m---------------------------------------------------------------------------\u001b[0m",
      "\u001b[0;31mNameError\u001b[0m                                 Traceback (most recent call last)",
      "\u001b[0;32m<ipython-input-29-09a5d760d541>\u001b[0m in \u001b[0;36m<module>\u001b[0;34m\u001b[0m\n\u001b[0;32m----> 1\u001b[0;31m \u001b[0mdeck_size\u001b[0m\u001b[0;34m\u001b[0m\u001b[0;34m\u001b[0m\u001b[0m\n\u001b[0m",
      "\u001b[0;31mNameError\u001b[0m: name 'deck_size' is not defined"
     ]
    }
   ],
   "source": [
    "deck_size"
   ]
  },
  {
   "cell_type": "code",
   "execution_count": 30,
   "id": "distinct-johns",
   "metadata": {},
   "outputs": [
    {
     "data": {
      "text/plain": [
       "\"As a new business owner in Arkham, Diana Stanley was proud to be inducted into the prestigious Silver Twilight Lodge. Her joy has since turned to dread. Her admittance into the organization was fantastic for business, but the weekly meetings have grown more and more disturbing. After witnessing strange rituals and terrible secrets, Diana has become suspicious of the Lodge's true nature. Now she is convinced that there are terrible forces converging on Arkham, and that the Lodge is somehow involved. Diana has resolved to take it down from the inside, regardless of the cost.\""
      ]
     },
     "execution_count": 30,
     "metadata": {},
     "output_type": "execute_result"
    }
   ],
   "source": [
    "flavor"
   ]
  },
  {
   "cell_type": "code",
   "execution_count": 31,
   "id": "latter-shame",
   "metadata": {},
   "outputs": [
    {
     "ename": "NameError",
     "evalue": "name 'deck_size' is not defined",
     "output_type": "error",
     "traceback": [
      "\u001b[0;31m---------------------------------------------------------------------------\u001b[0m",
      "\u001b[0;31mNameError\u001b[0m                                 Traceback (most recent call last)",
      "\u001b[0;32m<ipython-input-31-09a5d760d541>\u001b[0m in \u001b[0;36m<module>\u001b[0;34m\u001b[0m\n\u001b[0;32m----> 1\u001b[0;31m \u001b[0mdeck_size\u001b[0m\u001b[0;34m\u001b[0m\u001b[0;34m\u001b[0m\u001b[0m\n\u001b[0m",
      "\u001b[0;31mNameError\u001b[0m: name 'deck_size' is not defined"
     ]
    }
   ],
   "source": [
    "deck_size"
   ]
  },
  {
   "cell_type": "code",
   "execution_count": 32,
   "id": "smoking-mobile",
   "metadata": {},
   "outputs": [
    {
     "ename": "NameError",
     "evalue": "name 'deck_options' is not defined",
     "output_type": "error",
     "traceback": [
      "\u001b[0;31m---------------------------------------------------------------------------\u001b[0m",
      "\u001b[0;31mNameError\u001b[0m                                 Traceback (most recent call last)",
      "\u001b[0;32m<ipython-input-32-51dcaee4d9ed>\u001b[0m in \u001b[0;36m<module>\u001b[0;34m\u001b[0m\n\u001b[0;32m----> 1\u001b[0;31m \u001b[0mdeck_options\u001b[0m\u001b[0;34m\u001b[0m\u001b[0;34m\u001b[0m\u001b[0m\n\u001b[0m",
      "\u001b[0;31mNameError\u001b[0m: name 'deck_options' is not defined"
     ]
    }
   ],
   "source": [
    "deck_options"
   ]
  },
  {
   "cell_type": "code",
   "execution_count": 33,
   "id": "contemporary-benjamin",
   "metadata": {},
   "outputs": [
    {
     "ename": "NameError",
     "evalue": "name 'must_include' is not defined",
     "output_type": "error",
     "traceback": [
      "\u001b[0;31m---------------------------------------------------------------------------\u001b[0m",
      "\u001b[0;31mNameError\u001b[0m                                 Traceback (most recent call last)",
      "\u001b[0;32m<ipython-input-33-23094de5a163>\u001b[0m in \u001b[0;36m<module>\u001b[0;34m\u001b[0m\n\u001b[0;32m----> 1\u001b[0;31m \u001b[0mmust_include\u001b[0m\u001b[0;34m\u001b[0m\u001b[0;34m\u001b[0m\u001b[0m\n\u001b[0m",
      "\u001b[0;31mNameError\u001b[0m: name 'must_include' is not defined"
     ]
    }
   ],
   "source": [
    "must_include "
   ]
  },
  {
   "cell_type": "code",
   "execution_count": null,
   "id": "spread-invalid",
   "metadata": {},
   "outputs": [],
   "source": []
  },
  {
   "cell_type": "code",
   "execution_count": null,
   "id": "loose-proposition",
   "metadata": {},
   "outputs": [],
   "source": []
  },
  {
   "cell_type": "code",
   "execution_count": null,
   "id": "stuffed-frederick",
   "metadata": {},
   "outputs": [],
   "source": []
  }
 ],
 "metadata": {
  "kernelspec": {
   "display_name": "Python 3",
   "language": "python",
   "name": "python3"
  },
  "language_info": {
   "codemirror_mode": {
    "name": "ipython",
    "version": 3
   },
   "file_extension": ".py",
   "mimetype": "text/x-python",
   "name": "python",
   "nbconvert_exporter": "python",
   "pygments_lexer": "ipython3",
   "version": "3.7.4"
  }
 },
 "nbformat": 4,
 "nbformat_minor": 5
}
