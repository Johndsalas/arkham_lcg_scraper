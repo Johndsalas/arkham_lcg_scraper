{
 "cells": [
  {
   "cell_type": "code",
   "execution_count": 1,
   "id": "optional-content",
   "metadata": {},
   "outputs": [],
   "source": [
    "import requests\n",
    "import re\n",
    "from bs4 import BeautifulSoup\n",
    "import pandas as pd\n",
    "import main as m\n",
    "import regex as re"
   ]
  },
  {
   "cell_type": "code",
   "execution_count": 2,
   "id": "comparable-still",
   "metadata": {},
   "outputs": [],
   "source": [
    "# investigator \n",
    "# ablilities with embedid values not capturing correctly\n",
    "# Complex deck reqs not being captured correctly\n",
    "# some must includes not being captured correctly"
   ]
  },
  {
   "cell_type": "code",
   "execution_count": 3,
   "id": "royal-motivation",
   "metadata": {},
   "outputs": [
    {
     "name": "stdout",
     "output_type": "stream",
     "text": [
      "Getting investigator URL's...\n",
      "Getting asset URL's...\n",
      "Getting event URL's...\n",
      "Getting skill URL's...\n"
     ]
    }
   ],
   "source": [
    "invest, assets, events, skills = m.get_urls_by_type()\n"
   ]
  },
  {
   "cell_type": "code",
   "execution_count": 4,
   "id": "marine-newcastle",
   "metadata": {},
   "outputs": [],
   "source": [
    "##########################################Get soup request#########################################################\n",
    "def get_soup(url):\n",
    "    '''Child of get_skills_df\n",
    "       Takes in a url for a card\n",
    "       Returns html request result parsed using beautiful soup'''\n",
    "\n",
    "    # create request and soup objects\n",
    "    html = requests.get(url)\n",
    "\n",
    "    soup = BeautifulSoup(html.content, 'html.parser')\n",
    "\n",
    "    # locate urls on page and return\n",
    "    return soup.find(id='list')"
   ]
  },
  {
   "cell_type": "code",
   "execution_count": 5,
   "id": "respiratory-nicaragua",
   "metadata": {},
   "outputs": [],
   "source": [
    "def clean_ability_string(ability):\n",
    "    \n",
    "    # replace icon html with matching word in all caps\n",
    "    icon_types = [\n",
    "                  'reaction',\n",
    "                  'wild', \n",
    "                  'willpower', \n",
    "                  'combat', \n",
    "                  'agility', \n",
    "                  'intellect', \n",
    "                  'wild',\n",
    "                  'curse', \n",
    "                  'bless',\n",
    "                  'rogue',\n",
    "                  'survivor',\n",
    "                  'seeker',\n",
    "                  'guardian',\n",
    "                  'mystic',\n",
    "                  'neutral',\n",
    "                  'skull',\n",
    "                  'tablet',\n",
    "                  'cultist',\n",
    "                  'elder sign']\n",
    "    \n",
    "    for icon in icon_types:\n",
    "    \n",
    "        ability = ability.replace(f'<span class=\"icon-{icon}\" title=\"{icon.capitalize()}\"></span>', \n",
    "                                  f'{icon.upper()}')\n",
    "        \n",
    "        ability = ability.replace(f'<div class=\"card-text border-{icon}\">\\n<p>', '')\n",
    "\n",
    "    ability = ability.replace(f'<span class=\"icon-wild\" title=\"Any Skill\"></span>', 'WILD')\n",
    "\n",
    "    ability = ability.replace(f'<span class=\"icon-elder_sign\" title=\"Elder Sign\"></span>', 'ELDER_SIGN')\n",
    "\n",
    "    ability = ability.replace(f'<span class=\"icon-elder_sign\" title=\"Elder Thing\"></span>', 'ELDER_THING')\n",
    "\n",
    "    # delete extraneous html\n",
    "    dirt = [\n",
    "            '</p>\\n</div>',\n",
    "            '</p>',\n",
    "            '<p>',\n",
    "            '<b>',\n",
    "            '</b>',\n",
    "            '<br/',\n",
    "            '<1>',\n",
    "            '<i>',\n",
    "            '</i>',\n",
    "            '><span>',]\n",
    "    \n",
    "    for item in dirt:\n",
    "        \n",
    "        ability = ability.replace(item,'')\n",
    "\n",
    "    return ability"
   ]
  },
  {
   "cell_type": "code",
   "execution_count": 6,
   "id": "loved-edward",
   "metadata": {},
   "outputs": [],
   "source": [
    "def get_stat_line(results):\n",
    "    \n",
    "    stat_line = results.find('div', class_='card-props').text.replace('\\n', '').replace('\\t', '')\n",
    "\n",
    "    stat_list = [int(char) for char in str(stat_line) if char.isnumeric() == True]\n",
    "\n",
    "    return stat_list[0], stat_list[1], stat_list[2], stat_list[3]\n",
    "\n",
    "\n",
    "def get_stam_line(results):\n",
    "    \n",
    "    stat_line = results.find('div', class_='card-props').find_next().text.replace('\\n', '').replace('\\t', '')\n",
    "\n",
    "    stat_list = [int(char) for char in str(stat_line) if char.isnumeric() == True]\n",
    "\n",
    "    return stat_list[0], stat_list[1]\n",
    "\n",
    "\n",
    "def get_deck_reqs(results, faction):\n",
    "\n",
    "    deck = results.find_all('div', class_=f'card-text border-{faction.lower()}')[1].text\n",
    "\n",
    "    pattern = r'(?:\\b(?:Deck Size|Deckbuilding Options|Deckbuilding Requirements|Additional Setup):|\\b\\s*)([^:\\n]+)'\n",
    "\n",
    "    deck_split = re.findall(pattern, str(deck))\n",
    "\n",
    "    deck_size = re.search('[0-9]{2}', deck_split[0]).group()\n",
    "\n",
    "    deck_options = deck_split[1].replace('Deckbuilding Requirements (do not count toward deck size)', '').replace('(', '').replace(')', '').replace('  ', ' ')\n",
    "\n",
    "    must_include = deck_split[2].replace('.Additional Setup', '')\n",
    "\n",
    "    try:\n",
    "\n",
    "        setup = deck_split[3]\n",
    "\n",
    "    except:\n",
    "\n",
    "        setup = NONE\n",
    "\n",
    "    return deck_size, deck_options, must_include, setup"
   ]
  },
  {
   "cell_type": "code",
   "execution_count": 7,
   "id": "occupational-lunch",
   "metadata": {},
   "outputs": [],
   "source": [
    "def get_invest_traits(results):\n",
    "    '''Scrapes and returns investigator card data'''\n",
    "\n",
    "    title = results.find('a', class_='card-name card-tip').text.replace('\\n', '').replace('\\t', '')\n",
    "\n",
    "    faction = results.find('span', class_='card-faction').text.replace('\\n', '').replace('\\t', '')\n",
    "\n",
    "    tipe = results.find('span', class_='card-type').text.replace('\\n', '').replace('\\t', '')\n",
    "\n",
    "    traits = results.find('p', class_='card-traits').text.replace('\\n', '').replace('\\t', '')\n",
    "\n",
    "    willpower, intellect, combat, agility = get_stat_line(results)\n",
    "\n",
    "    health, sanity = get_stam_line(results)\n",
    "   \n",
    "    ability = results.find('div', class_=f'card-text border-{faction.lower()}').text.replace('\\n', '').replace('\\t', '')\n",
    "\n",
    "    artist = results.find('div', class_='card-illustrator').text.replace('\\n', '').replace('\\t', '')\n",
    "\n",
    "    expansion = results.find('div', class_='card-pack').text.replace('\\n', '').replace('\\t', '').replace('.', '') \n",
    "\n",
    "    try:\n",
    "        \n",
    "        flavor = results.find_all('div', class_='card-flavor small')[1].text.replace('\\n', '').replace('\\t', '')\n",
    "\n",
    "    except:\n",
    "        \n",
    "        flavor = ''\n",
    "        \n",
    "    deck_size, deck_options, must_include, setup = get_deck_reqs(results, faction)\n",
    "    \n",
    "    return [title, \n",
    "            faction, \n",
    "            tipe, \n",
    "            traits, \n",
    "            willpower, \n",
    "            intellect, \n",
    "            combat, \n",
    "            agility, \n",
    "            health, \n",
    "            sanity,\n",
    "            ability, \n",
    "            artist,\n",
    "            expansion,\n",
    "            flavor,\n",
    "            deck_size,\n",
    "            deck_options,\n",
    "            must_include,\n",
    "            setup]"
   ]
  },
  {
   "cell_type": "code",
   "execution_count": 8,
   "id": "published-sound",
   "metadata": {},
   "outputs": [],
   "source": [
    "# make empty df\n",
    "\n",
    "def get_invest_df():\n",
    "\n",
    "    investigator_traits = { 'title':[],\n",
    "                            'faction':[],\n",
    "                            'type':[],\n",
    "                            'traits':[],                      \n",
    "                            'willpower':[],\n",
    "                            'intellect':[],\n",
    "                            'combat':[],\n",
    "                            'agility':[],                       \n",
    "                            'health':[],\n",
    "                            'sanity':[],                     \n",
    "                            'ability':[],\n",
    "                            'artist':[],\n",
    "                            'expansion':[],\n",
    "                            'flavor':[],\n",
    "                            'deck_size':[],\n",
    "                            'deck_options':[],\n",
    "                            'must_include':[],\n",
    "                            'setup':[]}\n",
    "\n",
    "    # for each url get player card info from that page and add each element to skill_traits\n",
    "    for url in invest:\n",
    "\n",
    "        # make html request to arkham db and parse using BS\n",
    "        results = get_soup(url)\n",
    "\n",
    "        # get list of card elements card elements\n",
    "        trait_list = get_invest_traits(results)\n",
    "\n",
    "        print(f'Getting investigator card {trait_list[0]}...')\n",
    "\n",
    "        # itterate through card element titles and add each to a dictionary\n",
    "        for i, key in enumerate(investigator_traits):\n",
    "\n",
    "            investigator_traits[key].append(trait_list[i])\n",
    "\n",
    "    print(\"Making dataframe...\")\n",
    "\n",
    "    return pd.DataFrame(investigator_traits)"
   ]
  },
  {
   "cell_type": "code",
   "execution_count": 9,
   "id": "duplicate-classification",
   "metadata": {},
   "outputs": [
    {
     "ename": "NameError",
     "evalue": "name 'NONE' is not defined",
     "output_type": "error",
     "traceback": [
      "\u001b[0;31m---------------------------------------------------------------------------\u001b[0m",
      "\u001b[0;31mIndexError\u001b[0m                                Traceback (most recent call last)",
      "\u001b[0;32m<ipython-input-6-0a03d7a4ccf2>\u001b[0m in \u001b[0;36mget_deck_reqs\u001b[0;34m(results, faction)\u001b[0m\n\u001b[1;32m     34\u001b[0m \u001b[0;34m\u001b[0m\u001b[0m\n\u001b[0;32m---> 35\u001b[0;31m         \u001b[0msetup\u001b[0m \u001b[0;34m=\u001b[0m \u001b[0mdeck_split\u001b[0m\u001b[0;34m[\u001b[0m\u001b[0;36m3\u001b[0m\u001b[0;34m]\u001b[0m\u001b[0;34m\u001b[0m\u001b[0;34m\u001b[0m\u001b[0m\n\u001b[0m\u001b[1;32m     36\u001b[0m \u001b[0;34m\u001b[0m\u001b[0m\n",
      "\u001b[0;31mIndexError\u001b[0m: list index out of range",
      "\nDuring handling of the above exception, another exception occurred:\n",
      "\u001b[0;31mNameError\u001b[0m                                 Traceback (most recent call last)",
      "\u001b[0;32m<ipython-input-9-35ae40ae34d5>\u001b[0m in \u001b[0;36m<module>\u001b[0;34m\u001b[0m\n\u001b[0;32m----> 1\u001b[0;31m \u001b[0mget_invest_df\u001b[0m\u001b[0;34m(\u001b[0m\u001b[0;34m)\u001b[0m\u001b[0;34m\u001b[0m\u001b[0;34m\u001b[0m\u001b[0m\n\u001b[0m",
      "\u001b[0;32m<ipython-input-8-95b24a09935c>\u001b[0m in \u001b[0;36mget_invest_df\u001b[0;34m()\u001b[0m\n\u001b[1;32m     29\u001b[0m \u001b[0;34m\u001b[0m\u001b[0m\n\u001b[1;32m     30\u001b[0m         \u001b[0;31m# get list of card elements card elements\u001b[0m\u001b[0;34m\u001b[0m\u001b[0;34m\u001b[0m\u001b[0;34m\u001b[0m\u001b[0m\n\u001b[0;32m---> 31\u001b[0;31m         \u001b[0mtrait_list\u001b[0m \u001b[0;34m=\u001b[0m \u001b[0mget_invest_traits\u001b[0m\u001b[0;34m(\u001b[0m\u001b[0mresults\u001b[0m\u001b[0;34m)\u001b[0m\u001b[0;34m\u001b[0m\u001b[0;34m\u001b[0m\u001b[0m\n\u001b[0m\u001b[1;32m     32\u001b[0m \u001b[0;34m\u001b[0m\u001b[0m\n\u001b[1;32m     33\u001b[0m         \u001b[0mprint\u001b[0m\u001b[0;34m(\u001b[0m\u001b[0;34mf'Getting investigator card {trait_list[0]}...'\u001b[0m\u001b[0;34m)\u001b[0m\u001b[0;34m\u001b[0m\u001b[0;34m\u001b[0m\u001b[0m\n",
      "\u001b[0;32m<ipython-input-7-a5c7c962d439>\u001b[0m in \u001b[0;36mget_invest_traits\u001b[0;34m(results)\u001b[0m\n\u001b[1;32m     28\u001b[0m         \u001b[0mflavor\u001b[0m \u001b[0;34m=\u001b[0m \u001b[0;34m''\u001b[0m\u001b[0;34m\u001b[0m\u001b[0;34m\u001b[0m\u001b[0m\n\u001b[1;32m     29\u001b[0m \u001b[0;34m\u001b[0m\u001b[0m\n\u001b[0;32m---> 30\u001b[0;31m     \u001b[0mdeck_size\u001b[0m\u001b[0;34m,\u001b[0m \u001b[0mdeck_options\u001b[0m\u001b[0;34m,\u001b[0m \u001b[0mmust_include\u001b[0m\u001b[0;34m,\u001b[0m \u001b[0msetup\u001b[0m \u001b[0;34m=\u001b[0m \u001b[0mget_deck_reqs\u001b[0m\u001b[0;34m(\u001b[0m\u001b[0mresults\u001b[0m\u001b[0;34m,\u001b[0m \u001b[0mfaction\u001b[0m\u001b[0;34m)\u001b[0m\u001b[0;34m\u001b[0m\u001b[0;34m\u001b[0m\u001b[0m\n\u001b[0m\u001b[1;32m     31\u001b[0m \u001b[0;34m\u001b[0m\u001b[0m\n\u001b[1;32m     32\u001b[0m     return [title, \n",
      "\u001b[0;32m<ipython-input-6-0a03d7a4ccf2>\u001b[0m in \u001b[0;36mget_deck_reqs\u001b[0;34m(results, faction)\u001b[0m\n\u001b[1;32m     37\u001b[0m     \u001b[0;32mexcept\u001b[0m\u001b[0;34m:\u001b[0m\u001b[0;34m\u001b[0m\u001b[0;34m\u001b[0m\u001b[0m\n\u001b[1;32m     38\u001b[0m \u001b[0;34m\u001b[0m\u001b[0m\n\u001b[0;32m---> 39\u001b[0;31m         \u001b[0msetup\u001b[0m \u001b[0;34m=\u001b[0m \u001b[0mNONE\u001b[0m\u001b[0;34m\u001b[0m\u001b[0;34m\u001b[0m\u001b[0m\n\u001b[0m\u001b[1;32m     40\u001b[0m \u001b[0;34m\u001b[0m\u001b[0m\n\u001b[1;32m     41\u001b[0m     \u001b[0;32mreturn\u001b[0m \u001b[0mdeck_size\u001b[0m\u001b[0;34m,\u001b[0m \u001b[0mdeck_options\u001b[0m\u001b[0;34m,\u001b[0m \u001b[0mmust_include\u001b[0m\u001b[0;34m,\u001b[0m \u001b[0msetup\u001b[0m\u001b[0;34m\u001b[0m\u001b[0;34m\u001b[0m\u001b[0m\n",
      "\u001b[0;31mNameError\u001b[0m: name 'NONE' is not defined"
     ]
    }
   ],
   "source": [
    "get_invest_df()"
   ]
  },
  {
   "cell_type": "code",
   "execution_count": null,
   "id": "frozen-sigma",
   "metadata": {},
   "outputs": [],
   "source": [
    "# [title, test_icons, traits, willpower, intellect, combat, agility, health, sanity, faction, ability, tipe, flavor, artist, expansion]"
   ]
  },
  {
   "cell_type": "code",
   "execution_count": null,
   "id": "legal-french",
   "metadata": {},
   "outputs": [],
   "source": [
    "# Investigator Traits\n",
    "\n",
    "results = get_soup('https://arkhamdb.com/card/06003')\n",
    "\n",
    "title = results.find('a', class_='card-name card-tip').text.replace('\\n', '').replace('\\t', '')\n",
    "\n",
    "faction = results.find('span', class_='card-faction').text.replace('\\n', '').replace('\\t', '')\n",
    "\n",
    "tipe = results.find('span', class_='card-type').text.replace('\\n', '').replace('\\t', '')\n",
    "\n",
    "traits = results.find('p', class_='card-traits').text.replace('\\n', '').replace('\\t', '')\n",
    "\n",
    "willpower, intellect, combat, agility = get_stat_line(results)\n",
    "\n",
    "health, sanity = get_stam_line(results)\n",
    "\n",
    "ability = results.find('div', class_=f'card-text border-{faction.lower()}').text.replace('\\n', '').replace('\\t', '')\n",
    "\n",
    "artist = results.find('div', class_='card-illustrator').text.replace('\\n', '').replace('\\t', '')\n",
    "\n",
    "expansion = results.find('div', class_='card-pack').text.replace('\\n', '').replace('\\t', '').replace('.', '') \n",
    "\n",
    "flavor = results.find_all('div', class_='card-flavor small')[1].text.replace('\\n', '').replace('\\t', '')\n",
    "\n",
    "deck_size, deck_options, must_include = get_deck_reqs(results)"
   ]
  },
  {
   "cell_type": "code",
   "execution_count": null,
   "id": "indoor-holly",
   "metadata": {},
   "outputs": [],
   "source": [
    "results = get_soup('https://arkhamdb.com/card/06003')\n",
    "\n",
    "faction = results.find('span', class_='card-faction').text.replace('\\n', '').replace('\\t', '')\n",
    "\n",
    "results.find_all('div', class_=f'card-text border-{faction.lower()}')[1].text.replace('\\n', '').replace('\\t', '')"
   ]
  },
  {
   "cell_type": "code",
   "execution_count": null,
   "id": "lined-barcelona",
   "metadata": {},
   "outputs": [],
   "source": []
  },
  {
   "cell_type": "code",
   "execution_count": null,
   "id": "cutting-missile",
   "metadata": {},
   "outputs": [],
   "source": [
    "results.find_all('div', class_=f'card-text border-{faction.lower()}')[1].text\n",
    "\n"
   ]
  },
  {
   "cell_type": "code",
   "execution_count": null,
   "id": "atomic-credit",
   "metadata": {},
   "outputs": [],
   "source": [
    "def get_deck_reqs(results, faction):\n",
    "    \n",
    "    deck = results.find_all('div', class_=f'card-text border-{faction.lower()}')[1].text\n",
    "\n",
    "    deck_split = re.split(':', deck)\n",
    "\n",
    "    deck_size = re.search('[0-9]{2}', deck_split[1]).group()\n",
    "    \n",
    "    deck_options = re.search('^(.*?\\.)', deck_split[2]).group()[1:-1].replace('(', '').replace(')', '').replace('  ', ' ')\n",
    "\n",
    "    must_include = re.search('^(.*?\\.)', deck_split[3]).group()[1:-1].replace('(', '').replace(')', '').replace('  ', ' ')\n",
    "    \n",
    "    return deck_size, deck_options, must_include"
   ]
  },
  {
   "cell_type": "code",
   "execution_count": null,
   "id": "human-weekend",
   "metadata": {},
   "outputs": [],
   "source": [
    "\n",
    "\n",
    "def get_deck_reqs(results, faction):\n",
    "\n",
    "    deck = results.find_all('div', class_=f'card-text border-{faction.lower()}')[1].text\n",
    "\n",
    "    pattern = r'(?:\\b(?:Deck Size|Deckbuilding Options|Deckbuilding Requirements|Additional Setup):|\\b\\s*)([^:\\n]+)'\n",
    "\n",
    "    deck_split = re.findall(pattern, str(deck))\n",
    "\n",
    "    deck_size = re.search('[0-9]{2}', deck_split[0]).group()\n",
    "\n",
    "    deck_options = deck_split[1].replace('Deckbuilding Requirements (do not count toward deck size)', '').replace('(', '').replace(')', '').replace('  ', ' ')\n",
    "\n",
    "    must_include = deck_split[2].replace('.Additional Setup', '')\n",
    "\n",
    "    try:\n",
    "\n",
    "        setup = deck_split[3]\n",
    "\n",
    "    except:\n",
    "\n",
    "        setup = NONE\n",
    "\n",
    "    return deck_size, deck_options, must_include, setup"
   ]
  },
  {
   "cell_type": "code",
   "execution_count": 20,
   "id": "affected-stranger",
   "metadata": {},
   "outputs": [
    {
     "data": {
      "text/plain": [
       "'\\n When an investigator at your location would reveal any number of chaos tokens: Reveal 2 additional tokens. Of the revealed tokens, choose and cancel 2 non- tokens, or 1  token. (Limit once per round.) effect: +1. If this effect is canceled or ignored, draw 1 card.\\n'"
      ]
     },
     "execution_count": 20,
     "metadata": {},
     "output_type": "execute_result"
    }
   ],
   "source": [
    "results = get_soup(invest[26])\n",
    "\n",
    "faction = results.find('span', class_='card-faction').text.replace('\\n', '').replace('\\t', '')\n",
    "\n",
    "deck = results.find('div', class_=f'card-text border-{faction.lower()}').text\n",
    "\n",
    "pattern = r'Deck Size'\n",
    "\n",
    "deck_split = re.findall(pattern, deck)\n",
    "\n",
    "deck"
   ]
  },
  {
   "cell_type": "code",
   "execution_count": 15,
   "id": "selective-candidate",
   "metadata": {},
   "outputs": [
    {
     "data": {
      "text/plain": [
       "'\\n When an investigator at your location would reveal any number of chaos tokens: Reveal 2 additional tokens. Of the revealed tokens, choose and cancel 2 non- tokens, or 1  token. (Limit once per round.) effect: +1. If this effect is canceled or ignored, draw 1 card.\\n'"
      ]
     },
     "execution_count": 15,
     "metadata": {},
     "output_type": "execute_result"
    }
   ],
   "source": [
    "results.find('div', class_=f'card-text border-{faction.lower()}').text"
   ]
  },
  {
   "cell_type": "code",
   "execution_count": null,
   "id": "agreed-forum",
   "metadata": {},
   "outputs": [],
   "source": [
    "# Input string\n",
    "input_string = '''Deck Size: 30 Secondary Class Choice: At deck creation, choose Guardian (), Seeker (), \n",
    "                or Survivor (). Deckbuilding Options: Rogue cards () level 0-5, Neutral cards level 0-5, \n",
    "                up to 10 level 0-1 events and/or skills of your chosen secondary class. Deckbuilding Requirements \n",
    "                (do not count toward deck size): Bounty Contracts, 2 copies of Tony's .38 Long Colt, Tony's Quarry,\n",
    "                1 random basic weakness.'''\n",
    "\n",
    "\n"
   ]
  },
  {
   "cell_type": "code",
   "execution_count": null,
   "id": "periodic-corruption",
   "metadata": {},
   "outputs": [],
   "source": [
    "title"
   ]
  },
  {
   "cell_type": "code",
   "execution_count": null,
   "id": "romance-legislature",
   "metadata": {},
   "outputs": [],
   "source": [
    "faction"
   ]
  },
  {
   "cell_type": "code",
   "execution_count": null,
   "id": "israeli-scott",
   "metadata": {},
   "outputs": [],
   "source": [
    "tipe"
   ]
  },
  {
   "cell_type": "code",
   "execution_count": null,
   "id": "interpreted-message",
   "metadata": {},
   "outputs": [],
   "source": [
    "traits"
   ]
  },
  {
   "cell_type": "code",
   "execution_count": null,
   "id": "heard-involvement",
   "metadata": {},
   "outputs": [],
   "source": [
    "willpower"
   ]
  },
  {
   "cell_type": "code",
   "execution_count": null,
   "id": "radio-providence",
   "metadata": {},
   "outputs": [],
   "source": [
    "intellect"
   ]
  },
  {
   "cell_type": "code",
   "execution_count": null,
   "id": "dress-maple",
   "metadata": {},
   "outputs": [],
   "source": [
    "combat"
   ]
  },
  {
   "cell_type": "code",
   "execution_count": null,
   "id": "instant-chicago",
   "metadata": {},
   "outputs": [],
   "source": [
    "agility"
   ]
  },
  {
   "cell_type": "code",
   "execution_count": null,
   "id": "broad-wrist",
   "metadata": {},
   "outputs": [],
   "source": [
    "health"
   ]
  },
  {
   "cell_type": "code",
   "execution_count": null,
   "id": "compact-wichita",
   "metadata": {},
   "outputs": [],
   "source": [
    "sanity"
   ]
  },
  {
   "cell_type": "code",
   "execution_count": null,
   "id": "compliant-quarter",
   "metadata": {},
   "outputs": [],
   "source": [
    "ability"
   ]
  },
  {
   "cell_type": "code",
   "execution_count": null,
   "id": "personal-clear",
   "metadata": {},
   "outputs": [],
   "source": [
    "artist"
   ]
  },
  {
   "cell_type": "code",
   "execution_count": null,
   "id": "married-pontiac",
   "metadata": {},
   "outputs": [],
   "source": [
    "expansion"
   ]
  },
  {
   "cell_type": "code",
   "execution_count": null,
   "id": "mental-norman",
   "metadata": {},
   "outputs": [],
   "source": [
    "deck_size"
   ]
  },
  {
   "cell_type": "code",
   "execution_count": null,
   "id": "distinct-johns",
   "metadata": {},
   "outputs": [],
   "source": [
    "flavor"
   ]
  },
  {
   "cell_type": "code",
   "execution_count": null,
   "id": "latter-shame",
   "metadata": {},
   "outputs": [],
   "source": [
    "deck_size"
   ]
  },
  {
   "cell_type": "code",
   "execution_count": null,
   "id": "smoking-mobile",
   "metadata": {},
   "outputs": [],
   "source": [
    "deck_options"
   ]
  },
  {
   "cell_type": "code",
   "execution_count": null,
   "id": "contemporary-benjamin",
   "metadata": {},
   "outputs": [],
   "source": [
    "must_include "
   ]
  },
  {
   "cell_type": "code",
   "execution_count": null,
   "id": "spread-invalid",
   "metadata": {},
   "outputs": [],
   "source": []
  },
  {
   "cell_type": "code",
   "execution_count": null,
   "id": "loose-proposition",
   "metadata": {},
   "outputs": [],
   "source": []
  },
  {
   "cell_type": "code",
   "execution_count": null,
   "id": "stuffed-frederick",
   "metadata": {},
   "outputs": [],
   "source": []
  }
 ],
 "metadata": {
  "kernelspec": {
   "display_name": "Python 3",
   "language": "python",
   "name": "python3"
  },
  "language_info": {
   "codemirror_mode": {
    "name": "ipython",
    "version": 3
   },
   "file_extension": ".py",
   "mimetype": "text/x-python",
   "name": "python",
   "nbconvert_exporter": "python",
   "pygments_lexer": "ipython3",
   "version": "3.7.4"
  }
 },
 "nbformat": 4,
 "nbformat_minor": 5
}
