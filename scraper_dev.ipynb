{
 "cells": [
  {
   "cell_type": "code",
   "execution_count": 31,
   "id": "optional-content",
   "metadata": {},
   "outputs": [],
   "source": [
    "import requests\n",
    "import re\n",
    "from bs4 import BeautifulSoup"
   ]
  },
  {
   "cell_type": "code",
   "execution_count": 2,
   "id": "colonial-banking",
   "metadata": {},
   "outputs": [],
   "source": [
    "def get_cata_url(catagory):\n",
    "    ''' Takes in a string containing a player card catagory\n",
    "        Scrapes arkhamdb\n",
    "        Returns a list of urls for containing information on each card of that catagory'''\n",
    "\n",
    "    # get url for page to scrape\n",
    "    url = f'https://arkhamdb.com/find?q=t%3A{catagory}&decks=player'\n",
    "\n",
    "    # create request and soup objects\n",
    "    html = requests.get(url)\n",
    "\n",
    "    soup = BeautifulSoup(html.content, 'html.parser')\n",
    "\n",
    "    # locate urls on page\n",
    "    results = soup.find(id='list')\n",
    "\n",
    "    results = results.find_all('a', class_='card-tip')\n",
    "\n",
    "    # convert urls to string and make a list\n",
    "    results = [str(result['href']) for result in results]\n",
    "\n",
    "    return results"
   ]
  },
  {
   "cell_type": "code",
   "execution_count": 78,
   "id": "alleged-enforcement",
   "metadata": {},
   "outputs": [],
   "source": [
    "def get_icons(results):\n",
    "    '''Takes in request results for an arkhamdb page containing player card data\n",
    "       Returns a string containing the skill icons printed on that cart'''\n",
    "      \n",
    "    icons = ''\n",
    "\n",
    "    # list containing each icon type\n",
    "    icon_types = ['wild', 'willpower', 'combat', 'agility', 'intellect']\n",
    "\n",
    "    # itterate through icon types\n",
    "    for stat in icon_types:\n",
    "\n",
    "        # get number of that icon on card from request results\n",
    "        num_icons = len(results.find_all('span', class_=f'icon icon-{stat} color-{stat}'))\n",
    "\n",
    "        # add that icon name to a string for each time it appears in request results\n",
    "        for icon in range(num_icons):\n",
    "\n",
    "            icons += f'{stat} '\n",
    "            \n",
    "    return icons.upper()[:-1]"
   ]
  },
  {
   "cell_type": "code",
   "execution_count": 4,
   "id": "unlikely-conservation",
   "metadata": {},
   "outputs": [],
   "source": [
    "invest = get_cata_url('investigator')\n",
    "assets = get_cata_url('asset')\n",
    "events = get_cata_url('event')\n",
    "skills = get_cata_url('skill')"
   ]
  },
  {
   "cell_type": "code",
   "execution_count": 5,
   "id": "enormous-saint",
   "metadata": {},
   "outputs": [
    {
     "name": "stdout",
     "output_type": "stream",
     "text": [
      "['https://arkhamdb.com/card/02005', 'https://arkhamdb.com/card/01003', 'https://arkhamdb.com/card/01503', 'https://arkhamdb.com/card/01004', 'https://arkhamdb.com/card/01504', 'https://arkhamdb.com/card/03004']\n",
      "\n",
      "['https://arkhamdb.com/card/60505', 'https://arkhamdb.com/card/60522', 'https://arkhamdb.com/card/07025', 'https://arkhamdb.com/card/07305', 'https://arkhamdb.com/card/03020', 'https://arkhamdb.com/card/52001']\n",
      "\n",
      "['https://arkhamdb.com/card/03304', 'https://arkhamdb.com/card/52002', 'https://arkhamdb.com/card/06156', 'https://arkhamdb.com/card/08021', 'https://arkhamdb.com/card/60114', 'https://arkhamdb.com/card/60123']\n",
      "\n",
      "['https://arkhamdb.com/card/09002', 'https://arkhamdb.com/card/03272', 'https://arkhamdb.com/card/03233', 'https://arkhamdb.com/card/05038', 'https://arkhamdb.com/card/04309', 'https://arkhamdb.com/card/09049']\n",
      "\n"
     ]
    }
   ],
   "source": [
    "for cata in [invest, assets, events, skills]:\n",
    "    \n",
    "    print(cata[0:6])\n",
    "    print()"
   ]
  },
  {
   "cell_type": "code",
   "execution_count": 80,
   "id": "front-canyon",
   "metadata": {},
   "outputs": [
    {
     "ename": "NameError",
     "evalue": "name 'get_ability_text' is not defined",
     "output_type": "error",
     "traceback": [
      "\u001b[0;31m---------------------------------------------------------------------------\u001b[0m",
      "\u001b[0;31mNameError\u001b[0m                                 Traceback (most recent call last)",
      "\u001b[0;32m<ipython-input-80-8d6616355683>\u001b[0m in \u001b[0;36m<module>\u001b[0;34m\u001b[0m\n\u001b[1;32m     18\u001b[0m \u001b[0mfaction\u001b[0m \u001b[0;34m=\u001b[0m \u001b[0mresults\u001b[0m\u001b[0;34m.\u001b[0m\u001b[0mfind\u001b[0m\u001b[0;34m(\u001b[0m\u001b[0;34m'span'\u001b[0m\u001b[0;34m,\u001b[0m \u001b[0mclass_\u001b[0m\u001b[0;34m=\u001b[0m\u001b[0;34m'card-faction'\u001b[0m\u001b[0;34m)\u001b[0m\u001b[0;34m.\u001b[0m\u001b[0mtext\u001b[0m\u001b[0;34m\u001b[0m\u001b[0;34m\u001b[0m\u001b[0m\n\u001b[1;32m     19\u001b[0m \u001b[0;34m\u001b[0m\u001b[0m\n\u001b[0;32m---> 20\u001b[0;31m \u001b[0mability\u001b[0m \u001b[0;34m=\u001b[0m \u001b[0mget_ability_text\u001b[0m\u001b[0;34m(\u001b[0m\u001b[0mresults\u001b[0m\u001b[0;34m)\u001b[0m\u001b[0;34m\u001b[0m\u001b[0;34m\u001b[0m\u001b[0m\n\u001b[0m\u001b[1;32m     21\u001b[0m \u001b[0;34m\u001b[0m\u001b[0m\n\u001b[1;32m     22\u001b[0m \u001b[0;31m#artist = pass\u001b[0m\u001b[0;34m\u001b[0m\u001b[0;34m\u001b[0m\u001b[0;34m\u001b[0m\u001b[0m\n",
      "\u001b[0;31mNameError\u001b[0m: name 'get_ability_text' is not defined"
     ]
    }
   ],
   "source": [
    "# get url for page to scrape\n",
    "url = 'https://arkhamdb.com/card/05030'\n",
    "\n",
    "# create request and soup objects\n",
    "html = requests.get(url)\n",
    "\n",
    "soup = BeautifulSoup(html.content, 'html.parser')\n",
    "\n",
    "# locate urls on page\n",
    "results = soup.find(id='list')\n",
    "\n",
    "title = results.find('a', class_='card-name card-tip').text\n",
    "\n",
    "test_icons = get_icons(results)\n",
    "\n",
    "traits = results.find('p', class_='card-traits').text\n",
    "\n",
    "faction = results.find('span', class_='card-faction').text\n",
    "\n",
    "ability = get_ability_text(results)\n",
    "\n",
    "#artist = pass \n",
    "\n",
    "#expansion = pass"
   ]
  },
  {
   "cell_type": "code",
   "execution_count": 98,
   "id": "convertible-burst",
   "metadata": {},
   "outputs": [
    {
     "data": {
      "text/plain": [
       "'While you have 5 or more resources, Cunning gains INTELLECT AGILITY (while you have 10 or more resources, Cunning gains INTELLECT INTELLECT AGILITY AGILITY, instead).'"
      ]
     },
     "execution_count": 98,
     "metadata": {},
     "output_type": "execute_result"
    }
   ],
   "source": [
    "get_ability_text(results)"
   ]
  },
  {
   "cell_type": "code",
   "execution_count": 97,
   "id": "legal-vampire",
   "metadata": {
    "scrolled": true
   },
   "outputs": [],
   "source": [
    "    \n",
    "def get_ability_text(results):\n",
    "    \n",
    "    \n",
    "    ability = get_ability_html(results)\n",
    "    \n",
    "    ability = get_ability_string(ability)\n",
    "    \n",
    "    return ability\n",
    "    \n",
    "    \n",
    "    \n",
    "def get_ability_html(results):\n",
    "    '''Returns bs object in results containing ability text by trying differint faction names in class'''\n",
    "    \n",
    "    # itterate through factions to find class name for ability text and get bs object containing text\n",
    "    factions = ['guardian', 'mystic', 'neutral', 'rogue', 'seeker', 'surviver']\n",
    "\n",
    "    for faction in factions:\n",
    "\n",
    "        ability = results.find('div', class_=f'card-text border-{faction}')\n",
    "        \n",
    "        # break loop if result is found\n",
    "        if ability != None:\n",
    "\n",
    "            break\n",
    "            \n",
    "    return ability\n",
    "\n",
    "\n",
    "def get_ability_string(ability):\n",
    "    '''Takes in bs object contining player card ability text\n",
    "       converts object to a string\n",
    "       replaces html indicating an icon with uppercase word equivalent\n",
    "       Returns string '''\n",
    "      \n",
    "    # convert html to string\n",
    "    ability = str(ability)\n",
    "        \n",
    "    # replace icon html with matching uppercase word\n",
    "    icon_types = ['wild', 'willpower', 'combat', 'agility', 'intellect']\n",
    "    \n",
    "    for icon in icon_types:\n",
    "    \n",
    "        ability = ability.replace(f'<span class=\"icon-{icon}\" title=\"{icon.capitalize()}\"></span>', \n",
    "                                  f'{icon.upper()}')\n",
    "\n",
    "    # delete extraneous html\n",
    "    html = ['<div class=\"card-text border-rogue\">\\n<p>',\n",
    "            '<div class=\"card-text border-survivor\">\\n<p>',\n",
    "            '<div class=\"card-text border-seeker\">\\n<p>',\n",
    "            '<div class=\"card-text border-guardian\">\\n<p>',\n",
    "            '<div class=\"card-text border-mystic\">\\n<p>',\n",
    "            '<div class=\"card-text border-neutral\">\\n<p>',\n",
    "            '</p>\\n</div>']\n",
    "    \n",
    "    for item in html:\n",
    "        \n",
    "        ability = ability.replace(item,'')\n",
    "\n",
    "    return ability"
   ]
  },
  {
   "cell_type": "code",
   "execution_count": 62,
   "id": "demonstrated-laundry",
   "metadata": {},
   "outputs": [
    {
     "name": "stdout",
     "output_type": "stream",
     "text": [
      "\n",
      "None\n",
      "\n",
      "<class 'NoneType'>\n"
     ]
    }
   ],
   "source": [
    "ability = ability.string\n",
    "print()\n",
    "print(ability)\n",
    "print()\n",
    "print(type(ability))"
   ]
  },
  {
   "cell_type": "code",
   "execution_count": null,
   "id": "suspected-tackle",
   "metadata": {},
   "outputs": [],
   "source": [
    "\n",
    "\n",
    "p = ability.find_all('p')\n",
    "paragraphs = []\n",
    "for x in p:\n",
    "    paragraphs.append(str(x))"
   ]
  },
  {
   "cell_type": "code",
   "execution_count": 48,
   "id": "introductory-cannon",
   "metadata": {},
   "outputs": [
    {
     "name": "stdout",
     "output_type": "stream",
     "text": [
      "\n",
      "\n",
      "<class 'str'>\n",
      "While you have 5 or more resources, Cunning gains \n",
      "<class 'bs4.element.NavigableString'>\n",
      "<span class=\"icon-intellect\" title=\"Intellect\"></span>\n",
      "<class 'bs4.element.Tag'>\n",
      " \n",
      "<class 'bs4.element.NavigableString'>\n",
      "<span class=\"icon-agility\" title=\"Agility\"></span>\n",
      "<class 'bs4.element.Tag'>\n",
      " (while you have 10 or more resources, Cunning gains \n",
      "<class 'bs4.element.NavigableString'>\n",
      "<span class=\"icon-intellect\" title=\"Intellect\"></span>\n",
      "<class 'bs4.element.Tag'>\n",
      " \n",
      "<class 'bs4.element.NavigableString'>\n",
      "<span class=\"icon-intellect\" title=\"Intellect\"></span>\n",
      "<class 'bs4.element.Tag'>\n",
      " \n",
      "<class 'bs4.element.NavigableString'>\n",
      "<span class=\"icon-agility\" title=\"Agility\"></span>\n",
      "<class 'bs4.element.Tag'>\n",
      " \n",
      "<class 'bs4.element.NavigableString'>\n",
      "<span class=\"icon-agility\" title=\"Agility\"></span>\n",
      "<class 'bs4.element.Tag'>\n",
      ", instead).\n",
      "<class 'bs4.element.NavigableString'>\n",
      "\n",
      "\n",
      "<class 'str'>\n"
     ]
    }
   ],
   "source": [
    "ability_full = ''\n",
    "\n",
    "for paragraph in ability:\n",
    "    for line in paragraph:\n",
    "        print(str(line))\n",
    "        print(type(line))"
   ]
  },
  {
   "cell_type": "code",
   "execution_count": null,
   "id": "cooked-guidance",
   "metadata": {},
   "outputs": [],
   "source": [
    "traits = results.find('p', class_='card-traits').text"
   ]
  },
  {
   "cell_type": "code",
   "execution_count": null,
   "id": "ready-facility",
   "metadata": {},
   "outputs": [],
   "source": [
    "print(title)"
   ]
  },
  {
   "cell_type": "code",
   "execution_count": null,
   "id": "variable-appointment",
   "metadata": {},
   "outputs": [],
   "source": [
    "test_icons"
   ]
  },
  {
   "cell_type": "code",
   "execution_count": null,
   "id": "beginning-allowance",
   "metadata": {},
   "outputs": [],
   "source": [
    "ability"
   ]
  },
  {
   "cell_type": "code",
   "execution_count": null,
   "id": "royal-motivation",
   "metadata": {},
   "outputs": [],
   "source": []
  }
 ],
 "metadata": {
  "kernelspec": {
   "display_name": "Python 3",
   "language": "python",
   "name": "python3"
  },
  "language_info": {
   "codemirror_mode": {
    "name": "ipython",
    "version": 3
   },
   "file_extension": ".py",
   "mimetype": "text/x-python",
   "name": "python",
   "nbconvert_exporter": "python",
   "pygments_lexer": "ipython3",
   "version": "3.7.4"
  }
 },
 "nbformat": 4,
 "nbformat_minor": 5
}
