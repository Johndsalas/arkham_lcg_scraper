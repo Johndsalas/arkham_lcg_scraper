{
 "cells": [
  {
   "cell_type": "code",
   "execution_count": 3,
   "id": "optional-content",
   "metadata": {},
   "outputs": [],
   "source": [
    "import requests\n",
    "import re\n",
    "from bs4 import BeautifulSoup\n",
    "import pandas as pd\n",
    "from main import get_urls_by_type\n",
    "import regex as re"
   ]
  },
  {
   "cell_type": "code",
   "execution_count": 4,
   "id": "royal-motivation",
   "metadata": {},
   "outputs": [
    {
     "name": "stdout",
     "output_type": "stream",
     "text": [
      "Getting investigator URL's...\n",
      "Getting asset URL's...\n",
      "Getting event URL's...\n",
      "Getting skill URL's...\n"
     ]
    },
    {
     "ename": "NameError",
     "evalue": "name 'get_soup' is not defined",
     "output_type": "error",
     "traceback": [
      "\u001b[0;31m---------------------------------------------------------------------------\u001b[0m",
      "\u001b[0;31mNameError\u001b[0m                                 Traceback (most recent call last)",
      "\u001b[0;32m<ipython-input-4-dd8d05d3accb>\u001b[0m in \u001b[0;36m<module>\u001b[0;34m\u001b[0m\n\u001b[1;32m      1\u001b[0m \u001b[0minvest\u001b[0m\u001b[0;34m,\u001b[0m \u001b[0massets\u001b[0m\u001b[0;34m,\u001b[0m \u001b[0mevents\u001b[0m\u001b[0;34m,\u001b[0m \u001b[0mskills\u001b[0m \u001b[0;34m=\u001b[0m \u001b[0mget_urls_by_type\u001b[0m\u001b[0;34m(\u001b[0m\u001b[0;34m)\u001b[0m\u001b[0;34m\u001b[0m\u001b[0;34m\u001b[0m\u001b[0m\n\u001b[0;32m----> 2\u001b[0;31m \u001b[0mresults\u001b[0m \u001b[0;34m=\u001b[0m \u001b[0mget_soup\u001b[0m\u001b[0;34m(\u001b[0m\u001b[0minvest\u001b[0m\u001b[0;34m[\u001b[0m\u001b[0;36m0\u001b[0m\u001b[0;34m]\u001b[0m\u001b[0;34m)\u001b[0m\u001b[0;34m\u001b[0m\u001b[0;34m\u001b[0m\u001b[0m\n\u001b[0m",
      "\u001b[0;31mNameError\u001b[0m: name 'get_soup' is not defined"
     ]
    }
   ],
   "source": [
    "invest, assets, events, skills = get_urls_by_type()\n"
   ]
  },
  {
   "cell_type": "code",
   "execution_count": null,
   "id": "respiratory-nicaragua",
   "metadata": {},
   "outputs": [],
   "source": [
    "def get_soup(url):\n",
    "    '''Child of get_skills_df\n",
    "       Takes in a url for a card\n",
    "       Returns html request result parsed using beautiful soup'''\n",
    "\n",
    "    # create request and soup objects\n",
    "    html = requests.get(url)\n",
    "\n",
    "    soup = BeautifulSoup(html.content, 'html.parser')\n",
    "\n",
    "    # locate urls on page and return\n",
    "    return soup.find(id='list')"
   ]
  },
  {
   "cell_type": "code",
   "execution_count": null,
   "id": "aquatic-negative",
   "metadata": {},
   "outputs": [],
   "source": [
    "invest[0]"
   ]
  },
  {
   "cell_type": "code",
   "execution_count": null,
   "id": "electoral-marina",
   "metadata": {},
   "outputs": [],
   "source": [
    "# dictionary with empty traits\n",
    "    investigator_traits = {'title':[],\n",
    "                           'traits':[],\n",
    "                           'faction':[],  \n",
    "                           'willpower':[],\n",
    "                           'intellect':[],\n",
    "                           'combat':[],\n",
    "                           'agility':[],\n",
    "                           'health':[],\n",
    "                           'sanity':[],\n",
    "                           'ability':[],\n",
    "                           'type':[],\n",
    "                           'flavor':[],\n",
    "                           'artist':[],\n",
    "                           'expansion':[]}\n",
    "\n",
    "    print(\"Getting investigator cards...\")\n",
    "\n",
    "    # for each url get player card info from that page and add each element to skill_traits\n",
    "    for url in invest:\n",
    "\n",
    "        # make html request to arkham db and parse using BS\n",
    "        results = get_soup(url)\n",
    "\n",
    "        # get list of card elements card elements\n",
    "        trait_list = get_ability_traits(results)\n",
    "        \n",
    "        print(f'Getting investigator card {title}...')\n",
    "\n",
    "        # itterate through card element titles and add each to a dictionary\n",
    "        for i, key in enumerate(investigator_traits):\n",
    "\n",
    "            investigator_traits[key].append(trait_list[i])\n",
    "\n",
    "    print(\"Making dataframe...\")\n",
    "\n",
    "    # convert dictionary to dataframe\n",
    "    df_skill = pd.DataFrame(skill_traits)\n",
    "\n",
    "    return df_skill"
   ]
  },
  {
   "cell_type": "code",
   "execution_count": null,
   "id": "straight-customer",
   "metadata": {},
   "outputs": [],
   "source": [
    "def get_ability_traits(results):\n",
    "    'title':[], # name + title\n",
    "    'faction':[],\n",
    "    'type':[],\n",
    "    'traits':[],                      \n",
    "    'willpower':[],\n",
    "    'intellect':[],\n",
    "    'combat':[],\n",
    "    'agility':[],                       \n",
    "    'health':[],\n",
    "    'sanity':[],                     \n",
    "    'ability':[],\n",
    "    'artist':[],\n",
    "    'expansion':[],\n",
    "    'deck_size':[],\n",
    "    'deckbuilding':[], # Options + Reqs\n",
    "                        \n",
    "                        \n",
    "                           \n",
    "                           'flavor':[],\n",
    "                           \n",
    "    \n",
    "    title = results.find('a', class_='card-name card-tip').text.replace('\\n', '').replace('\\t', '')\n",
    "    \n",
    "    traits = results.find('p', class_='card-traits').text.replace('\\n', '').replace('\\t', '')\n",
    "\n",
    "    faction = results.find('span', class_='card-faction').text.replace('\\n', '').replace('\\t', '')\n",
    "    \n",
    "    willpower =\n",
    "    \n",
    "    intellect =\n",
    "    \n",
    "    combat = \n",
    "    \n",
    "    agility =\n",
    "    \n",
    "    health =\n",
    "    \n",
    "    sanity =\n",
    "    \n",
    "    deck_size =\n",
    "    \n",
    "    deckbuilding = \n",
    "    \n",
    "    intro = \n",
    "\n",
    "    ability = get_ability(results)\n",
    "\n",
    "    tipe = results.find('span', class_='card-type').text.replace('\\n', '').replace('\\t', '')\n",
    "\n",
    "    flavor = results.find('div', class_='card-flavor small').text.replace('\\n', '').replace('\\t', '')\n",
    "\n",
    "    artist = results.find('div', class_='card-illustrator').text.replace('\\n', '').replace('\\t', '')\n",
    "\n",
    "    expansion = results.find('div', class_='card-pack').text.replace('\\n', '').replace('\\t', '').replace('.', '')\n",
    "    \n",
    "    \n",
    "    return [title, test_icons, traits, willpower, intellect, combat, agility, health, sanity, faction, ability, tipe, flavor, artist, expansion]"
   ]
  },
  {
   "cell_type": "code",
   "execution_count": null,
   "id": "statewide-pregnancy",
   "metadata": {},
   "outputs": [],
   "source": [
    "    deck_size =\n",
    "    \n",
    "    deckbuilding = \n",
    "    \n",
    "    intro = "
   ]
  },
  {
   "cell_type": "code",
   "execution_count": null,
   "id": "close-morrison",
   "metadata": {},
   "outputs": [],
   "source": [
    "    'title':[], # name + title\n",
    "    'faction':[],\n",
    "    'type':[],\n",
    "    'traits':[],                      \n",
    "    'willpower':[],\n",
    "    'intellect':[],\n",
    "    'combat':[],\n",
    "    'agility':[],                       \n",
    "    'health':[],\n",
    "    'sanity':[],                     \n",
    "    'ability':[],\n",
    "    'artist':[],\n",
    "    'expansion':[],\n",
    "    'deck_size':[],\n",
    "    'deckbuilding':[], # Options + Reqs"
   ]
  },
  {
   "cell_type": "code",
   "execution_count": 12,
   "id": "becoming-wednesday",
   "metadata": {},
   "outputs": [],
   "source": [
    "def get_stat_line(results):\n",
    "    \n",
    "    stat_line = results.find('div', class_='card-props').text.replace('\\n', '').replace('\\t', '')\n",
    "\n",
    "    stat_list = [int(char) for char in str(stat_line) if char.isnumeric() == True]\n",
    "\n",
    "    return stat_list[0], stat_list[1], stat_list[2], stat_list[3]\n",
    "\n",
    "\n",
    "def get_stam_line(results):\n",
    "    \n",
    "    stat_line = results.find('div', class_='card-props').find_next().text.replace('\\n', '').replace('\\t', '')\n",
    "\n",
    "    stat_list = [int(char) for char in str(stat_line) if char.isnumeric() == True]\n",
    "\n",
    "    return stat_list[0], stat_list[1]\n",
    "\n",
    "def get_soup(url):\n",
    "    '''Child of get_skills_df\n",
    "       Takes in a url for a card\n",
    "       Returns html request result parsed using beautiful soup'''\n",
    "\n",
    "    # create request and soup objects\n",
    "    html = requests.get(url)\n",
    "\n",
    "    soup = BeautifulSoup(html.content, 'html.parser')\n",
    "\n",
    "    # locate urls on page and return\n",
    "    return soup.find(id='list')"
   ]
  },
  {
   "cell_type": "code",
   "execution_count": 35,
   "id": "blond-motor",
   "metadata": {},
   "outputs": [],
   "source": [
    "results = get_soup(invest[20])\n",
    "\n",
    "title = results.find('a', class_='card-name card-tip').text.replace('\\n', '').replace('\\t', '')\n",
    "\n",
    "faction = results.find('span', class_='card-faction').text.replace('\\n', '').replace('\\t', '')\n",
    "\n",
    "tipe = results.find('span', class_='card-type').text.replace('\\n', '').replace('\\t', '')\n",
    "\n",
    "traits = results.find('p', class_='card-traits').text.replace('\\n', '').replace('\\t', '')\n",
    "\n",
    "willpower, intellect, combat, agility = get_stat_line(results)\n",
    "\n",
    "health, sanity = get_stam_line(results)\n",
    "\n",
    "# ability =\n",
    "\n",
    "artist = results.find('div', class_='card-illustrator').text.replace('\\n', '').replace('\\t', '')\n",
    "\n",
    "expansion = results.find('div', class_='card-pack').text.replace('\\n', '').replace('\\t', '').replace('.', '')\n",
    "\n",
    "# deck_size = int(re.search(r'[0-9]{2}', results)[0])\n",
    "\n",
    "flavor = results.find('div', class_='card-flavor small').text.replace('\\n', '').replace('\\t', '')\n",
    "\n",
    "# deck_building = \n",
    "\n",
    "# must_include = \n",
    "\n",
    "\n"
   ]
  },
  {
   "cell_type": "code",
   "execution_count": null,
   "id": "automatic-sport",
   "metadata": {},
   "outputs": [],
   "source": [
    "\n",
    "\n",
    "\n",
    "\n"
   ]
  },
  {
   "cell_type": "code",
   "execution_count": 36,
   "id": "cutting-height",
   "metadata": {},
   "outputs": [
    {
     "data": {
      "text/plain": [
       "<div class=\"card-flavor small\">\n",
       "</div>"
      ]
     },
     "execution_count": 36,
     "metadata": {},
     "output_type": "execute_result"
    }
   ],
   "source": [
    "results.find('div', class_='card-flavor small') #.text.replace('\\n', '').replace('\\t', '')"
   ]
  },
  {
   "cell_type": "code",
   "execution_count": 37,
   "id": "periodic-corruption",
   "metadata": {},
   "outputs": [
    {
     "data": {
      "text/plain": [
       "'Diana Stanley'"
      ]
     },
     "execution_count": 37,
     "metadata": {},
     "output_type": "execute_result"
    }
   ],
   "source": [
    "title"
   ]
  },
  {
   "cell_type": "code",
   "execution_count": 38,
   "id": "romance-legislature",
   "metadata": {},
   "outputs": [
    {
     "data": {
      "text/plain": [
       "'Mystic'"
      ]
     },
     "execution_count": 38,
     "metadata": {},
     "output_type": "execute_result"
    }
   ],
   "source": [
    "faction"
   ]
  },
  {
   "cell_type": "code",
   "execution_count": 39,
   "id": "israeli-scott",
   "metadata": {},
   "outputs": [
    {
     "data": {
      "text/plain": [
       "'Investigator'"
      ]
     },
     "execution_count": 39,
     "metadata": {},
     "output_type": "execute_result"
    }
   ],
   "source": [
    "tipe"
   ]
  },
  {
   "cell_type": "code",
   "execution_count": 40,
   "id": "interpreted-message",
   "metadata": {},
   "outputs": [
    {
     "data": {
      "text/plain": [
       "'Cultist. Silver Twilight.'"
      ]
     },
     "execution_count": 40,
     "metadata": {},
     "output_type": "execute_result"
    }
   ],
   "source": [
    "traits"
   ]
  },
  {
   "cell_type": "code",
   "execution_count": 41,
   "id": "heard-involvement",
   "metadata": {},
   "outputs": [
    {
     "data": {
      "text/plain": [
       "1"
      ]
     },
     "execution_count": 41,
     "metadata": {},
     "output_type": "execute_result"
    }
   ],
   "source": [
    "willpower"
   ]
  },
  {
   "cell_type": "code",
   "execution_count": 42,
   "id": "radio-providence",
   "metadata": {},
   "outputs": [
    {
     "data": {
      "text/plain": [
       "3"
      ]
     },
     "execution_count": 42,
     "metadata": {},
     "output_type": "execute_result"
    }
   ],
   "source": [
    "intellect"
   ]
  },
  {
   "cell_type": "code",
   "execution_count": 43,
   "id": "dress-maple",
   "metadata": {},
   "outputs": [
    {
     "data": {
      "text/plain": [
       "3"
      ]
     },
     "execution_count": 43,
     "metadata": {},
     "output_type": "execute_result"
    }
   ],
   "source": [
    "combat"
   ]
  },
  {
   "cell_type": "code",
   "execution_count": 44,
   "id": "instant-chicago",
   "metadata": {},
   "outputs": [
    {
     "data": {
      "text/plain": [
       "3"
      ]
     },
     "execution_count": 44,
     "metadata": {},
     "output_type": "execute_result"
    }
   ],
   "source": [
    "agility"
   ]
  },
  {
   "cell_type": "code",
   "execution_count": 45,
   "id": "broad-wrist",
   "metadata": {},
   "outputs": [
    {
     "data": {
      "text/plain": [
       "7"
      ]
     },
     "execution_count": 45,
     "metadata": {},
     "output_type": "execute_result"
    }
   ],
   "source": [
    "health"
   ]
  },
  {
   "cell_type": "code",
   "execution_count": 46,
   "id": "compact-wichita",
   "metadata": {},
   "outputs": [
    {
     "data": {
      "text/plain": [
       "7"
      ]
     },
     "execution_count": 46,
     "metadata": {},
     "output_type": "execute_result"
    }
   ],
   "source": [
    "sanity"
   ]
  },
  {
   "cell_type": "code",
   "execution_count": 47,
   "id": "compliant-quarter",
   "metadata": {},
   "outputs": [],
   "source": [
    "# ability"
   ]
  },
  {
   "cell_type": "code",
   "execution_count": 48,
   "id": "personal-clear",
   "metadata": {},
   "outputs": [
    {
     "data": {
      "text/plain": [
       "'Magali Villeneuve'"
      ]
     },
     "execution_count": 48,
     "metadata": {},
     "output_type": "execute_result"
    }
   ],
   "source": [
    "artist"
   ]
  },
  {
   "cell_type": "code",
   "execution_count": 49,
   "id": "married-pontiac",
   "metadata": {},
   "outputs": [
    {
     "data": {
      "text/plain": [
       "'The Circle Undone #4'"
      ]
     },
     "execution_count": 49,
     "metadata": {},
     "output_type": "execute_result"
    }
   ],
   "source": [
    "expansion"
   ]
  },
  {
   "cell_type": "code",
   "execution_count": 50,
   "id": "mental-norman",
   "metadata": {},
   "outputs": [],
   "source": [
    "# deck_size"
   ]
  },
  {
   "cell_type": "code",
   "execution_count": 30,
   "id": "distinct-johns",
   "metadata": {},
   "outputs": [
    {
     "data": {
      "text/plain": [
       "''"
      ]
     },
     "execution_count": 30,
     "metadata": {},
     "output_type": "execute_result"
    }
   ],
   "source": [
    "flavor"
   ]
  },
  {
   "cell_type": "code",
   "execution_count": 31,
   "id": "latter-shame",
   "metadata": {},
   "outputs": [],
   "source": [
    "# deck_building"
   ]
  },
  {
   "cell_type": "code",
   "execution_count": 32,
   "id": "contemporary-benjamin",
   "metadata": {},
   "outputs": [],
   "source": [
    "# must_include = "
   ]
  },
  {
   "cell_type": "code",
   "execution_count": null,
   "id": "spread-invalid",
   "metadata": {},
   "outputs": [],
   "source": []
  },
  {
   "cell_type": "code",
   "execution_count": null,
   "id": "loose-proposition",
   "metadata": {},
   "outputs": [],
   "source": []
  }
 ],
 "metadata": {
  "kernelspec": {
   "display_name": "Python 3",
   "language": "python",
   "name": "python3"
  },
  "language_info": {
   "codemirror_mode": {
    "name": "ipython",
    "version": 3
   },
   "file_extension": ".py",
   "mimetype": "text/x-python",
   "name": "python",
   "nbconvert_exporter": "python",
   "pygments_lexer": "ipython3",
   "version": "3.7.4"
  }
 },
 "nbformat": 4,
 "nbformat_minor": 5
}
