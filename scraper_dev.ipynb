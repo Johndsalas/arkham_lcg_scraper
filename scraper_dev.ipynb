{
 "cells": [
  {
   "cell_type": "code",
   "execution_count": 2,
   "id": "optional-content",
   "metadata": {},
   "outputs": [],
   "source": [
    "import requests\n",
    "import re\n",
    "from bs4 import BeautifulSoup\n",
    "import pandas as pd\n",
    "import main as m\n",
    "import regex as re"
   ]
  },
  {
   "cell_type": "code",
   "execution_count": 14,
   "id": "dense-sessions",
   "metadata": {},
   "outputs": [
    {
     "ename": "TypeError",
     "evalue": "read_html() got an unexpected keyword argument 'extract_links'",
     "output_type": "error",
     "traceback": [
      "\u001b[0;31m---------------------------------------------------------------------------\u001b[0m",
      "\u001b[0;31mTypeError\u001b[0m                                 Traceback (most recent call last)",
      "\u001b[0;32m<ipython-input-14-42fcce57a68f>\u001b[0m in \u001b[0;36m<module>\u001b[0;34m\u001b[0m\n\u001b[0;32m----> 1\u001b[0;31m \u001b[0mx\u001b[0m \u001b[0;34m=\u001b[0m \u001b[0mpd\u001b[0m\u001b[0;34m.\u001b[0m\u001b[0mread_html\u001b[0m\u001b[0;34m(\u001b[0m\u001b[0;34m'https://arkhamdb.com/find?q=t%3Aasset&view=list&sort=name&decks=player&page=4'\u001b[0m\u001b[0;34m,\u001b[0m \u001b[0mextract_links\u001b[0m\u001b[0;34m=\u001b[0m\u001b[0;34m'all'\u001b[0m\u001b[0;34m)\u001b[0m\u001b[0;34m\u001b[0m\u001b[0;34m\u001b[0m\u001b[0m\n\u001b[0m",
      "\u001b[0;32m/usr/local/anaconda3/lib/python3.7/site-packages/pandas/util/_decorators.py\u001b[0m in \u001b[0;36mwrapper\u001b[0;34m(*args, **kwargs)\u001b[0m\n\u001b[1;32m    309\u001b[0m                     \u001b[0mstacklevel\u001b[0m\u001b[0;34m=\u001b[0m\u001b[0mstacklevel\u001b[0m\u001b[0;34m,\u001b[0m\u001b[0;34m\u001b[0m\u001b[0;34m\u001b[0m\u001b[0m\n\u001b[1;32m    310\u001b[0m                 )\n\u001b[0;32m--> 311\u001b[0;31m             \u001b[0;32mreturn\u001b[0m \u001b[0mfunc\u001b[0m\u001b[0;34m(\u001b[0m\u001b[0;34m*\u001b[0m\u001b[0margs\u001b[0m\u001b[0;34m,\u001b[0m \u001b[0;34m**\u001b[0m\u001b[0mkwargs\u001b[0m\u001b[0;34m)\u001b[0m\u001b[0;34m\u001b[0m\u001b[0;34m\u001b[0m\u001b[0m\n\u001b[0m\u001b[1;32m    312\u001b[0m \u001b[0;34m\u001b[0m\u001b[0m\n\u001b[1;32m    313\u001b[0m         \u001b[0;32mreturn\u001b[0m \u001b[0mwrapper\u001b[0m\u001b[0;34m\u001b[0m\u001b[0;34m\u001b[0m\u001b[0m\n",
      "\u001b[0;31mTypeError\u001b[0m: read_html() got an unexpected keyword argument 'extract_links'"
     ]
    }
   ],
   "source": [
    "x = pd.read_html('https://arkhamdb.com/find?q=t%3Aasset&view=list&sort=name&decks=player&page=4', extract_links='all')"
   ]
  },
  {
   "cell_type": "code",
   "execution_count": 13,
   "id": "lightweight-monte",
   "metadata": {},
   "outputs": [
    {
     "data": {
      "text/html": [
       "<div>\n",
       "<style scoped>\n",
       "    .dataframe tbody tr th:only-of-type {\n",
       "        vertical-align: middle;\n",
       "    }\n",
       "\n",
       "    .dataframe tbody tr th {\n",
       "        vertical-align: top;\n",
       "    }\n",
       "\n",
       "    .dataframe thead th {\n",
       "        text-align: right;\n",
       "    }\n",
       "</style>\n",
       "<table border=\"1\" class=\"dataframe\">\n",
       "  <thead>\n",
       "    <tr style=\"text-align: right;\">\n",
       "      <th></th>\n",
       "      <th>Name</th>\n",
       "      <th>Class</th>\n",
       "      <th>C.</th>\n",
       "      <th>Type</th>\n",
       "      <th>Icons</th>\n",
       "      <th>Traits</th>\n",
       "      <th>Set</th>\n",
       "      <th>Encounter</th>\n",
       "    </tr>\n",
       "  </thead>\n",
       "  <tbody>\n",
       "    <tr>\n",
       "      <th>0</th>\n",
       "      <td>Wendy's Amulet</td>\n",
       "      <td>Neutral</td>\n",
       "      <td>2.0</td>\n",
       "      <td>Asset</td>\n",
       "      <td>NaN</td>\n",
       "      <td>Item. Relic.</td>\n",
       "      <td>Revised Core Set 14</td>\n",
       "      <td>NaN</td>\n",
       "    </tr>\n",
       "    <tr>\n",
       "      <th>1</th>\n",
       "      <td>Wendy's Amulet</td>\n",
       "      <td>Neutral</td>\n",
       "      <td>2.0</td>\n",
       "      <td>Asset</td>\n",
       "      <td>NaN</td>\n",
       "      <td>Item. Relic.</td>\n",
       "      <td>Red Tide Rising 39</td>\n",
       "      <td>NaN</td>\n",
       "    </tr>\n",
       "    <tr>\n",
       "      <th>2</th>\n",
       "      <td>Whitton Greene: Hunter of Rare Books</td>\n",
       "      <td>Seeker</td>\n",
       "      <td>4.0</td>\n",
       "      <td>Asset</td>\n",
       "      <td>NaN</td>\n",
       "      <td>Ally. Miskatonic.</td>\n",
       "      <td>Harvey Walters 13</td>\n",
       "      <td>NaN</td>\n",
       "    </tr>\n",
       "    <tr>\n",
       "      <th>3</th>\n",
       "      <td>Whitton Greene: Hunter of Rare Books  (2)</td>\n",
       "      <td>Seeker</td>\n",
       "      <td>4.0</td>\n",
       "      <td>Asset</td>\n",
       "      <td>NaN</td>\n",
       "      <td>Ally. Miskatonic.</td>\n",
       "      <td>Harvey Walters 23</td>\n",
       "      <td>NaN</td>\n",
       "    </tr>\n",
       "    <tr>\n",
       "      <th>4</th>\n",
       "      <td>Wicked Athame</td>\n",
       "      <td>Mystic</td>\n",
       "      <td>3.0</td>\n",
       "      <td>Asset</td>\n",
       "      <td>NaN</td>\n",
       "      <td>Item. Weapon. Melee. Cursed.</td>\n",
       "      <td>The Feast of Hemlock Vale Investigator Expansi...</td>\n",
       "      <td>NaN</td>\n",
       "    </tr>\n",
       "  </tbody>\n",
       "</table>\n",
       "</div>"
      ],
      "text/plain": [
       "                                        Name    Class   C.   Type  Icons  \\\n",
       "0                             Wendy's Amulet  Neutral  2.0  Asset    NaN   \n",
       "1                             Wendy's Amulet  Neutral  2.0  Asset    NaN   \n",
       "2       Whitton Greene: Hunter of Rare Books   Seeker  4.0  Asset    NaN   \n",
       "3  Whitton Greene: Hunter of Rare Books  (2)   Seeker  4.0  Asset    NaN   \n",
       "4                              Wicked Athame   Mystic  3.0  Asset    NaN   \n",
       "\n",
       "                         Traits  \\\n",
       "0                  Item. Relic.   \n",
       "1                  Item. Relic.   \n",
       "2             Ally. Miskatonic.   \n",
       "3             Ally. Miskatonic.   \n",
       "4  Item. Weapon. Melee. Cursed.   \n",
       "\n",
       "                                                 Set  Encounter  \n",
       "0                                Revised Core Set 14        NaN  \n",
       "1                                 Red Tide Rising 39        NaN  \n",
       "2                                  Harvey Walters 13        NaN  \n",
       "3                                  Harvey Walters 23        NaN  \n",
       "4  The Feast of Hemlock Vale Investigator Expansi...        NaN  "
      ]
     },
     "execution_count": 13,
     "metadata": {},
     "output_type": "execute_result"
    }
   ],
   "source": [
    "x[0].head()"
   ]
  },
  {
   "cell_type": "code",
   "execution_count": 11,
   "id": "illegal-helicopter",
   "metadata": {},
   "outputs": [
    {
     "ename": "ValueError",
     "evalue": "No tables found",
     "output_type": "error",
     "traceback": [
      "\u001b[0;31m---------------------------------------------------------------------------\u001b[0m",
      "\u001b[0;31mValueError\u001b[0m                                Traceback (most recent call last)",
      "\u001b[0;32m<ipython-input-11-d3a6fbf8b838>\u001b[0m in \u001b[0;36m<module>\u001b[0;34m\u001b[0m\n\u001b[0;32m----> 1\u001b[0;31m \u001b[0my\u001b[0m \u001b[0;34m=\u001b[0m \u001b[0mpd\u001b[0m\u001b[0;34m.\u001b[0m\u001b[0mread_html\u001b[0m\u001b[0;34m(\u001b[0m\u001b[0;34m'https://arkhamdb.com/card/01514'\u001b[0m\u001b[0;34m)\u001b[0m\u001b[0;34m\u001b[0m\u001b[0;34m\u001b[0m\u001b[0m\n\u001b[0m",
      "\u001b[0;32m/usr/local/anaconda3/lib/python3.7/site-packages/pandas/util/_decorators.py\u001b[0m in \u001b[0;36mwrapper\u001b[0;34m(*args, **kwargs)\u001b[0m\n\u001b[1;32m    309\u001b[0m                     \u001b[0mstacklevel\u001b[0m\u001b[0;34m=\u001b[0m\u001b[0mstacklevel\u001b[0m\u001b[0;34m,\u001b[0m\u001b[0;34m\u001b[0m\u001b[0;34m\u001b[0m\u001b[0m\n\u001b[1;32m    310\u001b[0m                 )\n\u001b[0;32m--> 311\u001b[0;31m             \u001b[0;32mreturn\u001b[0m \u001b[0mfunc\u001b[0m\u001b[0;34m(\u001b[0m\u001b[0;34m*\u001b[0m\u001b[0margs\u001b[0m\u001b[0;34m,\u001b[0m \u001b[0;34m**\u001b[0m\u001b[0mkwargs\u001b[0m\u001b[0;34m)\u001b[0m\u001b[0;34m\u001b[0m\u001b[0;34m\u001b[0m\u001b[0m\n\u001b[0m\u001b[1;32m    312\u001b[0m \u001b[0;34m\u001b[0m\u001b[0m\n\u001b[1;32m    313\u001b[0m         \u001b[0;32mreturn\u001b[0m \u001b[0mwrapper\u001b[0m\u001b[0;34m\u001b[0m\u001b[0;34m\u001b[0m\u001b[0m\n",
      "\u001b[0;32m/usr/local/anaconda3/lib/python3.7/site-packages/pandas/io/html.py\u001b[0m in \u001b[0;36mread_html\u001b[0;34m(io, match, flavor, header, index_col, skiprows, attrs, parse_dates, thousands, encoding, decimal, converters, na_values, keep_default_na, displayed_only)\u001b[0m\n\u001b[1;32m   1111\u001b[0m         \u001b[0mna_values\u001b[0m\u001b[0;34m=\u001b[0m\u001b[0mna_values\u001b[0m\u001b[0;34m,\u001b[0m\u001b[0;34m\u001b[0m\u001b[0;34m\u001b[0m\u001b[0m\n\u001b[1;32m   1112\u001b[0m         \u001b[0mkeep_default_na\u001b[0m\u001b[0;34m=\u001b[0m\u001b[0mkeep_default_na\u001b[0m\u001b[0;34m,\u001b[0m\u001b[0;34m\u001b[0m\u001b[0;34m\u001b[0m\u001b[0m\n\u001b[0;32m-> 1113\u001b[0;31m         \u001b[0mdisplayed_only\u001b[0m\u001b[0;34m=\u001b[0m\u001b[0mdisplayed_only\u001b[0m\u001b[0;34m,\u001b[0m\u001b[0;34m\u001b[0m\u001b[0;34m\u001b[0m\u001b[0m\n\u001b[0m\u001b[1;32m   1114\u001b[0m     )\n",
      "\u001b[0;32m/usr/local/anaconda3/lib/python3.7/site-packages/pandas/io/html.py\u001b[0m in \u001b[0;36m_parse\u001b[0;34m(flavor, io, match, attrs, encoding, displayed_only, **kwargs)\u001b[0m\n\u001b[1;32m    924\u001b[0m     \u001b[0;32melse\u001b[0m\u001b[0;34m:\u001b[0m\u001b[0;34m\u001b[0m\u001b[0;34m\u001b[0m\u001b[0m\n\u001b[1;32m    925\u001b[0m         \u001b[0;32massert\u001b[0m \u001b[0mretained\u001b[0m \u001b[0;32mis\u001b[0m \u001b[0;32mnot\u001b[0m \u001b[0;32mNone\u001b[0m  \u001b[0;31m# for mypy\u001b[0m\u001b[0;34m\u001b[0m\u001b[0;34m\u001b[0m\u001b[0m\n\u001b[0;32m--> 926\u001b[0;31m         \u001b[0;32mraise\u001b[0m \u001b[0mretained\u001b[0m\u001b[0;34m\u001b[0m\u001b[0;34m\u001b[0m\u001b[0m\n\u001b[0m\u001b[1;32m    927\u001b[0m \u001b[0;34m\u001b[0m\u001b[0m\n\u001b[1;32m    928\u001b[0m     \u001b[0mret\u001b[0m \u001b[0;34m=\u001b[0m \u001b[0;34m[\u001b[0m\u001b[0;34m]\u001b[0m\u001b[0;34m\u001b[0m\u001b[0;34m\u001b[0m\u001b[0m\n",
      "\u001b[0;32m/usr/local/anaconda3/lib/python3.7/site-packages/pandas/io/html.py\u001b[0m in \u001b[0;36m_parse\u001b[0;34m(flavor, io, match, attrs, encoding, displayed_only, **kwargs)\u001b[0m\n\u001b[1;32m    904\u001b[0m \u001b[0;34m\u001b[0m\u001b[0m\n\u001b[1;32m    905\u001b[0m         \u001b[0;32mtry\u001b[0m\u001b[0;34m:\u001b[0m\u001b[0;34m\u001b[0m\u001b[0;34m\u001b[0m\u001b[0m\n\u001b[0;32m--> 906\u001b[0;31m             \u001b[0mtables\u001b[0m \u001b[0;34m=\u001b[0m \u001b[0mp\u001b[0m\u001b[0;34m.\u001b[0m\u001b[0mparse_tables\u001b[0m\u001b[0;34m(\u001b[0m\u001b[0;34m)\u001b[0m\u001b[0;34m\u001b[0m\u001b[0;34m\u001b[0m\u001b[0m\n\u001b[0m\u001b[1;32m    907\u001b[0m         \u001b[0;32mexcept\u001b[0m \u001b[0mValueError\u001b[0m \u001b[0;32mas\u001b[0m \u001b[0mcaught\u001b[0m\u001b[0;34m:\u001b[0m\u001b[0;34m\u001b[0m\u001b[0;34m\u001b[0m\u001b[0m\n\u001b[1;32m    908\u001b[0m             \u001b[0;31m# if `io` is an io-like object, check if it's seekable\u001b[0m\u001b[0;34m\u001b[0m\u001b[0;34m\u001b[0m\u001b[0;34m\u001b[0m\u001b[0m\n",
      "\u001b[0;32m/usr/local/anaconda3/lib/python3.7/site-packages/pandas/io/html.py\u001b[0m in \u001b[0;36mparse_tables\u001b[0;34m(self)\u001b[0m\n\u001b[1;32m    220\u001b[0m         \u001b[0mlist\u001b[0m \u001b[0mof\u001b[0m \u001b[0mparsed\u001b[0m \u001b[0;34m(\u001b[0m\u001b[0mheader\u001b[0m\u001b[0;34m,\u001b[0m \u001b[0mbody\u001b[0m\u001b[0;34m,\u001b[0m \u001b[0mfooter\u001b[0m\u001b[0;34m)\u001b[0m \u001b[0mtuples\u001b[0m \u001b[0;32mfrom\u001b[0m \u001b[0mtables\u001b[0m\u001b[0;34m.\u001b[0m\u001b[0;34m\u001b[0m\u001b[0;34m\u001b[0m\u001b[0m\n\u001b[1;32m    221\u001b[0m         \"\"\"\n\u001b[0;32m--> 222\u001b[0;31m         \u001b[0mtables\u001b[0m \u001b[0;34m=\u001b[0m \u001b[0mself\u001b[0m\u001b[0;34m.\u001b[0m\u001b[0m_parse_tables\u001b[0m\u001b[0;34m(\u001b[0m\u001b[0mself\u001b[0m\u001b[0;34m.\u001b[0m\u001b[0m_build_doc\u001b[0m\u001b[0;34m(\u001b[0m\u001b[0;34m)\u001b[0m\u001b[0;34m,\u001b[0m \u001b[0mself\u001b[0m\u001b[0;34m.\u001b[0m\u001b[0mmatch\u001b[0m\u001b[0;34m,\u001b[0m \u001b[0mself\u001b[0m\u001b[0;34m.\u001b[0m\u001b[0mattrs\u001b[0m\u001b[0;34m)\u001b[0m\u001b[0;34m\u001b[0m\u001b[0;34m\u001b[0m\u001b[0m\n\u001b[0m\u001b[1;32m    223\u001b[0m         \u001b[0;32mreturn\u001b[0m \u001b[0;34m(\u001b[0m\u001b[0mself\u001b[0m\u001b[0;34m.\u001b[0m\u001b[0m_parse_thead_tbody_tfoot\u001b[0m\u001b[0;34m(\u001b[0m\u001b[0mtable\u001b[0m\u001b[0;34m)\u001b[0m \u001b[0;32mfor\u001b[0m \u001b[0mtable\u001b[0m \u001b[0;32min\u001b[0m \u001b[0mtables\u001b[0m\u001b[0;34m)\u001b[0m\u001b[0;34m\u001b[0m\u001b[0;34m\u001b[0m\u001b[0m\n\u001b[1;32m    224\u001b[0m \u001b[0;34m\u001b[0m\u001b[0m\n",
      "\u001b[0;32m/usr/local/anaconda3/lib/python3.7/site-packages/pandas/io/html.py\u001b[0m in \u001b[0;36m_parse_tables\u001b[0;34m(self, doc, match, attrs)\u001b[0m\n\u001b[1;32m    550\u001b[0m \u001b[0;34m\u001b[0m\u001b[0m\n\u001b[1;32m    551\u001b[0m         \u001b[0;32mif\u001b[0m \u001b[0;32mnot\u001b[0m \u001b[0mtables\u001b[0m\u001b[0;34m:\u001b[0m\u001b[0;34m\u001b[0m\u001b[0;34m\u001b[0m\u001b[0m\n\u001b[0;32m--> 552\u001b[0;31m             \u001b[0;32mraise\u001b[0m \u001b[0mValueError\u001b[0m\u001b[0;34m(\u001b[0m\u001b[0;34m\"No tables found\"\u001b[0m\u001b[0;34m)\u001b[0m\u001b[0;34m\u001b[0m\u001b[0;34m\u001b[0m\u001b[0m\n\u001b[0m\u001b[1;32m    553\u001b[0m \u001b[0;34m\u001b[0m\u001b[0m\n\u001b[1;32m    554\u001b[0m         \u001b[0mresult\u001b[0m \u001b[0;34m=\u001b[0m \u001b[0;34m[\u001b[0m\u001b[0;34m]\u001b[0m\u001b[0;34m\u001b[0m\u001b[0;34m\u001b[0m\u001b[0m\n",
      "\u001b[0;31mValueError\u001b[0m: No tables found"
     ]
    }
   ],
   "source": [
    "y = pd.read_html('https://arkhamdb.com/card/01514')"
   ]
  },
  {
   "cell_type": "code",
   "execution_count": 2,
   "id": "collaborative-posting",
   "metadata": {},
   "outputs": [],
   "source": [
    "import selenium"
   ]
  },
  {
   "cell_type": "code",
   "execution_count": 3,
   "id": "comparable-still",
   "metadata": {},
   "outputs": [],
   "source": [
    "# investigator \n",
    "# ablilities with embedid values not capturing correctly\n",
    "# Complex deck reqs not being captured correctly\n",
    "# some must includes not being captured correctly"
   ]
  },
  {
   "cell_type": "code",
   "execution_count": 4,
   "id": "royal-motivation",
   "metadata": {},
   "outputs": [
    {
     "name": "stdout",
     "output_type": "stream",
     "text": [
      "Getting investigator URL's...\n",
      "Getting asset URL's...\n",
      "Getting event URL's...\n",
      "Getting skill URL's...\n"
     ]
    }
   ],
   "source": [
    "invest, assets, events, skills = m.get_urls_by_type()\n"
   ]
  },
  {
   "cell_type": "code",
   "execution_count": 5,
   "id": "marine-newcastle",
   "metadata": {},
   "outputs": [],
   "source": [
    "##########################################Helper functions#########################################################\n",
    "def get_soup(url):\n",
    "    '''\n",
    "       Takes in a url for a card\n",
    "       Returns html request result parsed using beautiful soup'''\n",
    "\n",
    "    # create request and soup objects\n",
    "    html = requests.get(url)\n",
    "\n",
    "    soup = BeautifulSoup(html.content)\n",
    "\n",
    "    # locate urls on page and return\n",
    "    return soup\n",
    "\n",
    "\n",
    "def get_text_for_icon(text):\n",
    "\n",
    "    # replace icon html with matching word in all caps\n",
    "    icon_types = [\n",
    "                  'action',\n",
    "                  'reaction',\n",
    "                  'wild', \n",
    "                  'willpower', \n",
    "                  'combat', \n",
    "                  'agility', \n",
    "                  'intellect', \n",
    "                  'wild',\n",
    "                  'curse', \n",
    "                  'bless',\n",
    "                  'rogue',\n",
    "                  'survivor',\n",
    "                  'seeker',\n",
    "                  'guardian',\n",
    "                  'mystic',\n",
    "                  'neutral',\n",
    "                  'skull',\n",
    "                  'tablet',\n",
    "                  'cultist',\n",
    "                  'elder sign']\n",
    "    \n",
    "    for icon in icon_types:\n",
    "    \n",
    "        text = text.replace(f'<span class=\"icon-{icon}\" title=\"{icon.capitalize()}\"></span>', \n",
    "                                  f'{icon.upper()}')\n",
    "        \n",
    "        text = text.replace(f'<div class=\"card-text border-{icon}\">\\n<p>', '')\n",
    "\n",
    "    text = text.replace(f'<span class=\"icon-wild\" title=\"Any Skill\"></span>', 'WILD')\n",
    "\n",
    "    text = text.replace(f'<span class=\"icon-elder_sign\" title=\"Elder Sign\"></span>', 'ELDER_SIGN')\n",
    "\n",
    "    text = text.replace(f'<span class=\"icon-elder_sign\" title=\"Elder Thing\"></span>', 'ELDER_THING')\n",
    "\n",
    "    text = text.replace(f'<span class=\"icon-lightning\" title=\"Fast Action\"></span>', 'FAST ACTION')\n",
    "\n",
    "    text = text.replace(f'<span class=\"icon-auto_fail\" title=\"Auto Fail\"></span>', 'TENTACLES')\n",
    "\n",
    "    return text\n",
    "\n",
    "def clean_html(text):\n",
    "\n",
    "    # delete extraneous html\n",
    "    dirt = [\n",
    "            '</p>\\n</div>',\n",
    "            '</p>',\n",
    "            '<p>',\n",
    "            '<b>',\n",
    "            '</b>',\n",
    "            '<br/',\n",
    "            '<1>',\n",
    "            '<i>',\n",
    "            '</i>',\n",
    "            '><span>']\n",
    "    \n",
    "    for item in dirt:\n",
    "        \n",
    "        text = text.replace(item,'')\n",
    "\n",
    "    return text"
   ]
  },
  {
   "cell_type": "code",
   "execution_count": 23,
   "id": "peaceful-reporter",
   "metadata": {},
   "outputs": [],
   "source": [
    "def get_xp(results):\n",
    "    ''' Child of get_card_traits\n",
    "        Takes in an BS object containing card information\n",
    "        Returns XP cost of card if it exists\n",
    "        Otherwise returns 0'''\n",
    "    \n",
    "    # locate xp info in object\n",
    "    xp = results.find('div', class_='card-props')\n",
    "    \n",
    "    # if there is no value return 0\n",
    "    if xp == None:\n",
    "        \n",
    "        return 0\n",
    "    \n",
    "    # otherwise return perform minor cleaning on value and return\n",
    "    else:\n",
    "        \n",
    "        return re.search('[0-9]', str(xp)).group()\n",
    "    \n",
    "    \n",
    "def get_icons(results):\n",
    "    '''Child of get_card_traits\n",
    "       Takes in request results for an arkhamdb page containing player card data\n",
    "       Returns a string represintation of skill test icons on the card'''\n",
    "      \n",
    "    icons = ''\n",
    "\n",
    "    # list containing each icon type\n",
    "    icon_types = ['wild', 'willpower', 'combat', 'agility', 'intellect']\n",
    "\n",
    "    # itterate through icon types\n",
    "    for stat in icon_types:\n",
    "\n",
    "        # get number of that icon on card from request results\n",
    "        num_icons = len(results.find_all('span', class_=f'icon icon-{stat} color-{stat}'))\n",
    "\n",
    "        # add that icon name to a string for each time it appears in request results\n",
    "        for icon in range(num_icons):\n",
    "\n",
    "            icons += f'{stat} '\n",
    "            \n",
    "    return icons.upper()[:-1]\n",
    "\n",
    "\n",
    "#####find changes to find_all#######################################################################\n",
    "def get_ability(results, faction):\n",
    "    '''Child of get_card_traits\n",
    "        Takes in request results for an arkhamdb page containing player card data\n",
    "        Returns a string represintation of skill test icons on the card'''\n",
    "    \n",
    "    # gets html object and convert to string\n",
    "    ability_string = str(results.find_all('div', class_=f'card-text border-{faction.lower()}'))\n",
    "    \n",
    "    # convert html to string, replace icons in text with string represintations\n",
    "    ability_text = get_text_for_icon(ability_string)\n",
    "    \n",
    "    ability_text = clean_html(ability_text)\n",
    "    \n",
    "    return ability_text\n",
    "\n",
    "\n",
    "def get_text_for_icon(text):\n",
    "\n",
    "    # replace icon html with matching word in all caps\n",
    "    icon_types = [\n",
    "                  'action',\n",
    "                  'reaction',\n",
    "                  'wild', \n",
    "                  'willpower', \n",
    "                  'combat', \n",
    "                  'agility', \n",
    "                  'intellect', \n",
    "                  'wild',\n",
    "                  'curse', \n",
    "                  'bless',\n",
    "                  'rogue',\n",
    "                  'survivor',\n",
    "                  'seeker',\n",
    "                  'guardian',\n",
    "                  'mystic',\n",
    "                  'neutral',\n",
    "                  'skull',\n",
    "                  'tablet',\n",
    "                  'cultist',\n",
    "                  'elder sign']\n",
    "    \n",
    "    for icon in icon_types:\n",
    "    \n",
    "        text = text.replace(f'<span class=\"icon-{icon}\" title=\"{icon.capitalize()}\"></span>', \n",
    "                                  f'{icon.upper()}')\n",
    "        \n",
    "        text = text.replace(f'<div class=\"card-text border-{icon}\">\\n<p>', '')\n",
    "\n",
    "    text = text.replace(f'<span class=\"icon-wild\" title=\"Any Skill\"></span>', 'WILD')\n",
    "\n",
    "    text = text.replace(f'<span class=\"icon-elder_sign\" title=\"Elder Sign\"></span>', 'ELDER_SIGN')\n",
    "\n",
    "    text = text.replace(f'<span class=\"icon-elder_sign\" title=\"Elder Thing\"></span>', 'ELDER_THING')\n",
    "\n",
    "    text = text.replace(f'<span class=\"icon-lightning\" title=\"Fast Action\"></span>', 'FAST ACTION')\n",
    "\n",
    "    text = text.replace(f'<span class=\"icon-auto_fail\" title=\"Auto Fail\"></span>', 'TENTACLES')\n",
    "\n",
    "    return text\n",
    "\n",
    "def clean_html(text):\n",
    "\n",
    "    # delete extraneous html\n",
    "    dirt = [\n",
    "            '</p>\\n</div>',\n",
    "            '</p>',\n",
    "            '<p>',\n",
    "            '<b>',\n",
    "            '</b>',\n",
    "            '<br/',\n",
    "            '<1>',\n",
    "            '<i>',\n",
    "            '</i>',\n",
    "            '><span>',\n",
    "            '[',\n",
    "            ']']\n",
    "    \n",
    "    for item in dirt:\n",
    "        \n",
    "        text = text.replace(item,'')\n",
    "\n",
    "    return text\n",
    "\n",
    "\n",
    "def get_cost_xp(results):\n",
    "    \n",
    "    cost_xp = str(results.find('div', class_='card-props'))\n",
    "\n",
    "    cost = re.search(r'Cost:\\s+(\\d+)', cost_xp).group(1)\n",
    "\n",
    "    xp = re.search(r'XP:\\s+(\\d+)', cost_xp).group(1)\n",
    "    \n",
    "    return cost, xp"
   ]
  },
  {
   "cell_type": "code",
   "execution_count": 8,
   "id": "spread-invalid",
   "metadata": {},
   "outputs": [],
   "source": [
    "# [\n",
    "    \n",
    "#  #title,\n",
    "#  #sub_title,\n",
    "#  #faction, \n",
    "#  #tipe, \n",
    "#  body_slot #### later\n",
    "#  #traits,\n",
    "#  cost,\n",
    "#  #xp,\n",
    "#  #icons,\n",
    "#  #ability,\n",
    "#  #artist,\n",
    "#  #expansion,\n",
    "#  #flavor\n",
    "\n",
    "# ]"
   ]
  },
  {
   "cell_type": "code",
   "execution_count": 37,
   "id": "capable-origin",
   "metadata": {},
   "outputs": [],
   "source": [
    "results = get_soup('https://arkhamdb.com/card/07305')"
   ]
  },
  {
   "cell_type": "code",
   "execution_count": 44,
   "id": "excessive-wisdom",
   "metadata": {},
   "outputs": [
    {
     "data": {
      "text/plain": [
       "'<div class=\"card-props\">\\n\\t\\tCost:     4.\\n\\t\\t\\tXP: 2.\\n\\t</div>'"
      ]
     },
     "execution_count": 44,
     "metadata": {},
     "output_type": "execute_result"
    }
   ],
   "source": [
    "str(results.find('div', class_='card-props'))"
   ]
  },
  {
   "cell_type": "code",
   "execution_count": 87,
   "id": "stable-brick",
   "metadata": {},
   "outputs": [],
   "source": [
    "def get_cost_xp(results):\n",
    "    \n",
    "    cost_xp = str(results.find('div', class_='card-props'))\n",
    "\n",
    "    try:\n",
    "    \n",
    "        cost = re.search(r'Cost:\\s+(\\d+)', cost_xp).group(1)\n",
    "        \n",
    "    except:\n",
    "        \n",
    "        cost = 0\n",
    "\n",
    "    try:\n",
    "    \n",
    "        xp = re.search(r'XP:\\s+(\\d+)', cost_xp).group(1)\n",
    "        \n",
    "    except:\n",
    "        \n",
    "        xp = 0\n",
    "    \n",
    "    return cost, xp\n",
    "\n",
    "\n",
    "def get_subtitle(results):\n",
    "    \n",
    "    try:\n",
    "        \n",
    "        sub_title = results.find('div', class_='card-subname small').text.replace('\\n', '').replace('\\t', '')\n",
    "        \n",
    "    except:\n",
    "        \n",
    "        sub_title = ''\n",
    "        \n",
    "    return sub_title\n",
    "\n",
    "\n",
    "\n",
    "def get_traits(results):\n",
    "    \n",
    "    try:\n",
    "        \n",
    "        traits = results.find('p', class_='card-traits').text.replace('\\n', '').replace('\\t', '')\n",
    "        \n",
    "    except:\n",
    "        \n",
    "        traits = ''\n",
    "        \n",
    "    return traits"
   ]
  },
  {
   "cell_type": "code",
   "execution_count": 88,
   "id": "original-gender",
   "metadata": {},
   "outputs": [
    {
     "data": {
      "text/plain": [
       "'2'"
      ]
     },
     "execution_count": 88,
     "metadata": {},
     "output_type": "execute_result"
    }
   ],
   "source": [
    "re.search(r'XP:\\s+(\\d+)', cost_xp).group(1)"
   ]
  },
  {
   "cell_type": "code",
   "execution_count": 89,
   "id": "scenic-football",
   "metadata": {},
   "outputs": [],
   "source": [
    "#  #title,\n",
    "#  #sub_title,\n",
    "#  #faction, \n",
    "#  #tipe, \n",
    "#  body_slot #### later\n",
    "#  #traits,\n",
    "#  cost,\n",
    "#  #xp,\n",
    "#  #icons,\n",
    "#  #ability,\n",
    "#  #artist,\n",
    "#  #expansion,\n",
    "#  #flavor"
   ]
  },
  {
   "cell_type": "code",
   "execution_count": 90,
   "id": "subtle-mountain",
   "metadata": {},
   "outputs": [],
   "source": [
    "def get_event_traits(results):\n",
    "\n",
    "    title = results.find('a', class_='card-name card-tip').text.replace('\\n', '').replace('\\t', '')\n",
    "\n",
    "    sub_title = get_subtitle(results)\n",
    "\n",
    "    faction = results.find('span', class_='card-faction').text.replace('\\n', '').replace('\\t', '')\n",
    "\n",
    "    tipe = results.find('span', class_='card-type').text.replace('\\n', '').replace('\\t', '')\n",
    "\n",
    "    traits = get_traits(results)\n",
    "\n",
    "    cost, xp = get_cost_xp(results)\n",
    "\n",
    "    icons = get_icons(results)\n",
    "\n",
    "    ability = get_ability(results, faction)\n",
    "\n",
    "    artist = results.find('div', class_='card-illustrator').text.replace('\\n', '').replace('\\t', '')\n",
    "\n",
    "    flavor = results.find('div', class_='card-flavor small').text.replace('\\n', '').replace('\\t', '')\n",
    "\n",
    "    expansion = results.find('div', class_='card-pack').text.replace('\\n', '').replace('\\t', '').replace('.', '')\n",
    "\n",
    "    return [title,\n",
    "             sub_title,\n",
    "             faction,\n",
    "             tipe,\n",
    "             traits,\n",
    "             cost,\n",
    "             xp,\n",
    "             icons,\n",
    "             ability,\n",
    "             artist,\n",
    "             expansion,\n",
    "             flavor,\n",
    "             url]"
   ]
  },
  {
   "cell_type": "code",
   "execution_count": 91,
   "id": "radical-attribute",
   "metadata": {
    "scrolled": true
   },
   "outputs": [
    {
     "name": "stdout",
     "output_type": "stream",
     "text": [
      "Getting investigator card \"Eat lead!\"...\n",
      "Getting investigator card \"Eat lead!\"...\n",
      "Getting investigator card \"Fool me once...\"...\n",
      "Getting investigator card \"Get behind me!\"...\n",
      "Getting investigator card \"Get over here!\"...\n",
      "Getting investigator card \"Get over here!\"...\n",
      "Getting investigator card \"Hit me!\"...\n",
      "Getting investigator card \"I'll Pay You Back!\"...\n",
      "Getting investigator card \"I'll see you in hell!\"...\n",
      "Getting investigator card \"I'll take that!\"...\n",
      "Getting investigator card \"I'm done runnin'!\"...\n",
      "Getting investigator card \"I'm outta here!\"...\n",
      "Getting investigator card \"I've got a plan!\"...\n",
      "Getting investigator card \"I've got a plan!\"...\n",
      "Getting investigator card \"I've had worse…\"...\n",
      "Getting investigator card \"I've had worse…\"...\n",
      "Getting investigator card \"I've had worse…\"...\n",
      "Getting investigator card \"If it bleeds...\"...\n",
      "Getting investigator card \"Let God sort them out...\"...\n",
      "Getting investigator card \"Let me handle this!\"...\n",
      "Getting investigator card \"Look what I found!\"...\n",
      "Getting investigator card \"Look what I found!\"...\n",
      "Getting investigator card \"Look what I found!\"...\n",
      "Getting investigator card \"Look what I found!\"...\n",
      "Getting investigator card \"Throw the Book at Them!\"...\n",
      "Getting investigator card \"You handle this one!\"...\n",
      "Getting investigator card \"You owe me one!\"...\n",
      "Getting investigator card 21 or Bust...\n",
      "Getting investigator card A Chance Encounter...\n",
      "Getting investigator card A Chance Encounter...\n",
      "Getting investigator card A Glimmer of Hope...\n",
      "Getting investigator card A Test of Will...\n",
      "Getting investigator card A Test of Will...\n",
      "Getting investigator card A Test of Will...\n",
      "Getting investigator card A Watchful Peace...\n",
      "Getting investigator card Absolution...\n",
      "Getting investigator card Ace in the Hole...\n",
      "Getting investigator card Act of Desperation...\n",
      "Getting investigator card Ad Hoc...\n",
      "Getting investigator card Aetheric Current...\n",
      "Getting investigator card Aetheric Current...\n",
      "Getting investigator card Against All Odds...\n",
      "Getting investigator card Alter Fate...\n",
      "Getting investigator card Alter Fate...\n",
      "Getting investigator card Ambush...\n",
      "Getting investigator card Anatomical Diagrams...\n",
      "Getting investigator card Astounding Revelation...\n",
      "Getting investigator card Astral Travel...\n",
      "Getting investigator card Astral Travel...\n",
      "Getting investigator card At a Crossroads...\n",
      "Getting investigator card Backstab...\n",
      "Getting investigator card Backstab...\n",
      "Getting investigator card Backstab...\n",
      "Getting investigator card Bait and Switch...\n",
      "Getting investigator card Bait and Switch...\n",
      "Getting investigator card Banish...\n",
      "Getting investigator card Barricade...\n",
      "Getting investigator card Barricade...\n",
      "Getting investigator card Barricade...\n",
      "Getting investigator card Beguile...\n",
      "Getting investigator card Belly of the Beast...\n",
      "Getting investigator card Bind Monster...\n",
      "Getting investigator card Bizarre Diagnosis...\n",
      "Getting investigator card Black Market...\n",
      "Getting investigator card Blinding Light...\n",
      "Getting investigator card Blinding Light...\n",
      "Getting investigator card Blinding Light...\n",
      "Getting investigator card Blinding Light...\n",
      "Getting investigator card Blood Eclipse...\n",
      "Getting investigator card Blood Eclipse...\n",
      "Getting investigator card Blood Will Have Blood...\n",
      "Getting investigator card Blood-Rite...\n",
      "Getting investigator card Bolas...\n",
      "Getting investigator card Breach the Door...\n",
      "Getting investigator card Breaking and Entering...\n",
      "Getting investigator card Breaking and Entering...\n",
      "Getting investigator card Burn After Reading...\n",
      "Getting investigator card Burning the Midnight Oil...\n",
      "Getting investigator card Bury Them Deep...\n",
      "Getting investigator card Butterfly Effect...\n",
      "Getting investigator card Call for Backup...\n",
      "Getting investigator card Calling in Favors...\n",
      "Getting investigator card Captivating Discovery...\n",
      "Getting investigator card Cheap Shot...\n",
      "Getting investigator card Cheap Shot...\n",
      "Getting investigator card Cheap Shot...\n",
      "Getting investigator card Cheat Death...\n",
      "Getting investigator card Cheat the System...\n",
      "Getting investigator card Clean Sneak...\n",
      "Getting investigator card Clean Them Out...\n",
      "Getting investigator card Close Call...\n",
      "Getting investigator card Close Call...\n",
      "Getting investigator card Confound...\n",
      "Getting investigator card Connect the Dots...\n",
      "Getting investigator card Contraband...\n",
      "Getting investigator card Contraband...\n",
      "Getting investigator card Counterespionage...\n",
      "Getting investigator card Counterpunch...\n",
      "Getting investigator card Counterpunch...\n",
      "Getting investigator card Counterspell...\n",
      "Getting investigator card Coup de Grâce...\n",
      "Getting investigator card Crack the Case...\n",
      "Getting investigator card Cryptic Research...\n",
      "Getting investigator card Cryptic Research...\n",
      "Getting investigator card Cryptic Writings...\n",
      "Getting investigator card Cryptic Writings...\n",
      "Getting investigator card Cunning Distraction...\n",
      "Getting investigator card Cunning Distraction...\n",
      "Getting investigator card Custom Ammunition...\n",
      "Getting investigator card Custom Modifications...\n",
      "Getting investigator card Daring Maneuver...\n",
      "Getting investigator card Daring Maneuver...\n",
      "Getting investigator card Daring Maneuver...\n",
      "Getting investigator card Dark Insight...\n",
      "Getting investigator card Dark Memory...\n",
      "Getting investigator card Dark Memory...\n",
      "Getting investigator card Dark Memory...\n",
      "Getting investigator card Dark Pact...\n",
      "Getting investigator card Dark Prophecy...\n",
      "Getting investigator card Dark Prophecy...\n",
      "Getting investigator card Deciphered Reality...\n",
      "Getting investigator card Decoy...\n",
      "Getting investigator card Deep Knowledge...\n",
      "Getting investigator card Delay the Inevitable...\n",
      "Getting investigator card Delve Too Deep...\n",
      "Getting investigator card Deny Existence...\n",
      "Getting investigator card Deny Existence...\n",
      "Getting investigator card Devil's Luck...\n",
      "Getting investigator card Dodge...\n",
      "Getting investigator card Dodge...\n",
      "Getting investigator card Dodge...\n",
      "Getting investigator card Dodge...\n",
      "Getting investigator card Drain Essence...\n",
      "Getting investigator card Drawn to the Flame...\n",
      "Getting investigator card Drawn to the Flame...\n",
      "Getting investigator card Dumb Luck...\n",
      "Getting investigator card Dumb Luck...\n",
      "Getting investigator card Dumb Luck...\n",
      "Getting investigator card Dynamite Blast...\n",
      "Getting investigator card Dynamite Blast...\n",
      "Getting investigator card Dynamite Blast...\n",
      "Getting investigator card Dynamite Blast...\n",
      "Getting investigator card Easy Mark...\n",
      "Getting investigator card Eavesdrop...\n",
      "Getting investigator card Eidetic Memory...\n",
      "Getting investigator card Eldritch Initiation...\n",
      "Getting investigator card Eldritch Inspiration...\n",
      "Getting investigator card Eldritch Inspiration...\n",
      "Getting investigator card Elusive...\n",
      "Getting investigator card Elusive...\n",
      "Getting investigator card Emergency Aid...\n",
      "Getting investigator card Emergency Cache...\n",
      "Getting investigator card Emergency Cache...\n",
      "Getting investigator card Emergency Cache...\n",
      "Getting investigator card Emergency Cache...\n",
      "Getting investigator card Emergency Cache...\n",
      "Getting investigator card Enchant Weapon...\n",
      "Getting investigator card End of the Road...\n",
      "Getting investigator card Ethereal Form...\n",
      "Getting investigator card Ethereal Slip...\n",
      "Getting investigator card Ethereal Slip...\n",
      "Getting investigator card Eucatastrophe...\n",
      "Getting investigator card Eucatastrophe...\n",
      "Getting investigator card Ever Vigilant...\n",
      "Getting investigator card Ever Vigilant...\n",
      "Getting investigator card Evidence!...\n",
      "Getting investigator card Evidence!...\n",
      "Getting investigator card Evidence!...\n",
      "Getting investigator card Existential Riddle...\n",
      "Getting investigator card Exploit Weakness...\n",
      "Getting investigator card Explosive Ward...\n",
      "Getting investigator card Expose Weakness...\n",
      "Getting investigator card Expose Weakness...\n",
      "Getting investigator card Extensive Research...\n",
      "Getting investigator card Extensive Research...\n",
      "Getting investigator card Extra Ammunition...\n",
      "Getting investigator card Extra Ammunition...\n",
      "Getting investigator card False Surrender...\n",
      "Getting investigator card Fang of Tyr'thrha...\n",
      "Getting investigator card Faustian Bargain...\n",
      "Getting investigator card Fend Off...\n",
      "Getting investigator card Fickle Fortune...\n",
      "Getting investigator card Fight or Flight...\n",
      "Getting investigator card Fine Tuning...\n",
      "Getting investigator card First Watch...\n",
      "Getting investigator card Flare...\n"
     ]
    },
    {
     "name": "stdout",
     "output_type": "stream",
     "text": [
      "Getting investigator card Followed...\n",
      "Getting investigator card Foresight...\n",
      "Getting investigator card Forewarned...\n",
      "Getting investigator card Fortuitous Discovery...\n",
      "Getting investigator card Fortune or Fate...\n",
      "Getting investigator card Friends in Low Places...\n",
      "Getting investigator card Galvanize...\n",
      "Getting investigator card Gang Up...\n",
      "Getting investigator card Gaze of Ouraxsh...\n",
      "Getting investigator card Ghastly Revelation...\n",
      "Getting investigator card Glimpse the Unthinkable...\n",
      "Getting investigator card Glimpse the Unthinkable...\n",
      "Getting investigator card Glory...\n",
      "Getting investigator card Grievous Wound...\n",
      "Getting investigator card Grift...\n",
      "Getting investigator card Grit Your Teeth...\n",
      "Getting investigator card Guidance...\n",
      "Getting investigator card Guidance...\n",
      "Getting investigator card Guided by Faith...\n",
      "Getting investigator card Hallow...\n",
      "Getting investigator card Hand of Fate...\n",
      "Getting investigator card Hand-Eye Coordination...\n",
      "Getting investigator card Harmony Restored...\n",
      "Getting investigator card Heed the Dream...\n",
      "Getting investigator card Heroic Rescue...\n",
      "Getting investigator card Heroic Rescue...\n",
      "Getting investigator card Hidden Pocket...\n",
      "Getting investigator card Hiding Spot...\n",
      "Getting investigator card Hit and Run...\n",
      "Getting investigator card Hold Up...\n",
      "Getting investigator card Honed Instinct...\n",
      "Getting investigator card Hot Streak...\n",
      "Getting investigator card Hot Streak...\n",
      "Getting investigator card Hot Streak...\n",
      "Getting investigator card Hypnotic Gaze...\n",
      "Getting investigator card Hypnotic Gaze...\n",
      "Getting investigator card Hypnotic Gaze...\n",
      "Getting investigator card Impromptu Barrier...\n",
      "Getting investigator card Improvisation...\n",
      "Getting investigator card Improvised Weapon...\n",
      "Getting investigator card In the Shadows...\n",
      "Getting investigator card Infighting...\n",
      "Getting investigator card Intel Report...\n",
      "Getting investigator card Interrogate...\n",
      "Getting investigator card Join the Caravan...\n",
      "Getting investigator card Jury-Rig...\n",
      "Getting investigator card Keep Faith...\n",
      "Getting investigator card Kicking the Hornet's Nest...\n",
      "Getting investigator card Knowledge is Power...\n",
      "Getting investigator card Lesson Learned...\n",
      "Getting investigator card Lifeline...\n",
      "Getting investigator card Live and Learn...\n",
      "Getting investigator card Live and Learn...\n",
      "Getting investigator card Lodge \"Debts\"...\n",
      "Making dataframe...\n"
     ]
    }
   ],
   "source": [
    "event_dict = {'title':[],\n",
    "             'sub_title':[],\n",
    "             'faction':[],\n",
    "             'type':[],\n",
    "             'traits':[],\n",
    "             'cost':[],\n",
    "             'XP':[],\n",
    "             'icons':[],\n",
    "             'ability':[],\n",
    "             'artist':[],\n",
    "             'expansion':[],\n",
    "             'flavor':[],\n",
    "             'url':[]}\n",
    "    \n",
    "# for each url get player card info from that page and add each element to skill_traits\n",
    "for url in events:\n",
    "\n",
    "    # make html request to arkham db and parse using BS\n",
    "    results = get_soup(url)\n",
    "\n",
    "    # get list of card elements card elements\n",
    "    event_list = get_event_traits(results)\n",
    "\n",
    "    event_list.append(url)\n",
    "\n",
    "    print(f'Getting event card {event_list[0]}...')\n",
    "\n",
    "    # itterate through card element titles and add each to a dictionary\n",
    "    for i, key in enumerate(event_dict):\n",
    "\n",
    "        event_dict[key].append(event_list[i])\n",
    "\n",
    "print(\"Making dataframe...\")\n",
    "\n",
    "df = pd.DataFrame(event_dict)"
   ]
  },
  {
   "cell_type": "code",
   "execution_count": 94,
   "id": "historic-taylor",
   "metadata": {},
   "outputs": [
    {
     "data": {
      "text/plain": [
       "           238\n",
       "Yuggoth      1\n",
       "Yoth         1\n",
       "Name: sub_title, dtype: int64"
      ]
     },
     "execution_count": 94,
     "metadata": {},
     "output_type": "execute_result"
    }
   ],
   "source": [
    "df.sub_title.value_counts()"
   ]
  },
  {
   "cell_type": "code",
   "execution_count": 66,
   "id": "automatic-receipt",
   "metadata": {},
   "outputs": [
    {
     "data": {
      "text/plain": [
       "'.25 Automatic'"
      ]
     },
     "execution_count": 66,
     "metadata": {},
     "output_type": "execute_result"
    }
   ],
   "source": [
    "title"
   ]
  },
  {
   "cell_type": "code",
   "execution_count": 67,
   "id": "handmade-concept",
   "metadata": {},
   "outputs": [
    {
     "data": {
      "text/plain": [
       "''"
      ]
     },
     "execution_count": 67,
     "metadata": {},
     "output_type": "execute_result"
    }
   ],
   "source": [
    "sub_title"
   ]
  },
  {
   "cell_type": "code",
   "execution_count": 68,
   "id": "fixed-motivation",
   "metadata": {},
   "outputs": [
    {
     "data": {
      "text/plain": [
       "'Rogue'"
      ]
     },
     "execution_count": 68,
     "metadata": {},
     "output_type": "execute_result"
    }
   ],
   "source": [
    "faction"
   ]
  },
  {
   "cell_type": "code",
   "execution_count": 69,
   "id": "descending-trauma",
   "metadata": {},
   "outputs": [
    {
     "data": {
      "text/plain": [
       "'Asset. '"
      ]
     },
     "execution_count": 69,
     "metadata": {},
     "output_type": "execute_result"
    }
   ],
   "source": [
    "tipe"
   ]
  },
  {
   "cell_type": "code",
   "execution_count": 70,
   "id": "incomplete-joining",
   "metadata": {},
   "outputs": [
    {
     "data": {
      "text/plain": [
       "'Item. Weapon. Firearm. Illicit.'"
      ]
     },
     "execution_count": 70,
     "metadata": {},
     "output_type": "execute_result"
    }
   ],
   "source": [
    "traits"
   ]
  },
  {
   "cell_type": "code",
   "execution_count": 71,
   "id": "leading-consciousness",
   "metadata": {},
   "outputs": [
    {
     "data": {
      "text/plain": [
       "'2'"
      ]
     },
     "execution_count": 71,
     "metadata": {},
     "output_type": "execute_result"
    }
   ],
   "source": [
    "xp"
   ]
  },
  {
   "cell_type": "code",
   "execution_count": 72,
   "id": "located-graduate",
   "metadata": {},
   "outputs": [
    {
     "data": {
      "text/plain": [
       "'Fast. Uses (4 ammo).ACTION Spend 1 ammo: Fight. If the attacked enemy is exhausted, you get +2 COMBAT and deal +1 damage for this attack.REACTION After you evade an enemy at your location: Perform the above Fight ability without spending an action.'"
      ]
     },
     "execution_count": 72,
     "metadata": {},
     "output_type": "execute_result"
    }
   ],
   "source": [
    "ability"
   ]
  },
  {
   "cell_type": "code",
   "execution_count": 73,
   "id": "agricultural-stand",
   "metadata": {},
   "outputs": [
    {
     "data": {
      "text/plain": [
       "''"
      ]
     },
     "execution_count": 73,
     "metadata": {},
     "output_type": "execute_result"
    }
   ],
   "source": [
    "flavor"
   ]
  },
  {
   "cell_type": "code",
   "execution_count": 74,
   "id": "diverse-category",
   "metadata": {},
   "outputs": [
    {
     "data": {
      "text/plain": [
       "'Mauro Dal Bo'"
      ]
     },
     "execution_count": 74,
     "metadata": {},
     "output_type": "execute_result"
    }
   ],
   "source": [
    "artist"
   ]
  },
  {
   "cell_type": "code",
   "execution_count": 75,
   "id": "interior-publication",
   "metadata": {},
   "outputs": [
    {
     "data": {
      "text/plain": [
       "'Into the Maelstrom #305'"
      ]
     },
     "execution_count": 75,
     "metadata": {},
     "output_type": "execute_result"
    }
   ],
   "source": [
    "expansion"
   ]
  },
  {
   "cell_type": "code",
   "execution_count": 76,
   "id": "negative-deposit",
   "metadata": {},
   "outputs": [
    {
     "data": {
      "text/plain": [
       "'COMBAT AGILITY'"
      ]
     },
     "execution_count": 76,
     "metadata": {},
     "output_type": "execute_result"
    }
   ],
   "source": [
    "icons"
   ]
  },
  {
   "cell_type": "code",
   "execution_count": 98,
   "id": "protective-latitude",
   "metadata": {},
   "outputs": [
    {
     "name": "stdout",
     "output_type": "stream",
     "text": [
      "Page found\n",
      "Page found\n",
      "Page found\n",
      "Page found\n",
      "Page found\n",
      "Page found\n",
      "Page found\n",
      "Page found\n",
      "Page found\n"
     ]
    }
   ],
   "source": [
    "for r in range(1,10):\n",
    "    \n",
    "    if r == 1:\n",
    "        \n",
    "        url = 'https://arkhamdb.com/find?q=t%3Aevent&sort=name&view=list&decks=player&spoilers=hide'\n",
    "\n",
    "    else:\n",
    "        \n",
    "        url = f'https://arkhamdb.com/find?q=t%3Aevent&view=list&sort=name&decks=player&page={r}'\n",
    "\n",
    "    # create request and soup objects\n",
    "    try:\n",
    "        \n",
    "        html = requests.get(url)\n",
    "        print('Page found')\n",
    "\n",
    "    except:\n",
    "        \n",
    "        print('Done!!!!!!!!!')\n",
    "        break"
   ]
  },
  {
   "cell_type": "code",
   "execution_count": null,
   "id": "julian-projector",
   "metadata": {},
   "outputs": [],
   "source": [
    "\n",
    "for r in (10):\n",
    "\n",
    "    url = f'https://arkhamdb.com/find?q=t%3Aevent&decks=player{num}'\n",
    "\n",
    "# create request and soup objects\n",
    "    try:\n",
    "        \n",
    "        html = requests.get(url)\n",
    "        print('Page found')\n",
    "\n",
    "    except:\n",
    "        \n",
    "        print('Done!!!!!!!!!')\n",
    "        break\n",
    "        \n",
    "        \n",
    "        \n",
    "soup = BeautifulSoup(html.content, 'html.parser')\n",
    "\n",
    "# locate urls on page\n",
    "results = soup.find(id='list')\n",
    "\n",
    "results = results.find_all('a', class_='card-tip')\n",
    "\n",
    "# convert urls to string and make a list\n",
    "results = [str(result['href']) for result in results]"
   ]
  },
  {
   "cell_type": "code",
   "execution_count": null,
   "id": "nutritional-terrorist",
   "metadata": {},
   "outputs": [],
   "source": []
  },
  {
   "cell_type": "code",
   "execution_count": null,
   "id": "labeled-blogger",
   "metadata": {},
   "outputs": [],
   "source": []
  }
 ],
 "metadata": {
  "kernelspec": {
   "display_name": "Python 3",
   "language": "python",
   "name": "python3"
  },
  "language_info": {
   "codemirror_mode": {
    "name": "ipython",
    "version": 3
   },
   "file_extension": ".py",
   "mimetype": "text/x-python",
   "name": "python",
   "nbconvert_exporter": "python",
   "pygments_lexer": "ipython3",
   "version": "3.7.4"
  }
 },
 "nbformat": 4,
 "nbformat_minor": 5
}
