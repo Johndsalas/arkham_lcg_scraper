{
 "cells": [
  {
   "cell_type": "code",
   "execution_count": 1,
   "id": "optional-content",
   "metadata": {},
   "outputs": [],
   "source": [
    "import requests\n",
    "import re\n",
    "from bs4 import BeautifulSoup\n",
    "import pandas as pd\n",
    "import main as m\n",
    "import regex as re"
   ]
  },
  {
   "cell_type": "code",
   "execution_count": 2,
   "id": "comparable-still",
   "metadata": {},
   "outputs": [],
   "source": [
    "# investigator \n",
    "# ablilities with embedid values not capturing correctly\n",
    "# Complex deck reqs not being captured correctly\n",
    "# some must includes not being captured correctly"
   ]
  },
  {
   "cell_type": "code",
   "execution_count": 3,
   "id": "royal-motivation",
   "metadata": {},
   "outputs": [
    {
     "name": "stdout",
     "output_type": "stream",
     "text": [
      "Getting investigator URL's...\n",
      "Getting asset URL's...\n",
      "Getting event URL's...\n",
      "Getting skill URL's...\n"
     ]
    }
   ],
   "source": [
    "invest, assets, events, skills = m.get_urls_by_type()\n"
   ]
  },
  {
   "cell_type": "code",
   "execution_count": 4,
   "id": "marine-newcastle",
   "metadata": {},
   "outputs": [],
   "source": [
    "##########################################Helper functions#########################################################\n",
    "def get_soup(url):\n",
    "    '''Child of get_skills_df\n",
    "       Takes in a url for a card\n",
    "       Returns html request result parsed using beautiful soup'''\n",
    "\n",
    "    # create request and soup objects\n",
    "    html = requests.get(url)\n",
    "\n",
    "    soup = BeautifulSoup(html.content, 'html.parser')\n",
    "\n",
    "    # locate urls on page and return\n",
    "    return soup.find(id='list')\n",
    "\n",
    "\n",
    "def get_text_for_icon(text):\n",
    "\n",
    "    # replace icon html with matching word in all caps\n",
    "    icon_types = [\n",
    "                  'action',\n",
    "                  'reaction',\n",
    "                  'wild', \n",
    "                  'willpower', \n",
    "                  'combat', \n",
    "                  'agility', \n",
    "                  'intellect', \n",
    "                  'wild',\n",
    "                  'curse', \n",
    "                  'bless',\n",
    "                  'rogue',\n",
    "                  'survivor',\n",
    "                  'seeker',\n",
    "                  'guardian',\n",
    "                  'mystic',\n",
    "                  'neutral',\n",
    "                  'skull',\n",
    "                  'tablet',\n",
    "                  'cultist',\n",
    "                  'elder sign']\n",
    "    \n",
    "    for icon in icon_types:\n",
    "    \n",
    "        text = text.replace(f'<span class=\"icon-{icon}\" title=\"{icon.capitalize()}\"></span>', \n",
    "                                  f'{icon.upper()}')\n",
    "        \n",
    "        text = text.replace(f'<div class=\"card-text border-{icon}\">\\n<p>', '')\n",
    "\n",
    "    text = text.replace(f'<span class=\"icon-wild\" title=\"Any Skill\"></span>', 'WILD')\n",
    "\n",
    "    text = text.replace(f'<span class=\"icon-elder_sign\" title=\"Elder Sign\"></span>', 'ELDER_SIGN')\n",
    "\n",
    "    text = text.replace(f'<span class=\"icon-elder_sign\" title=\"Elder Thing\"></span>', 'ELDER_THING')\n",
    "\n",
    "    text = text.replace(f'<span class=\"icon-lightning\" title=\"Fast Action\"></span>', 'FAST ACTION')\n",
    "\n",
    "    text = text.replace(f'<span class=\"icon-auto_fail\" title=\"Auto Fail\"></span>', 'TENTACLES')\n",
    "\n",
    "    return text\n",
    "\n",
    "def clean_html(text):\n",
    "\n",
    "    # delete extraneous html\n",
    "    dirt = [\n",
    "            '</p>\\n</div>',\n",
    "            '</p>',\n",
    "            '<p>',\n",
    "            '<b>',\n",
    "            '</b>',\n",
    "            '<br/',\n",
    "            '<1>',\n",
    "            '<i>',\n",
    "            '</i>',\n",
    "            '><span>']\n",
    "    \n",
    "    for item in dirt:\n",
    "        \n",
    "        text = text.replace(item,'')\n",
    "\n",
    "    return text"
   ]
  },
  {
   "cell_type": "code",
   "execution_count": 45,
   "id": "acknowledged-wheat",
   "metadata": {},
   "outputs": [],
   "source": [
    "def get_xp(results):\n",
    "    ''' Child of get_card_traits\n",
    "        Takes in an BS object containing card information\n",
    "        Returns XP cost of card if it exists\n",
    "        Otherwise returns 0'''\n",
    "    \n",
    "    # locate xp info in object\n",
    "    xp = results.find('div', class_='card-props')\n",
    "    \n",
    "    # if there is no value return 0\n",
    "    if xp == None:\n",
    "        \n",
    "        return 0\n",
    "    \n",
    "    # otherwise return perform minor cleaning on value and return\n",
    "    else:\n",
    "        \n",
    "        return re.search('[0-9]', str(xp)).group()\n",
    "    \n",
    "    \n",
    "def get_icons(results):\n",
    "    '''Child of get_card_traits\n",
    "       Takes in request results for an arkhamdb page containing player card data\n",
    "       Returns a string represintation of skill test icons on the card'''\n",
    "      \n",
    "    icons = ''\n",
    "\n",
    "    # list containing each icon type\n",
    "    icon_types = ['wild', 'willpower', 'combat', 'agility', 'intellect']\n",
    "\n",
    "    # itterate through icon types\n",
    "    for stat in icon_types:\n",
    "\n",
    "        # get number of that icon on card from request results\n",
    "        num_icons = len(results.find_all('span', class_=f'icon icon-{stat} color-{stat}'))\n",
    "\n",
    "        # add that icon name to a string for each time it appears in request results\n",
    "        for icon in range(num_icons):\n",
    "\n",
    "            icons += f'{stat} '\n",
    "            \n",
    "    return icons.upper()[:-1]\n",
    "\n",
    "\n",
    "#####find changes to find_all#######################################################################\n",
    "def get_ability(results, faction):\n",
    "    '''Child of get_card_traits\n",
    "        Takes in request results for an arkhamdb page containing player card data\n",
    "        Returns a string represintation of skill test icons on the card'''\n",
    "    \n",
    "    # gets html object and convert to string\n",
    "    ability_string = str(results.find_all('div', class_=f'card-text border-{faction.lower()}'))\n",
    "    \n",
    "    # convert html to string, replace icons in text with string represintations\n",
    "    ability_text = clean_ability_string(ability_string)\n",
    "    \n",
    "    return ability_text"
   ]
  },
  {
   "cell_type": "code",
   "execution_count": 23,
   "id": "fabulous-diving",
   "metadata": {},
   "outputs": [
    {
     "data": {
      "text/plain": [
       "'https://arkhamdb.com/card/07305'"
      ]
     },
     "execution_count": 23,
     "metadata": {},
     "output_type": "execute_result"
    }
   ],
   "source": [
    "assets[3]"
   ]
  },
  {
   "cell_type": "code",
   "execution_count": null,
   "id": "spread-invalid",
   "metadata": {},
   "outputs": [],
   "source": [
    "[\n",
    "    \n",
    " #title,\n",
    " #sub_title,\n",
    " #faction, \n",
    " #tipe, \n",
    " body_slot\n",
    " #traits,\n",
    " cost,\n",
    " #xp,\n",
    " #icons,\n",
    " #ability,\n",
    " #artist,\n",
    " #expansion,\n",
    " #flavor\n",
    "\n",
    "]"
   ]
  },
  {
   "cell_type": "code",
   "execution_count": 36,
   "id": "stuffed-frederick",
   "metadata": {},
   "outputs": [],
   "source": [
    "results = get_soup('https://arkhamdb.com/card/09089')"
   ]
  },
  {
   "cell_type": "code",
   "execution_count": 46,
   "id": "whole-detector",
   "metadata": {},
   "outputs": [],
   "source": [
    "title = results.find('a', class_='card-name card-tip').text.replace('\\n', '').replace('\\t', '')\n",
    "\n",
    "sub_title = results.find('div', class_='card-subname small').text.replace('\\n', '').replace('\\t', '')\n",
    "\n",
    "faction = results.find('span', class_='card-faction').text.replace('\\n', '').replace('\\t', '')\n",
    "\n",
    "tipe = results.find('span', class_='card-type').text.replace('\\n', '').replace('\\t', '')\n",
    "\n",
    "traits = results.find('p', class_='card-traits').text.replace('\\n', '').replace('\\t', '')\n",
    "\n",
    "xp =  get_xp(results)\n",
    "\n",
    "ability = get_ability(results, faction)\n",
    "\n",
    "flavor = results.find('div', class_='card-flavor small').text.replace('\\n', '').replace('\\t', '')\n",
    "\n",
    "artist = results.find('div', class_='card-illustrator').text.replace('\\n', '').replace('\\t', '')\n",
    "\n",
    "expansion = results.find('div', class_='card-pack').text.replace('\\n', '').replace('\\t', '').replace('.', '')\n",
    "\n",
    "icons = get_icons(results)"
   ]
  },
  {
   "cell_type": "code",
   "execution_count": 66,
   "id": "southeast-enterprise",
   "metadata": {},
   "outputs": [],
   "source": [
    "results = get_soup('https://arkhamdb.com/find?q=t%3Aasset&decks=player')"
   ]
  },
  {
   "cell_type": "code",
   "execution_count": 67,
   "id": "light-index",
   "metadata": {},
   "outputs": [],
   "source": [
    "results.find('div', class_='qtip-content')"
   ]
  },
  {
   "cell_type": "code",
   "execution_count": 68,
   "id": "homeless-termination",
   "metadata": {},
   "outputs": [],
   "source": [
    "results.find('div', class_='qtip qtip-default card-content qtip-bootstrap qtip-thronesdb qtip-thronesdb-text qtip-pos-lc')"
   ]
  },
  {
   "cell_type": "code",
   "execution_count": 39,
   "id": "hourly-abraham",
   "metadata": {},
   "outputs": [
    {
     "data": {
      "text/plain": [
       "\"Binder's Jar\""
      ]
     },
     "execution_count": 39,
     "metadata": {},
     "output_type": "execute_result"
    }
   ],
   "source": [
    "title"
   ]
  },
  {
   "cell_type": "code",
   "execution_count": 38,
   "id": "structured-snapshot",
   "metadata": {},
   "outputs": [
    {
     "data": {
      "text/plain": [
       "'Interdimensional Prison'"
      ]
     },
     "execution_count": 38,
     "metadata": {},
     "output_type": "execute_result"
    }
   ],
   "source": [
    "sub_title"
   ]
  },
  {
   "cell_type": "code",
   "execution_count": 40,
   "id": "broken-liability",
   "metadata": {},
   "outputs": [
    {
     "data": {
      "text/plain": [
       "'Mystic'"
      ]
     },
     "execution_count": 40,
     "metadata": {},
     "output_type": "execute_result"
    }
   ],
   "source": [
    "faction"
   ]
  },
  {
   "cell_type": "code",
   "execution_count": 41,
   "id": "increased-growth",
   "metadata": {},
   "outputs": [
    {
     "data": {
      "text/plain": [
       "'Asset. '"
      ]
     },
     "execution_count": 41,
     "metadata": {},
     "output_type": "execute_result"
    }
   ],
   "source": [
    "tipe"
   ]
  },
  {
   "cell_type": "code",
   "execution_count": 42,
   "id": "german-following",
   "metadata": {},
   "outputs": [
    {
     "data": {
      "text/plain": [
       "'Item. Relic.'"
      ]
     },
     "execution_count": 42,
     "metadata": {},
     "output_type": "execute_result"
    }
   ],
   "source": [
    "traits"
   ]
  },
  {
   "cell_type": "code",
   "execution_count": 43,
   "id": "printable-facial",
   "metadata": {},
   "outputs": [
    {
     "data": {
      "text/plain": [
       "'2'"
      ]
     },
     "execution_count": 43,
     "metadata": {},
     "output_type": "execute_result"
    }
   ],
   "source": [
    "xp"
   ]
  },
  {
   "cell_type": "code",
   "execution_count": 47,
   "id": "phantom-pennsylvania",
   "metadata": {},
   "outputs": [
    {
     "data": {
      "text/plain": [
       "\"[You get +1 arcane slot for each enemy beneath Binder's Jar.REACTION After a non-Elite enemy is defeated at your location: Place that enemy facedown beneath Binder's Jar (limit 2 enemies beneath it).REACTION When an enemy attacks you, discard an enemy beneath Binder's Jar that shares a Trait with the attacking enemy: Cancel that attack.]\""
      ]
     },
     "execution_count": 47,
     "metadata": {},
     "output_type": "execute_result"
    }
   ],
   "source": [
    "ability"
   ]
  },
  {
   "cell_type": "code",
   "execution_count": 48,
   "id": "interim-round",
   "metadata": {},
   "outputs": [
    {
     "data": {
      "text/plain": [
       "''"
      ]
     },
     "execution_count": 48,
     "metadata": {},
     "output_type": "execute_result"
    }
   ],
   "source": [
    "flavor"
   ]
  },
  {
   "cell_type": "code",
   "execution_count": 49,
   "id": "voluntary-brazilian",
   "metadata": {},
   "outputs": [
    {
     "data": {
      "text/plain": [
       "'Steve Hamilton'"
      ]
     },
     "execution_count": 49,
     "metadata": {},
     "output_type": "execute_result"
    }
   ],
   "source": [
    "artist"
   ]
  },
  {
   "cell_type": "code",
   "execution_count": 50,
   "id": "julian-dinner",
   "metadata": {},
   "outputs": [
    {
     "data": {
      "text/plain": [
       "'The Scarlet Keys Investigator Expansion #89'"
      ]
     },
     "execution_count": 50,
     "metadata": {},
     "output_type": "execute_result"
    }
   ],
   "source": [
    "expansion"
   ]
  },
  {
   "cell_type": "code",
   "execution_count": 51,
   "id": "biological-egyptian",
   "metadata": {},
   "outputs": [
    {
     "data": {
      "text/plain": [
       "'WILLPOWER'"
      ]
     },
     "execution_count": 51,
     "metadata": {},
     "output_type": "execute_result"
    }
   ],
   "source": [
    "icons"
   ]
  },
  {
   "cell_type": "code",
   "execution_count": null,
   "id": "independent-violin",
   "metadata": {},
   "outputs": [],
   "source": []
  }
 ],
 "metadata": {
  "kernelspec": {
   "display_name": "Python 3",
   "language": "python",
   "name": "python3"
  },
  "language_info": {
   "codemirror_mode": {
    "name": "ipython",
    "version": 3
   },
   "file_extension": ".py",
   "mimetype": "text/x-python",
   "name": "python",
   "nbconvert_exporter": "python",
   "pygments_lexer": "ipython3",
   "version": "3.7.4"
  }
 },
 "nbformat": 4,
 "nbformat_minor": 5
}
